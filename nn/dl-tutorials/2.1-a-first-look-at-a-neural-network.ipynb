{
 "cells": [
  {
   "cell_type": "code",
   "execution_count": 44,
   "metadata": {},
   "outputs": [
    {
     "data": {
      "text/plain": [
       "'2.2.4'"
      ]
     },
     "execution_count": 44,
     "metadata": {},
     "output_type": "execute_result"
    }
   ],
   "source": [
    "# https://github.com/fchollet/deep-learning-with-python-notebooks/blob/master/2.1-a-first-look-at-a-neural-network.ipynb\n",
    "import keras\n",
    "keras.__version__"
   ]
  },
  {
   "cell_type": "code",
   "execution_count": 34,
   "metadata": {},
   "outputs": [],
   "source": [
    "from keras.datasets import mnist\n",
    "\n",
    "(train_images, train_labels), (test_images, test_labels) = mnist.load_data()"
   ]
  },
  {
   "cell_type": "code",
   "execution_count": 35,
   "metadata": {},
   "outputs": [
    {
     "data": {
      "text/plain": [
       "(60000, 28, 28)"
      ]
     },
     "execution_count": 35,
     "metadata": {},
     "output_type": "execute_result"
    }
   ],
   "source": [
    "train_images.shape"
   ]
  },
  {
   "cell_type": "code",
   "execution_count": 36,
   "metadata": {},
   "outputs": [],
   "source": [
    "from keras import models\n",
    "from keras import layers\n",
    "\n",
    "network = models.Sequential()\n",
    "network.add(layers.Dense(512, activation='relu', input_shape=(28 * 28,)))\n",
    "network.add(layers.Dense(10, activation='softmax'))"
   ]
  },
  {
   "cell_type": "code",
   "execution_count": 37,
   "metadata": {},
   "outputs": [
    {
     "data": {
      "text/plain": [
       "(None, 10)"
      ]
     },
     "execution_count": 37,
     "metadata": {},
     "output_type": "execute_result"
    }
   ],
   "source": [
    "# network.get_output_at(0)\n",
    "network.output_shape"
   ]
  },
  {
   "cell_type": "code",
   "execution_count": 38,
   "metadata": {},
   "outputs": [],
   "source": [
    "network.compile(optimizer='rmsprop',\n",
    "                loss='categorical_crossentropy',\n",
    "                metrics=['accuracy'])"
   ]
  },
  {
   "cell_type": "code",
   "execution_count": 39,
   "metadata": {},
   "outputs": [],
   "source": [
    "train_images = train_images.reshape((60000, 28 * 28))\n",
    "train_images = train_images.astype('float32') / 255\n",
    "\n",
    "test_images = test_images.reshape((10000, 28 * 28))\n",
    "test_images = test_images.astype('float32') / 255"
   ]
  },
  {
   "cell_type": "code",
   "execution_count": 40,
   "metadata": {},
   "outputs": [],
   "source": [
    "from keras.utils import to_categorical\n",
    "\n",
    "train_labels = to_categorical(train_labels)\n",
    "test_labels = to_categorical(test_labels)"
   ]
  },
  {
   "cell_type": "code",
   "execution_count": 46,
   "metadata": {},
   "outputs": [
    {
     "data": {
      "text/plain": [
       "(60000, 784)"
      ]
     },
     "execution_count": 46,
     "metadata": {},
     "output_type": "execute_result"
    }
   ],
   "source": [
    "train_labels.shape\n",
    "train_images.shape"
   ]
  },
  {
   "cell_type": "code",
   "execution_count": 41,
   "metadata": {},
   "outputs": [
    {
     "name": "stdout",
     "output_type": "stream",
     "text": [
      "Epoch 1/5\n",
      "60000/60000 [==============================] - 2s 35us/step - loss: 0.2531 - acc: 0.9268\n",
      "Epoch 2/5\n",
      "60000/60000 [==============================] - 2s 40us/step - loss: 0.1032 - acc: 0.9700\n",
      "Epoch 3/5\n",
      "60000/60000 [==============================] - 2s 38us/step - loss: 0.0690 - acc: 0.9792\n",
      "Epoch 4/5\n",
      "60000/60000 [==============================] - 2s 38us/step - loss: 0.0498 - acc: 0.9844\n",
      "Epoch 5/5\n",
      "60000/60000 [==============================] - 2s 40us/step - loss: 0.0381 - acc: 0.9883\n"
     ]
    },
    {
     "data": {
      "text/plain": [
       "<keras.callbacks.History at 0x13bff8a90>"
      ]
     },
     "execution_count": 41,
     "metadata": {},
     "output_type": "execute_result"
    }
   ],
   "source": [
    "network.fit(train_images, train_labels, epochs=5, batch_size=128)"
   ]
  },
  {
   "cell_type": "code",
   "execution_count": 42,
   "metadata": {},
   "outputs": [
    {
     "name": "stdout",
     "output_type": "stream",
     "text": [
      "10000/10000 [==============================] - 0s 26us/step\n"
     ]
    }
   ],
   "source": [
    "test_loss, test_acc = network.evaluate(test_images, test_labels)"
   ]
  },
  {
   "cell_type": "code",
   "execution_count": 69,
   "metadata": {},
   "outputs": [
    {
     "name": "stdout",
     "output_type": "stream",
     "text": [
      "test_acc: 0.9816\n"
     ]
    }
   ],
   "source": [
    "print('test_acc:', test_acc)"
   ]
  },
  {
   "cell_type": "code",
   "execution_count": 87,
   "metadata": {},
   "outputs": [
    {
     "data": {
      "text/plain": [
       "7"
      ]
     },
     "execution_count": 87,
     "metadata": {},
     "output_type": "execute_result"
    }
   ],
   "source": [
    "np.argmax(network.predict(np.expand_dims(test_images[0], 0)))"
   ]
  },
  {
   "cell_type": "code",
   "execution_count": 93,
   "metadata": {},
   "outputs": [
    {
     "name": "stdout",
     "output_type": "stream",
     "text": [
      "actual result: 4\n",
      "predicted result: 4\n"
     ]
    },
    {
     "data": {
      "image/png": "[encoded data removed]",
      "text/plain": [
       "<Figure size 432x288 with 1 Axes>"
      ]
     },
     "metadata": {},
     "output_type": "display_data"
    }
   ],
   "source": [
    "from matplotlib import pyplot\n",
    "index = 20\n",
    "pyplot.imshow(train_images[index].reshape((28, 28)), cmap=\"gray\")\n",
    "print('actual result:',np.argmax(train_labels[index]))\n",
    "res = np.argmax(network.predict(np.expand_dims(train_images[index], 0)))\n",
    "print('predicted result:',res)"
   ]
  },
  {
   "cell_type": "code",
   "execution_count": 116,
   "metadata": {},
   "outputs": [
    {
     "data": {
      "text/plain": [
       "<matplotlib.image.AxesImage at 0x130469f28>"
      ]
     },
     "execution_count": 116,
     "metadata": {},
     "output_type": "execute_result"
    },
    {
     "data": {
      "image/png": "[encoded data removed]",
      "text/plain": [
       "<Figure size 432x288 with 1 Axes>"
      ]
     },
     "metadata": {},
     "output_type": "display_data"
    }
   ],
   "source": [
    "from matplotlib import pyplot as plot\n",
    "path = '/Users/seeni-2328/Downloads/_chrome/_delete/check.jpg'\n",
    "# path = 'Screenshot_20190131_094933.png'\n",
    "image = plot.imread(path)\n",
    "image.shape\n",
    "pyplot.imshow(image.reshape((28, 28)), cmap=\"gray\")\n"
   ]
  },
  {
   "cell_type": "code",
   "execution_count": 121,
   "metadata": {},
   "outputs": [
    {
     "data": {
      "text/plain": [
       "array([[253, 255, 254, 255, 255, 254, 254, 255, 255, 255, 255, 255, 252,\n",
       "        255, 255, 255, 253, 255, 255, 255, 254, 254, 254, 255, 255, 255,\n",
       "        255, 255],\n",
       "       [255, 255, 254, 254, 254, 255, 255, 255, 254, 255, 252, 253, 255,\n",
       "        253, 255, 255, 255, 255, 254, 253, 255, 255, 252, 254, 255, 255,\n",
       "        255, 255],\n",
       "       [255, 252, 255, 255, 255, 254, 253, 253, 255, 255, 255, 255, 255,\n",
       "        255, 249, 255, 255, 249, 255, 255, 251, 252, 255, 253, 255, 255,\n",
       "        255, 255],\n",
       "       [255, 253, 255, 255, 255, 255, 255, 255, 252, 255, 254, 253, 254,\n",
       "        254, 255, 255, 255, 255, 255, 255, 253, 255, 253, 254, 255, 255,\n",
       "        255, 255],\n",
       "       [254, 255, 255, 252, 255, 255, 254, 253, 255, 255, 254, 255, 253,\n",
       "        255, 252, 255, 253, 254, 255, 254, 255, 251, 255, 255, 255, 255,\n",
       "        255, 255],\n",
       "       [253, 255, 255, 255, 255, 253, 254, 255, 254, 253, 255, 255, 251,\n",
       "        235, 238, 238, 128, 118,  84, 226,  87,   4,   8, 126, 255, 255,\n",
       "        255, 255],\n",
       "       [255, 255, 251, 255, 254, 253, 255, 252, 226, 219, 160, 100,  86,\n",
       "          3,   2,   0,   5,   0,  30,  83,   1,  13,  58, 192, 255, 255,\n",
       "        255, 255],\n",
       "       [254, 255, 254, 255, 254, 255, 251, 207,  18,   0,   5,   0,   2,\n",
       "          2,   0,   5,   0,   6, 158, 176, 173, 197, 218, 255, 255, 255,\n",
       "        255, 255],\n",
       "       [254, 255, 255, 254, 255, 255, 250, 240,  36,   0,   4,   2,   3,\n",
       "          0,  59,  71,  10,  10, 255, 254, 255, 255, 255, 255, 255, 255,\n",
       "        255, 255],\n",
       "       [254, 255, 254, 254, 255, 255, 255, 252, 176, 102, 146,   0,   4,\n",
       "         49, 248, 254, 213, 100, 254, 255, 253, 255, 255, 255, 255, 255,\n",
       "        255, 255],\n",
       "       [255, 255, 254, 255, 255, 255, 255, 255, 255, 236, 255, 103,   0,\n",
       "        167, 251, 255, 253, 255, 255, 253, 255, 255, 251, 255, 255, 255,\n",
       "        255, 255],\n",
       "       [255, 255, 255, 255, 255, 253, 253, 255, 255, 255, 254, 116,   1,\n",
       "         65, 254, 255, 255, 255, 253, 255, 252, 255, 255, 255, 255, 255,\n",
       "        255, 255],\n",
       "       [254, 255, 255, 255, 255, 255, 255, 255, 255, 252, 255, 244,  69,\n",
       "          0, 187, 252, 255, 252, 255, 254, 255, 254, 255, 254, 255, 255,\n",
       "        255, 255],\n",
       "       [254, 255, 255, 254, 254, 255, 255, 255, 255, 255, 255, 254, 217,\n",
       "         17,  29,  97, 148, 255, 255, 255, 254, 252, 255, 255, 255, 255,\n",
       "        255, 255],\n",
       "       [255, 255, 255, 254, 254, 255, 255, 254, 255, 251, 253, 255, 254,\n",
       "        174,  14,   1,   1, 134, 229, 255, 255, 255, 252, 255, 255, 255,\n",
       "        255, 255],\n",
       "       [255, 255, 255, 255, 255, 255, 255, 255, 252, 255, 255, 254, 255,\n",
       "        255, 210,  70,   2,   4, 106, 226, 255, 252, 254, 255, 255, 255,\n",
       "        255, 255],\n",
       "       [253, 255, 254, 253, 255, 253, 255, 254, 255, 255, 255, 253, 255,\n",
       "        254, 254, 241, 161,   5,   2,  66, 255, 255, 253, 255, 255, 255,\n",
       "        255, 255],\n",
       "       [255, 253, 254, 253, 255, 255, 254, 255, 253, 255, 254, 255, 255,\n",
       "        255, 255, 251, 255,   6,   0,   8, 188, 253, 255, 255, 255, 255,\n",
       "        255, 255],\n",
       "       [255, 255, 255, 254, 255, 255, 252, 255, 255, 252, 255, 252, 255,\n",
       "        254, 207, 129,  70,   2,   5,  47, 255, 254, 255, 252, 255, 255,\n",
       "        255, 255],\n",
       "       [255, 251, 254, 255, 254, 254, 255, 255, 254, 255, 255, 255, 214,\n",
       "        105,  29,   0,   3,   1,   3,  73, 253, 255, 255, 253, 255, 255,\n",
       "        255, 255],\n",
       "       [254, 255, 255, 254, 254, 255, 255, 253, 255, 250, 230, 141,  33,\n",
       "          3,   1,   3,   4,  56, 176, 255, 255, 255, 252, 255, 255, 255,\n",
       "        255, 255],\n",
       "       [254, 255, 255, 252, 255, 255, 251, 255, 232, 190,  43,   5,   0,\n",
       "          5,   0,  57, 171, 253, 255, 254, 253, 255, 253, 255, 255, 255,\n",
       "        255, 255],\n",
       "       [254, 255, 249, 255, 251, 253, 238,  86,  34,   2,   0,   0,   4,\n",
       "         60, 177, 244, 255, 255, 253, 255, 255, 252, 255, 252, 255, 255,\n",
       "        255, 255],\n",
       "       [255, 255, 255, 255, 200,  82,  31,   0,   3,   3,   1,  13, 123,\n",
       "        241, 255, 255, 255, 255, 254, 255, 254, 255, 255, 255, 255, 255,\n",
       "        255, 255],\n",
       "       [252, 255, 255, 255, 120,   3,   1,   2,  44, 119, 124, 237, 255,\n",
       "        255, 255, 253, 255, 255, 255, 255, 255, 255, 255, 255, 255, 255,\n",
       "        255, 255],\n",
       "       [255, 255, 251, 255, 254, 255, 254, 255, 253, 255, 255, 254, 255,\n",
       "        254, 252, 255, 255, 255, 255, 255, 255, 255, 255, 255, 255, 255,\n",
       "        255, 255],\n",
       "       [253, 255, 255, 254, 255, 255, 254, 255, 255, 255, 255, 255, 252,\n",
       "        255, 255, 252, 255, 255, 255, 255, 255, 255, 255, 255, 255, 255,\n",
       "        255, 255],\n",
       "       [255, 255, 253, 255, 255, 249, 255, 251, 255, 254, 253, 255, 253,\n",
       "        255, 255, 254, 255, 255, 255, 255, 255, 255, 255, 255, 255, 255,\n",
       "        255, 255]], dtype=uint8)"
      ]
     },
     "execution_count": 121,
     "metadata": {},
     "output_type": "execute_result"
    }
   ],
   "source": [
    "np.argsort(image)\n",
    "image"
   ]
  },
  {
   "cell_type": "code",
   "execution_count": null,
   "metadata": {},
   "outputs": [],
   "source": []
  },
  {
   "cell_type": "code",
   "execution_count": 112,
   "metadata": {},
   "outputs": [
    {
     "data": {
      "text/plain": [
       "<matplotlib.image.AxesImage at 0x110567a58>"
      ]
     },
     "execution_count": 112,
     "metadata": {},
     "output_type": "execute_result"
    },
    {
     "data": {
      "image/png": "[encoded data removed]",
      "text/plain": [
       "<Figure size 432x288 with 1 Axes>"
      ]
     },
     "metadata": {},
     "output_type": "display_data"
    }
   ],
   "source": [
    "image = plot.imread(path)\n",
    "test_image = image.reshape(28 * 28)\n",
    "# print(test_image[:5])\n",
    "test_image = 1 - (test_image.astype('float32') / 255)\n",
    "# print(test_image[:5])\n",
    "test_images = 1 - test_image\n",
    "# print(test_image[:5])\n",
    "pyplot.imshow(test_image.reshape((28, 28)), cmap=\"gray\")\n",
    "# test_images = test_images.astype('float32') / 255"
   ]
  },
  {
   "cell_type": "code",
   "execution_count": 111,
   "metadata": {},
   "outputs": [
    {
     "data": {
      "text/plain": [
       "5"
      ]
     },
     "execution_count": 111,
     "metadata": {},
     "output_type": "execute_result"
    }
   ],
   "source": [
    "np.argmax(network.predict(np.expand_dims(test_image, 0)))"
   ]
  },
  {
   "cell_type": "code",
   "execution_count": null,
   "metadata": {},
   "outputs": [],
   "source": []
  }
 ],
 "metadata": {
  "kernelspec": {
   "display_name": "Python 3",
   "language": "python",
   "name": "python3"
  },
  "language_info": {
   "codemirror_mode": {
    "name": "ipython",
    "version": 3
   },
   "file_extension": ".py",
   "mimetype": "text/x-python",
   "name": "python",
   "nbconvert_exporter": "python",
   "pygments_lexer": "ipython3",
   "version": "3.6.5"
  }
 },
 "nbformat": 4,
 "nbformat_minor": 2
}
