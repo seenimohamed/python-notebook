{
 "cells": [
  {
   "cell_type": "code",
   "execution_count": 1,
   "metadata": {},
   "outputs": [
    {
     "name": "stderr",
     "output_type": "stream",
     "text": [
      "Using TensorFlow backend.\n"
     ]
    }
   ],
   "source": [
    "# keras module for building LSTM \n",
    "# https://www.kaggle.com/shivamb/beginners-guide-to-text-generation-using-lstms\n",
    "from keras.preprocessing.sequence import pad_sequences\n",
    "from keras.layers import Embedding, LSTM, Dense, Dropout\n",
    "from keras.preprocessing.text import Tokenizer\n",
    "from keras.callbacks import EarlyStopping\n",
    "from keras.models import Sequential\n",
    "import keras.utils as ku \n",
    "\n",
    "# set seeds for reproducability\n",
    "from tensorflow import set_random_seed\n",
    "from numpy.random import seed\n",
    "set_random_seed(2)\n",
    "seed(1)\n",
    "\n",
    "import pandas as pd\n",
    "import numpy as np\n",
    "import string, os \n",
    "\n",
    "import warnings\n",
    "warnings.filterwarnings(\"ignore\")\n",
    "warnings.simplefilter(action='ignore', category=FutureWarning)"
   ]
  },
  {
   "cell_type": "code",
   "execution_count": 97,
   "metadata": {},
   "outputs": [],
   "source": [
    "file_path = '/Users/seeni-2328/Documents/Seeni/Datasets/zoho/jayandra/user_sentence.txt'\n",
    "with open(file_path) as f :\n",
    "    text = f.readlines()\n",
    "    "
   ]
  },
  {
   "cell_type": "code",
   "execution_count": 98,
   "metadata": {},
   "outputs": [
    {
     "name": "stdout",
     "output_type": "stream",
     "text": [
      "885\n"
     ]
    },
    {
     "data": {
      "text/plain": [
       "829"
      ]
     },
     "execution_count": 98,
     "metadata": {},
     "output_type": "execute_result"
    }
   ],
   "source": [
    "curr_dir = '/Users/seeni-2328/Documents/Seeni/Datasets/kaggle/nyt-comments/'\n",
    "all_headlines = []\n",
    "for filename in os.listdir(curr_dir):\n",
    "    if 'Articles' in filename:\n",
    "        article_df = pd.read_csv(curr_dir + filename)\n",
    "        all_headlines.extend(list(article_df.headline.values))\n",
    "        break\n",
    "\n",
    "print(len(all_headlines))\n",
    "all_headlines = [h for h in all_headlines if h != \"Unknown\"]\n",
    "len(all_headlines)"
   ]
  },
  {
   "cell_type": "code",
   "execution_count": 5,
   "metadata": {},
   "outputs": [
    {
     "data": {
      "text/plain": [
       "7406833"
      ]
     },
     "execution_count": 5,
     "metadata": {},
     "output_type": "execute_result"
    }
   ],
   "source": [
    "len(text)"
   ]
  },
  {
   "cell_type": "code",
   "execution_count": 99,
   "metadata": {},
   "outputs": [],
   "source": [
    "import re\n",
    "lines = []\n",
    "beforeLines = []\n",
    "for t in text :\n",
    "    beforeLines.append(t)\n",
    "    t =  re.sub(\"[^A-Za-z0-9 ]\",\"\\n\", t)\n",
    "#     lines.extend(t.split('\\n'))\n",
    "    lines.extend([x.strip().lower() for x in t.split('\\n') if len(x.split())>1])\n"
   ]
  },
  {
   "cell_type": "code",
   "execution_count": 100,
   "metadata": {},
   "outputs": [
    {
     "name": "stdout",
     "output_type": "stream",
     "text": [
      "Hello... I heard about Free Code Camp via Lifehacker (I think: it was a feedly- feed) So, just going\n",
      "['i heard about free code camp via lifehacker', 'i think', 'it was a feedly', 'just going through the prescribed steps', 'hello world etc', 'have a mix of different technologies would like to get into development side of things', 'looking for some idea on the average amount of time']\n"
     ]
    }
   ],
   "source": [
    "print(beforeLines[0][:100])\n",
    "print(lines[:7])"
   ]
  },
  {
   "cell_type": "code",
   "execution_count": 58,
   "metadata": {},
   "outputs": [
    {
     "data": {
      "text/plain": [
       "210956"
      ]
     },
     "execution_count": 58,
     "metadata": {},
     "output_type": "execute_result"
    }
   ],
   "source": [
    "len(lines)"
   ]
  },
  {
   "cell_type": "code",
   "execution_count": 101,
   "metadata": {},
   "outputs": [
    {
     "data": {
      "text/plain": [
       "70"
      ]
     },
     "execution_count": 101,
     "metadata": {},
     "output_type": "execute_result"
    }
   ],
   "source": [
    "max_sequence_len = max([len(x.split()) for x in lines[:25000]])\n",
    "max_sequence_len"
   ]
  },
  {
   "cell_type": "code",
   "execution_count": 102,
   "metadata": {},
   "outputs": [
    {
     "data": {
      "text/plain": [
       "['i heard about free code camp via lifehacker',\n",
       " 'i think',\n",
       " 'it was a feedly',\n",
       " 'just going through the prescribed steps',\n",
       " 'hello world etc',\n",
       " 'have a mix of different technologies would like to get into development side of things',\n",
       " 'looking for some idea on the average amount of time',\n",
       " 'subjective and varies by level of commitment',\n",
       " 'it takes to effectively use curriculum ok',\n",
       " 'i found the documentation']"
      ]
     },
     "execution_count": 102,
     "metadata": {},
     "output_type": "execute_result"
    }
   ],
   "source": [
    "def clean_text(txt):\n",
    "    txt = \"\".join(v for v in txt if v not in string.punctuation).lower()\n",
    "    txt = txt.encode(\"utf8\").decode(\"ascii\",'ignore')\n",
    "    return txt \n",
    "corpus = [clean_text(x) for x in lines]\n",
    "corpus[:10]"
   ]
  },
  {
   "cell_type": "code",
   "execution_count": 103,
   "metadata": {},
   "outputs": [
    {
     "name": "stdout",
     "output_type": "stream",
     "text": [
      "10693\n",
      "10693\n",
      "117709\n",
      "25000\n"
     ]
    },
    {
     "data": {
      "text/plain": [
       "[[2, 466],\n",
       " [2, 466, 50],\n",
       " [2, 466, 50, 204],\n",
       " [2, 466, 50, 204, 66],\n",
       " [2, 466, 50, 204, 66, 1635],\n",
       " [2, 466, 50, 204, 66, 1635, 699],\n",
       " [2, 466, 50, 204, 66, 1635, 699, 3162],\n",
       " [2, 37],\n",
       " [7, 34],\n",
       " [7, 34, 5]]"
      ]
     },
     "execution_count": 103,
     "metadata": {},
     "output_type": "execute_result"
    }
   ],
   "source": [
    "tokenizer = Tokenizer()\n",
    "\n",
    "max_length = 20\n",
    "def get_sequence_of_tokens(corpus):\n",
    "    ## tokenization\n",
    "    tokenizer.fit_on_texts(corpus)\n",
    "    total_words = len(tokenizer.word_index) + 1\n",
    "    print(total_words)\n",
    "    ## convert data to sequence of tokens \n",
    "    input_sequences = []\n",
    "    for line in corpus:\n",
    "        token_list = tokenizer.texts_to_sequences([line])[0]\n",
    "        for i in range(1, len(token_list)):\n",
    "            n_gram_sequence = token_list[:i+1]\n",
    "            seq_len = len(n_gram_sequence)\n",
    "            if seq_len > max_length :\n",
    "                start = seq_len - max_length\n",
    "                n_gram_sequence = n_gram_sequence[start:seq_len]\n",
    "                \n",
    "            input_sequences.append(n_gram_sequence)\n",
    "    return input_sequences, total_words\n",
    "corpus = corpus[:25000]\n",
    "inp_sequences, total_words = get_sequence_of_tokens(corpus)\n",
    "print(total_words)\n",
    "print(len(inp_sequences))\n",
    "print(len(corpus))\n",
    "inp_sequences[:10]\n"
   ]
  },
  {
   "cell_type": "code",
   "execution_count": 88,
   "metadata": {},
   "outputs": [
    {
     "data": {
      "text/plain": [
       "[6, 7, 8]"
      ]
     },
     "execution_count": 88,
     "metadata": {},
     "output_type": "execute_result"
    }
   ],
   "source": [
    "a = [1,2,3,4,5,6,7,8,9,10]\n",
    "a[5:8]"
   ]
  },
  {
   "cell_type": "code",
   "execution_count": 104,
   "metadata": {},
   "outputs": [
    {
     "name": "stdout",
     "output_type": "stream",
     "text": [
      "[[   0    0    0    0    0    0    0    0    0    0    0    0    0    0\n",
      "     0    0    0    0    2  466]\n",
      " [   0    0    0    0    0    0    0    0    0    0    0    0    0    0\n",
      "     0    0    0    2  466   50]\n",
      " [   0    0    0    0    0    0    0    0    0    0    0    0    0    0\n",
      "     0    0    2  466   50  204]\n",
      " [   0    0    0    0    0    0    0    0    0    0    0    0    0    0\n",
      "     0    2  466   50  204   66]\n",
      " [   0    0    0    0    0    0    0    0    0    0    0    0    0    0\n",
      "     2  466   50  204   66 1635]\n",
      " [   0    0    0    0    0    0    0    0    0    0    0    0    0    2\n",
      "   466   50  204   66 1635  699]\n",
      " [   0    0    0    0    0    0    0    0    0    0    0    0    2  466\n",
      "    50  204   66 1635  699 3162]\n",
      " [   0    0    0    0    0    0    0    0    0    0    0    0    0    0\n",
      "     0    0    0    0    2   37]\n",
      " [   0    0    0    0    0    0    0    0    0    0    0    0    0    0\n",
      "     0    0    0    0    7   34]\n",
      " [   0    0    0    0    0    0    0    0    0    0    0    0    0    0\n",
      "     0    0    0    7   34    5]]\n",
      "(117709, 19)\n",
      "(117709, 10693)\n"
     ]
    }
   ],
   "source": [
    "def generate_padded_sequences(input_sequences):\n",
    "    max_sequence_len = max([len(x) for x in input_sequences])\n",
    "    input_sequences = np.array(pad_sequences(input_sequences, maxlen=max_sequence_len, padding='pre'))\n",
    "    print(input_sequences[:10])\n",
    "    predictors, label = input_sequences[:,:-1],input_sequences[:,-1]\n",
    "    label = ku.to_categorical(label, num_classes=total_words)\n",
    "    return predictors, label, max_sequence_len\n",
    "\n",
    "predictors, label, max_sequence_len = generate_padded_sequences(inp_sequences)\n",
    "print(predictors.shape)\n",
    "print(label.shape)"
   ]
  },
  {
   "cell_type": "code",
   "execution_count": 105,
   "metadata": {},
   "outputs": [
    {
     "data": {
      "text/plain": [
       "20"
      ]
     },
     "execution_count": 105,
     "metadata": {},
     "output_type": "execute_result"
    }
   ],
   "source": [
    "max_sequence_len"
   ]
  },
  {
   "cell_type": "code",
   "execution_count": 106,
   "metadata": {},
   "outputs": [
    {
     "name": "stdout",
     "output_type": "stream",
     "text": [
      "_________________________________________________________________\n",
      "Layer (type)                 Output Shape              Param #   \n",
      "=================================================================\n",
      "embedding_1 (Embedding)      (None, 19, 10)            106930    \n",
      "_________________________________________________________________\n",
      "lstm_1 (LSTM)                (None, 100)               44400     \n",
      "_________________________________________________________________\n",
      "dropout_1 (Dropout)          (None, 100)               0         \n",
      "_________________________________________________________________\n",
      "dense_1 (Dense)              (None, 10693)             1079993   \n",
      "=================================================================\n",
      "Total params: 1,231,323\n",
      "Trainable params: 1,231,323\n",
      "Non-trainable params: 0\n",
      "_________________________________________________________________\n"
     ]
    }
   ],
   "source": [
    "def create_model(max_sequence_len, total_words):\n",
    "    input_len = max_sequence_len - 1\n",
    "    model = Sequential()\n",
    "    \n",
    "    # Add Input Embedding Layer\n",
    "    model.add(Embedding(total_words, 10, input_length=input_len)) #2288, 10, 16\n",
    "    \n",
    "    # Add Hidden Layer 1 - LSTM Layer\n",
    "    model.add(LSTM(100)) \n",
    "    model.add(Dropout(0.1))\n",
    "    \n",
    "    # Add Output Layer\n",
    "    model.add(Dense(total_words, activation='softmax'))\n",
    "\n",
    "    model.compile(loss='categorical_crossentropy', optimizer='adam')\n",
    "    \n",
    "    return model\n",
    "\n",
    "model = create_model(max_sequence_len, total_words)\n",
    "model.summary()"
   ]
  },
  {
   "cell_type": "code",
   "execution_count": 122,
   "metadata": {},
   "outputs": [
    {
     "name": "stdout",
     "output_type": "stream",
     "text": [
      "Epoch 1/150\n",
      "Epoch 2/150\n",
      "Epoch 3/150\n",
      "Epoch 4/150\n",
      "Epoch 5/150\n",
      "Epoch 6/150\n",
      "Epoch 7/150\n",
      "Epoch 8/150\n",
      "Epoch 9/150\n",
      "Epoch 10/150\n",
      "Epoch 11/150\n",
      "Epoch 12/150\n",
      "Epoch 13/150\n",
      "Epoch 14/150\n",
      "Epoch 15/150\n",
      "Epoch 16/150\n",
      "Epoch 17/150\n",
      "Epoch 18/150\n",
      "Epoch 19/150\n",
      "Epoch 20/150\n",
      "Epoch 21/150\n",
      "Epoch 22/150\n",
      "Epoch 23/150\n",
      "Epoch 24/150\n",
      "Epoch 25/150\n",
      "Epoch 26/150\n",
      "Epoch 27/150\n",
      "Epoch 28/150\n",
      "Epoch 29/150\n",
      "Epoch 30/150\n",
      "Epoch 31/150\n",
      "Epoch 32/150\n",
      "Epoch 33/150\n",
      "Epoch 34/150\n",
      "Epoch 35/150\n",
      "Epoch 36/150\n",
      "Epoch 37/150\n",
      "Epoch 38/150\n",
      "Epoch 39/150\n",
      "Epoch 40/150\n",
      "Epoch 41/150\n",
      "Epoch 42/150\n",
      "Epoch 43/150\n",
      "Epoch 44/150\n",
      "Epoch 45/150\n",
      "Epoch 46/150\n",
      "Epoch 47/150\n",
      "Epoch 48/150\n",
      "Epoch 49/150\n",
      "Epoch 50/150\n",
      "Epoch 51/150\n",
      "Epoch 52/150\n",
      "Epoch 53/150\n",
      "Epoch 54/150\n",
      "Epoch 55/150\n",
      "Epoch 56/150\n",
      "Epoch 57/150\n",
      "Epoch 58/150\n",
      "Epoch 59/150\n",
      "Epoch 60/150\n",
      "Epoch 61/150\n",
      "Epoch 62/150\n",
      "Epoch 63/150\n",
      "Epoch 64/150\n",
      "Epoch 65/150\n",
      "Epoch 66/150\n",
      "Epoch 67/150\n",
      "Epoch 68/150\n",
      "Epoch 69/150\n",
      "Epoch 70/150\n",
      "Epoch 71/150\n",
      "Epoch 72/150\n",
      "Epoch 73/150\n",
      "Epoch 74/150\n",
      "Epoch 75/150\n",
      "Epoch 76/150\n",
      "Epoch 77/150\n",
      "Epoch 78/150\n",
      "Epoch 79/150\n",
      "Epoch 80/150\n",
      "Epoch 81/150\n",
      "Epoch 82/150\n",
      "Epoch 83/150\n",
      "Epoch 84/150\n",
      "Epoch 85/150\n",
      "Epoch 86/150\n",
      "Epoch 87/150\n",
      "Epoch 88/150\n",
      "Epoch 89/150\n",
      "Epoch 90/150\n",
      "Epoch 91/150\n",
      "Epoch 92/150\n",
      "Epoch 93/150\n",
      "Epoch 94/150\n",
      "Epoch 95/150\n",
      "Epoch 96/150\n",
      "Epoch 97/150\n",
      "Epoch 98/150\n",
      "Epoch 99/150\n",
      "Epoch 100/150\n",
      "Epoch 101/150\n",
      "Epoch 102/150\n",
      "Epoch 103/150\n",
      "Epoch 104/150\n",
      "Epoch 105/150\n",
      "Epoch 106/150\n",
      "Epoch 107/150\n",
      "Epoch 108/150\n",
      "Epoch 109/150\n",
      "Epoch 110/150\n",
      "Epoch 111/150\n",
      "Epoch 112/150\n",
      "Epoch 113/150\n",
      "Epoch 114/150\n",
      "Epoch 115/150\n",
      "Epoch 116/150\n",
      "Epoch 117/150\n",
      "Epoch 118/150\n",
      "Epoch 119/150\n",
      "Epoch 120/150\n",
      "Epoch 121/150\n",
      "Epoch 122/150\n",
      "Epoch 123/150\n",
      "Epoch 124/150\n",
      "Epoch 125/150\n",
      "Epoch 126/150\n",
      "Epoch 127/150\n",
      "Epoch 128/150\n",
      "Epoch 129/150\n",
      "Epoch 130/150\n",
      "Epoch 131/150\n",
      "Epoch 132/150\n",
      "Epoch 133/150\n",
      "Epoch 134/150\n",
      "Epoch 135/150\n",
      "Epoch 136/150\n",
      "Epoch 137/150\n",
      "Epoch 138/150\n",
      "Epoch 139/150\n",
      "Epoch 140/150\n",
      "Epoch 141/150\n",
      "Epoch 142/150\n",
      "Epoch 143/150\n",
      "Epoch 144/150\n",
      "Epoch 145/150\n",
      "Epoch 146/150\n",
      "Epoch 147/150\n",
      "Epoch 148/150\n",
      "Epoch 149/150\n",
      "Epoch 150/150\n"
     ]
    },
    {
     "data": {
      "text/plain": [
       "<keras.callbacks.History at 0x12d215160>"
      ]
     },
     "execution_count": 122,
     "metadata": {},
     "output_type": "execute_result"
    }
   ],
   "source": [
    "model.fit(predictors, label, epochs=150, verbose=5)"
   ]
  },
  {
   "cell_type": "code",
   "execution_count": 123,
   "metadata": {},
   "outputs": [],
   "source": [
    "def generate_text(seed_text, next_words, model, max_sequence_len):\n",
    "#     final_result = seed_text + \" :\"\n",
    "    for _ in range(next_words):\n",
    "        token_list = tokenizer.texts_to_sequences([seed_text])[0]\n",
    "        token_list = pad_sequences([token_list], maxlen=max_sequence_len-1, padding='pre')\n",
    "        predicted = model.predict_classes(token_list, verbose=0)\n",
    "        \n",
    "        output_word = \"\"\n",
    "        for word,index in tokenizer.word_index.items():\n",
    "            if index == predicted:\n",
    "                output_word = word\n",
    "                break\n",
    "        seed_text += \" \"+output_word\n",
    "#         final_result += \" \"+output_word\n",
    "    return seed_text.title()"
   ]
  },
  {
   "cell_type": "code",
   "execution_count": 127,
   "metadata": {},
   "outputs": [
    {
     "name": "stdout",
     "output_type": "stream",
     "text": [
      "Of The The The The The\n",
      "I The The The The The\n"
     ]
    }
   ],
   "source": [
    "print (generate_text(\"of\", 5, model, max_sequence_len))\n",
    "print (generate_text(\"i\", 5, model, max_sequence_len))"
   ]
  },
  {
   "cell_type": "code",
   "execution_count": null,
   "metadata": {},
   "outputs": [],
   "source": []
  }
 ],
 "metadata": {
  "kernelspec": {
   "display_name": "Python 3",
   "language": "python",
   "name": "python3"
  },
  "language_info": {
   "codemirror_mode": {
    "name": "ipython",
    "version": 3
   },
   "file_extension": ".py",
   "mimetype": "text/x-python",
   "name": "python",
   "nbconvert_exporter": "python",
   "pygments_lexer": "ipython3",
   "version": "3.6.5"
  }
 },
 "nbformat": 4,
 "nbformat_minor": 2
}
