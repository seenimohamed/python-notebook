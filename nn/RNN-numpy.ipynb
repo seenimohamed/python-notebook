{
 "cells": [
  {
   "cell_type": "code",
   "execution_count": 2,
   "metadata": {},
   "outputs": [],
   "source": [
    "import numpy as np\n"
   ]
  },
  {
   "cell_type": "code",
   "execution_count": null,
   "metadata": {},
   "outputs": [],
   "source": [
    "# GRADED FUNCTION: rnn_cell_forward\n",
    "\n",
    "def rnn_cell_forward(xt, a_prev, parameters):\n",
    "    \"\"\"\n",
    "    Implements a single forward step of the RNN-cell as described in Figure (2)\n",
    "\n",
    "    Arguments:\n",
    "    xt -- your input data at timestep \"t\", numpy array of shape (n_x, m).\n",
    "    a_prev -- Hidden state at timestep \"t-1\", numpy array of shape (n_a, m)\n",
    "    parameters -- python dictionary containing:\n",
    "                        Wax -- Weight matrix multiplying the input, numpy array of shape (n_a, n_x)\n",
    "                        Waa -- Weight matrix multiplying the hidden state, numpy array of shape (n_a, n_a)\n",
    "                        Wya -- Weight matrix relating the hidden-state to the output, numpy array of shape (n_y, n_a)\n",
    "                        ba --  Bias, numpy array of shape (n_a, 1)\n",
    "                        by -- Bias relating the hidden-state to the output, numpy array of shape (n_y, 1)\n",
    "    Returns:\n",
    "    a_next -- next hidden state, of shape (n_a, m)\n",
    "    yt_pred -- prediction at timestep \"t\", numpy array of shape (n_y, m)\n",
    "    cache -- tuple of values needed for the backward pass, contains (a_next, a_prev, xt, parameters)\n",
    "    \"\"\"\n",
    "    \n",
    "#     # Retrieve parameters from \"parameters\"\n",
    "#     Wax = parameters[\"Wax\"]\n",
    "#     Waa = parameters[\"Waa\"]\n",
    "#     Wya = parameters[\"Wya\"]\n",
    "#     ba = parameters[\"ba\"]\n",
    "#     by = parameters[\"by\"]\n",
    "    \n",
    "#     ### START CODE HERE ### (≈2 lines)\n",
    "#     # compute next activation state using the formula given above\n",
    "#     a_next = np.tanh(np.dot(Wax, xt) + np.dot(Waa, a_prev) + ba)\n",
    "#     # compute output of the current cell using the formula given above\n",
    "#     yt_pred = softmax(np.dot(Wya, a_next) + by)\n",
    "#     ### END CODE HERE ###\n",
    "    \n",
    "#     # store values you need for backward propagation in cache\n",
    "#     cache = (a_next, a_prev, xt, parameters)\n",
    "    \n",
    "    return a_next, yt_pred, cache"
   ]
  },
  {
   "cell_type": "code",
   "execution_count": null,
   "metadata": {},
   "outputs": [],
   "source": [
    "# initialize params\n",
    "hlc = 5 #hidden layer count\n",
    "np.random.seed(1)\n",
    "\n",
    "# activation function variables\n",
    "Wax = np.random.rand(hlc, 3)\n",
    "x = np.random.rand(3, 10)\n",
    "Waa = np.random.rand(hlc, hlc)\n",
    "a_prev = np.random.rand(hlc, 10)\n",
    "ba = np.random.rand(hlc, 1)\n",
    "\n",
    "# softmax variables\n",
    "Wya = np.random.rand(2, hlc)\n",
    "by = np.random.rand(2, 1)\n",
    "\n",
    "parameters = {\"Wax\":Wax, \"Waa\":Waa, \"Wya\":Wya, \"ba\":ba, \"by\":by}  #it will update for each iteration and each input\n",
    "\n"
   ]
  },
  {
   "cell_type": "code",
   "execution_count": 7,
   "metadata": {},
   "outputs": [],
   "source": [
    "np.random.seed(1)\n",
    "x = np.random.randn(3,10,4)\n",
    "Wya = np.random.randn(2,5)"
   ]
  },
  {
   "cell_type": "code",
   "execution_count": 9,
   "metadata": {},
   "outputs": [],
   "source": [
    "n_x, m, T_x = x.shape\n",
    "n_y, n_a =Wya.shape"
   ]
  },
  {
   "cell_type": "code",
   "execution_count": 6,
   "metadata": {},
   "outputs": [
    {
     "name": "stdout",
     "output_type": "stream",
     "text": [
      "3 10 4\n"
     ]
    }
   ],
   "source": [
    "print(n_x, m, T_x)"
   ]
  },
  {
   "cell_type": "code",
   "execution_count": 10,
   "metadata": {},
   "outputs": [],
   "source": [
    "# a = list of [n_a, m] "
   ]
  },
  {
   "cell_type": "code",
   "execution_count": null,
   "metadata": {},
   "outputs": [],
   "source": [
    "# y = list of "
   ]
  }
 ],
 "metadata": {
  "kernelspec": {
   "display_name": "Python 3",
   "language": "python",
   "name": "python3"
  },
  "language_info": {
   "codemirror_mode": {
    "name": "ipython",
    "version": 3
   },
   "file_extension": ".py",
   "mimetype": "text/x-python",
   "name": "python",
   "nbconvert_exporter": "python",
   "pygments_lexer": "ipython3",
   "version": "3.6.5"
  }
 },
 "nbformat": 4,
 "nbformat_minor": 2
}
