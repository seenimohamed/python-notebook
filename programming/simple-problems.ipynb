{
 "cells": [
  {
   "cell_type": "code",
   "execution_count": 7,
   "metadata": {},
   "outputs": [
    {
     "name": "stdout",
     "output_type": "stream",
     "text": [
      "0.40\n"
     ]
    }
   ],
   "source": [
    "pos = 2\n",
    "print(\"%.2f\" % (pos/5))"
   ]
  },
  {
   "cell_type": "code",
   "execution_count": 10,
   "metadata": {},
   "outputs": [],
   "source": [
    "def plusMinus(arr):\n",
    "    neg = 0\n",
    "    pos = 0\n",
    "    zero = 0\n",
    "    arrlen = len(arr)\n",
    "    for i in arr :\n",
    "        if i > 0:\n",
    "            pos += 1\n",
    "        elif i < 0 :\n",
    "            neg += 1\n",
    "        else :\n",
    "            zero += 1\n",
    "\n",
    "    print(\"%.6f\" % (pos/arrlen))\n",
    "    print(\"%.6f\" % (neg/arrlen))\n",
    "    print(\"%.6f\" % (zero/arrlen))"
   ]
  },
  {
   "cell_type": "code",
   "execution_count": 11,
   "metadata": {},
   "outputs": [
    {
     "name": "stdout",
     "output_type": "stream",
     "text": [
      "0.400000\n",
      "0.200000\n",
      "0.400000\n"
     ]
    }
   ],
   "source": [
    "arr = [0,0,-1,1,1]\n",
    "plusMinus(arr)\n"
   ]
  },
  {
   "cell_type": "code",
   "execution_count": null,
   "metadata": {},
   "outputs": [],
   "source": []
  }
 ],
 "metadata": {
  "kernelspec": {
   "display_name": "Python 3",
   "language": "python",
   "name": "python3"
  },
  "language_info": {
   "codemirror_mode": {
    "name": "ipython",
    "version": 3
   },
   "file_extension": ".py",
   "mimetype": "text/x-python",
   "name": "python",
   "nbconvert_exporter": "python",
   "pygments_lexer": "ipython3",
   "version": "3.6.5"
  }
 },
 "nbformat": 4,
 "nbformat_minor": 2
}
