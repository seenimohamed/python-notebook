{
 "cells": [
  {
   "cell_type": "code",
   "execution_count": 2,
   "metadata": {},
   "outputs": [],
   "source": [
    "import json\n",
    "import pandas as pd"
   ]
  },
  {
   "cell_type": "code",
   "execution_count": 3,
   "metadata": {},
   "outputs": [],
   "source": [
    "filepath = '/Users/seeni-2328/Documents/Seeni/_zoho_products/sdp/datasets/Incident_Category/sdp-requests/results/1_2014_04_10_To_2015_06_14_39849/1_2014_04_10_To_2015_06_14_39849-VPN.json'\n",
    "df = pd.read_json(filepath)"
   ]
  },
  {
   "cell_type": "code",
   "execution_count": 18,
   "metadata": {},
   "outputs": [
    {
     "name": "stdout",
     "output_type": "stream",
     "text": [
      "[Errno 2] No such file or directory: 'home_path'\n",
      "/Users/seeni-2328/Documents/Seeni/_zoho_products/sdp/datasets/Incident_Category/sdp-requests/results/1_2014_04_10_To_2015_06_14_39849\n"
     ]
    }
   ],
   "source": [
    "home_path = '/Users/seeni-2328/Documents/Seeni/_zoho_products/sdp/datasets/Incident_Category/sdp-requests/results/1_2014_04_10_To_2015_06_14_39849/'\n",
    "%cd home_path\n",
    "dd = !ls"
   ]
  },
  {
   "cell_type": "code",
   "execution_count": 33,
   "metadata": {},
   "outputs": [],
   "source": [
    "alldata = []\n",
    "for file in dd :\n",
    "    filepath = \"{}/{}\".format(home_path, file)\n",
    "    alldata.append(pd.read_json(filepath))"
   ]
  },
  {
   "cell_type": "code",
   "execution_count": 35,
   "metadata": {},
   "outputs": [
    {
     "name": "stderr",
     "output_type": "stream",
     "text": [
      "/usr/local/lib/python3.6/site-packages/ipykernel_launcher.py:1: FutureWarning: Sorting because non-concatenation axis is not aligned. A future version\n",
      "of pandas will change to not sort by default.\n",
      "\n",
      "To accept the future behavior, pass 'sort=False'.\n",
      "\n",
      "To retain the current behavior and silence the warning, pass 'sort=True'.\n",
      "\n",
      "  \"\"\"Entry point for launching an IPython kernel.\n"
     ]
    }
   ],
   "source": [
    "df2 = pd.concat(alldata)\n",
    "df2 = df2.reset_index(drop=True)"
   ]
  },
  {
   "cell_type": "code",
   "execution_count": 38,
   "metadata": {},
   "outputs": [],
   "source": [
    "df2 = df2.dropna()\n",
    "df2 = df2.reset_index(drop=True)"
   ]
  },
  {
   "cell_type": "code",
   "execution_count": 39,
   "metadata": {},
   "outputs": [
    {
     "data": {
      "text/plain": [
       "CATEGORY          29155\n",
       "CREATED_TIME      29155\n",
       "DESCRIPTION       29155\n",
       "ID                29155\n",
       "KEYWORD           29155\n",
       "REQUESTER_NAME    29155\n",
       "SUBJECT           29155\n",
       "SUB_CATEGORY      29155\n",
       "TECHNICIAN        29155\n",
       "dtype: int64"
      ]
     },
     "execution_count": 39,
     "metadata": {},
     "output_type": "execute_result"
    }
   ],
   "source": [
    "df2.count()"
   ]
  },
  {
   "cell_type": "code",
   "execution_count": 40,
   "metadata": {},
   "outputs": [
    {
     "data": {
      "text/plain": [
       "CATEGORY                  object\n",
       "CREATED_TIME      datetime64[ns]\n",
       "DESCRIPTION               object\n",
       "ID                         int64\n",
       "KEYWORD                   object\n",
       "REQUESTER_NAME            object\n",
       "SUBJECT                   object\n",
       "SUB_CATEGORY              object\n",
       "TECHNICIAN                object\n",
       "dtype: object"
      ]
     },
     "execution_count": 40,
     "metadata": {},
     "output_type": "execute_result"
    }
   ],
   "source": [
    "df2.dtypes"
   ]
  },
  {
   "cell_type": "code",
   "execution_count": 46,
   "metadata": {},
   "outputs": [
    {
     "name": "stdout",
     "output_type": "stream",
     "text": [
      "/Users/seeni-2328/Documents/Seeni/_zoho_products/sdp/datasets/Incident_Category/sdp-requests/results/1_2014_04_10_To_2015_06_14_39849.csv\n"
     ]
    }
   ],
   "source": [
    "output_file = \"{}.csv\".format(home_path[:-1])\n",
    "print(output_file)\n",
    "df2.to_csv(output_file, index=False)"
   ]
  },
  {
   "cell_type": "code",
   "execution_count": 45,
   "metadata": {},
   "outputs": [
    {
     "data": {
      "text/html": [
       "<div>\n",
       "<style scoped>\n",
       "    .dataframe tbody tr th:only-of-type {\n",
       "        vertical-align: middle;\n",
       "    }\n",
       "\n",
       "    .dataframe tbody tr th {\n",
       "        vertical-align: top;\n",
       "    }\n",
       "\n",
       "    .dataframe thead th {\n",
       "        text-align: right;\n",
       "    }\n",
       "</style>\n",
       "<table border=\"1\" class=\"dataframe\">\n",
       "  <thead>\n",
       "    <tr style=\"text-align: right;\">\n",
       "      <th></th>\n",
       "      <th>CATEGORY</th>\n",
       "      <th>CREATED_TIME</th>\n",
       "      <th>DESCRIPTION</th>\n",
       "      <th>ID</th>\n",
       "      <th>KEYWORD</th>\n",
       "      <th>REQUESTER_NAME</th>\n",
       "      <th>SUBJECT</th>\n",
       "      <th>SUB_CATEGORY</th>\n",
       "      <th>TECHNICIAN</th>\n",
       "    </tr>\n",
       "  </thead>\n",
       "  <tbody>\n",
       "    <tr>\n",
       "      <th>0</th>\n",
       "      <td>-</td>\n",
       "      <td>2015-05-08 19:10:57</td>\n",
       "      <td>Four candidates from Annna University are join...</td>\n",
       "      <td>1387292</td>\n",
       "      <td>[need, estancia, developer machine, kinldy pla...</td>\n",
       "      <td>revathi.pk</td>\n",
       "      <td>Need 4 Machines @ Estancia</td>\n",
       "      <td>-</td>\n",
       "      <td>Deepak K</td>\n",
       "    </tr>\n",
       "    <tr>\n",
       "      <th>1</th>\n",
       "      <td>-</td>\n",
       "      <td>2015-01-22 11:28:26</td>\n",
       "      <td>Chat and Group Email,Hi Team, While doing the ...</td>\n",
       "      <td>1328757</td>\n",
       "      <td>[convention, respective email owner, email ali...</td>\n",
       "      <td>Kamala Kannan Subramani</td>\n",
       "      <td>Re: Standard team naming conventions in Connec...</td>\n",
       "      <td>-</td>\n",
       "      <td>Parthasarathy K</td>\n",
       "    </tr>\n",
       "    <tr>\n",
       "      <th>2</th>\n",
       "      <td>-</td>\n",
       "      <td>2014-05-14 14:52:00</td>\n",
       "      <td>As discussed earlier, we are facing the below ...</td>\n",
       "      <td>1186244</td>\n",
       "      <td>[push failure, abort http error, bad request, ...</td>\n",
       "      <td>Petchimuthu Nallakannu</td>\n",
       "      <td>Hg pull/push Failure in integ-toolsnew</td>\n",
       "      <td>-</td>\n",
       "      <td>Parthasarathy K</td>\n",
       "    </tr>\n",
       "    <tr>\n",
       "      <th>3</th>\n",
       "      <td>-</td>\n",
       "      <td>2014-04-10 12:45:43</td>\n",
       "      <td>We are using cgi-bin functionality in our ME s...</td>\n",
       "      <td>1170307</td>\n",
       "      <td>[site server, cgi script usage, late version, ...</td>\n",
       "      <td>Kamala Kannan Subramani</td>\n",
       "      <td>Disable cgi-bin in ME site servers</td>\n",
       "      <td>-</td>\n",
       "      <td>Parthasarathy K</td>\n",
       "    </tr>\n",
       "    <tr>\n",
       "      <th>4</th>\n",
       "      <td>Alerts</td>\n",
       "      <td>2015-06-14 06:09:48</td>\n",
       "      <td>This is an auto generated e-mail triggered bec...</td>\n",
       "      <td>1403736</td>\n",
       "      <td>[alert, application manager, zoho urls, auto, ...</td>\n",
       "      <td>sv2-appmanager</td>\n",
       "      <td>Alert from the Applications Manager - [ Zoho U...</td>\n",
       "      <td>-</td>\n",
       "      <td>Dhayanathi Vijayakumar</td>\n",
       "    </tr>\n",
       "  </tbody>\n",
       "</table>\n",
       "</div>"
      ],
      "text/plain": [
       "  CATEGORY        CREATED_TIME  \\\n",
       "0        - 2015-05-08 19:10:57   \n",
       "1        - 2015-01-22 11:28:26   \n",
       "2        - 2014-05-14 14:52:00   \n",
       "3        - 2014-04-10 12:45:43   \n",
       "4   Alerts 2015-06-14 06:09:48   \n",
       "\n",
       "                                         DESCRIPTION       ID  \\\n",
       "0  Four candidates from Annna University are join...  1387292   \n",
       "1  Chat and Group Email,Hi Team, While doing the ...  1328757   \n",
       "2  As discussed earlier, we are facing the below ...  1186244   \n",
       "3  We are using cgi-bin functionality in our ME s...  1170307   \n",
       "4  This is an auto generated e-mail triggered bec...  1403736   \n",
       "\n",
       "                                             KEYWORD           REQUESTER_NAME  \\\n",
       "0  [need, estancia, developer machine, kinldy pla...               revathi.pk   \n",
       "1  [convention, respective email owner, email ali...  Kamala Kannan Subramani   \n",
       "2  [push failure, abort http error, bad request, ...   Petchimuthu Nallakannu   \n",
       "3  [site server, cgi script usage, late version, ...  Kamala Kannan Subramani   \n",
       "4  [alert, application manager, zoho urls, auto, ...           sv2-appmanager   \n",
       "\n",
       "                                             SUBJECT SUB_CATEGORY  \\\n",
       "0                         Need 4 Machines @ Estancia            -   \n",
       "1  Re: Standard team naming conventions in Connec...            -   \n",
       "2             Hg pull/push Failure in integ-toolsnew            -   \n",
       "3                 Disable cgi-bin in ME site servers            -   \n",
       "4  Alert from the Applications Manager - [ Zoho U...            -   \n",
       "\n",
       "               TECHNICIAN  \n",
       "0                Deepak K  \n",
       "1         Parthasarathy K  \n",
       "2         Parthasarathy K  \n",
       "3         Parthasarathy K  \n",
       "4  Dhayanathi Vijayakumar  "
      ]
     },
     "execution_count": 45,
     "metadata": {},
     "output_type": "execute_result"
    }
   ],
   "source": [
    "df2.head()"
   ]
  },
  {
   "cell_type": "code",
   "execution_count": null,
   "metadata": {},
   "outputs": [],
   "source": []
  }
 ],
 "metadata": {
  "kernelspec": {
   "display_name": "Python 3",
   "language": "python",
   "name": "python3"
  },
  "language_info": {
   "codemirror_mode": {
    "name": "ipython",
    "version": 3
   },
   "file_extension": ".py",
   "mimetype": "text/x-python",
   "name": "python",
   "nbconvert_exporter": "python",
   "pygments_lexer": "ipython3",
   "version": "3.6.5"
  }
 },
 "nbformat": 4,
 "nbformat_minor": 2
}
