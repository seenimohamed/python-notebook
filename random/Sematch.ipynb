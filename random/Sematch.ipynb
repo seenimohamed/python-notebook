{
 "cells": [
  {
   "cell_type": "code",
   "execution_count": 1,
   "metadata": {},
   "outputs": [
    {
     "ename": "SyntaxError",
     "evalue": "Missing parentheses in call to 'print'. Did you mean print(query)? (sparql.py, line 36)",
     "output_type": "error",
     "traceback": [
      "Traceback \u001b[0;36m(most recent call last)\u001b[0m:\n",
      "  File \u001b[1;32m\"/usr/local/lib/python3.6/site-packages/IPython/core/interactiveshell.py\"\u001b[0m, line \u001b[1;32m2963\u001b[0m, in \u001b[1;35mrun_code\u001b[0m\n    exec(code_obj, self.user_global_ns, self.user_ns)\n",
      "  File \u001b[1;32m\"<ipython-input-1-53493329c95a>\"\u001b[0m, line \u001b[1;32m1\u001b[0m, in \u001b[1;35m<module>\u001b[0m\n    from sematch.semantic.similarity import WordNetSimilarity\n",
      "\u001b[0;36m  File \u001b[0;32m\"/usr/local/lib/python3.6/site-packages/sematch/semantic/similarity.py\"\u001b[0;36m, line \u001b[0;32m25\u001b[0;36m, in \u001b[0;35m<module>\u001b[0;36m\u001b[0m\n\u001b[0;31m    from sematch.semantic.sparql import EntityFeatures, StatSPARQL\u001b[0m\n",
      "\u001b[0;36m  File \u001b[0;32m\"/usr/local/lib/python3.6/site-packages/sematch/semantic/sparql.py\"\u001b[0;36m, line \u001b[0;32m36\u001b[0m\n\u001b[0;31m    print query\u001b[0m\n\u001b[0m              ^\u001b[0m\n\u001b[0;31mSyntaxError\u001b[0m\u001b[0;31m:\u001b[0m Missing parentheses in call to 'print'. Did you mean print(query)?\n"
     ]
    }
   ],
   "source": [
    "from sematch.semantic.similarity import WordNetSimilarity\n",
    "wns = WordNetSimilarity()\n",
    "\n",
    "# Computing English word similarity using Li method\n",
    "wns.word_similarity('dog', 'cat', 'li') # 0.449327301063\n",
    "# Computing Spanish word similarity using Lin method\n",
    "wns.monol_word_similarity('perro', 'gato', 'spa', 'lin') #0.876800984373\n",
    "# Computing Chinese word similarity using  Wu & Palmer method\n",
    "wns.monol_word_similarity('狗', '猫', 'cmn', 'wup') # 0.857142857143\n",
    "# Computing Spanish and English word similarity using Resnik method\n",
    "wns.crossl_word_similarity('perro', 'cat', 'spa', 'eng', 'res') #7.91166650904\n",
    "# Computing Spanish and Chinese word similarity using Jiang & Conrad method\n",
    "wns.crossl_word_similarity('perro', '猫', 'spa', 'cmn', 'jcn') #0.31023804699\n",
    "# Computing Chinese and English word similarity using WPath method\n",
    "wns.crossl_word_similarity('狗', 'cat', 'cmn', 'eng', 'wpath')#0.593666388463"
   ]
  },
  {
   "cell_type": "code",
   "execution_count": null,
   "metadata": {},
   "outputs": [],
   "source": []
  }
 ],
 "metadata": {
  "kernelspec": {
   "display_name": "Python 3",
   "language": "python",
   "name": "python3"
  }
 },
 "nbformat": 4,
 "nbformat_minor": 2
}
