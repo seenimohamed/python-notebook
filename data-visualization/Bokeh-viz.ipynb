{
 "cells": [
  {
   "cell_type": "code",
   "execution_count": 66,
   "metadata": {},
   "outputs": [
    {
     "data": {
      "text/html": [
       "\n",
       "    <div class=\"bk-root\">\n",
       "        <a href=\"https://bokeh.pydata.org\" target=\"_blank\" class=\"bk-logo bk-logo-small bk-logo-notebook\"></a>\n",
       "        <span id=\"4787\">Loading BokehJS ...</span>\n",
       "    </div>"
      ]
     },
     "metadata": {},
     "output_type": "display_data"
    },
    {
     "data": {
      "application/javascript": [
       "\n",
       "(function(root) {\n",
       "  function now() {\n",
       "    return new Date();\n",
       "  }\n",
       "\n",
       "  var force = true;\n",
       "\n",
       "  if (typeof (root._bokeh_onload_callbacks) === \"undefined\" || force === true) {\n",
       "    root._bokeh_onload_callbacks = [];\n",
       "    root._bokeh_is_loading = undefined;\n",
       "  }\n",
       "\n",
       "  var JS_MIME_TYPE = 'application/javascript';\n",
       "  var HTML_MIME_TYPE = 'text/html';\n",
       "  var EXEC_MIME_TYPE = 'application/vnd.bokehjs_exec.v0+json';\n",
       "  var CLASS_NAME = 'output_bokeh rendered_html';\n",
       "\n",
       "  /**\n",
       "   * Render data to the DOM node\n",
       "   */\n",
       "  function render(props, node) {\n",
       "    var script = document.createElement(\"script\");\n",
       "    node.appendChild(script);\n",
       "  }\n",
       "\n",
       "  /**\n",
       "   * Handle when an output is cleared or removed\n",
       "   */\n",
       "  function handleClearOutput(event, handle) {\n",
       "    var cell = handle.cell;\n",
       "\n",
       "    var id = cell.output_area._bokeh_element_id;\n",
       "    var server_id = cell.output_area._bokeh_server_id;\n",
       "    // Clean up Bokeh references\n",
       "    if (id != null && id in Bokeh.index) {\n",
       "      Bokeh.index[id].model.document.clear();\n",
       "      delete Bokeh.index[id];\n",
       "    }\n",
       "\n",
       "    if (server_id !== undefined) {\n",
       "      // Clean up Bokeh references\n",
       "      var cmd = \"from bokeh.io.state import curstate; print(curstate().uuid_to_server['\" + server_id + \"'].get_sessions()[0].document.roots[0]._id)\";\n",
       "      cell.notebook.kernel.execute(cmd, {\n",
       "        iopub: {\n",
       "          output: function(msg) {\n",
       "            var id = msg.content.text.trim();\n",
       "            if (id in Bokeh.index) {\n",
       "              Bokeh.index[id].model.document.clear();\n",
       "              delete Bokeh.index[id];\n",
       "            }\n",
       "          }\n",
       "        }\n",
       "      });\n",
       "      // Destroy server and session\n",
       "      var cmd = \"import bokeh.io.notebook as ion; ion.destroy_server('\" + server_id + \"')\";\n",
       "      cell.notebook.kernel.execute(cmd);\n",
       "    }\n",
       "  }\n",
       "\n",
       "  /**\n",
       "   * Handle when a new output is added\n",
       "   */\n",
       "  function handleAddOutput(event, handle) {\n",
       "    var output_area = handle.output_area;\n",
       "    var output = handle.output;\n",
       "\n",
       "    // limit handleAddOutput to display_data with EXEC_MIME_TYPE content only\n",
       "    if ((output.output_type != \"display_data\") || (!output.data.hasOwnProperty(EXEC_MIME_TYPE))) {\n",
       "      return\n",
       "    }\n",
       "\n",
       "    var toinsert = output_area.element.find(\".\" + CLASS_NAME.split(' ')[0]);\n",
       "\n",
       "    if (output.metadata[EXEC_MIME_TYPE][\"id\"] !== undefined) {\n",
       "      toinsert[toinsert.length - 1].firstChild.textContent = output.data[JS_MIME_TYPE];\n",
       "      // store reference to embed id on output_area\n",
       "      output_area._bokeh_element_id = output.metadata[EXEC_MIME_TYPE][\"id\"];\n",
       "    }\n",
       "    if (output.metadata[EXEC_MIME_TYPE][\"server_id\"] !== undefined) {\n",
       "      var bk_div = document.createElement(\"div\");\n",
       "      bk_div.innerHTML = output.data[HTML_MIME_TYPE];\n",
       "      var script_attrs = bk_div.children[0].attributes;\n",
       "      for (var i = 0; i < script_attrs.length; i++) {\n",
       "        toinsert[toinsert.length - 1].firstChild.setAttribute(script_attrs[i].name, script_attrs[i].value);\n",
       "      }\n",
       "      // store reference to server id on output_area\n",
       "      output_area._bokeh_server_id = output.metadata[EXEC_MIME_TYPE][\"server_id\"];\n",
       "    }\n",
       "  }\n",
       "\n",
       "  function register_renderer(events, OutputArea) {\n",
       "\n",
       "    function append_mime(data, metadata, element) {\n",
       "      // create a DOM node to render to\n",
       "      var toinsert = this.create_output_subarea(\n",
       "        metadata,\n",
       "        CLASS_NAME,\n",
       "        EXEC_MIME_TYPE\n",
       "      );\n",
       "      this.keyboard_manager.register_events(toinsert);\n",
       "      // Render to node\n",
       "      var props = {data: data, metadata: metadata[EXEC_MIME_TYPE]};\n",
       "      render(props, toinsert[toinsert.length - 1]);\n",
       "      element.append(toinsert);\n",
       "      return toinsert\n",
       "    }\n",
       "\n",
       "    /* Handle when an output is cleared or removed */\n",
       "    events.on('clear_output.CodeCell', handleClearOutput);\n",
       "    events.on('delete.Cell', handleClearOutput);\n",
       "\n",
       "    /* Handle when a new output is added */\n",
       "    events.on('output_added.OutputArea', handleAddOutput);\n",
       "\n",
       "    /**\n",
       "     * Register the mime type and append_mime function with output_area\n",
       "     */\n",
       "    OutputArea.prototype.register_mime_type(EXEC_MIME_TYPE, append_mime, {\n",
       "      /* Is output safe? */\n",
       "      safe: true,\n",
       "      /* Index of renderer in `output_area.display_order` */\n",
       "      index: 0\n",
       "    });\n",
       "  }\n",
       "\n",
       "  // register the mime type if in Jupyter Notebook environment and previously unregistered\n",
       "  if (root.Jupyter !== undefined) {\n",
       "    var events = require('base/js/events');\n",
       "    var OutputArea = require('notebook/js/outputarea').OutputArea;\n",
       "\n",
       "    if (OutputArea.prototype.mime_types().indexOf(EXEC_MIME_TYPE) == -1) {\n",
       "      register_renderer(events, OutputArea);\n",
       "    }\n",
       "  }\n",
       "\n",
       "  \n",
       "  if (typeof (root._bokeh_timeout) === \"undefined\" || force === true) {\n",
       "    root._bokeh_timeout = Date.now() + 5000;\n",
       "    root._bokeh_failed_load = false;\n",
       "  }\n",
       "\n",
       "  var NB_LOAD_WARNING = {'data': {'text/html':\n",
       "     \"<div style='background-color: #fdd'>\\n\"+\n",
       "     \"<p>\\n\"+\n",
       "     \"BokehJS does not appear to have successfully loaded. If loading BokehJS from CDN, this \\n\"+\n",
       "     \"may be due to a slow or bad network connection. Possible fixes:\\n\"+\n",
       "     \"</p>\\n\"+\n",
       "     \"<ul>\\n\"+\n",
       "     \"<li>re-rerun `output_notebook()` to attempt to load from CDN again, or</li>\\n\"+\n",
       "     \"<li>use INLINE resources instead, as so:</li>\\n\"+\n",
       "     \"</ul>\\n\"+\n",
       "     \"<code>\\n\"+\n",
       "     \"from bokeh.resources import INLINE\\n\"+\n",
       "     \"output_notebook(resources=INLINE)\\n\"+\n",
       "     \"</code>\\n\"+\n",
       "     \"</div>\"}};\n",
       "\n",
       "  function display_loaded() {\n",
       "    var el = document.getElementById(\"4787\");\n",
       "    if (el != null) {\n",
       "      el.textContent = \"BokehJS is loading...\";\n",
       "    }\n",
       "    if (root.Bokeh !== undefined) {\n",
       "      if (el != null) {\n",
       "        el.textContent = \"BokehJS \" + root.Bokeh.version + \" successfully loaded.\";\n",
       "      }\n",
       "    } else if (Date.now() < root._bokeh_timeout) {\n",
       "      setTimeout(display_loaded, 100)\n",
       "    }\n",
       "  }\n",
       "\n",
       "\n",
       "  function run_callbacks() {\n",
       "    try {\n",
       "      root._bokeh_onload_callbacks.forEach(function(callback) { callback() });\n",
       "    }\n",
       "    finally {\n",
       "      delete root._bokeh_onload_callbacks\n",
       "    }\n",
       "    console.info(\"Bokeh: all callbacks have finished\");\n",
       "  }\n",
       "\n",
       "  function load_libs(js_urls, callback) {\n",
       "    root._bokeh_onload_callbacks.push(callback);\n",
       "    if (root._bokeh_is_loading > 0) {\n",
       "      console.log(\"Bokeh: BokehJS is being loaded, scheduling callback at\", now());\n",
       "      return null;\n",
       "    }\n",
       "    if (js_urls == null || js_urls.length === 0) {\n",
       "      run_callbacks();\n",
       "      return null;\n",
       "    }\n",
       "    console.log(\"Bokeh: BokehJS not loaded, scheduling load and callback at\", now());\n",
       "    root._bokeh_is_loading = js_urls.length;\n",
       "    for (var i = 0; i < js_urls.length; i++) {\n",
       "      var url = js_urls[i];\n",
       "      var s = document.createElement('script');\n",
       "      s.src = url;\n",
       "      s.async = false;\n",
       "      s.onreadystatechange = s.onload = function() {\n",
       "        root._bokeh_is_loading--;\n",
       "        if (root._bokeh_is_loading === 0) {\n",
       "          console.log(\"Bokeh: all BokehJS libraries loaded\");\n",
       "          run_callbacks()\n",
       "        }\n",
       "      };\n",
       "      s.onerror = function() {\n",
       "        console.warn(\"failed to load library \" + url);\n",
       "      };\n",
       "      console.log(\"Bokeh: injecting script tag for BokehJS library: \", url);\n",
       "      document.getElementsByTagName(\"head\")[0].appendChild(s);\n",
       "    }\n",
       "  };var element = document.getElementById(\"4787\");\n",
       "  if (element == null) {\n",
       "    console.log(\"Bokeh: ERROR: autoload.js configured with elementid '4787' but no matching script tag was found. \")\n",
       "    return false;\n",
       "  }\n",
       "\n",
       "  var js_urls = [\"https://cdn.pydata.org/bokeh/release/bokeh-1.0.1.min.js\", \"https://cdn.pydata.org/bokeh/release/bokeh-widgets-1.0.1.min.js\", \"https://cdn.pydata.org/bokeh/release/bokeh-tables-1.0.1.min.js\", \"https://cdn.pydata.org/bokeh/release/bokeh-gl-1.0.1.min.js\"];\n",
       "\n",
       "  var inline_js = [\n",
       "    function(Bokeh) {\n",
       "      Bokeh.set_log_level(\"info\");\n",
       "    },\n",
       "    \n",
       "    function(Bokeh) {\n",
       "      \n",
       "    },\n",
       "    function(Bokeh) {\n",
       "      console.log(\"Bokeh: injecting CSS: https://cdn.pydata.org/bokeh/release/bokeh-1.0.1.min.css\");\n",
       "      Bokeh.embed.inject_css(\"https://cdn.pydata.org/bokeh/release/bokeh-1.0.1.min.css\");\n",
       "      console.log(\"Bokeh: injecting CSS: https://cdn.pydata.org/bokeh/release/bokeh-widgets-1.0.1.min.css\");\n",
       "      Bokeh.embed.inject_css(\"https://cdn.pydata.org/bokeh/release/bokeh-widgets-1.0.1.min.css\");\n",
       "      console.log(\"Bokeh: injecting CSS: https://cdn.pydata.org/bokeh/release/bokeh-tables-1.0.1.min.css\");\n",
       "      Bokeh.embed.inject_css(\"https://cdn.pydata.org/bokeh/release/bokeh-tables-1.0.1.min.css\");\n",
       "    }\n",
       "  ];\n",
       "\n",
       "  function run_inline_js() {\n",
       "    \n",
       "    if ((root.Bokeh !== undefined) || (force === true)) {\n",
       "      for (var i = 0; i < inline_js.length; i++) {\n",
       "        inline_js[i].call(root, root.Bokeh);\n",
       "      }if (force === true) {\n",
       "        display_loaded();\n",
       "      }} else if (Date.now() < root._bokeh_timeout) {\n",
       "      setTimeout(run_inline_js, 100);\n",
       "    } else if (!root._bokeh_failed_load) {\n",
       "      console.log(\"Bokeh: BokehJS failed to load within specified timeout.\");\n",
       "      root._bokeh_failed_load = true;\n",
       "    } else if (force !== true) {\n",
       "      var cell = $(document.getElementById(\"4787\")).parents('.cell').data().cell;\n",
       "      cell.output_area.append_execute_result(NB_LOAD_WARNING)\n",
       "    }\n",
       "\n",
       "  }\n",
       "\n",
       "  if (root._bokeh_is_loading === 0) {\n",
       "    console.log(\"Bokeh: BokehJS loaded, going straight to plotting\");\n",
       "    run_inline_js();\n",
       "  } else {\n",
       "    load_libs(js_urls, function() {\n",
       "      console.log(\"Bokeh: BokehJS plotting callback run at\", now());\n",
       "      run_inline_js();\n",
       "    });\n",
       "  }\n",
       "}(window));"
      ],
      "application/vnd.bokehjs_load.v0+json": "\n(function(root) {\n  function now() {\n    return new Date();\n  }\n\n  var force = true;\n\n  if (typeof (root._bokeh_onload_callbacks) === \"undefined\" || force === true) {\n    root._bokeh_onload_callbacks = [];\n    root._bokeh_is_loading = undefined;\n  }\n\n  \n\n  \n  if (typeof (root._bokeh_timeout) === \"undefined\" || force === true) {\n    root._bokeh_timeout = Date.now() + 5000;\n    root._bokeh_failed_load = false;\n  }\n\n  var NB_LOAD_WARNING = {'data': {'text/html':\n     \"<div style='background-color: #fdd'>\\n\"+\n     \"<p>\\n\"+\n     \"BokehJS does not appear to have successfully loaded. If loading BokehJS from CDN, this \\n\"+\n     \"may be due to a slow or bad network connection. Possible fixes:\\n\"+\n     \"</p>\\n\"+\n     \"<ul>\\n\"+\n     \"<li>re-rerun `output_notebook()` to attempt to load from CDN again, or</li>\\n\"+\n     \"<li>use INLINE resources instead, as so:</li>\\n\"+\n     \"</ul>\\n\"+\n     \"<code>\\n\"+\n     \"from bokeh.resources import INLINE\\n\"+\n     \"output_notebook(resources=INLINE)\\n\"+\n     \"</code>\\n\"+\n     \"</div>\"}};\n\n  function display_loaded() {\n    var el = document.getElementById(\"4787\");\n    if (el != null) {\n      el.textContent = \"BokehJS is loading...\";\n    }\n    if (root.Bokeh !== undefined) {\n      if (el != null) {\n        el.textContent = \"BokehJS \" + root.Bokeh.version + \" successfully loaded.\";\n      }\n    } else if (Date.now() < root._bokeh_timeout) {\n      setTimeout(display_loaded, 100)\n    }\n  }\n\n\n  function run_callbacks() {\n    try {\n      root._bokeh_onload_callbacks.forEach(function(callback) { callback() });\n    }\n    finally {\n      delete root._bokeh_onload_callbacks\n    }\n    console.info(\"Bokeh: all callbacks have finished\");\n  }\n\n  function load_libs(js_urls, callback) {\n    root._bokeh_onload_callbacks.push(callback);\n    if (root._bokeh_is_loading > 0) {\n      console.log(\"Bokeh: BokehJS is being loaded, scheduling callback at\", now());\n      return null;\n    }\n    if (js_urls == null || js_urls.length === 0) {\n      run_callbacks();\n      return null;\n    }\n    console.log(\"Bokeh: BokehJS not loaded, scheduling load and callback at\", now());\n    root._bokeh_is_loading = js_urls.length;\n    for (var i = 0; i < js_urls.length; i++) {\n      var url = js_urls[i];\n      var s = document.createElement('script');\n      s.src = url;\n      s.async = false;\n      s.onreadystatechange = s.onload = function() {\n        root._bokeh_is_loading--;\n        if (root._bokeh_is_loading === 0) {\n          console.log(\"Bokeh: all BokehJS libraries loaded\");\n          run_callbacks()\n        }\n      };\n      s.onerror = function() {\n        console.warn(\"failed to load library \" + url);\n      };\n      console.log(\"Bokeh: injecting script tag for BokehJS library: \", url);\n      document.getElementsByTagName(\"head\")[0].appendChild(s);\n    }\n  };var element = document.getElementById(\"4787\");\n  if (element == null) {\n    console.log(\"Bokeh: ERROR: autoload.js configured with elementid '4787' but no matching script tag was found. \")\n    return false;\n  }\n\n  var js_urls = [\"https://cdn.pydata.org/bokeh/release/bokeh-1.0.1.min.js\", \"https://cdn.pydata.org/bokeh/release/bokeh-widgets-1.0.1.min.js\", \"https://cdn.pydata.org/bokeh/release/bokeh-tables-1.0.1.min.js\", \"https://cdn.pydata.org/bokeh/release/bokeh-gl-1.0.1.min.js\"];\n\n  var inline_js = [\n    function(Bokeh) {\n      Bokeh.set_log_level(\"info\");\n    },\n    \n    function(Bokeh) {\n      \n    },\n    function(Bokeh) {\n      console.log(\"Bokeh: injecting CSS: https://cdn.pydata.org/bokeh/release/bokeh-1.0.1.min.css\");\n      Bokeh.embed.inject_css(\"https://cdn.pydata.org/bokeh/release/bokeh-1.0.1.min.css\");\n      console.log(\"Bokeh: injecting CSS: https://cdn.pydata.org/bokeh/release/bokeh-widgets-1.0.1.min.css\");\n      Bokeh.embed.inject_css(\"https://cdn.pydata.org/bokeh/release/bokeh-widgets-1.0.1.min.css\");\n      console.log(\"Bokeh: injecting CSS: https://cdn.pydata.org/bokeh/release/bokeh-tables-1.0.1.min.css\");\n      Bokeh.embed.inject_css(\"https://cdn.pydata.org/bokeh/release/bokeh-tables-1.0.1.min.css\");\n    }\n  ];\n\n  function run_inline_js() {\n    \n    if ((root.Bokeh !== undefined) || (force === true)) {\n      for (var i = 0; i < inline_js.length; i++) {\n        inline_js[i].call(root, root.Bokeh);\n      }if (force === true) {\n        display_loaded();\n      }} else if (Date.now() < root._bokeh_timeout) {\n      setTimeout(run_inline_js, 100);\n    } else if (!root._bokeh_failed_load) {\n      console.log(\"Bokeh: BokehJS failed to load within specified timeout.\");\n      root._bokeh_failed_load = true;\n    } else if (force !== true) {\n      var cell = $(document.getElementById(\"4787\")).parents('.cell').data().cell;\n      cell.output_area.append_execute_result(NB_LOAD_WARNING)\n    }\n\n  }\n\n  if (root._bokeh_is_loading === 0) {\n    console.log(\"Bokeh: BokehJS loaded, going straight to plotting\");\n    run_inline_js();\n  } else {\n    load_libs(js_urls, function() {\n      console.log(\"Bokeh: BokehJS plotting callback run at\", now());\n      run_inline_js();\n    });\n  }\n}(window));"
     },
     "metadata": {},
     "output_type": "display_data"
    }
   ],
   "source": [
    "from bokeh.plotting import figure, show, output_notebook, output_file\n",
    "output_notebook()"
   ]
  },
  {
   "cell_type": "code",
   "execution_count": 67,
   "metadata": {},
   "outputs": [],
   "source": [
    "# output_file('my_first_graph.html')\n"
   ]
  },
  {
   "cell_type": "code",
   "execution_count": 68,
   "metadata": {},
   "outputs": [],
   "source": [
    "x = [1, 3, 5, 7]\n",
    "y = [2, 4, 6, 8]\n"
   ]
  },
  {
   "cell_type": "code",
   "execution_count": 69,
   "metadata": {},
   "outputs": [
    {
     "data": {
      "text/html": [
       "<div style=\"display: table;\"><div style=\"display: table-row;\"><div style=\"display: table-cell;\"><b title=\"bokeh.models.renderers.GlyphRenderer\">GlyphRenderer</b>(</div><div style=\"display: table-cell;\">id&nbsp;=&nbsp;'4854', <span id=\"4869\" style=\"cursor: pointer;\">&hellip;)</span></div></div><div class=\"4868\" style=\"display: none;\"><div style=\"display: table-cell;\"></div><div style=\"display: table-cell;\">data_source&nbsp;=&nbsp;ColumnDataSource(id='4851', ...),</div></div><div class=\"4868\" style=\"display: none;\"><div style=\"display: table-cell;\"></div><div style=\"display: table-cell;\">glyph&nbsp;=&nbsp;Triangle(id='4852', ...),</div></div><div class=\"4868\" style=\"display: none;\"><div style=\"display: table-cell;\"></div><div style=\"display: table-cell;\">hover_glyph&nbsp;=&nbsp;None,</div></div><div class=\"4868\" style=\"display: none;\"><div style=\"display: table-cell;\"></div><div style=\"display: table-cell;\">js_event_callbacks&nbsp;=&nbsp;{},</div></div><div class=\"4868\" style=\"display: none;\"><div style=\"display: table-cell;\"></div><div style=\"display: table-cell;\">js_property_callbacks&nbsp;=&nbsp;{},</div></div><div class=\"4868\" style=\"display: none;\"><div style=\"display: table-cell;\"></div><div style=\"display: table-cell;\">level&nbsp;=&nbsp;'glyph',</div></div><div class=\"4868\" style=\"display: none;\"><div style=\"display: table-cell;\"></div><div style=\"display: table-cell;\">muted&nbsp;=&nbsp;False,</div></div><div class=\"4868\" style=\"display: none;\"><div style=\"display: table-cell;\"></div><div style=\"display: table-cell;\">muted_glyph&nbsp;=&nbsp;None,</div></div><div class=\"4868\" style=\"display: none;\"><div style=\"display: table-cell;\"></div><div style=\"display: table-cell;\">name&nbsp;=&nbsp;None,</div></div><div class=\"4868\" style=\"display: none;\"><div style=\"display: table-cell;\"></div><div style=\"display: table-cell;\">nonselection_glyph&nbsp;=&nbsp;Triangle(id='4853', ...),</div></div><div class=\"4868\" style=\"display: none;\"><div style=\"display: table-cell;\"></div><div style=\"display: table-cell;\">selection_glyph&nbsp;=&nbsp;None,</div></div><div class=\"4868\" style=\"display: none;\"><div style=\"display: table-cell;\"></div><div style=\"display: table-cell;\">subscribed_events&nbsp;=&nbsp;[],</div></div><div class=\"4868\" style=\"display: none;\"><div style=\"display: table-cell;\"></div><div style=\"display: table-cell;\">tags&nbsp;=&nbsp;[],</div></div><div class=\"4868\" style=\"display: none;\"><div style=\"display: table-cell;\"></div><div style=\"display: table-cell;\">view&nbsp;=&nbsp;CDSView(id='4855', ...),</div></div><div class=\"4868\" style=\"display: none;\"><div style=\"display: table-cell;\"></div><div style=\"display: table-cell;\">visible&nbsp;=&nbsp;True,</div></div><div class=\"4868\" style=\"display: none;\"><div style=\"display: table-cell;\"></div><div style=\"display: table-cell;\">x_range_name&nbsp;=&nbsp;'default',</div></div><div class=\"4868\" style=\"display: none;\"><div style=\"display: table-cell;\"></div><div style=\"display: table-cell;\">y_range_name&nbsp;=&nbsp;'default')</div></div></div>\n",
       "<script>\n",
       "(function() {\n",
       "  var expanded = false;\n",
       "  var ellipsis = document.getElementById(\"4869\");\n",
       "  ellipsis.addEventListener(\"click\", function() {\n",
       "    var rows = document.getElementsByClassName(\"4868\");\n",
       "    for (var i = 0; i < rows.length; i++) {\n",
       "      var el = rows[i];\n",
       "      el.style.display = expanded ? \"none\" : \"table-row\";\n",
       "    }\n",
       "    ellipsis.innerHTML = expanded ? \"&hellip;)\" : \"&lsaquo;&lsaquo;&lsaquo;\";\n",
       "    expanded = !expanded;\n",
       "  });\n",
       "})();\n",
       "</script>\n"
      ],
      "text/plain": [
       "GlyphRenderer(id='4854', ...)"
      ]
     },
     "execution_count": 69,
     "metadata": {},
     "output_type": "execute_result"
    }
   ],
   "source": [
    "p = figure(plot_width=800, plot_height=300)\n",
    "\n",
    "p.circle_cross(x, y, size=10, color='red', legend='circle_cross')\n",
    "p.line(x, y, color='blue', legend='line')\n",
    "p.triangle(y, x, color='gold', size=10, legend='triangle')"
   ]
  },
  {
   "cell_type": "code",
   "execution_count": 70,
   "metadata": {},
   "outputs": [],
   "source": [
    "# p.legend.click_policy='hide'\n"
   ]
  },
  {
   "cell_type": "code",
   "execution_count": 71,
   "metadata": {},
   "outputs": [
    {
     "data": {
      "text/html": [
       "\n",
       "\n",
       "\n",
       "\n",
       "\n",
       "\n",
       "  <div class=\"bk-root\" id=\"fc4d9936-8f01-4ef7-a6c0-b50215b5e912\"></div>\n"
      ]
     },
     "metadata": {},
     "output_type": "display_data"
    },
    {
     "data": {
      "application/javascript": [
       "(function(root) {\n",
       "  function embed_document(root) {\n",
       "    \n",
       "  var docs_json = {\"c8e3a367-ef2c-4eda-9eed-8282e53ec5d1\":{\"roots\":{\"references\":[{\"attributes\":{\"below\":[{\"id\":\"4797\",\"type\":\"LinearAxis\"}],\"left\":[{\"id\":\"4802\",\"type\":\"LinearAxis\"}],\"plot_height\":300,\"plot_width\":800,\"renderers\":[{\"id\":\"4797\",\"type\":\"LinearAxis\"},{\"id\":\"4801\",\"type\":\"Grid\"},{\"id\":\"4802\",\"type\":\"LinearAxis\"},{\"id\":\"4806\",\"type\":\"Grid\"},{\"id\":\"4815\",\"type\":\"BoxAnnotation\"},{\"id\":\"4834\",\"type\":\"Legend\"},{\"id\":\"4825\",\"type\":\"GlyphRenderer\"},{\"id\":\"4839\",\"type\":\"GlyphRenderer\"},{\"id\":\"4854\",\"type\":\"GlyphRenderer\"}],\"title\":{\"id\":\"4827\",\"type\":\"Title\"},\"toolbar\":{\"id\":\"4813\",\"type\":\"Toolbar\"},\"x_range\":{\"id\":\"4789\",\"type\":\"DataRange1d\"},\"x_scale\":{\"id\":\"4793\",\"type\":\"LinearScale\"},\"y_range\":{\"id\":\"4791\",\"type\":\"DataRange1d\"},\"y_scale\":{\"id\":\"4795\",\"type\":\"LinearScale\"}},\"id\":\"4788\",\"subtype\":\"Figure\",\"type\":\"Plot\"},{\"attributes\":{\"fill_alpha\":{\"value\":0.1},\"fill_color\":{\"value\":\"#1f77b4\"},\"line_alpha\":{\"value\":0.1},\"line_color\":{\"value\":\"#1f77b4\"},\"size\":{\"units\":\"screen\",\"value\":10},\"x\":{\"field\":\"x\"},\"y\":{\"field\":\"y\"}},\"id\":\"4824\",\"type\":\"CircleCross\"},{\"attributes\":{\"line_color\":\"blue\",\"x\":{\"field\":\"x\"},\"y\":{\"field\":\"y\"}},\"id\":\"4837\",\"type\":\"Line\"},{\"attributes\":{},\"id\":\"5000\",\"type\":\"UnionRenderers\"},{\"attributes\":{\"plot\":null,\"text\":\"\"},\"id\":\"4827\",\"type\":\"Title\"},{\"attributes\":{\"data_source\":{\"id\":\"4836\",\"type\":\"ColumnDataSource\"},\"glyph\":{\"id\":\"4837\",\"type\":\"Line\"},\"hover_glyph\":null,\"muted_glyph\":null,\"nonselection_glyph\":{\"id\":\"4838\",\"type\":\"Line\"},\"selection_glyph\":null,\"view\":{\"id\":\"4840\",\"type\":\"CDSView\"}},\"id\":\"4839\",\"type\":\"GlyphRenderer\"},{\"attributes\":{\"overlay\":{\"id\":\"4815\",\"type\":\"BoxAnnotation\"}},\"id\":\"4809\",\"type\":\"BoxZoomTool\"},{\"attributes\":{\"fill_color\":{\"value\":\"gold\"},\"line_color\":{\"value\":\"gold\"},\"size\":{\"units\":\"screen\",\"value\":10},\"x\":{\"field\":\"x\"},\"y\":{\"field\":\"y\"}},\"id\":\"4852\",\"type\":\"Triangle\"},{\"attributes\":{\"data_source\":{\"id\":\"4851\",\"type\":\"ColumnDataSource\"},\"glyph\":{\"id\":\"4852\",\"type\":\"Triangle\"},\"hover_glyph\":null,\"muted_glyph\":null,\"nonselection_glyph\":{\"id\":\"4853\",\"type\":\"Triangle\"},\"selection_glyph\":null,\"view\":{\"id\":\"4855\",\"type\":\"CDSView\"}},\"id\":\"4854\",\"type\":\"GlyphRenderer\"},{\"attributes\":{},\"id\":\"4811\",\"type\":\"ResetTool\"},{\"attributes\":{\"callback\":null},\"id\":\"4789\",\"type\":\"DataRange1d\"},{\"attributes\":{\"fill_alpha\":{\"value\":0.1},\"fill_color\":{\"value\":\"#1f77b4\"},\"line_alpha\":{\"value\":0.1},\"line_color\":{\"value\":\"#1f77b4\"},\"size\":{\"units\":\"screen\",\"value\":10},\"x\":{\"field\":\"x\"},\"y\":{\"field\":\"y\"}},\"id\":\"4853\",\"type\":\"Triangle\"},{\"attributes\":{\"callback\":null,\"data\":{\"x\":[2,4,6,8],\"y\":[1,3,5,7]},\"selected\":{\"id\":\"4999\",\"type\":\"Selection\"},\"selection_policy\":{\"id\":\"5000\",\"type\":\"UnionRenderers\"}},\"id\":\"4851\",\"type\":\"ColumnDataSource\"},{\"attributes\":{},\"id\":\"4848\",\"type\":\"Selection\"},{\"attributes\":{},\"id\":\"4812\",\"type\":\"HelpTool\"},{\"attributes\":{\"source\":{\"id\":\"4836\",\"type\":\"ColumnDataSource\"}},\"id\":\"4840\",\"type\":\"CDSView\"},{\"attributes\":{\"dimension\":1,\"plot\":{\"id\":\"4788\",\"subtype\":\"Figure\",\"type\":\"Plot\"},\"ticker\":{\"id\":\"4803\",\"type\":\"BasicTicker\"}},\"id\":\"4806\",\"type\":\"Grid\"},{\"attributes\":{\"active_drag\":\"auto\",\"active_inspect\":\"auto\",\"active_multi\":null,\"active_scroll\":\"auto\",\"active_tap\":\"auto\",\"tools\":[{\"id\":\"4807\",\"type\":\"PanTool\"},{\"id\":\"4808\",\"type\":\"WheelZoomTool\"},{\"id\":\"4809\",\"type\":\"BoxZoomTool\"},{\"id\":\"4810\",\"type\":\"SaveTool\"},{\"id\":\"4811\",\"type\":\"ResetTool\"},{\"id\":\"4812\",\"type\":\"HelpTool\"}]},\"id\":\"4813\",\"type\":\"Toolbar\"},{\"attributes\":{\"label\":{\"value\":\"triangle\"},\"renderers\":[{\"id\":\"4854\",\"type\":\"GlyphRenderer\"}]},\"id\":\"4867\",\"type\":\"LegendItem\"},{\"attributes\":{\"line_alpha\":0.1,\"line_color\":\"#1f77b4\",\"x\":{\"field\":\"x\"},\"y\":{\"field\":\"y\"}},\"id\":\"4838\",\"type\":\"Line\"},{\"attributes\":{},\"id\":\"4849\",\"type\":\"UnionRenderers\"},{\"attributes\":{\"label\":{\"value\":\"circle_cross\"},\"renderers\":[{\"id\":\"4825\",\"type\":\"GlyphRenderer\"}]},\"id\":\"4835\",\"type\":\"LegendItem\"},{\"attributes\":{},\"id\":\"4798\",\"type\":\"BasicTicker\"},{\"attributes\":{},\"id\":\"4808\",\"type\":\"WheelZoomTool\"},{\"attributes\":{},\"id\":\"4803\",\"type\":\"BasicTicker\"},{\"attributes\":{\"formatter\":{\"id\":\"4832\",\"type\":\"BasicTickFormatter\"},\"plot\":{\"id\":\"4788\",\"subtype\":\"Figure\",\"type\":\"Plot\"},\"ticker\":{\"id\":\"4803\",\"type\":\"BasicTicker\"}},\"id\":\"4802\",\"type\":\"LinearAxis\"},{\"attributes\":{\"source\":{\"id\":\"4851\",\"type\":\"ColumnDataSource\"}},\"id\":\"4855\",\"type\":\"CDSView\"},{\"attributes\":{\"formatter\":{\"id\":\"4830\",\"type\":\"BasicTickFormatter\"},\"plot\":{\"id\":\"4788\",\"subtype\":\"Figure\",\"type\":\"Plot\"},\"ticker\":{\"id\":\"4798\",\"type\":\"BasicTicker\"}},\"id\":\"4797\",\"type\":\"LinearAxis\"},{\"attributes\":{},\"id\":\"4866\",\"type\":\"UnionRenderers\"},{\"attributes\":{},\"id\":\"4793\",\"type\":\"LinearScale\"},{\"attributes\":{\"source\":{\"id\":\"4822\",\"type\":\"ColumnDataSource\"}},\"id\":\"4826\",\"type\":\"CDSView\"},{\"attributes\":{\"fill_color\":{\"value\":\"red\"},\"line_color\":{\"value\":\"red\"},\"size\":{\"units\":\"screen\",\"value\":10},\"x\":{\"field\":\"x\"},\"y\":{\"field\":\"y\"}},\"id\":\"4823\",\"type\":\"CircleCross\"},{\"attributes\":{},\"id\":\"4865\",\"type\":\"Selection\"},{\"attributes\":{},\"id\":\"4795\",\"type\":\"LinearScale\"},{\"attributes\":{},\"id\":\"4832\",\"type\":\"BasicTickFormatter\"},{\"attributes\":{},\"id\":\"4807\",\"type\":\"PanTool\"},{\"attributes\":{\"label\":{\"value\":\"line\"},\"renderers\":[{\"id\":\"4839\",\"type\":\"GlyphRenderer\"}]},\"id\":\"4850\",\"type\":\"LegendItem\"},{\"attributes\":{\"items\":[{\"id\":\"4835\",\"type\":\"LegendItem\"},{\"id\":\"4850\",\"type\":\"LegendItem\"},{\"id\":\"4867\",\"type\":\"LegendItem\"}],\"plot\":{\"id\":\"4788\",\"subtype\":\"Figure\",\"type\":\"Plot\"}},\"id\":\"4834\",\"type\":\"Legend\"},{\"attributes\":{},\"id\":\"4999\",\"type\":\"Selection\"},{\"attributes\":{\"callback\":null,\"data\":{\"x\":[1,3,5,7],\"y\":[2,4,6,8]},\"selected\":{\"id\":\"4848\",\"type\":\"Selection\"},\"selection_policy\":{\"id\":\"4849\",\"type\":\"UnionRenderers\"}},\"id\":\"4822\",\"type\":\"ColumnDataSource\"},{\"attributes\":{\"callback\":null},\"id\":\"4791\",\"type\":\"DataRange1d\"},{\"attributes\":{},\"id\":\"4810\",\"type\":\"SaveTool\"},{\"attributes\":{\"bottom_units\":\"screen\",\"fill_alpha\":{\"value\":0.5},\"fill_color\":{\"value\":\"lightgrey\"},\"left_units\":\"screen\",\"level\":\"overlay\",\"line_alpha\":{\"value\":1.0},\"line_color\":{\"value\":\"black\"},\"line_dash\":[4,4],\"line_width\":{\"value\":2},\"plot\":null,\"render_mode\":\"css\",\"right_units\":\"screen\",\"top_units\":\"screen\"},\"id\":\"4815\",\"type\":\"BoxAnnotation\"},{\"attributes\":{\"plot\":{\"id\":\"4788\",\"subtype\":\"Figure\",\"type\":\"Plot\"},\"ticker\":{\"id\":\"4798\",\"type\":\"BasicTicker\"}},\"id\":\"4801\",\"type\":\"Grid\"},{\"attributes\":{\"data_source\":{\"id\":\"4822\",\"type\":\"ColumnDataSource\"},\"glyph\":{\"id\":\"4823\",\"type\":\"CircleCross\"},\"hover_glyph\":null,\"muted_glyph\":null,\"nonselection_glyph\":{\"id\":\"4824\",\"type\":\"CircleCross\"},\"selection_glyph\":null,\"view\":{\"id\":\"4826\",\"type\":\"CDSView\"}},\"id\":\"4825\",\"type\":\"GlyphRenderer\"},{\"attributes\":{},\"id\":\"4830\",\"type\":\"BasicTickFormatter\"},{\"attributes\":{\"callback\":null,\"data\":{\"x\":[1,3,5,7],\"y\":[2,4,6,8]},\"selected\":{\"id\":\"4865\",\"type\":\"Selection\"},\"selection_policy\":{\"id\":\"4866\",\"type\":\"UnionRenderers\"}},\"id\":\"4836\",\"type\":\"ColumnDataSource\"}],\"root_ids\":[\"4788\"]},\"title\":\"Bokeh Application\",\"version\":\"1.0.1\"}};\n",
       "  var render_items = [{\"docid\":\"c8e3a367-ef2c-4eda-9eed-8282e53ec5d1\",\"roots\":{\"4788\":\"fc4d9936-8f01-4ef7-a6c0-b50215b5e912\"}}];\n",
       "  root.Bokeh.embed.embed_items_notebook(docs_json, render_items);\n",
       "\n",
       "  }\n",
       "  if (root.Bokeh !== undefined) {\n",
       "    embed_document(root);\n",
       "  } else {\n",
       "    var attempts = 0;\n",
       "    var timer = setInterval(function(root) {\n",
       "      if (root.Bokeh !== undefined) {\n",
       "        embed_document(root);\n",
       "        clearInterval(timer);\n",
       "      }\n",
       "      attempts++;\n",
       "      if (attempts > 100) {\n",
       "        console.log(\"Bokeh: ERROR: Unable to run BokehJS code because BokehJS library is missing\");\n",
       "        clearInterval(timer);\n",
       "      }\n",
       "    }, 10, root)\n",
       "  }\n",
       "})(window);"
      ],
      "application/vnd.bokehjs_exec.v0+json": ""
     },
     "metadata": {
      "application/vnd.bokehjs_exec.v0+json": {
       "id": "4788"
      }
     },
     "output_type": "display_data"
    }
   ],
   "source": [
    "show(p)"
   ]
  },
  {
   "cell_type": "code",
   "execution_count": 72,
   "metadata": {},
   "outputs": [],
   "source": [
    "import pandas as pd"
   ]
  },
  {
   "cell_type": "code",
   "execution_count": 73,
   "metadata": {},
   "outputs": [],
   "source": [
    "filename = '/Users/seeni-2328/Documents/Seeni/Datasets/programming-historian/visualizing-with-bokeh/thor_wwii.csv'\n",
    "df = pd.read_csv(filename)"
   ]
  },
  {
   "cell_type": "code",
   "execution_count": 74,
   "metadata": {},
   "outputs": [
    {
     "data": {
      "text/plain": [
       "\"['MSNDATE', 'THEATER', 'COUNTRY_FLYING_MISSION', 'NAF', 'UNIT_ID', 'AIRCRAFT_NAME', 'AC_ATTACKING', 'TAKEOFF_BASE', 'TAKEOFF_COUNTRY', 'TAKEOFF_LATITUDE', 'TAKEOFF_LONGITUDE', 'TGT_COUNTRY', 'TGT_LOCATION', 'TGT_LATITUDE', 'TGT_LONGITUDE', 'TONS_HE', 'TONS_IC', 'TONS_FRAG', 'TOTAL_TONS']\""
      ]
     },
     "execution_count": 74,
     "metadata": {},
     "output_type": "execute_result"
    }
   ],
   "source": [
    "str(df.columns.tolist())"
   ]
  },
  {
   "cell_type": "code",
   "execution_count": 75,
   "metadata": {},
   "outputs": [
    {
     "data": {
      "text/html": [
       "\n",
       "    <div class=\"bk-root\">\n",
       "        <a href=\"https://bokeh.pydata.org\" target=\"_blank\" class=\"bk-logo bk-logo-small bk-logo-notebook\"></a>\n",
       "        <span id=\"5079\">Loading BokehJS ...</span>\n",
       "    </div>"
      ]
     },
     "metadata": {},
     "output_type": "display_data"
    },
    {
     "data": {
      "application/javascript": [
       "\n",
       "(function(root) {\n",
       "  function now() {\n",
       "    return new Date();\n",
       "  }\n",
       "\n",
       "  var force = true;\n",
       "\n",
       "  if (typeof (root._bokeh_onload_callbacks) === \"undefined\" || force === true) {\n",
       "    root._bokeh_onload_callbacks = [];\n",
       "    root._bokeh_is_loading = undefined;\n",
       "  }\n",
       "\n",
       "  var JS_MIME_TYPE = 'application/javascript';\n",
       "  var HTML_MIME_TYPE = 'text/html';\n",
       "  var EXEC_MIME_TYPE = 'application/vnd.bokehjs_exec.v0+json';\n",
       "  var CLASS_NAME = 'output_bokeh rendered_html';\n",
       "\n",
       "  /**\n",
       "   * Render data to the DOM node\n",
       "   */\n",
       "  function render(props, node) {\n",
       "    var script = document.createElement(\"script\");\n",
       "    node.appendChild(script);\n",
       "  }\n",
       "\n",
       "  /**\n",
       "   * Handle when an output is cleared or removed\n",
       "   */\n",
       "  function handleClearOutput(event, handle) {\n",
       "    var cell = handle.cell;\n",
       "\n",
       "    var id = cell.output_area._bokeh_element_id;\n",
       "    var server_id = cell.output_area._bokeh_server_id;\n",
       "    // Clean up Bokeh references\n",
       "    if (id != null && id in Bokeh.index) {\n",
       "      Bokeh.index[id].model.document.clear();\n",
       "      delete Bokeh.index[id];\n",
       "    }\n",
       "\n",
       "    if (server_id !== undefined) {\n",
       "      // Clean up Bokeh references\n",
       "      var cmd = \"from bokeh.io.state import curstate; print(curstate().uuid_to_server['\" + server_id + \"'].get_sessions()[0].document.roots[0]._id)\";\n",
       "      cell.notebook.kernel.execute(cmd, {\n",
       "        iopub: {\n",
       "          output: function(msg) {\n",
       "            var id = msg.content.text.trim();\n",
       "            if (id in Bokeh.index) {\n",
       "              Bokeh.index[id].model.document.clear();\n",
       "              delete Bokeh.index[id];\n",
       "            }\n",
       "          }\n",
       "        }\n",
       "      });\n",
       "      // Destroy server and session\n",
       "      var cmd = \"import bokeh.io.notebook as ion; ion.destroy_server('\" + server_id + \"')\";\n",
       "      cell.notebook.kernel.execute(cmd);\n",
       "    }\n",
       "  }\n",
       "\n",
       "  /**\n",
       "   * Handle when a new output is added\n",
       "   */\n",
       "  function handleAddOutput(event, handle) {\n",
       "    var output_area = handle.output_area;\n",
       "    var output = handle.output;\n",
       "\n",
       "    // limit handleAddOutput to display_data with EXEC_MIME_TYPE content only\n",
       "    if ((output.output_type != \"display_data\") || (!output.data.hasOwnProperty(EXEC_MIME_TYPE))) {\n",
       "      return\n",
       "    }\n",
       "\n",
       "    var toinsert = output_area.element.find(\".\" + CLASS_NAME.split(' ')[0]);\n",
       "\n",
       "    if (output.metadata[EXEC_MIME_TYPE][\"id\"] !== undefined) {\n",
       "      toinsert[toinsert.length - 1].firstChild.textContent = output.data[JS_MIME_TYPE];\n",
       "      // store reference to embed id on output_area\n",
       "      output_area._bokeh_element_id = output.metadata[EXEC_MIME_TYPE][\"id\"];\n",
       "    }\n",
       "    if (output.metadata[EXEC_MIME_TYPE][\"server_id\"] !== undefined) {\n",
       "      var bk_div = document.createElement(\"div\");\n",
       "      bk_div.innerHTML = output.data[HTML_MIME_TYPE];\n",
       "      var script_attrs = bk_div.children[0].attributes;\n",
       "      for (var i = 0; i < script_attrs.length; i++) {\n",
       "        toinsert[toinsert.length - 1].firstChild.setAttribute(script_attrs[i].name, script_attrs[i].value);\n",
       "      }\n",
       "      // store reference to server id on output_area\n",
       "      output_area._bokeh_server_id = output.metadata[EXEC_MIME_TYPE][\"server_id\"];\n",
       "    }\n",
       "  }\n",
       "\n",
       "  function register_renderer(events, OutputArea) {\n",
       "\n",
       "    function append_mime(data, metadata, element) {\n",
       "      // create a DOM node to render to\n",
       "      var toinsert = this.create_output_subarea(\n",
       "        metadata,\n",
       "        CLASS_NAME,\n",
       "        EXEC_MIME_TYPE\n",
       "      );\n",
       "      this.keyboard_manager.register_events(toinsert);\n",
       "      // Render to node\n",
       "      var props = {data: data, metadata: metadata[EXEC_MIME_TYPE]};\n",
       "      render(props, toinsert[toinsert.length - 1]);\n",
       "      element.append(toinsert);\n",
       "      return toinsert\n",
       "    }\n",
       "\n",
       "    /* Handle when an output is cleared or removed */\n",
       "    events.on('clear_output.CodeCell', handleClearOutput);\n",
       "    events.on('delete.Cell', handleClearOutput);\n",
       "\n",
       "    /* Handle when a new output is added */\n",
       "    events.on('output_added.OutputArea', handleAddOutput);\n",
       "\n",
       "    /**\n",
       "     * Register the mime type and append_mime function with output_area\n",
       "     */\n",
       "    OutputArea.prototype.register_mime_type(EXEC_MIME_TYPE, append_mime, {\n",
       "      /* Is output safe? */\n",
       "      safe: true,\n",
       "      /* Index of renderer in `output_area.display_order` */\n",
       "      index: 0\n",
       "    });\n",
       "  }\n",
       "\n",
       "  // register the mime type if in Jupyter Notebook environment and previously unregistered\n",
       "  if (root.Jupyter !== undefined) {\n",
       "    var events = require('base/js/events');\n",
       "    var OutputArea = require('notebook/js/outputarea').OutputArea;\n",
       "\n",
       "    if (OutputArea.prototype.mime_types().indexOf(EXEC_MIME_TYPE) == -1) {\n",
       "      register_renderer(events, OutputArea);\n",
       "    }\n",
       "  }\n",
       "\n",
       "  \n",
       "  if (typeof (root._bokeh_timeout) === \"undefined\" || force === true) {\n",
       "    root._bokeh_timeout = Date.now() + 5000;\n",
       "    root._bokeh_failed_load = false;\n",
       "  }\n",
       "\n",
       "  var NB_LOAD_WARNING = {'data': {'text/html':\n",
       "     \"<div style='background-color: #fdd'>\\n\"+\n",
       "     \"<p>\\n\"+\n",
       "     \"BokehJS does not appear to have successfully loaded. If loading BokehJS from CDN, this \\n\"+\n",
       "     \"may be due to a slow or bad network connection. Possible fixes:\\n\"+\n",
       "     \"</p>\\n\"+\n",
       "     \"<ul>\\n\"+\n",
       "     \"<li>re-rerun `output_notebook()` to attempt to load from CDN again, or</li>\\n\"+\n",
       "     \"<li>use INLINE resources instead, as so:</li>\\n\"+\n",
       "     \"</ul>\\n\"+\n",
       "     \"<code>\\n\"+\n",
       "     \"from bokeh.resources import INLINE\\n\"+\n",
       "     \"output_notebook(resources=INLINE)\\n\"+\n",
       "     \"</code>\\n\"+\n",
       "     \"</div>\"}};\n",
       "\n",
       "  function display_loaded() {\n",
       "    var el = document.getElementById(\"5079\");\n",
       "    if (el != null) {\n",
       "      el.textContent = \"BokehJS is loading...\";\n",
       "    }\n",
       "    if (root.Bokeh !== undefined) {\n",
       "      if (el != null) {\n",
       "        el.textContent = \"BokehJS \" + root.Bokeh.version + \" successfully loaded.\";\n",
       "      }\n",
       "    } else if (Date.now() < root._bokeh_timeout) {\n",
       "      setTimeout(display_loaded, 100)\n",
       "    }\n",
       "  }\n",
       "\n",
       "\n",
       "  function run_callbacks() {\n",
       "    try {\n",
       "      root._bokeh_onload_callbacks.forEach(function(callback) { callback() });\n",
       "    }\n",
       "    finally {\n",
       "      delete root._bokeh_onload_callbacks\n",
       "    }\n",
       "    console.info(\"Bokeh: all callbacks have finished\");\n",
       "  }\n",
       "\n",
       "  function load_libs(js_urls, callback) {\n",
       "    root._bokeh_onload_callbacks.push(callback);\n",
       "    if (root._bokeh_is_loading > 0) {\n",
       "      console.log(\"Bokeh: BokehJS is being loaded, scheduling callback at\", now());\n",
       "      return null;\n",
       "    }\n",
       "    if (js_urls == null || js_urls.length === 0) {\n",
       "      run_callbacks();\n",
       "      return null;\n",
       "    }\n",
       "    console.log(\"Bokeh: BokehJS not loaded, scheduling load and callback at\", now());\n",
       "    root._bokeh_is_loading = js_urls.length;\n",
       "    for (var i = 0; i < js_urls.length; i++) {\n",
       "      var url = js_urls[i];\n",
       "      var s = document.createElement('script');\n",
       "      s.src = url;\n",
       "      s.async = false;\n",
       "      s.onreadystatechange = s.onload = function() {\n",
       "        root._bokeh_is_loading--;\n",
       "        if (root._bokeh_is_loading === 0) {\n",
       "          console.log(\"Bokeh: all BokehJS libraries loaded\");\n",
       "          run_callbacks()\n",
       "        }\n",
       "      };\n",
       "      s.onerror = function() {\n",
       "        console.warn(\"failed to load library \" + url);\n",
       "      };\n",
       "      console.log(\"Bokeh: injecting script tag for BokehJS library: \", url);\n",
       "      document.getElementsByTagName(\"head\")[0].appendChild(s);\n",
       "    }\n",
       "  };var element = document.getElementById(\"5079\");\n",
       "  if (element == null) {\n",
       "    console.log(\"Bokeh: ERROR: autoload.js configured with elementid '5079' but no matching script tag was found. \")\n",
       "    return false;\n",
       "  }\n",
       "\n",
       "  var js_urls = [\"https://cdn.pydata.org/bokeh/release/bokeh-1.0.1.min.js\", \"https://cdn.pydata.org/bokeh/release/bokeh-widgets-1.0.1.min.js\", \"https://cdn.pydata.org/bokeh/release/bokeh-tables-1.0.1.min.js\", \"https://cdn.pydata.org/bokeh/release/bokeh-gl-1.0.1.min.js\"];\n",
       "\n",
       "  var inline_js = [\n",
       "    function(Bokeh) {\n",
       "      Bokeh.set_log_level(\"info\");\n",
       "    },\n",
       "    \n",
       "    function(Bokeh) {\n",
       "      \n",
       "    },\n",
       "    function(Bokeh) {\n",
       "      console.log(\"Bokeh: injecting CSS: https://cdn.pydata.org/bokeh/release/bokeh-1.0.1.min.css\");\n",
       "      Bokeh.embed.inject_css(\"https://cdn.pydata.org/bokeh/release/bokeh-1.0.1.min.css\");\n",
       "      console.log(\"Bokeh: injecting CSS: https://cdn.pydata.org/bokeh/release/bokeh-widgets-1.0.1.min.css\");\n",
       "      Bokeh.embed.inject_css(\"https://cdn.pydata.org/bokeh/release/bokeh-widgets-1.0.1.min.css\");\n",
       "      console.log(\"Bokeh: injecting CSS: https://cdn.pydata.org/bokeh/release/bokeh-tables-1.0.1.min.css\");\n",
       "      Bokeh.embed.inject_css(\"https://cdn.pydata.org/bokeh/release/bokeh-tables-1.0.1.min.css\");\n",
       "    }\n",
       "  ];\n",
       "\n",
       "  function run_inline_js() {\n",
       "    \n",
       "    if ((root.Bokeh !== undefined) || (force === true)) {\n",
       "      for (var i = 0; i < inline_js.length; i++) {\n",
       "        inline_js[i].call(root, root.Bokeh);\n",
       "      }if (force === true) {\n",
       "        display_loaded();\n",
       "      }} else if (Date.now() < root._bokeh_timeout) {\n",
       "      setTimeout(run_inline_js, 100);\n",
       "    } else if (!root._bokeh_failed_load) {\n",
       "      console.log(\"Bokeh: BokehJS failed to load within specified timeout.\");\n",
       "      root._bokeh_failed_load = true;\n",
       "    } else if (force !== true) {\n",
       "      var cell = $(document.getElementById(\"5079\")).parents('.cell').data().cell;\n",
       "      cell.output_area.append_execute_result(NB_LOAD_WARNING)\n",
       "    }\n",
       "\n",
       "  }\n",
       "\n",
       "  if (root._bokeh_is_loading === 0) {\n",
       "    console.log(\"Bokeh: BokehJS loaded, going straight to plotting\");\n",
       "    run_inline_js();\n",
       "  } else {\n",
       "    load_libs(js_urls, function() {\n",
       "      console.log(\"Bokeh: BokehJS plotting callback run at\", now());\n",
       "      run_inline_js();\n",
       "    });\n",
       "  }\n",
       "}(window));"
      ],
      "application/vnd.bokehjs_load.v0+json": "\n(function(root) {\n  function now() {\n    return new Date();\n  }\n\n  var force = true;\n\n  if (typeof (root._bokeh_onload_callbacks) === \"undefined\" || force === true) {\n    root._bokeh_onload_callbacks = [];\n    root._bokeh_is_loading = undefined;\n  }\n\n  \n\n  \n  if (typeof (root._bokeh_timeout) === \"undefined\" || force === true) {\n    root._bokeh_timeout = Date.now() + 5000;\n    root._bokeh_failed_load = false;\n  }\n\n  var NB_LOAD_WARNING = {'data': {'text/html':\n     \"<div style='background-color: #fdd'>\\n\"+\n     \"<p>\\n\"+\n     \"BokehJS does not appear to have successfully loaded. If loading BokehJS from CDN, this \\n\"+\n     \"may be due to a slow or bad network connection. Possible fixes:\\n\"+\n     \"</p>\\n\"+\n     \"<ul>\\n\"+\n     \"<li>re-rerun `output_notebook()` to attempt to load from CDN again, or</li>\\n\"+\n     \"<li>use INLINE resources instead, as so:</li>\\n\"+\n     \"</ul>\\n\"+\n     \"<code>\\n\"+\n     \"from bokeh.resources import INLINE\\n\"+\n     \"output_notebook(resources=INLINE)\\n\"+\n     \"</code>\\n\"+\n     \"</div>\"}};\n\n  function display_loaded() {\n    var el = document.getElementById(\"5079\");\n    if (el != null) {\n      el.textContent = \"BokehJS is loading...\";\n    }\n    if (root.Bokeh !== undefined) {\n      if (el != null) {\n        el.textContent = \"BokehJS \" + root.Bokeh.version + \" successfully loaded.\";\n      }\n    } else if (Date.now() < root._bokeh_timeout) {\n      setTimeout(display_loaded, 100)\n    }\n  }\n\n\n  function run_callbacks() {\n    try {\n      root._bokeh_onload_callbacks.forEach(function(callback) { callback() });\n    }\n    finally {\n      delete root._bokeh_onload_callbacks\n    }\n    console.info(\"Bokeh: all callbacks have finished\");\n  }\n\n  function load_libs(js_urls, callback) {\n    root._bokeh_onload_callbacks.push(callback);\n    if (root._bokeh_is_loading > 0) {\n      console.log(\"Bokeh: BokehJS is being loaded, scheduling callback at\", now());\n      return null;\n    }\n    if (js_urls == null || js_urls.length === 0) {\n      run_callbacks();\n      return null;\n    }\n    console.log(\"Bokeh: BokehJS not loaded, scheduling load and callback at\", now());\n    root._bokeh_is_loading = js_urls.length;\n    for (var i = 0; i < js_urls.length; i++) {\n      var url = js_urls[i];\n      var s = document.createElement('script');\n      s.src = url;\n      s.async = false;\n      s.onreadystatechange = s.onload = function() {\n        root._bokeh_is_loading--;\n        if (root._bokeh_is_loading === 0) {\n          console.log(\"Bokeh: all BokehJS libraries loaded\");\n          run_callbacks()\n        }\n      };\n      s.onerror = function() {\n        console.warn(\"failed to load library \" + url);\n      };\n      console.log(\"Bokeh: injecting script tag for BokehJS library: \", url);\n      document.getElementsByTagName(\"head\")[0].appendChild(s);\n    }\n  };var element = document.getElementById(\"5079\");\n  if (element == null) {\n    console.log(\"Bokeh: ERROR: autoload.js configured with elementid '5079' but no matching script tag was found. \")\n    return false;\n  }\n\n  var js_urls = [\"https://cdn.pydata.org/bokeh/release/bokeh-1.0.1.min.js\", \"https://cdn.pydata.org/bokeh/release/bokeh-widgets-1.0.1.min.js\", \"https://cdn.pydata.org/bokeh/release/bokeh-tables-1.0.1.min.js\", \"https://cdn.pydata.org/bokeh/release/bokeh-gl-1.0.1.min.js\"];\n\n  var inline_js = [\n    function(Bokeh) {\n      Bokeh.set_log_level(\"info\");\n    },\n    \n    function(Bokeh) {\n      \n    },\n    function(Bokeh) {\n      console.log(\"Bokeh: injecting CSS: https://cdn.pydata.org/bokeh/release/bokeh-1.0.1.min.css\");\n      Bokeh.embed.inject_css(\"https://cdn.pydata.org/bokeh/release/bokeh-1.0.1.min.css\");\n      console.log(\"Bokeh: injecting CSS: https://cdn.pydata.org/bokeh/release/bokeh-widgets-1.0.1.min.css\");\n      Bokeh.embed.inject_css(\"https://cdn.pydata.org/bokeh/release/bokeh-widgets-1.0.1.min.css\");\n      console.log(\"Bokeh: injecting CSS: https://cdn.pydata.org/bokeh/release/bokeh-tables-1.0.1.min.css\");\n      Bokeh.embed.inject_css(\"https://cdn.pydata.org/bokeh/release/bokeh-tables-1.0.1.min.css\");\n    }\n  ];\n\n  function run_inline_js() {\n    \n    if ((root.Bokeh !== undefined) || (force === true)) {\n      for (var i = 0; i < inline_js.length; i++) {\n        inline_js[i].call(root, root.Bokeh);\n      }if (force === true) {\n        display_loaded();\n      }} else if (Date.now() < root._bokeh_timeout) {\n      setTimeout(run_inline_js, 100);\n    } else if (!root._bokeh_failed_load) {\n      console.log(\"Bokeh: BokehJS failed to load within specified timeout.\");\n      root._bokeh_failed_load = true;\n    } else if (force !== true) {\n      var cell = $(document.getElementById(\"5079\")).parents('.cell').data().cell;\n      cell.output_area.append_execute_result(NB_LOAD_WARNING)\n    }\n\n  }\n\n  if (root._bokeh_is_loading === 0) {\n    console.log(\"Bokeh: BokehJS loaded, going straight to plotting\");\n    run_inline_js();\n  } else {\n    load_libs(js_urls, function() {\n      console.log(\"Bokeh: BokehJS plotting callback run at\", now());\n      run_inline_js();\n    });\n  }\n}(window));"
     },
     "metadata": {},
     "output_type": "display_data"
    }
   ],
   "source": [
    "from bokeh.models import ColumnDataSource\n",
    "from bokeh.models.tools import HoverTool\n",
    "\n",
    "# output_file('columndatasource_example.html')\n",
    "output_notebook()"
   ]
  },
  {
   "cell_type": "code",
   "execution_count": 76,
   "metadata": {},
   "outputs": [],
   "source": [
    "sample = df.sample(50)\n",
    "source = ColumnDataSource(sample)"
   ]
  },
  {
   "cell_type": "code",
   "execution_count": 77,
   "metadata": {},
   "outputs": [
    {
     "data": {
      "text/html": [
       "<div>\n",
       "<style scoped>\n",
       "    .dataframe tbody tr th:only-of-type {\n",
       "        vertical-align: middle;\n",
       "    }\n",
       "\n",
       "    .dataframe tbody tr th {\n",
       "        vertical-align: top;\n",
       "    }\n",
       "\n",
       "    .dataframe thead th {\n",
       "        text-align: right;\n",
       "    }\n",
       "</style>\n",
       "<table border=\"1\" class=\"dataframe\">\n",
       "  <thead>\n",
       "    <tr style=\"text-align: right;\">\n",
       "      <th></th>\n",
       "      <th>MSNDATE</th>\n",
       "      <th>THEATER</th>\n",
       "      <th>COUNTRY_FLYING_MISSION</th>\n",
       "      <th>NAF</th>\n",
       "      <th>UNIT_ID</th>\n",
       "      <th>AIRCRAFT_NAME</th>\n",
       "      <th>AC_ATTACKING</th>\n",
       "      <th>TAKEOFF_BASE</th>\n",
       "      <th>TAKEOFF_COUNTRY</th>\n",
       "      <th>TAKEOFF_LATITUDE</th>\n",
       "      <th>TAKEOFF_LONGITUDE</th>\n",
       "      <th>TGT_COUNTRY</th>\n",
       "      <th>TGT_LOCATION</th>\n",
       "      <th>TGT_LATITUDE</th>\n",
       "      <th>TGT_LONGITUDE</th>\n",
       "      <th>TONS_HE</th>\n",
       "      <th>TONS_IC</th>\n",
       "      <th>TONS_FRAG</th>\n",
       "      <th>TOTAL_TONS</th>\n",
       "    </tr>\n",
       "  </thead>\n",
       "  <tbody>\n",
       "    <tr>\n",
       "      <th>95897</th>\n",
       "      <td>07/31/1943</td>\n",
       "      <td>ETO</td>\n",
       "      <td>NaN</td>\n",
       "      <td>NaN</td>\n",
       "      <td>NaN</td>\n",
       "      <td>B26</td>\n",
       "      <td>NaN</td>\n",
       "      <td>NaN</td>\n",
       "      <td>NaN</td>\n",
       "      <td>NaN</td>\n",
       "      <td>NaN</td>\n",
       "      <td>FRANCE</td>\n",
       "      <td>ABBEVILLE</td>\n",
       "      <td>50.1000</td>\n",
       "      <td>1.8300</td>\n",
       "      <td>10.0</td>\n",
       "      <td>0.0</td>\n",
       "      <td>0.0</td>\n",
       "      <td>10.0</td>\n",
       "    </tr>\n",
       "    <tr>\n",
       "      <th>21166</th>\n",
       "      <td>12/10/1943</td>\n",
       "      <td>ETO</td>\n",
       "      <td>GREAT BRITAIN</td>\n",
       "      <td>RAF</td>\n",
       "      <td>NaN</td>\n",
       "      <td>LIGHT</td>\n",
       "      <td>1.0</td>\n",
       "      <td>NaN</td>\n",
       "      <td>NaN</td>\n",
       "      <td>NaN</td>\n",
       "      <td>NaN</td>\n",
       "      <td>GERMANY</td>\n",
       "      <td>FREFELD</td>\n",
       "      <td>51.3300</td>\n",
       "      <td>6.3700</td>\n",
       "      <td>1.0</td>\n",
       "      <td>0.0</td>\n",
       "      <td>0.0</td>\n",
       "      <td>1.0</td>\n",
       "    </tr>\n",
       "    <tr>\n",
       "      <th>76501</th>\n",
       "      <td>06/05/1944</td>\n",
       "      <td>ETO</td>\n",
       "      <td>GREAT BRITAIN</td>\n",
       "      <td>RAF</td>\n",
       "      <td>NaN</td>\n",
       "      <td>LIGHT</td>\n",
       "      <td>NaN</td>\n",
       "      <td>NaN</td>\n",
       "      <td>NaN</td>\n",
       "      <td>NaN</td>\n",
       "      <td>NaN</td>\n",
       "      <td>GERMANY</td>\n",
       "      <td>OSNABRUCK</td>\n",
       "      <td>52.2800</td>\n",
       "      <td>8.0500</td>\n",
       "      <td>5.0</td>\n",
       "      <td>0.0</td>\n",
       "      <td>0.0</td>\n",
       "      <td>5.0</td>\n",
       "    </tr>\n",
       "    <tr>\n",
       "      <th>72578</th>\n",
       "      <td>03/21/1945</td>\n",
       "      <td>PTO</td>\n",
       "      <td>USA</td>\n",
       "      <td>5 AF</td>\n",
       "      <td>3 FS</td>\n",
       "      <td>P51</td>\n",
       "      <td>8.0</td>\n",
       "      <td>NaN</td>\n",
       "      <td>NaN</td>\n",
       "      <td>NaN</td>\n",
       "      <td>NaN</td>\n",
       "      <td>PHILIPPINE ISLANDS</td>\n",
       "      <td>BAMBANG</td>\n",
       "      <td>14.1237</td>\n",
       "      <td>121.4153</td>\n",
       "      <td>4.0</td>\n",
       "      <td>0.0</td>\n",
       "      <td>0.0</td>\n",
       "      <td>4.0</td>\n",
       "    </tr>\n",
       "    <tr>\n",
       "      <th>124859</th>\n",
       "      <td>09/08/1944</td>\n",
       "      <td>ETO</td>\n",
       "      <td>NaN</td>\n",
       "      <td>NaN</td>\n",
       "      <td>NaN</td>\n",
       "      <td>B17</td>\n",
       "      <td>10.0</td>\n",
       "      <td>NaN</td>\n",
       "      <td>NaN</td>\n",
       "      <td>NaN</td>\n",
       "      <td>NaN</td>\n",
       "      <td>GERMANY</td>\n",
       "      <td>MAINZ</td>\n",
       "      <td>50.0000</td>\n",
       "      <td>8.2800</td>\n",
       "      <td>25.0</td>\n",
       "      <td>0.0</td>\n",
       "      <td>0.0</td>\n",
       "      <td>25.0</td>\n",
       "    </tr>\n",
       "  </tbody>\n",
       "</table>\n",
       "</div>"
      ],
      "text/plain": [
       "           MSNDATE THEATER COUNTRY_FLYING_MISSION   NAF UNIT_ID AIRCRAFT_NAME  \\\n",
       "95897   07/31/1943     ETO                    NaN   NaN     NaN           B26   \n",
       "21166   12/10/1943     ETO          GREAT BRITAIN   RAF     NaN         LIGHT   \n",
       "76501   06/05/1944     ETO          GREAT BRITAIN   RAF     NaN         LIGHT   \n",
       "72578   03/21/1945     PTO                    USA  5 AF    3 FS           P51   \n",
       "124859  09/08/1944     ETO                    NaN   NaN     NaN           B17   \n",
       "\n",
       "        AC_ATTACKING TAKEOFF_BASE TAKEOFF_COUNTRY  TAKEOFF_LATITUDE  \\\n",
       "95897            NaN          NaN             NaN               NaN   \n",
       "21166            1.0          NaN             NaN               NaN   \n",
       "76501            NaN          NaN             NaN               NaN   \n",
       "72578            8.0          NaN             NaN               NaN   \n",
       "124859          10.0          NaN             NaN               NaN   \n",
       "\n",
       "        TAKEOFF_LONGITUDE         TGT_COUNTRY TGT_LOCATION  TGT_LATITUDE  \\\n",
       "95897                 NaN              FRANCE    ABBEVILLE       50.1000   \n",
       "21166                 NaN             GERMANY      FREFELD       51.3300   \n",
       "76501                 NaN             GERMANY    OSNABRUCK       52.2800   \n",
       "72578                 NaN  PHILIPPINE ISLANDS      BAMBANG       14.1237   \n",
       "124859                NaN             GERMANY        MAINZ       50.0000   \n",
       "\n",
       "        TGT_LONGITUDE  TONS_HE  TONS_IC  TONS_FRAG  TOTAL_TONS  \n",
       "95897          1.8300     10.0      0.0        0.0        10.0  \n",
       "21166          6.3700      1.0      0.0        0.0         1.0  \n",
       "76501          8.0500      5.0      0.0        0.0         5.0  \n",
       "72578        121.4153      4.0      0.0        0.0         4.0  \n",
       "124859         8.2800     25.0      0.0        0.0        25.0  "
      ]
     },
     "execution_count": 77,
     "metadata": {},
     "output_type": "execute_result"
    }
   ],
   "source": [
    "sample.head()"
   ]
  },
  {
   "cell_type": "code",
   "execution_count": 78,
   "metadata": {},
   "outputs": [
    {
     "data": {
      "text/html": [
       "<div style=\"display: table;\"><div style=\"display: table-row;\"><div style=\"display: table-cell;\"><b title=\"bokeh.models.renderers.GlyphRenderer\">GlyphRenderer</b>(</div><div style=\"display: table-cell;\">id&nbsp;=&nbsp;'5118', <span id=\"5121\" style=\"cursor: pointer;\">&hellip;)</span></div></div><div class=\"5120\" style=\"display: none;\"><div style=\"display: table-cell;\"></div><div style=\"display: table-cell;\">data_source&nbsp;=&nbsp;ColumnDataSource(id='5080', ...),</div></div><div class=\"5120\" style=\"display: none;\"><div style=\"display: table-cell;\"></div><div style=\"display: table-cell;\">glyph&nbsp;=&nbsp;Circle(id='5116', ...),</div></div><div class=\"5120\" style=\"display: none;\"><div style=\"display: table-cell;\"></div><div style=\"display: table-cell;\">hover_glyph&nbsp;=&nbsp;None,</div></div><div class=\"5120\" style=\"display: none;\"><div style=\"display: table-cell;\"></div><div style=\"display: table-cell;\">js_event_callbacks&nbsp;=&nbsp;{},</div></div><div class=\"5120\" style=\"display: none;\"><div style=\"display: table-cell;\"></div><div style=\"display: table-cell;\">js_property_callbacks&nbsp;=&nbsp;{},</div></div><div class=\"5120\" style=\"display: none;\"><div style=\"display: table-cell;\"></div><div style=\"display: table-cell;\">level&nbsp;=&nbsp;'glyph',</div></div><div class=\"5120\" style=\"display: none;\"><div style=\"display: table-cell;\"></div><div style=\"display: table-cell;\">muted&nbsp;=&nbsp;False,</div></div><div class=\"5120\" style=\"display: none;\"><div style=\"display: table-cell;\"></div><div style=\"display: table-cell;\">muted_glyph&nbsp;=&nbsp;None,</div></div><div class=\"5120\" style=\"display: none;\"><div style=\"display: table-cell;\"></div><div style=\"display: table-cell;\">name&nbsp;=&nbsp;None,</div></div><div class=\"5120\" style=\"display: none;\"><div style=\"display: table-cell;\"></div><div style=\"display: table-cell;\">nonselection_glyph&nbsp;=&nbsp;Circle(id='5117', ...),</div></div><div class=\"5120\" style=\"display: none;\"><div style=\"display: table-cell;\"></div><div style=\"display: table-cell;\">selection_glyph&nbsp;=&nbsp;None,</div></div><div class=\"5120\" style=\"display: none;\"><div style=\"display: table-cell;\"></div><div style=\"display: table-cell;\">subscribed_events&nbsp;=&nbsp;[],</div></div><div class=\"5120\" style=\"display: none;\"><div style=\"display: table-cell;\"></div><div style=\"display: table-cell;\">tags&nbsp;=&nbsp;[],</div></div><div class=\"5120\" style=\"display: none;\"><div style=\"display: table-cell;\"></div><div style=\"display: table-cell;\">view&nbsp;=&nbsp;CDSView(id='5119', ...),</div></div><div class=\"5120\" style=\"display: none;\"><div style=\"display: table-cell;\"></div><div style=\"display: table-cell;\">visible&nbsp;=&nbsp;True,</div></div><div class=\"5120\" style=\"display: none;\"><div style=\"display: table-cell;\"></div><div style=\"display: table-cell;\">x_range_name&nbsp;=&nbsp;'default',</div></div><div class=\"5120\" style=\"display: none;\"><div style=\"display: table-cell;\"></div><div style=\"display: table-cell;\">y_range_name&nbsp;=&nbsp;'default')</div></div></div>\n",
       "<script>\n",
       "(function() {\n",
       "  var expanded = false;\n",
       "  var ellipsis = document.getElementById(\"5121\");\n",
       "  ellipsis.addEventListener(\"click\", function() {\n",
       "    var rows = document.getElementsByClassName(\"5120\");\n",
       "    for (var i = 0; i < rows.length; i++) {\n",
       "      var el = rows[i];\n",
       "      el.style.display = expanded ? \"none\" : \"table-row\";\n",
       "    }\n",
       "    ellipsis.innerHTML = expanded ? \"&hellip;)\" : \"&lsaquo;&lsaquo;&lsaquo;\";\n",
       "    expanded = !expanded;\n",
       "  });\n",
       "})();\n",
       "</script>\n"
      ],
      "text/plain": [
       "GlyphRenderer(id='5118', ...)"
      ]
     },
     "execution_count": 78,
     "metadata": {},
     "output_type": "execute_result"
    }
   ],
   "source": [
    "p = figure(plot_width=800, plot_height=300)\n",
    "p.circle(x='TOTAL_TONS', y='AC_ATTACKING', source=source, size=10, color='green')"
   ]
  },
  {
   "cell_type": "code",
   "execution_count": 79,
   "metadata": {},
   "outputs": [],
   "source": [
    "p.title.text = 'Attacking Aircraft and Munitions Dropped'\n",
    "p.xaxis.axis_label = 'Tons of Munitions Dropped'\n",
    "p.yaxis.axis_label = 'Number of Attacking Aircraft'"
   ]
  },
  {
   "cell_type": "code",
   "execution_count": 80,
   "metadata": {},
   "outputs": [
    {
     "data": {
      "text/html": [
       "\n",
       "\n",
       "\n",
       "\n",
       "\n",
       "\n",
       "  <div class=\"bk-root\" id=\"e8e373ea-990e-4570-9fed-591461b90bd6\"></div>\n"
      ]
     },
     "metadata": {},
     "output_type": "display_data"
    },
    {
     "data": {
      "application/javascript": [
       "(function(root) {\n",
       "  function embed_document(root) {\n",
       "    \n",
       "  var docs_json = {\"d55310e7-62e8-426f-9a0f-f686e9081e1f\":{\"roots\":{\"references\":[{\"attributes\":{\"below\":[{\"id\":\"5090\",\"type\":\"LinearAxis\"}],\"left\":[{\"id\":\"5095\",\"type\":\"LinearAxis\"}],\"plot_height\":300,\"plot_width\":800,\"renderers\":[{\"id\":\"5090\",\"type\":\"LinearAxis\"},{\"id\":\"5094\",\"type\":\"Grid\"},{\"id\":\"5095\",\"type\":\"LinearAxis\"},{\"id\":\"5099\",\"type\":\"Grid\"},{\"id\":\"5108\",\"type\":\"BoxAnnotation\"},{\"id\":\"5118\",\"type\":\"GlyphRenderer\"}],\"title\":{\"id\":\"5122\",\"type\":\"Title\"},\"toolbar\":{\"id\":\"5106\",\"type\":\"Toolbar\"},\"x_range\":{\"id\":\"5082\",\"type\":\"DataRange1d\"},\"x_scale\":{\"id\":\"5086\",\"type\":\"LinearScale\"},\"y_range\":{\"id\":\"5084\",\"type\":\"DataRange1d\"},\"y_scale\":{\"id\":\"5088\",\"type\":\"LinearScale\"}},\"id\":\"5081\",\"subtype\":\"Figure\",\"type\":\"Plot\"},{\"attributes\":{\"plot\":null,\"text\":\"Attacking Aircraft and Munitions Dropped\"},\"id\":\"5122\",\"type\":\"Title\"},{\"attributes\":{\"callback\":null},\"id\":\"5084\",\"type\":\"DataRange1d\"},{\"attributes\":{},\"id\":\"5091\",\"type\":\"BasicTicker\"},{\"attributes\":{\"plot\":{\"id\":\"5081\",\"subtype\":\"Figure\",\"type\":\"Plot\"},\"ticker\":{\"id\":\"5091\",\"type\":\"BasicTicker\"}},\"id\":\"5094\",\"type\":\"Grid\"},{\"attributes\":{\"axis_label\":\"Tons of Munitions Dropped\",\"formatter\":{\"id\":\"5259\",\"type\":\"BasicTickFormatter\"},\"plot\":{\"id\":\"5081\",\"subtype\":\"Figure\",\"type\":\"Plot\"},\"ticker\":{\"id\":\"5091\",\"type\":\"BasicTicker\"}},\"id\":\"5090\",\"type\":\"LinearAxis\"},{\"attributes\":{},\"id\":\"5105\",\"type\":\"HelpTool\"},{\"attributes\":{\"callback\":null,\"renderers\":\"auto\",\"tooltips\":[[\"Attack Date\",\"@MSNDATE\"],[\"Attacking Aircraft\",\"@AC_ATTACKING\"],[\"Tons of Munitions\",\"@TOTAL_TONS\"],[\"Type of Aircraft\",\"@AIRCRAFT_NAME\"]]},\"id\":\"5123\",\"type\":\"HoverTool\"},{\"attributes\":{\"source\":{\"id\":\"5080\",\"type\":\"ColumnDataSource\"}},\"id\":\"5119\",\"type\":\"CDSView\"},{\"attributes\":{},\"id\":\"5261\",\"type\":\"BasicTickFormatter\"},{\"attributes\":{\"fill_alpha\":{\"value\":0.1},\"fill_color\":{\"value\":\"#1f77b4\"},\"line_alpha\":{\"value\":0.1},\"line_color\":{\"value\":\"#1f77b4\"},\"size\":{\"units\":\"screen\",\"value\":10},\"x\":{\"field\":\"TOTAL_TONS\"},\"y\":{\"field\":\"AC_ATTACKING\"}},\"id\":\"5117\",\"type\":\"Circle\"},{\"attributes\":{},\"id\":\"5259\",\"type\":\"BasicTickFormatter\"},{\"attributes\":{},\"id\":\"5096\",\"type\":\"BasicTicker\"},{\"attributes\":{},\"id\":\"5086\",\"type\":\"LinearScale\"},{\"attributes\":{\"fill_color\":{\"value\":\"green\"},\"line_color\":{\"value\":\"green\"},\"size\":{\"units\":\"screen\",\"value\":10},\"x\":{\"field\":\"TOTAL_TONS\"},\"y\":{\"field\":\"AC_ATTACKING\"}},\"id\":\"5116\",\"type\":\"Circle\"},{\"attributes\":{\"bottom_units\":\"screen\",\"fill_alpha\":{\"value\":0.5},\"fill_color\":{\"value\":\"lightgrey\"},\"left_units\":\"screen\",\"level\":\"overlay\",\"line_alpha\":{\"value\":1.0},\"line_color\":{\"value\":\"black\"},\"line_dash\":[4,4],\"line_width\":{\"value\":2},\"plot\":null,\"render_mode\":\"css\",\"right_units\":\"screen\",\"top_units\":\"screen\"},\"id\":\"5108\",\"type\":\"BoxAnnotation\"},{\"attributes\":{},\"id\":\"5263\",\"type\":\"Selection\"},{\"attributes\":{\"callback\":null,\"data\":{\"AC_ATTACKING\":{\"__ndarray__\":\"AAAAAAAA+H8AAAAAAADwPwAAAAAAAPh/AAAAAAAAIEAAAAAAAAAkQAAAAAAAACRAAAAAAAAAMEAAAAAAAAA2QAAAAAAAABhAAAAAAAAAFEAAAAAAAAD4fwAAAAAAAPA/AAAAAAAA8D8AAAAAAADwPwAAAAAAAPh/AAAAAAAA+H8AAAAAAAAmQAAAAAAAABhAAAAAAAAA8D8AAAAAAAD4fwAAAAAAAPh/AAAAAAAA+H8AAAAAAAAYQAAAAAAAACxAAAAAAAAA+H8AAAAAAADwPwAAAAAAACBAAAAAAAAA+H8AAAAAAAAsQAAAAAAAAPh/AAAAAAAA+H8AAAAAAAD4fwAAAAAAAPA/AAAAAAAA+H8AAAAAAAAUQAAAAAAAAPh/AAAAAAAA+H8AAAAAAAD4fwAAAAAAAABAAAAAAAAA+H8AAAAAAAAoQAAAAAAAAPA/AAAAAAAAGEAAAAAAAADwPwAAAAAAAPA/AAAAAAAA+H8AAAAAAADwPwAAAAAAAPh/AAAAAAAA+H8AAAAAAAAxQA==\",\"dtype\":\"float64\",\"shape\":[50]},\"AIRCRAFT_NAME\":[\"B26\",\"LIGHT\",\"LIGHT\",\"P51\",\"B17\",\"B24\",\"B17\",\"B24\",\"B24\",\"LANCASTER\",\"B26\",\"B24\",\"B17\",\"B24\",\"LANCASTER\",\"B25\",\"P38\",\"B24\",\"B25\",\"B25\",\"B26\",\"B17\",\"A20\",\"B25\",\"LANCASTER\",\"BLENHEIM\",\"P47\",\"B26\",\"B26\",\"B26\",\"B26\",\"B26\",\"B24\",\"A20\",\"P47\",\"B26\",\"B24\",\"B17\",\"B24\",\"B25\",\"B25\",\"B17\",\"B25\",\"B24\",\"WHITLEY\",\"B24\",\"B17\",\"B24\",\"LANCASTER\",\"B25\"],\"COUNTRY_FLYING_MISSION\":[\"NaN\",\"GREAT BRITAIN\",\"GREAT BRITAIN\",\"USA\",\"NaN\",\"NaN\",\"NaN\",\"NaN\",\"USA\",\"GREAT BRITAIN\",\"USA\",\"USA\",\"NaN\",\"USA\",\"GREAT BRITAIN\",\"USA\",\"USA\",\"USA\",\"USA\",\"USA\",\"NaN\",\"NaN\",\"USA\",\"NaN\",\"GREAT BRITAIN\",\"GREAT BRITAIN\",\"USA\",\"NaN\",\"USA\",\"NaN\",\"NaN\",\"NaN\",\"USA\",\"USA\",\"USA\",\"NaN\",\"NaN\",\"NaN\",\"USA\",\"USA\",\"USA\",\"NaN\",\"USA\",\"USA\",\"GREAT BRITAIN\",\"NaN\",\"NaN\",\"USA\",\"GREAT BRITAIN\",\"USA\"],\"MSNDATE\":[\"07/31/1943\",\"12/10/1943\",\"06/05/1944\",\"03/21/1945\",\"09/08/1944\",\"01/05/1945\",\"11/02/1943\",\"05/20/1944\",\"11/05/1944\",\"11/06/1944\",\"05/13/1944\",\"02/03/1945\",\"06/04/1944\",\"08/29/1944\",\"12/11/1944\",\"09/09/1943\",\"09/17/1944\",\"05/10/1945\",\"06/18/1944\",\"09/21/1943\",\"11/25/1944\",\"08/17/1943\",\"03/30/1945\",\"02/20/1945\",\"04/18/1944\",\"02/09/1941\",\"01/15/1945\",\"02/08/1944\",\"06/16/1944\",\"07/28/1944\",\"02/03/1945\",\"05/30/1944\",\"03/01/1945\",\"10/17/1944\",\"12/13/1944\",\"02/09/1945\",\"03/21/1944\",\"06/06/1944\",\"12/17/1943\",\"09/08/1943\",\"03/08/1944\",\"11/13/1944\",\"11/11/1944\",\"07/14/1944\",\"06/08/1941\",\"11/03/1943\",\"09/11/1944\",\"06/09/1943\",\"03/09/1942\",\"02/17/1945\"],\"NAF\":[\"NaN\",\"RAF\",\"RAF\",\"5 AF\",\"NaN\",\"NaN\",\"NaN\",\"NaN\",\"15 AF\",\"RAF\",\"9 AF\",\"7 AF\",\"NaN\",\"7 AF\",\"RAF\",\"12 AF\",\"5 AF\",\"10 AF\",\"5 AF\",\"15 AF\",\"NaN\",\"NaN\",\"5 AF\",\"NaN\",\"RAF\",\"RAF\",\"10 AF\",\"NaN\",\"12 AF\",\"NaN\",\"NaN\",\"NaN\",\"12 AF\",\"12 AF\",\"10 AF\",\"NaN\",\"NaN\",\"NaN\",\"5 AF\",\"12 AF\",\"12 AF\",\"NaN\",\"7 AF\",\"13 AF\",\"RAF\",\"NaN\",\"NaN\",\"9 AF\",\"RAF\",\"12 AF\"],\"TAKEOFF_BASE\":[\"NaN\",\"NaN\",\"NaN\",\"NaN\",\"NaN\",\"NaN\",\"NaN\",\"NaN\",\"NaN\",\"NaN\",\"NaN\",\"NaN\",\"NaN\",\"NaN\",\"NaN\",\"NaN\",\"NaN\",\"NaN\",\"NaN\",\"NaN\",\"NaN\",\"NaN\",\"NaN\",\"NaN\",\"NaN\",\"NaN\",\"NaN\",\"NaN\",\"NaN\",\"NaN\",\"NaN\",\"NaN\",\"NaN\",\"NaN\",\"NaN\",\"NaN\",\"NaN\",\"NaN\",\"NaN\",\"NaN\",\"NaN\",\"NaN\",\"NaN\",\"NaN\",\"NaN\",\"NaN\",\"NaN\",\"NaN\",\"NaN\",\"NaN\"],\"TAKEOFF_COUNTRY\":[\"NaN\",\"NaN\",\"NaN\",\"NaN\",\"NaN\",\"NaN\",\"NaN\",\"NaN\",\"NaN\",\"NaN\",\"NaN\",\"NaN\",\"NaN\",\"NaN\",\"NaN\",\"NaN\",\"NaN\",\"NaN\",\"NaN\",\"NaN\",\"NaN\",\"NaN\",\"NaN\",\"NaN\",\"NaN\",\"NaN\",\"NaN\",\"NaN\",\"NaN\",\"NaN\",\"NaN\",\"NaN\",\"NaN\",\"NaN\",\"NaN\",\"NaN\",\"NaN\",\"NaN\",\"NaN\",\"NaN\",\"NaN\",\"NaN\",\"NaN\",\"NaN\",\"NaN\",\"NaN\",\"NaN\",\"NaN\",\"NaN\",\"NaN\"],\"TAKEOFF_LATITUDE\":{\"__ndarray__\":\"AAAAAAAA+H8AAAAAAAD4fwAAAAAAAPh/AAAAAAAA+H8AAAAAAAD4fwAAAAAAAPh/AAAAAAAA+H8AAAAAAAD4fwAAAAAAAPh/AAAAAAAA+H8AAAAAAAD4fwAAAAAAAPh/AAAAAAAA+H8AAAAAAAD4fwAAAAAAAPh/AAAAAAAA+H8AAAAAAAD4fwAAAAAAAPh/AAAAAAAA+H8AAAAAAAD4fwAAAAAAAPh/AAAAAAAA+H8AAAAAAAD4fwAAAAAAAPh/AAAAAAAA+H8AAAAAAAD4fwAAAAAAAPh/AAAAAAAA+H8AAAAAAAD4fwAAAAAAAPh/AAAAAAAA+H8AAAAAAAD4fwAAAAAAAPh/AAAAAAAA+H8AAAAAAAD4fwAAAAAAAPh/AAAAAAAA+H8AAAAAAAD4fwAAAAAAAPh/AAAAAAAA+H8AAAAAAAD4fwAAAAAAAPh/AAAAAAAA+H8AAAAAAAD4fwAAAAAAAPh/AAAAAAAA+H8AAAAAAAD4fwAAAAAAAPh/AAAAAAAA+H8AAAAAAAD4fw==\",\"dtype\":\"float64\",\"shape\":[50]},\"TAKEOFF_LONGITUDE\":{\"__ndarray__\":\"AAAAAAAA+H8AAAAAAAD4fwAAAAAAAPh/AAAAAAAA+H8AAAAAAAD4fwAAAAAAAPh/AAAAAAAA+H8AAAAAAAD4fwAAAAAAAPh/AAAAAAAA+H8AAAAAAAD4fwAAAAAAAPh/AAAAAAAA+H8AAAAAAAD4fwAAAAAAAPh/AAAAAAAA+H8AAAAAAAD4fwAAAAAAAPh/AAAAAAAA+H8AAAAAAAD4fwAAAAAAAPh/AAAAAAAA+H8AAAAAAAD4fwAAAAAAAPh/AAAAAAAA+H8AAAAAAAD4fwAAAAAAAPh/AAAAAAAA+H8AAAAAAAD4fwAAAAAAAPh/AAAAAAAA+H8AAAAAAAD4fwAAAAAAAPh/AAAAAAAA+H8AAAAAAAD4fwAAAAAAAPh/AAAAAAAA+H8AAAAAAAD4fwAAAAAAAPh/AAAAAAAA+H8AAAAAAAD4fwAAAAAAAPh/AAAAAAAA+H8AAAAAAAD4fwAAAAAAAPh/AAAAAAAA+H8AAAAAAAD4fwAAAAAAAPh/AAAAAAAA+H8AAAAAAAD4fw==\",\"dtype\":\"float64\",\"shape\":[50]},\"TGT_COUNTRY\":[\"FRANCE\",\"GERMANY\",\"GERMANY\",\"PHILIPPINE ISLANDS\",\"GERMANY\",\"GERMANY\",\"AUSTRIA\",\"FRANCE\",\"YUGOSLAVIA\",\"GERMANY\",\"FRANCE\",\"VOLCANO AND BONIN ISLANDS\",\"FRANCE\",\"PALAU ISLANDS\",\"GERMANY\",\"ITALY\",\"CELEBES ISLANDS\",\"BURMA\",\"NEW GUINEA\",\"UNKNOWN OR NOT INDICATED\",\"GERMANY\",\"FRANCE\",\"PHILIPPINE ISLANDS\",\"ITALY\",\"FRANCE\",\"FRANCE\",\"BURMA\",\"FRANCE\",\"ITALY\",\"FRANCE\",\"GERMANY\",\"FRANCE\",\"ITALY\",\"ITALY\",\"BURMA\",\"GERMANY\",\"FRANCE\",\"FRANCE\",\"NEW GUINEA\",\"ITALY\",\"ITALY\",\"CZECHOSLOVAKIA\",\"BISMARK ARCHIPELAGO\",\"CAROLINE ISLANDS\",\"GERMANY\",\"GERMANY\",\"GERMANY\",\"ITALY\",\"GERMANY\",\"ITALY\"],\"TGT_LATITUDE\":{\"__ndarray__\":\"zczMzMwMSUAK16NwPapJQKRwPQrXI0pAyAc9m1U/LEAAAAAAAABJQJqZmZmZmUhAKVyPwvXoR0AAAAAAAKBIQNejcD0KN0VAzczMzMzMSUBxPQrXo5BIQH83eoiIyDhAw/UoXI9iSUAPNA4REREjQHE9CtejUElAKVyPwvVIREDNzMzMzMwKwMo7wd3d3ShAXclgVVVVC8AAAAAAAAD4f5qZmZmZuUhApHA9CtejRUBp93FVVVUqQHE9Ctej8EZAw/UoXI9iSEBcj8L1KHxJQOgu7N3dHTdAAAAAAABASUA9CtejcB1GQClcj8L1iEhAXI/C9Sg8SUA9CtejcH1IQNejcD0K90ZAAAAAAAAA+H9mZmZmZiY1QFyPwvUoHEhACtejcD1qSUBxPQrXo1BJQGZmZmZmZiDAZmZmZmYGREBcj8L1KDxFQAAAAAAAAPh/f2WlSSmoF8BCZ0FEREQgQM3MzMzMzEpApHA9CtfDSkDhehSuR0FKQFyPwvUovEJA16NwPQq3SUCamZmZmTlHQA==\",\"dtype\":\"float64\",\"shape\":[50]},\"TGT_LOCATION\":[\"ABBEVILLE\",\"FREFELD\",\"OSNABRUCK\",\"BAMBANG\",\"MAINZ\",\"PIRMASENS\",\"WIENER NEUSTADT\",\"REIMS\",\"PODGORICA\",\"RECKLINGHAUSEN\",\"BEAUM0NT SUR OISE\",\"IWO JIMA\",\"WIMEREUX\",\"YAP ISLAND\",\"HEIMBACH\",\"AULETTA\",\"KAIRATOE\",\"MERGUI\",\"DAGUA\",\"UNKNOWN\",\"KAISERSLAUTERN\",\"MARSEILLES\",\"LEGASPI\",\"ROVERETO\",\"PARIS\",\"CALAIS\",\"MONGMIT\",\"PAS DE CALAIS\",\"LISSONE\",\"COURCELLES SUR NIED\",\"RODDER\",\"MANTES\",\"GORIZIA\",\"UNKNOWN\",\"KUNG NYAWNG\",\"HORNBERG\",\"WATTEN\",\"MERVILLE\",\"SELAROE\",\"LAURIA\",\"ORTE\",\"NaN\",\"REISS POINT\",\"SOROL ISLAND\",\"BORKUM\",\"WILHELMSHAVEN\",\"DUMMER LAKE\",\"GERBINI\",\"ESSEN\",\"DOGNA VISOCCO\"],\"TGT_LONGITUDE\":{\"__ndarray__\":\"SOF6FK5H/T97FK5H4XoZQJqZmZmZGSBA2IFzRpRaXkCPwvUoXI8gQHsUrkfheh5AhetRuB5FMEAfhetRuB4QQEjhehSuRzNAuB6F61G4HEA9CtejcD0CQG4HNCIiqmFA7FG4HoXr+T/4XjJERERhQOF6FK5H4RlAXI/C9SjcLkCugEI9fQtgQGZmZmZmplhAX8WYqqrqYUAAAAAAAAD4fx+F61G4Hh9AexSuR+F6FUAAAAAAAPBeQJqZmZmZGSZAmpmZmZmZAUDsUbgehev9P+0+rqqqKlhApHA9CtejAkCkcD0K1yMmQDMzMzMzMxlAuB6F61G4HECF61G4HoX7Pz0K16NwPStAAAAAAAAA+H/gjR4iIlJYQHE9CtejcCBAw/UoXI/CAUAK16NwPQoFQGZmZmZmXmBAmpmZmZmZL0DNzMzMzMwoQAAAAAAAAPh/j3Ba8CJhYkDNzMzMzIxhQK5H4XoUrhpAw/UoXI9CIEApXI/C9aggQDMzMzMzsy1AAAAAAAAAHECamZmZmZkqQA==\",\"dtype\":\"float64\",\"shape\":[50]},\"THEATER\":[\"ETO\",\"ETO\",\"ETO\",\"PTO\",\"ETO\",\"ETO\",\"ETO\",\"ETO\",\"MTO\",\"ETO\",\"ETO\",\"PTO\",\"ETO\",\"PTO\",\"ETO\",\"MTO\",\"PTO\",\"CBI\",\"PTO\",\"NaN\",\"ETO\",\"ETO\",\"PTO\",\"MTO\",\"ETO\",\"ETO\",\"CBI\",\"ETO\",\"MTO\",\"ETO\",\"ETO\",\"ETO\",\"MTO\",\"MTO\",\"CBI\",\"ETO\",\"ETO\",\"ETO\",\"PTO\",\"MTO\",\"MTO\",\"ETO\",\"PTO\",\"PTO\",\"ETO\",\"ETO\",\"ETO\",\"MTO\",\"ETO\",\"MTO\"],\"TONS_FRAG\":{\"__ndarray__\":\"AAAAAAAAAAAAAAAAAAAAAAAAAAAAAAAAAAAAAAAAAAAAAAAAAAAAAAAAAAAAAAAAAAAAAAAAAAAAAAAAAAAAAAAAAAAAAAAAAAAAAAAAAAAAAAAAAAAAAAAAAAAAAABAAAAAAAAAAAAAAAAAAAAAAAAAAAAAAAAAAAAAAAAAAAAAAAAAAAAAAAAAAAAAAC5AAAAAAAAAAAAAAAAAAAAAAAAAAAAAAAAAAAAAAAAALEAAAAAAAAAAAAAAAAAAAAAAAAAAAAAAAAAAAAAAAAAAAAAAAAAAAAAAAAAAAAAAAAAAAAAAAAAAAAAAAAAAAAAAAAAAAAAAAAAAAAAAAAAAAAAAAAAAAAAAAAAAAAAAAEAAAAAAAAAAAAAAAAAAAAAAAAAAAAAAAAAAAAAAAAAAAAAAAAAAAAAAAAAAAAAAAAAAAAAAAAAAAAAAAAAAAAAAAAAAAAAAAAAAAAAAAAAAAAAAAAAAAAAAAAAAAAAAAAAAAAAAAAAAAAAAAAAAAAAAAAAAAAAAAAAAAAAAAAAAAA==\",\"dtype\":\"float64\",\"shape\":[50]},\"TONS_HE\":{\"__ndarray__\":\"AAAAAAAAJEAAAAAAAADwPwAAAAAAABRAAAAAAAAAEEAAAAAAAAA5QAAAAAAAADVAAAAAAAAASEAAAAAAAIBLQAAAAAAAAC5AAAAAAAAAJEAAAAAAAABLQAAAAAAAAAAAAAAAAAAA8D8AAAAAAAAIQAAAAAAAYI5AAAAAAAAACEAAAAAAAAAIQAAAAAAAAAAAAAAAAAAA8D8AAAAAAAAsQAAAAAAAAEVAAAAAAAAAAAAAAAAAAAAIQAAAAAAAACRAAAAAAABQcUAAAAAAAAAAAAAAAAAAAPA/AAAAAAAAN0AAAAAAAAA/QAAAAAAAAE1AAAAAAAAAKkAAAAAAAEBRQAAAAAAAAABAAAAAAAAAAAAAAAAAAAAIQAAAAAAAAE9AAAAAAAAASkAAAAAAAMBYQAAAAAAAABRAAAAAAAAAAEAAAAAAAAA3QAAAAAAAAAhAAAAAAAAAAAAAAAAAAAAAQAAAAAAAAPA/AAAAAAAAAAAAAAAAAAAIQAAAAAAAAChAAAAAAAAANUAAAAAAAAA+QA==\",\"dtype\":\"float64\",\"shape\":[50]},\"TONS_IC\":{\"__ndarray__\":\"AAAAAAAAAAAAAAAAAAAAAAAAAAAAAAAAAAAAAAAAAAAAAAAAAAAAAAAAAAAAABBAAAAAAAAAAAAAAAAAAAAAAAAAAAAAAAAAAAAAAAAAEEAAAAAAAAAAAAAAAAAAAAAAAAAAAAAAAAAAAAAAAAAAAAAAAAAAAAAAAAAAAAAAAAAAAAAAAAAAAAAAAAAAAAAAAAAAAAAAAAAAAAAAAAAAAAAAAAAAAAAAAAAAAAAAAAAAAAAAAAAAQAAAAAAAABRAAAAAAAAAAAAAAAAAAAAAAAAAAAAAAAAAAAAAAAAAAAAAAAAAAAAAAAAAAAAAAAAAAAAAAAAAAAAAAAAAAAAAAAAAAAAAAAAAAAAAAAAAAAAAAAAAAAAAAAAAAAAAAAAAAAAAAAAAAAAAAAAAAAAAAAAAAAAAAAAAAAAAAAAAAAAAAAAAAAAAAAAAAAAAAAAAAAAAAAAAAAAAAAAAAAAAAAAAAAAAAAAAAAAAAAAALkAAAAAAAAAAAAAAAAAAAAAAAAAAAAAAAAAAAAAAAAAAAA==\",\"dtype\":\"float64\",\"shape\":[50]},\"TOTAL_TONS\":{\"__ndarray__\":\"AAAAAAAAJEAAAAAAAADwPwAAAAAAABRAAAAAAAAAEEAAAAAAAAA5QAAAAAAAADlAAAAAAAAASEAAAAAAAIBLQAAAAAAAAC5AAAAAAAAALEAAAAAAAABLQAAAAAAAAABAAAAAAAAA8D8AAAAAAAAIQAAAAAAAYI5AAAAAAAAACEAAAAAAAAAIQAAAAAAAAC5AAAAAAAAA8D8AAAAAAAAsQAAAAAAAAEVAAAAAAAAALEAAAAAAAAAUQAAAAAAAAC5AAAAAAABQcUAAAAAAAAAAAAAAAAAAAPA/AAAAAAAAN0AAAAAAAAA/QAAAAAAAAE1AAAAAAAAAKkAAAAAAAEBRQAAAAAAAAABAAAAAAAAAAEAAAAAAAAAIQAAAAAAAAE9AAAAAAAAASkAAAAAAAMBYQAAAAAAAABRAAAAAAAAAAEAAAAAAAAA3QAAAAAAAAAhAAAAAAAAAAEAAAAAAAAAAQAAAAAAAAPA/AAAAAAAALkAAAAAAAAAIQAAAAAAAAChAAAAAAAAANUAAAAAAAAA+QA==\",\"dtype\":\"float64\",\"shape\":[50]},\"UNIT_ID\":[\"NaN\",\"NaN\",\"NaN\",\"3 FS\",\"NaN\",\"NaN\",\"NaN\",\"NaN\",\"NaN\",\"NaN\",\"NaN\",\"38 BS\",\"NaN\",\"27 BS\",\"NaN\",\"NaN\",\"80 FS\",\"436 BS\",\"71 BS\",\"NaN\",\"NaN\",\"NaN\",\"672 S\",\"NaN\",\"NaN\",\"NaN\",\"59 FS\",\"NaN\",\"NaN\",\"NaN\",\"NaN\",\"NaN\",\"NaN\",\"NaN\",\"60 FS\",\"NaN\",\"NaN\",\"NaN\",\"531 BS\",\"NaN\",\"NaN\",\"NaN\",\"90 BS\",\"23 BS\",\"NaN\",\"NaN\",\"NaN\",\"NaN\",\"NaN\",\"NaN\"],\"index\":[95897,21166,76501,72578,124859,124772,155232,159896,109509,106076,159379,54058,19260,65254,178237,63654,56163,107472,33607,107109,151475,105851,78040,108567,176765,3021,14842,120413,136629,161468,104701,166775,48750,50112,55596,163741,158199,173782,77543,49883,121369,56903,38073,40490,23195,108202,60437,102507,118122,135546]},\"selected\":{\"id\":\"5263\",\"type\":\"Selection\"},\"selection_policy\":{\"id\":\"5264\",\"type\":\"UnionRenderers\"}},\"id\":\"5080\",\"type\":\"ColumnDataSource\"},{\"attributes\":{},\"id\":\"5264\",\"type\":\"UnionRenderers\"},{\"attributes\":{},\"id\":\"5103\",\"type\":\"SaveTool\"},{\"attributes\":{},\"id\":\"5104\",\"type\":\"ResetTool\"},{\"attributes\":{\"dimension\":1,\"plot\":{\"id\":\"5081\",\"subtype\":\"Figure\",\"type\":\"Plot\"},\"ticker\":{\"id\":\"5096\",\"type\":\"BasicTicker\"}},\"id\":\"5099\",\"type\":\"Grid\"},{\"attributes\":{},\"id\":\"5100\",\"type\":\"PanTool\"},{\"attributes\":{\"axis_label\":\"Number of Attacking Aircraft\",\"formatter\":{\"id\":\"5261\",\"type\":\"BasicTickFormatter\"},\"plot\":{\"id\":\"5081\",\"subtype\":\"Figure\",\"type\":\"Plot\"},\"ticker\":{\"id\":\"5096\",\"type\":\"BasicTicker\"}},\"id\":\"5095\",\"type\":\"LinearAxis\"},{\"attributes\":{},\"id\":\"5101\",\"type\":\"WheelZoomTool\"},{\"attributes\":{\"overlay\":{\"id\":\"5108\",\"type\":\"BoxAnnotation\"}},\"id\":\"5102\",\"type\":\"BoxZoomTool\"},{\"attributes\":{\"active_drag\":\"auto\",\"active_inspect\":\"auto\",\"active_multi\":null,\"active_scroll\":\"auto\",\"active_tap\":\"auto\",\"tools\":[{\"id\":\"5100\",\"type\":\"PanTool\"},{\"id\":\"5101\",\"type\":\"WheelZoomTool\"},{\"id\":\"5102\",\"type\":\"BoxZoomTool\"},{\"id\":\"5103\",\"type\":\"SaveTool\"},{\"id\":\"5104\",\"type\":\"ResetTool\"},{\"id\":\"5105\",\"type\":\"HelpTool\"},{\"id\":\"5123\",\"type\":\"HoverTool\"}]},\"id\":\"5106\",\"type\":\"Toolbar\"},{\"attributes\":{\"callback\":null},\"id\":\"5082\",\"type\":\"DataRange1d\"},{\"attributes\":{\"data_source\":{\"id\":\"5080\",\"type\":\"ColumnDataSource\"},\"glyph\":{\"id\":\"5116\",\"type\":\"Circle\"},\"hover_glyph\":null,\"muted_glyph\":null,\"nonselection_glyph\":{\"id\":\"5117\",\"type\":\"Circle\"},\"selection_glyph\":null,\"view\":{\"id\":\"5119\",\"type\":\"CDSView\"}},\"id\":\"5118\",\"type\":\"GlyphRenderer\"},{\"attributes\":{},\"id\":\"5088\",\"type\":\"LinearScale\"}],\"root_ids\":[\"5081\"]},\"title\":\"Bokeh Application\",\"version\":\"1.0.1\"}};\n",
       "  var render_items = [{\"docid\":\"d55310e7-62e8-426f-9a0f-f686e9081e1f\",\"roots\":{\"5081\":\"e8e373ea-990e-4570-9fed-591461b90bd6\"}}];\n",
       "  root.Bokeh.embed.embed_items_notebook(docs_json, render_items);\n",
       "\n",
       "  }\n",
       "  if (root.Bokeh !== undefined) {\n",
       "    embed_document(root);\n",
       "  } else {\n",
       "    var attempts = 0;\n",
       "    var timer = setInterval(function(root) {\n",
       "      if (root.Bokeh !== undefined) {\n",
       "        embed_document(root);\n",
       "        clearInterval(timer);\n",
       "      }\n",
       "      attempts++;\n",
       "      if (attempts > 100) {\n",
       "        console.log(\"Bokeh: ERROR: Unable to run BokehJS code because BokehJS library is missing\");\n",
       "        clearInterval(timer);\n",
       "      }\n",
       "    }, 10, root)\n",
       "  }\n",
       "})(window);"
      ],
      "application/vnd.bokehjs_exec.v0+json": ""
     },
     "metadata": {
      "application/vnd.bokehjs_exec.v0+json": {
       "id": "5081"
      }
     },
     "output_type": "display_data"
    }
   ],
   "source": [
    "hover = HoverTool()\n",
    "hover.tooltips=[\n",
    "    ('Attack Date', '@MSNDATE'),\n",
    "    ('Attacking Aircraft', '@AC_ATTACKING'),\n",
    "    ('Tons of Munitions', '@TOTAL_TONS'),\n",
    "    ('Type of Aircraft', '@AIRCRAFT_NAME')\n",
    "]\n",
    "\n",
    "p.add_tools(hover)\n",
    "\n",
    "show(p)"
   ]
  },
  {
   "cell_type": "code",
   "execution_count": 81,
   "metadata": {},
   "outputs": [],
   "source": [
    "initial_grouped = df.groupby('COUNTRY_FLYING_MISSION')['TOTAL_TONS', 'TONS_HE', 'TONS_IC', 'TONS_FRAG'].sum()\n"
   ]
  },
  {
   "cell_type": "code",
   "execution_count": 82,
   "metadata": {},
   "outputs": [
    {
     "data": {
      "text/html": [
       "<div>\n",
       "<style scoped>\n",
       "    .dataframe tbody tr th:only-of-type {\n",
       "        vertical-align: middle;\n",
       "    }\n",
       "\n",
       "    .dataframe tbody tr th {\n",
       "        vertical-align: top;\n",
       "    }\n",
       "\n",
       "    .dataframe thead th {\n",
       "        text-align: right;\n",
       "    }\n",
       "</style>\n",
       "<table border=\"1\" class=\"dataframe\">\n",
       "  <thead>\n",
       "    <tr style=\"text-align: right;\">\n",
       "      <th></th>\n",
       "      <th>TOTAL_TONS</th>\n",
       "      <th>TONS_HE</th>\n",
       "      <th>TONS_IC</th>\n",
       "      <th>TONS_FRAG</th>\n",
       "    </tr>\n",
       "    <tr>\n",
       "      <th>COUNTRY_FLYING_MISSION</th>\n",
       "      <th></th>\n",
       "      <th></th>\n",
       "      <th></th>\n",
       "      <th></th>\n",
       "    </tr>\n",
       "  </thead>\n",
       "  <tbody>\n",
       "    <tr>\n",
       "      <th>AUSTRALIA</th>\n",
       "      <td>479.89</td>\n",
       "      <td>453.90</td>\n",
       "      <td>13.600</td>\n",
       "      <td>18.64</td>\n",
       "    </tr>\n",
       "    <tr>\n",
       "      <th>GREAT BRITAIN</th>\n",
       "      <td>1112598.95</td>\n",
       "      <td>868277.23</td>\n",
       "      <td>209036.158</td>\n",
       "      <td>1208.00</td>\n",
       "    </tr>\n",
       "    <tr>\n",
       "      <th>NEW ZEALAND</th>\n",
       "      <td>2629.06</td>\n",
       "      <td>4263.70</td>\n",
       "      <td>166.500</td>\n",
       "      <td>0.00</td>\n",
       "    </tr>\n",
       "    <tr>\n",
       "      <th>SOUTH AFRICA</th>\n",
       "      <td>11.69</td>\n",
       "      <td>15.00</td>\n",
       "      <td>0.000</td>\n",
       "      <td>0.00</td>\n",
       "    </tr>\n",
       "    <tr>\n",
       "      <th>USA</th>\n",
       "      <td>1625487.68</td>\n",
       "      <td>1297955.65</td>\n",
       "      <td>205288.200</td>\n",
       "      <td>127655.98</td>\n",
       "    </tr>\n",
       "  </tbody>\n",
       "</table>\n",
       "</div>"
      ],
      "text/plain": [
       "                        TOTAL_TONS     TONS_HE     TONS_IC  TONS_FRAG\n",
       "COUNTRY_FLYING_MISSION                                               \n",
       "AUSTRALIA                   479.89      453.90      13.600      18.64\n",
       "GREAT BRITAIN           1112598.95   868277.23  209036.158    1208.00\n",
       "NEW ZEALAND                2629.06     4263.70     166.500       0.00\n",
       "SOUTH AFRICA                 11.69       15.00       0.000       0.00\n",
       "USA                     1625487.68  1297955.65  205288.200  127655.98"
      ]
     },
     "execution_count": 82,
     "metadata": {},
     "output_type": "execute_result"
    }
   ],
   "source": [
    "initial_grouped"
   ]
  },
  {
   "cell_type": "code",
   "execution_count": 83,
   "metadata": {},
   "outputs": [],
   "source": [
    "grouped = initial_grouped / 1000"
   ]
  },
  {
   "cell_type": "code",
   "execution_count": 84,
   "metadata": {},
   "outputs": [
    {
     "data": {
      "text/html": [
       "<div>\n",
       "<style scoped>\n",
       "    .dataframe tbody tr th:only-of-type {\n",
       "        vertical-align: middle;\n",
       "    }\n",
       "\n",
       "    .dataframe tbody tr th {\n",
       "        vertical-align: top;\n",
       "    }\n",
       "\n",
       "    .dataframe thead th {\n",
       "        text-align: right;\n",
       "    }\n",
       "</style>\n",
       "<table border=\"1\" class=\"dataframe\">\n",
       "  <thead>\n",
       "    <tr style=\"text-align: right;\">\n",
       "      <th></th>\n",
       "      <th>TOTAL_TONS</th>\n",
       "      <th>TONS_HE</th>\n",
       "      <th>TONS_IC</th>\n",
       "      <th>TONS_FRAG</th>\n",
       "    </tr>\n",
       "    <tr>\n",
       "      <th>COUNTRY_FLYING_MISSION</th>\n",
       "      <th></th>\n",
       "      <th></th>\n",
       "      <th></th>\n",
       "      <th></th>\n",
       "    </tr>\n",
       "  </thead>\n",
       "  <tbody>\n",
       "    <tr>\n",
       "      <th>AUSTRALIA</th>\n",
       "      <td>0.47989</td>\n",
       "      <td>0.45390</td>\n",
       "      <td>0.013600</td>\n",
       "      <td>0.01864</td>\n",
       "    </tr>\n",
       "    <tr>\n",
       "      <th>GREAT BRITAIN</th>\n",
       "      <td>1112.59895</td>\n",
       "      <td>868.27723</td>\n",
       "      <td>209.036158</td>\n",
       "      <td>1.20800</td>\n",
       "    </tr>\n",
       "    <tr>\n",
       "      <th>NEW ZEALAND</th>\n",
       "      <td>2.62906</td>\n",
       "      <td>4.26370</td>\n",
       "      <td>0.166500</td>\n",
       "      <td>0.00000</td>\n",
       "    </tr>\n",
       "    <tr>\n",
       "      <th>SOUTH AFRICA</th>\n",
       "      <td>0.01169</td>\n",
       "      <td>0.01500</td>\n",
       "      <td>0.000000</td>\n",
       "      <td>0.00000</td>\n",
       "    </tr>\n",
       "    <tr>\n",
       "      <th>USA</th>\n",
       "      <td>1625.48768</td>\n",
       "      <td>1297.95565</td>\n",
       "      <td>205.288200</td>\n",
       "      <td>127.65598</td>\n",
       "    </tr>\n",
       "  </tbody>\n",
       "</table>\n",
       "</div>"
      ],
      "text/plain": [
       "                        TOTAL_TONS     TONS_HE     TONS_IC  TONS_FRAG\n",
       "COUNTRY_FLYING_MISSION                                               \n",
       "AUSTRALIA                  0.47989     0.45390    0.013600    0.01864\n",
       "GREAT BRITAIN           1112.59895   868.27723  209.036158    1.20800\n",
       "NEW ZEALAND                2.62906     4.26370    0.166500    0.00000\n",
       "SOUTH AFRICA               0.01169     0.01500    0.000000    0.00000\n",
       "USA                     1625.48768  1297.95565  205.288200  127.65598"
      ]
     },
     "execution_count": 84,
     "metadata": {},
     "output_type": "execute_result"
    }
   ],
   "source": [
    "grouped"
   ]
  },
  {
   "cell_type": "code",
   "execution_count": 85,
   "metadata": {},
   "outputs": [],
   "source": [
    "source = ColumnDataSource(grouped)\n",
    "countries = source.data['COUNTRY_FLYING_MISSION'].tolist()\n",
    "p = figure(x_range=countries)"
   ]
  },
  {
   "cell_type": "code",
   "execution_count": 86,
   "metadata": {},
   "outputs": [
    {
     "data": {
      "text/plain": [
       "['AUSTRALIA', 'GREAT BRITAIN', 'NEW ZEALAND', 'SOUTH AFRICA', 'USA']"
      ]
     },
     "execution_count": 86,
     "metadata": {},
     "output_type": "execute_result"
    }
   ],
   "source": [
    "countries"
   ]
  },
  {
   "cell_type": "code",
   "execution_count": 87,
   "metadata": {},
   "outputs": [],
   "source": [
    "from bokeh.transform import factor_cmap\n",
    "from bokeh.palettes import Spectral5\n",
    "\n",
    "color_map = factor_cmap(field_name='COUNTRY_FLYING_MISSION', \n",
    "                    palette=Spectral5, factors=countries)\n",
    "\n",
    "p.vbar(x='COUNTRY_FLYING_MISSION', top='TOTAL_TONS', source=source, width=0.70, color=color_map)\n",
    "\n",
    "p.title.text ='Munitions Dropped by Allied Country'\n",
    "p.xaxis.axis_label = 'Country'\n",
    "p.yaxis.axis_label = 'Kilotons of Munitions'"
   ]
  },
  {
   "cell_type": "code",
   "execution_count": 88,
   "metadata": {},
   "outputs": [
    {
     "data": {
      "text/html": [
       "\n",
       "\n",
       "\n",
       "\n",
       "\n",
       "\n",
       "  <div class=\"bk-root\" id=\"3628f09d-8c19-45a5-abc1-a75756ef2c41\"></div>\n"
      ]
     },
     "metadata": {},
     "output_type": "display_data"
    },
    {
     "data": {
      "application/javascript": [
       "(function(root) {\n",
       "  function embed_document(root) {\n",
       "    \n",
       "  var docs_json = {\"fb773ca8-442c-4df2-a0b9-6d42f6d405fc\":{\"roots\":{\"references\":[{\"attributes\":{\"below\":[{\"id\":\"5329\",\"type\":\"CategoricalAxis\"}],\"left\":[{\"id\":\"5333\",\"type\":\"LinearAxis\"}],\"renderers\":[{\"id\":\"5329\",\"type\":\"CategoricalAxis\"},{\"id\":\"5332\",\"type\":\"Grid\"},{\"id\":\"5333\",\"type\":\"LinearAxis\"},{\"id\":\"5337\",\"type\":\"Grid\"},{\"id\":\"5346\",\"type\":\"BoxAnnotation\"},{\"id\":\"5357\",\"type\":\"GlyphRenderer\"}],\"title\":{\"id\":\"5359\",\"type\":\"Title\"},\"toolbar\":{\"id\":\"5344\",\"type\":\"Toolbar\"},\"x_range\":{\"id\":\"5321\",\"type\":\"FactorRange\"},\"x_scale\":{\"id\":\"5325\",\"type\":\"CategoricalScale\"},\"y_range\":{\"id\":\"5323\",\"type\":\"DataRange1d\"},\"y_scale\":{\"id\":\"5327\",\"type\":\"LinearScale\"}},\"id\":\"5320\",\"subtype\":\"Figure\",\"type\":\"Plot\"},{\"attributes\":{},\"id\":\"5510\",\"type\":\"UnionRenderers\"},{\"attributes\":{},\"id\":\"5327\",\"type\":\"LinearScale\"},{\"attributes\":{\"active_drag\":\"auto\",\"active_inspect\":\"auto\",\"active_multi\":null,\"active_scroll\":\"auto\",\"active_tap\":\"auto\",\"tools\":[{\"id\":\"5338\",\"type\":\"PanTool\"},{\"id\":\"5339\",\"type\":\"WheelZoomTool\"},{\"id\":\"5340\",\"type\":\"BoxZoomTool\"},{\"id\":\"5341\",\"type\":\"SaveTool\"},{\"id\":\"5342\",\"type\":\"ResetTool\"},{\"id\":\"5343\",\"type\":\"HelpTool\"},{\"id\":\"5360\",\"type\":\"HoverTool\"}]},\"id\":\"5344\",\"type\":\"Toolbar\"},{\"attributes\":{\"bottom_units\":\"screen\",\"fill_alpha\":{\"value\":0.5},\"fill_color\":{\"value\":\"lightgrey\"},\"left_units\":\"screen\",\"level\":\"overlay\",\"line_alpha\":{\"value\":1.0},\"line_color\":{\"value\":\"black\"},\"line_dash\":[4,4],\"line_width\":{\"value\":2},\"plot\":null,\"render_mode\":\"css\",\"right_units\":\"screen\",\"top_units\":\"screen\"},\"id\":\"5346\",\"type\":\"BoxAnnotation\"},{\"attributes\":{\"callback\":null,\"factors\":[\"AUSTRALIA\",\"GREAT BRITAIN\",\"NEW ZEALAND\",\"SOUTH AFRICA\",\"USA\"]},\"id\":\"5321\",\"type\":\"FactorRange\"},{\"attributes\":{\"callback\":null,\"mode\":\"vline\",\"renderers\":\"auto\",\"tooltips\":[[\"Totals\",\"@TONS_HE High Explosive / @TONS_IC Incendiary / @TONS_FRAG Fragmentation\"]]},\"id\":\"5360\",\"type\":\"HoverTool\"},{\"attributes\":{},\"id\":\"5343\",\"type\":\"HelpTool\"},{\"attributes\":{\"axis_label\":\"Country\",\"formatter\":{\"id\":\"5505\",\"type\":\"CategoricalTickFormatter\"},\"plot\":{\"id\":\"5320\",\"subtype\":\"Figure\",\"type\":\"Plot\"},\"ticker\":{\"id\":\"5330\",\"type\":\"CategoricalTicker\"}},\"id\":\"5329\",\"type\":\"CategoricalAxis\"},{\"attributes\":{},\"id\":\"5330\",\"type\":\"CategoricalTicker\"},{\"attributes\":{},\"id\":\"5507\",\"type\":\"BasicTickFormatter\"},{\"attributes\":{\"callback\":null},\"id\":\"5323\",\"type\":\"DataRange1d\"},{\"attributes\":{},\"id\":\"5509\",\"type\":\"Selection\"},{\"attributes\":{},\"id\":\"5325\",\"type\":\"CategoricalScale\"},{\"attributes\":{},\"id\":\"5334\",\"type\":\"BasicTicker\"},{\"attributes\":{\"axis_label\":\"Kilotons of Munitions\",\"formatter\":{\"id\":\"5507\",\"type\":\"BasicTickFormatter\"},\"plot\":{\"id\":\"5320\",\"subtype\":\"Figure\",\"type\":\"Plot\"},\"ticker\":{\"id\":\"5334\",\"type\":\"BasicTicker\"}},\"id\":\"5333\",\"type\":\"LinearAxis\"},{\"attributes\":{\"dimension\":1,\"plot\":{\"id\":\"5320\",\"subtype\":\"Figure\",\"type\":\"Plot\"},\"ticker\":{\"id\":\"5334\",\"type\":\"BasicTicker\"}},\"id\":\"5337\",\"type\":\"Grid\"},{\"attributes\":{\"plot\":{\"id\":\"5320\",\"subtype\":\"Figure\",\"type\":\"Plot\"},\"ticker\":{\"id\":\"5330\",\"type\":\"CategoricalTicker\"}},\"id\":\"5332\",\"type\":\"Grid\"},{\"attributes\":{\"factors\":[\"AUSTRALIA\",\"GREAT BRITAIN\",\"NEW ZEALAND\",\"SOUTH AFRICA\",\"USA\"],\"palette\":[\"#2b83ba\",\"#abdda4\",\"#ffffbf\",\"#fdae61\",\"#d7191c\"]},\"id\":\"5353\",\"type\":\"CategoricalColorMapper\"},{\"attributes\":{\"plot\":null,\"text\":\"Munitions Dropped by Allied Country\"},\"id\":\"5359\",\"type\":\"Title\"},{\"attributes\":{\"callback\":null,\"data\":{\"COUNTRY_FLYING_MISSION\":[\"AUSTRALIA\",\"GREAT BRITAIN\",\"NEW ZEALAND\",\"SOUTH AFRICA\",\"USA\"],\"TONS_FRAG\":{\"__ndarray__\":\"g/qWOV0Wkz+HFtnO91PzPwAAAAAAAAAAAAAAAAAAAAAgtYmT++lfQA==\",\"dtype\":\"float64\",\"shape\":[5]},\"TONS_HE\":{\"__ndarray__\":\"sOHplbIM3T/Du1zENyKLQB3Sb18HDhFAuB6F61G4jj+x4emV0keUQA==\",\"dtype\":\"float64\",\"shape\":[5]},\"TONS_IC\":{\"__ndarray__\":\"YAfOGVHaiz+kb9I0KCFqQB1aZDvfT8U/AAAAAAAAAACh1jTvOKlpQA==\",\"dtype\":\"float64\",\"shape\":[5]},\"TOTAL_TONS\":{\"__ndarray__\":\"LVvri4S23j/DFyZTZWKRQCzG+ZtQCAVAjJyFPe3whz+ny2Ji82WZQA==\",\"dtype\":\"float64\",\"shape\":[5]}},\"selected\":{\"id\":\"5509\",\"type\":\"Selection\"},\"selection_policy\":{\"id\":\"5510\",\"type\":\"UnionRenderers\"}},\"id\":\"5319\",\"type\":\"ColumnDataSource\"},{\"attributes\":{\"fill_color\":{\"field\":\"COUNTRY_FLYING_MISSION\",\"transform\":{\"id\":\"5353\",\"type\":\"CategoricalColorMapper\"}},\"line_color\":{\"field\":\"COUNTRY_FLYING_MISSION\",\"transform\":{\"id\":\"5353\",\"type\":\"CategoricalColorMapper\"}},\"top\":{\"field\":\"TOTAL_TONS\"},\"width\":{\"value\":0.7},\"x\":{\"field\":\"COUNTRY_FLYING_MISSION\"}},\"id\":\"5355\",\"type\":\"VBar\"},{\"attributes\":{},\"id\":\"5338\",\"type\":\"PanTool\"},{\"attributes\":{\"overlay\":{\"id\":\"5346\",\"type\":\"BoxAnnotation\"}},\"id\":\"5340\",\"type\":\"BoxZoomTool\"},{\"attributes\":{},\"id\":\"5505\",\"type\":\"CategoricalTickFormatter\"},{\"attributes\":{\"fill_alpha\":{\"value\":0.1},\"fill_color\":{\"value\":\"#1f77b4\"},\"line_alpha\":{\"value\":0.1},\"line_color\":{\"value\":\"#1f77b4\"},\"top\":{\"field\":\"TOTAL_TONS\"},\"width\":{\"value\":0.7},\"x\":{\"field\":\"COUNTRY_FLYING_MISSION\"}},\"id\":\"5356\",\"type\":\"VBar\"},{\"attributes\":{},\"id\":\"5342\",\"type\":\"ResetTool\"},{\"attributes\":{\"data_source\":{\"id\":\"5319\",\"type\":\"ColumnDataSource\"},\"glyph\":{\"id\":\"5355\",\"type\":\"VBar\"},\"hover_glyph\":null,\"muted_glyph\":null,\"nonselection_glyph\":{\"id\":\"5356\",\"type\":\"VBar\"},\"selection_glyph\":null,\"view\":{\"id\":\"5358\",\"type\":\"CDSView\"}},\"id\":\"5357\",\"type\":\"GlyphRenderer\"},{\"attributes\":{},\"id\":\"5339\",\"type\":\"WheelZoomTool\"},{\"attributes\":{\"source\":{\"id\":\"5319\",\"type\":\"ColumnDataSource\"}},\"id\":\"5358\",\"type\":\"CDSView\"},{\"attributes\":{},\"id\":\"5341\",\"type\":\"SaveTool\"}],\"root_ids\":[\"5320\"]},\"title\":\"Bokeh Application\",\"version\":\"1.0.1\"}};\n",
       "  var render_items = [{\"docid\":\"fb773ca8-442c-4df2-a0b9-6d42f6d405fc\",\"roots\":{\"5320\":\"3628f09d-8c19-45a5-abc1-a75756ef2c41\"}}];\n",
       "  root.Bokeh.embed.embed_items_notebook(docs_json, render_items);\n",
       "\n",
       "  }\n",
       "  if (root.Bokeh !== undefined) {\n",
       "    embed_document(root);\n",
       "  } else {\n",
       "    var attempts = 0;\n",
       "    var timer = setInterval(function(root) {\n",
       "      if (root.Bokeh !== undefined) {\n",
       "        embed_document(root);\n",
       "        clearInterval(timer);\n",
       "      }\n",
       "      attempts++;\n",
       "      if (attempts > 100) {\n",
       "        console.log(\"Bokeh: ERROR: Unable to run BokehJS code because BokehJS library is missing\");\n",
       "        clearInterval(timer);\n",
       "      }\n",
       "    }, 10, root)\n",
       "  }\n",
       "})(window);"
      ],
      "application/vnd.bokehjs_exec.v0+json": ""
     },
     "metadata": {
      "application/vnd.bokehjs_exec.v0+json": {
       "id": "5320"
      }
     },
     "output_type": "display_data"
    }
   ],
   "source": [
    "hover = HoverTool()\n",
    "hover.tooltips = [\n",
    "    (\"Totals\", \"@TONS_HE High Explosive / @TONS_IC Incendiary / @TONS_FRAG Fragmentation\")]\n",
    "\n",
    "hover.mode = 'vline'\n",
    "\n",
    "p.add_tools(hover)\n",
    "\n",
    "show(p)"
   ]
  },
  {
   "cell_type": "code",
   "execution_count": 89,
   "metadata": {},
   "outputs": [],
   "source": [
    "df = pd.read_csv(filename)\n",
    "filter = df['COUNTRY_FLYING_MISSION'].isin(('USA','GREAT BRITAIN'))\n",
    "df = df[filter]"
   ]
  },
  {
   "cell_type": "code",
   "execution_count": 90,
   "metadata": {},
   "outputs": [],
   "source": [
    "grouped = df.groupby('COUNTRY_FLYING_MISSION')['TONS_IC', 'TONS_FRAG', 'TONS_HE'].sum()"
   ]
  },
  {
   "cell_type": "code",
   "execution_count": 91,
   "metadata": {},
   "outputs": [
    {
     "data": {
      "text/html": [
       "<div>\n",
       "<style scoped>\n",
       "    .dataframe tbody tr th:only-of-type {\n",
       "        vertical-align: middle;\n",
       "    }\n",
       "\n",
       "    .dataframe tbody tr th {\n",
       "        vertical-align: top;\n",
       "    }\n",
       "\n",
       "    .dataframe thead th {\n",
       "        text-align: right;\n",
       "    }\n",
       "</style>\n",
       "<table border=\"1\" class=\"dataframe\">\n",
       "  <thead>\n",
       "    <tr style=\"text-align: right;\">\n",
       "      <th></th>\n",
       "      <th>TONS_IC</th>\n",
       "      <th>TONS_FRAG</th>\n",
       "      <th>TONS_HE</th>\n",
       "    </tr>\n",
       "    <tr>\n",
       "      <th>COUNTRY_FLYING_MISSION</th>\n",
       "      <th></th>\n",
       "      <th></th>\n",
       "      <th></th>\n",
       "    </tr>\n",
       "  </thead>\n",
       "  <tbody>\n",
       "    <tr>\n",
       "      <th>GREAT BRITAIN</th>\n",
       "      <td>209036.158</td>\n",
       "      <td>1208.00</td>\n",
       "      <td>868277.23</td>\n",
       "    </tr>\n",
       "    <tr>\n",
       "      <th>USA</th>\n",
       "      <td>205288.200</td>\n",
       "      <td>127655.98</td>\n",
       "      <td>1297955.65</td>\n",
       "    </tr>\n",
       "  </tbody>\n",
       "</table>\n",
       "</div>"
      ],
      "text/plain": [
       "                           TONS_IC  TONS_FRAG     TONS_HE\n",
       "COUNTRY_FLYING_MISSION                                   \n",
       "GREAT BRITAIN           209036.158    1208.00   868277.23\n",
       "USA                     205288.200  127655.98  1297955.65"
      ]
     },
     "execution_count": 91,
     "metadata": {},
     "output_type": "execute_result"
    }
   ],
   "source": [
    "grouped"
   ]
  },
  {
   "cell_type": "code",
   "execution_count": 92,
   "metadata": {},
   "outputs": [],
   "source": [
    "grouped = grouped / 1000\n"
   ]
  },
  {
   "cell_type": "code",
   "execution_count": 93,
   "metadata": {},
   "outputs": [],
   "source": [
    "source = ColumnDataSource(grouped)\n",
    "countries = source.data['COUNTRY_FLYING_MISSION'].tolist()\n",
    "p = figure(x_range=countries)"
   ]
  },
  {
   "cell_type": "code",
   "execution_count": 94,
   "metadata": {},
   "outputs": [
    {
     "data": {
      "text/plain": [
       "[GlyphRenderer(id='5608', ...),\n",
       " GlyphRenderer(id='5622', ...),\n",
       " GlyphRenderer(id='5637', ...)]"
      ]
     },
     "execution_count": 94,
     "metadata": {},
     "output_type": "execute_result"
    }
   ],
   "source": [
    "from bokeh.palettes import Spectral3\n",
    "\n",
    "p.vbar_stack(stackers=['TONS_HE', 'TONS_FRAG', 'TONS_IC'], \n",
    "             x='COUNTRY_FLYING_MISSION', source=source, \n",
    "             legend = ['High Explosive', 'Fragmentation', 'Incendiary'],\n",
    "             width=0.5, color=Spectral3)"
   ]
  },
  {
   "cell_type": "code",
   "execution_count": 95,
   "metadata": {},
   "outputs": [
    {
     "data": {
      "text/html": [
       "\n",
       "\n",
       "\n",
       "\n",
       "\n",
       "\n",
       "  <div class=\"bk-root\" id=\"fb362645-d666-488e-8c2b-3f319a133e00\"></div>\n"
      ]
     },
     "metadata": {},
     "output_type": "display_data"
    },
    {
     "data": {
      "application/javascript": [
       "(function(root) {\n",
       "  function embed_document(root) {\n",
       "    \n",
       "  var docs_json = {\"ac3b53da-921c-4b92-bb31-d7f7a86e7739\":{\"roots\":{\"references\":[{\"attributes\":{\"below\":[{\"id\":\"5575\",\"type\":\"CategoricalAxis\"}],\"left\":[{\"id\":\"5579\",\"type\":\"LinearAxis\"}],\"renderers\":[{\"id\":\"5575\",\"type\":\"CategoricalAxis\"},{\"id\":\"5578\",\"type\":\"Grid\"},{\"id\":\"5579\",\"type\":\"LinearAxis\"},{\"id\":\"5583\",\"type\":\"Grid\"},{\"id\":\"5592\",\"type\":\"BoxAnnotation\"},{\"id\":\"5617\",\"type\":\"Legend\"},{\"id\":\"5608\",\"type\":\"GlyphRenderer\"},{\"id\":\"5622\",\"type\":\"GlyphRenderer\"},{\"id\":\"5637\",\"type\":\"GlyphRenderer\"}],\"title\":{\"id\":\"5610\",\"type\":\"Title\"},\"toolbar\":{\"id\":\"5590\",\"type\":\"Toolbar\"},\"x_range\":{\"id\":\"5567\",\"type\":\"FactorRange\"},\"x_scale\":{\"id\":\"5571\",\"type\":\"CategoricalScale\"},\"y_range\":{\"id\":\"5569\",\"type\":\"DataRange1d\"},\"y_scale\":{\"id\":\"5573\",\"type\":\"LinearScale\"}},\"id\":\"5566\",\"subtype\":\"Figure\",\"type\":\"Plot\"},{\"attributes\":{\"bottom_units\":\"screen\",\"fill_alpha\":{\"value\":0.5},\"fill_color\":{\"value\":\"lightgrey\"},\"left_units\":\"screen\",\"level\":\"overlay\",\"line_alpha\":{\"value\":1.0},\"line_color\":{\"value\":\"black\"},\"line_dash\":[4,4],\"line_width\":{\"value\":2},\"plot\":null,\"render_mode\":\"css\",\"right_units\":\"screen\",\"top_units\":\"screen\"},\"id\":\"5592\",\"type\":\"BoxAnnotation\"},{\"attributes\":{\"grid_line_color\":{\"value\":null},\"plot\":{\"id\":\"5566\",\"subtype\":\"Figure\",\"type\":\"Plot\"},\"ticker\":{\"id\":\"5576\",\"type\":\"CategoricalTicker\"}},\"id\":\"5578\",\"type\":\"Grid\"},{\"attributes\":{\"label\":{\"value\":\"Incendiary\"},\"renderers\":[{\"id\":\"5637\",\"type\":\"GlyphRenderer\"}]},\"id\":\"5648\",\"type\":\"LegendItem\"},{\"attributes\":{\"source\":{\"id\":\"5565\",\"type\":\"ColumnDataSource\"}},\"id\":\"5623\",\"type\":\"CDSView\"},{\"attributes\":{},\"id\":\"5631\",\"type\":\"Selection\"},{\"attributes\":{},\"id\":\"5571\",\"type\":\"CategoricalScale\"},{\"attributes\":{\"bottom\":{\"expr\":{\"id\":\"5599\",\"type\":\"Stack\"}},\"fill_color\":{\"value\":\"#99d594\"},\"line_color\":{\"value\":\"#99d594\"},\"top\":{\"expr\":{\"id\":\"5600\",\"type\":\"Stack\"}},\"width\":{\"value\":0.5},\"x\":{\"field\":\"COUNTRY_FLYING_MISSION\"}},\"id\":\"5606\",\"type\":\"VBar\"},{\"attributes\":{\"data_source\":{\"id\":\"5565\",\"type\":\"ColumnDataSource\"},\"glyph\":{\"id\":\"5635\",\"type\":\"VBar\"},\"hover_glyph\":null,\"muted_glyph\":null,\"name\":\"TONS_IC\",\"nonselection_glyph\":{\"id\":\"5636\",\"type\":\"VBar\"},\"selection_glyph\":null,\"view\":{\"id\":\"5638\",\"type\":\"CDSView\"}},\"id\":\"5637\",\"type\":\"GlyphRenderer\"},{\"attributes\":{\"bottom\":{\"expr\":{\"id\":\"5603\",\"type\":\"Stack\"}},\"fill_alpha\":{\"value\":0.1},\"fill_color\":{\"value\":\"#1f77b4\"},\"line_alpha\":{\"value\":0.1},\"line_color\":{\"value\":\"#1f77b4\"},\"top\":{\"expr\":{\"id\":\"5604\",\"type\":\"Stack\"}},\"width\":{\"value\":0.5},\"x\":{\"field\":\"COUNTRY_FLYING_MISSION\"}},\"id\":\"5636\",\"type\":\"VBar\"},{\"attributes\":{\"dimension\":1,\"plot\":{\"id\":\"5566\",\"subtype\":\"Figure\",\"type\":\"Plot\"},\"ticker\":{\"id\":\"5580\",\"type\":\"BasicTicker\"}},\"id\":\"5583\",\"type\":\"Grid\"},{\"attributes\":{\"bottom\":{\"expr\":{\"id\":\"5603\",\"type\":\"Stack\"}},\"fill_color\":{\"value\":\"#fc8d59\"},\"line_color\":{\"value\":\"#fc8d59\"},\"top\":{\"expr\":{\"id\":\"5604\",\"type\":\"Stack\"}},\"width\":{\"value\":0.5},\"x\":{\"field\":\"COUNTRY_FLYING_MISSION\"}},\"id\":\"5635\",\"type\":\"VBar\"},{\"attributes\":{\"label\":{\"value\":\"High Explosive\"},\"renderers\":[{\"id\":\"5608\",\"type\":\"GlyphRenderer\"}]},\"id\":\"5618\",\"type\":\"LegendItem\"},{\"attributes\":{},\"id\":\"5585\",\"type\":\"WheelZoomTool\"},{\"attributes\":{\"plot\":null,\"text\":\"Types of Munitions Dropped by Allied Country\"},\"id\":\"5610\",\"type\":\"Title\"},{\"attributes\":{},\"id\":\"5576\",\"type\":\"CategoricalTicker\"},{\"attributes\":{\"fields\":[\"TONS_HE\"]},\"id\":\"5600\",\"type\":\"Stack\"},{\"attributes\":{},\"id\":\"5632\",\"type\":\"UnionRenderers\"},{\"attributes\":{\"fields\":[\"TONS_HE\",\"TONS_FRAG\"]},\"id\":\"5603\",\"type\":\"Stack\"},{\"attributes\":{\"source\":{\"id\":\"5565\",\"type\":\"ColumnDataSource\"}},\"id\":\"5609\",\"type\":\"CDSView\"},{\"attributes\":{},\"id\":\"5580\",\"type\":\"BasicTicker\"},{\"attributes\":{\"items\":[{\"id\":\"5618\",\"type\":\"LegendItem\"},{\"id\":\"5633\",\"type\":\"LegendItem\"},{\"id\":\"5648\",\"type\":\"LegendItem\"}],\"location\":\"top_left\",\"plot\":{\"id\":\"5566\",\"subtype\":\"Figure\",\"type\":\"Plot\"}},\"id\":\"5617\",\"type\":\"Legend\"},{\"attributes\":{\"bottom\":{\"expr\":{\"id\":\"5601\",\"type\":\"Stack\"}},\"fill_color\":{\"value\":\"#ffffbf\"},\"line_color\":{\"value\":\"#ffffbf\"},\"top\":{\"expr\":{\"id\":\"5602\",\"type\":\"Stack\"}},\"width\":{\"value\":0.5},\"x\":{\"field\":\"COUNTRY_FLYING_MISSION\"}},\"id\":\"5620\",\"type\":\"VBar\"},{\"attributes\":{\"callback\":null,\"data\":{\"COUNTRY_FLYING_MISSION\":[\"GREAT BRITAIN\",\"USA\"],\"TONS_FRAG\":{\"__ndarray__\":\"hxbZzvdT8z8gtYmT++lfQA==\",\"dtype\":\"float64\",\"shape\":[2]},\"TONS_HE\":{\"__ndarray__\":\"w7tcxDcii0Cx4emV0keUQA==\",\"dtype\":\"float64\",\"shape\":[2]},\"TONS_IC\":{\"__ndarray__\":\"pG/SNCghakCh1jTvOKlpQA==\",\"dtype\":\"float64\",\"shape\":[2]}},\"selected\":{\"id\":\"5631\",\"type\":\"Selection\"},\"selection_policy\":{\"id\":\"5632\",\"type\":\"UnionRenderers\"}},\"id\":\"5565\",\"type\":\"ColumnDataSource\"},{\"attributes\":{\"fields\":[\"TONS_HE\",\"TONS_FRAG\",\"TONS_IC\"]},\"id\":\"5604\",\"type\":\"Stack\"},{\"attributes\":{},\"id\":\"5587\",\"type\":\"SaveTool\"},{\"attributes\":{\"axis_label\":\"Country\",\"formatter\":{\"id\":\"5613\",\"type\":\"CategoricalTickFormatter\"},\"plot\":{\"id\":\"5566\",\"subtype\":\"Figure\",\"type\":\"Plot\"},\"ticker\":{\"id\":\"5576\",\"type\":\"CategoricalTicker\"}},\"id\":\"5575\",\"type\":\"CategoricalAxis\"},{\"attributes\":{},\"id\":\"5589\",\"type\":\"HelpTool\"},{\"attributes\":{\"callback\":null,\"factors\":[\"GREAT BRITAIN\",\"USA\"]},\"id\":\"5567\",\"type\":\"FactorRange\"},{\"attributes\":{\"fields\":[\"TONS_HE\"]},\"id\":\"5601\",\"type\":\"Stack\"},{\"attributes\":{\"active_drag\":\"auto\",\"active_inspect\":\"auto\",\"active_multi\":null,\"active_scroll\":\"auto\",\"active_tap\":\"auto\",\"tools\":[{\"id\":\"5584\",\"type\":\"PanTool\"},{\"id\":\"5585\",\"type\":\"WheelZoomTool\"},{\"id\":\"5586\",\"type\":\"BoxZoomTool\"},{\"id\":\"5587\",\"type\":\"SaveTool\"},{\"id\":\"5588\",\"type\":\"ResetTool\"},{\"id\":\"5589\",\"type\":\"HelpTool\"}]},\"id\":\"5590\",\"type\":\"Toolbar\"},{\"attributes\":{\"bottom\":{\"expr\":{\"id\":\"5599\",\"type\":\"Stack\"}},\"fill_alpha\":{\"value\":0.1},\"fill_color\":{\"value\":\"#1f77b4\"},\"line_alpha\":{\"value\":0.1},\"line_color\":{\"value\":\"#1f77b4\"},\"top\":{\"expr\":{\"id\":\"5600\",\"type\":\"Stack\"}},\"width\":{\"value\":0.5},\"x\":{\"field\":\"COUNTRY_FLYING_MISSION\"}},\"id\":\"5607\",\"type\":\"VBar\"},{\"attributes\":{\"axis_label\":\"Kilotons of Munitions\",\"formatter\":{\"id\":\"5615\",\"type\":\"BasicTickFormatter\"},\"plot\":{\"id\":\"5566\",\"subtype\":\"Figure\",\"type\":\"Plot\"},\"ticker\":{\"id\":\"5580\",\"type\":\"BasicTicker\"}},\"id\":\"5579\",\"type\":\"LinearAxis\"},{\"attributes\":{},\"id\":\"5588\",\"type\":\"ResetTool\"},{\"attributes\":{\"label\":{\"value\":\"Fragmentation\"},\"renderers\":[{\"id\":\"5622\",\"type\":\"GlyphRenderer\"}]},\"id\":\"5633\",\"type\":\"LegendItem\"},{\"attributes\":{\"source\":{\"id\":\"5565\",\"type\":\"ColumnDataSource\"}},\"id\":\"5638\",\"type\":\"CDSView\"},{\"attributes\":{\"overlay\":{\"id\":\"5592\",\"type\":\"BoxAnnotation\"}},\"id\":\"5586\",\"type\":\"BoxZoomTool\"},{\"attributes\":{\"callback\":null},\"id\":\"5569\",\"type\":\"DataRange1d\"},{\"attributes\":{\"data_source\":{\"id\":\"5565\",\"type\":\"ColumnDataSource\"},\"glyph\":{\"id\":\"5620\",\"type\":\"VBar\"},\"hover_glyph\":null,\"muted_glyph\":null,\"name\":\"TONS_FRAG\",\"nonselection_glyph\":{\"id\":\"5621\",\"type\":\"VBar\"},\"selection_glyph\":null,\"view\":{\"id\":\"5623\",\"type\":\"CDSView\"}},\"id\":\"5622\",\"type\":\"GlyphRenderer\"},{\"attributes\":{},\"id\":\"5573\",\"type\":\"LinearScale\"},{\"attributes\":{\"fields\":[\"TONS_HE\",\"TONS_FRAG\"]},\"id\":\"5602\",\"type\":\"Stack\"},{\"attributes\":{},\"id\":\"5615\",\"type\":\"BasicTickFormatter\"},{\"attributes\":{\"data_source\":{\"id\":\"5565\",\"type\":\"ColumnDataSource\"},\"glyph\":{\"id\":\"5606\",\"type\":\"VBar\"},\"hover_glyph\":null,\"muted_glyph\":null,\"name\":\"TONS_HE\",\"nonselection_glyph\":{\"id\":\"5607\",\"type\":\"VBar\"},\"selection_glyph\":null,\"view\":{\"id\":\"5609\",\"type\":\"CDSView\"}},\"id\":\"5608\",\"type\":\"GlyphRenderer\"},{\"attributes\":{\"fields\":[]},\"id\":\"5599\",\"type\":\"Stack\"},{\"attributes\":{},\"id\":\"5584\",\"type\":\"PanTool\"},{\"attributes\":{\"bottom\":{\"expr\":{\"id\":\"5601\",\"type\":\"Stack\"}},\"fill_alpha\":{\"value\":0.1},\"fill_color\":{\"value\":\"#1f77b4\"},\"line_alpha\":{\"value\":0.1},\"line_color\":{\"value\":\"#1f77b4\"},\"top\":{\"expr\":{\"id\":\"5602\",\"type\":\"Stack\"}},\"width\":{\"value\":0.5},\"x\":{\"field\":\"COUNTRY_FLYING_MISSION\"}},\"id\":\"5621\",\"type\":\"VBar\"},{\"attributes\":{},\"id\":\"5613\",\"type\":\"CategoricalTickFormatter\"}],\"root_ids\":[\"5566\"]},\"title\":\"Bokeh Application\",\"version\":\"1.0.1\"}};\n",
       "  var render_items = [{\"docid\":\"ac3b53da-921c-4b92-bb31-d7f7a86e7739\",\"roots\":{\"5566\":\"fb362645-d666-488e-8c2b-3f319a133e00\"}}];\n",
       "  root.Bokeh.embed.embed_items_notebook(docs_json, render_items);\n",
       "\n",
       "  }\n",
       "  if (root.Bokeh !== undefined) {\n",
       "    embed_document(root);\n",
       "  } else {\n",
       "    var attempts = 0;\n",
       "    var timer = setInterval(function(root) {\n",
       "      if (root.Bokeh !== undefined) {\n",
       "        embed_document(root);\n",
       "        clearInterval(timer);\n",
       "      }\n",
       "      attempts++;\n",
       "      if (attempts > 100) {\n",
       "        console.log(\"Bokeh: ERROR: Unable to run BokehJS code because BokehJS library is missing\");\n",
       "        clearInterval(timer);\n",
       "      }\n",
       "    }, 10, root)\n",
       "  }\n",
       "})(window);"
      ],
      "application/vnd.bokehjs_exec.v0+json": ""
     },
     "metadata": {
      "application/vnd.bokehjs_exec.v0+json": {
       "id": "5566"
      }
     },
     "output_type": "display_data"
    }
   ],
   "source": [
    "p.title.text ='Types of Munitions Dropped by Allied Country'\n",
    "p.legend.location = 'top_left'\n",
    "\n",
    "p.xaxis.axis_label = 'Country'\n",
    "p.xgrid.grid_line_color = None\t#remove the x grid lines\n",
    "\n",
    "p.yaxis.axis_label = 'Kilotons of Munitions'\n",
    "# p.ygrid.grid_line_color = None\t#remove the x grid line\n",
    "\n",
    "# hover = HoverTool()\n",
    "# hover.tooltips = [\n",
    "#     (\"Totals\", \"@TONS_HE High Explosive / @TONS_IC Incendiary / @TONS_FRAG Fragmentation\")]\n",
    "\n",
    "# hover.mode = 'vline'\n",
    "\n",
    "# p.add_tools(hover)\n",
    "\n",
    "\n",
    "show(p)"
   ]
  },
  {
   "cell_type": "code",
   "execution_count": 96,
   "metadata": {},
   "outputs": [
    {
     "data": {
      "text/html": [
       "\n",
       "\n",
       "\n",
       "\n",
       "\n",
       "\n",
       "  <div class=\"bk-root\" id=\"5a390f68-0f97-41a7-b391-87eaeca6c8a6\"></div>\n"
      ]
     },
     "metadata": {},
     "output_type": "display_data"
    },
    {
     "data": {
      "application/javascript": [
       "(function(root) {\n",
       "  function embed_document(root) {\n",
       "    \n",
       "  var docs_json = {\"ddb1576f-0d25-4278-ad83-cabdb0bf1c5c\":{\"roots\":{\"references\":[{\"attributes\":{\"below\":[{\"id\":\"5872\",\"type\":\"DatetimeAxis\"}],\"left\":[{\"id\":\"5877\",\"type\":\"LinearAxis\"}],\"plot_height\":300,\"plot_width\":800,\"renderers\":[{\"id\":\"5872\",\"type\":\"DatetimeAxis\"},{\"id\":\"5876\",\"type\":\"Grid\"},{\"id\":\"5877\",\"type\":\"LinearAxis\"},{\"id\":\"5881\",\"type\":\"Grid\"},{\"id\":\"5890\",\"type\":\"BoxAnnotation\"},{\"id\":\"5921\",\"type\":\"Legend\"},{\"id\":\"5900\",\"type\":\"GlyphRenderer\"},{\"id\":\"5926\",\"type\":\"GlyphRenderer\"},{\"id\":\"5953\",\"type\":\"GlyphRenderer\"},{\"id\":\"5980\",\"type\":\"GlyphRenderer\"}],\"title\":{\"id\":\"5902\",\"type\":\"Title\"},\"toolbar\":{\"id\":\"5888\",\"type\":\"Toolbar\"},\"x_range\":{\"id\":\"5864\",\"type\":\"DataRange1d\"},\"x_scale\":{\"id\":\"5868\",\"type\":\"LinearScale\"},\"y_range\":{\"id\":\"5866\",\"type\":\"DataRange1d\"},\"y_scale\":{\"id\":\"5870\",\"type\":\"LinearScale\"}},\"id\":\"5863\",\"subtype\":\"Figure\",\"type\":\"Plot\"},{\"attributes\":{},\"id\":\"5870\",\"type\":\"LinearScale\"},{\"attributes\":{\"days\":[1,4,7,10,13,16,19,22,25,28]},\"id\":\"5912\",\"type\":\"DaysTicker\"},{\"attributes\":{\"line_alpha\":0.1,\"line_color\":\"#1f77b4\",\"line_width\":2,\"x\":{\"field\":\"MSNDATE\"},\"y\":{\"field\":\"TONS_IC\"}},\"id\":\"5952\",\"type\":\"Line\"},{\"attributes\":{\"callback\":null,\"data\":{\"MSNDATE\":{\"__ndarray__\":\"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\",\"dtype\":\"float64\",\"shape\":[1899]},\"TONS_FRAG\":{\"__ndarray__\":\"AAAAAAAAAAAAAAAAAAAAAAAAAAAAAAAAAAAAAAAAAAAAAAAAAAAAAAAAAAAAAAAAAAAAAAAAAAAAAAAAAAAAAAAAAAAAAAAAAAAAAAAAAAAAAAAAAAAAAAAAAAAAAAAAAAAAAAAAAAAAAAAAAAAAAAAAAAAAAAAAAAAAAAAAAAAAAAAAAAAAAAAAAAAAAAAAAAAAAAAAAAAAAAAAAAAAAAAAAAAAAAAAAAAAAAAAAAAAAAAAAAAAAAAAAAAAAAAAAAAAAAAAAAAAAAAAAAAAAAAAAAAAAAAAAAAAAAAAAAAAAAAAAAAAAAAAAAAAAAAAAAAAAAAAAAAAAAAAAAAAAAAAAAAAAAAAAAAAAAAAAAAAAAAAAAAAAAAAAAAAAAAAAAAAAAAAAAAAAAAAAAAAAAAAAAAAAAAAAAAAAAAAAAAAAAAAAAAAAAAAAAAAAAAAAAAAAAAAAAAAAAAAAAAAAAAAAAAAAAAAAAAAAAAAAAAAAAAAAAAAAAAAAAAAAAAAAAAAAAAAAAAAAAAAAAAAAAAAAAAAAAAAAAAAAAAAAAAAAAAAAAAAAAAAAAAAAAAAAAAAAAAAAAAAAAAAAAAAAAAAAAAAAAAAAAAAAAAAAAAAAAAAAAAAAAAAAAAAAAAAAAAAAAAAAAAAAAAAAAAAAAAAAAAAAAAAAAAAAAAAAAAAAAAAAAAAAAAAAAAAAAAAAAAAAAAAAAAAAAAAAAAAAAAAAAAAAAAAAAAAAAAAAAAAAAAAAAAAAAAAAAAAAAAAAAAAAAAAAAAAAAAAAAAAAAAAAAAAAAAAAAAAAAAAAAAAAAAAAAAAAAAAAAAAAAAAAAAAAAAAAAAAAAAAAAAAAAAAAAAAAAAAAAAAAAAAAAAAAAAAAAAAAAAAAAAAAAAAAAAAAAAAAAAAAAAAAAAAAAAAAAAAAAAAAAAAAAAAAAD8qfHSTWJQPwAAAAAAAAAAAAAAAAAAAAAAAAAAAAAAAAAAAAAAAAAAAAAAAAAAAAAAAAAAAAAAAAAAAAAAAAAAAAAAAAAAAAAAAAAAAAAAAAAAAAAAAAAAAAAAAAAAAAAAAAAAAAAAAAAAAAAAAAAAAAAAAAAAAAAAAAAAAAAAAAAAAAAAAAAAAAAAAAAAAAAAAAAAAAAAAAAAAAAAAAAAAAAAAAAAAAAAAAAAAAAAAAAAAAAAAAAAAAAAAAAAAAAAAAAAAAAAAAAAAAAAAAAAAAAAAAAAAAAAAAAAAAAAAAAAAAAAAAAAAAAAAAAAAAAAAAAAAAAAAAAAAAAAAAAAAAAAAAAAAAAAAAAAAAAAAAAAAAAAAAAAAAAAAAAAAAAAAAAAAAAAAAAAAAAAAAAAAAAAAAAAAAAAAAAAAAAAAAAAAAAAAAAAAAAAAAAAAAAAAAAAAAAAAAAAAAAAAAAAAAAAAAAAAAAAAAAAAAAAAAAAAAAAAAAAAAAAAAAAAAAAAAAAAAAAAAAAAAAAAAAAAAAAAAAAAAAAAAAAAAAAAAAAAAAAAAAAAAAAAAAAAAAAAAAAAAAAAAAAAAAAAAAAAAAAAAAAAAAAAAAAAAAAAAAAAAAAAAAAAAAAAAAAAAAAAAAAAAAAAAAAAAAAAAAAAAAAAAAAAAAAAAAAAAAAAAAAAAAAAAAAAAAAAAAAAAAAAAAAAAAAAAAAAAAAAAAAAAAAAAAAAAAAAAAAAAAAAAAAAAAAAAAAAAAAAAAAAAAAAAAAAAAAAAAAAAAAAAAAAAAAAAAAAAAAAAAAAAAAAAAAAAAAAAAAAAAAAAAAAAAAAAAAAAAAAAAAAAAAAAAAAAAAAAAAAAAAAAAAAAAAAAAAAAAAAAAAAAAAAAAAAAAAAAAAAAAAAAAAAAAAAAAAAAAAAAAAAAAAAAAAAAAAAAAAAAAAAAAAAAAAAAAAAAAAAAAAAAAAAAAAAAAAAAAAAAAAAAAAAAB7FK5H4XqEPwAAAAAAAAAAAAAAAAAAAAAAAAAAAAAAAAAAAAAAAAAAAAAAAAAAAAAAAAAAAAAAAAAAAAAAAAAAAAAAAAAAAAAAAAAAAAAAAAAAAAAAAAAAAAAAAAAAAAAAAAAAAAAAAAAAAAAAAAAAAAAAAAAAAAAAAAAAAAAAAAAAAAAAAAAAAAAAAAAAAAAAAAAAAAAAAAAAAAAAAAAAAAAAAAAAAAAAAAAAAAAAAAAAAAAAAAAAAAAAAAAAAAAAAAAAAAAAAAAAAAAAAAAAAAAAAAAAAAAAAAAAAAAAAAAAAAAAAAAAAAAAAAAAAAAAAAAAAAAAAAAAAAAAAAAAAAAAAAAAAAAAAAAAAAAAAAAAAAAAAAAAAAAAAAAAAAAAAAAAAAAAAAAAAAAAAAAAAAAAAAAAAAAAAAAAAAAAAAAAAAAAAAAAAAAAAAAAAAAAAAAAAAAAAAAAAAAAAAAAAAAAAAAAAAAAAAAAAAAAAAAAAAAAAAAAAAAAAAAAAAAAAAAAAAAAAAAAAAAAAAAAAAAAAAAAAAAAAAAAAAAAAAAAAAAAAAAAAAAAAAAAAAAAAAAAAAAAAAAAAAAAAAAAAAAAAAAAAAAAAAAAAAAAAAAAAAAAAAAAAAAAAAAAAAAAAAAAAAAAAAAAAAAAAAAAAAAAAAAAAAAAAAAAAAAAAAAAAAAAAAAAAAAAAAAAAAAAAAAAAAAAAAAAAAAAAAAAAAAAAAAAAAAAAAAAAAAAAAAAAAAAAAAAAAAAAAAAAAAAAAAAAAAAAAAAAAAAAAAAAAAAAAAAAAAAAAAAAAAAAAAAAAAAAAAAAAAAAAAAAAAAAAAAAAAAAAAAAAAAAAAAAAAAAAAAAAAAAAAAAAAAAAAAAAAAAAAAAAAAAAAAAAAAAAAAAAAAAAAAAAAAAAAAAAAAAAAAAAAAAAAAAAAAAAAAAAAAAAAAAAAAAAAAAAAAAAAAAAAAAAAAAAAAAAAAAAAAAAAAAAAAAAAAAAAAAAAAAAAAAAAAAAAAAAAAAAAAAAAAAAAAAAAAAAAAAAAAAAAAAAAAAAAAAAAAAAAAAAAAAAAAAAAAAAAAAAAAAAAAAAAAAAAAAAAAAAAAAAAAAAAAAAAAAAAAAAAAAAAAAAAAAAAAAAAAAAAAAAAAAAAAAAAAAAAAAAAAAAAAAAAAAAAAAAAAAAAAAAAAAAAAAAAAAAAAAAAAAAAAAAAAAAAAAAAAAAAAAAAAAAAAAAAAAAAAAAAAAAAAAAAAAAAAAAAAAAAAAAAAAAAAAAAAAAAAAAAAAAAAAAAAAAAAAAAAAAAAAAAAAAAAAAAAAAAAAAAAAAAAAAAAAAAAAAAAAAAAAAAAAAAAAAAAAAAAAAAAAAAAAAAAAAAAAAAAAAAAAAAAAAAAAAAAAAAAAAAAAAAAAAAAAAAAAAAAAAAAAAAAAAAAAAAAAAAAAAAAAAAAAAAAAAAAAAAAAAAAAAAAAAAAAAAAAAAAAAAAAAAAAAAAAAAAAAAAAAAAAAAAAAAAAAAAAAAAAAAAAAAAAAAAAAAAAAAAAAAAAAAAAAAAAAAAAAAAAAAAAAAAAAAAAAAAAAAAAAAAAAAAAAAAAAAAAAAAAAAAAAAAAAAAAAAAAAAAAAAAAAAAAAAAAAAAAAAAAAAAAAAAAAAAAAAAAAAAAAAAAAAAAAAAAAAAAAAAAAAAAAAAAAAAAAAAAAAAAAAAAAAAAAAAAAAAAAAAAAAAAAAAAAAAAAAAAAAAAAAAAAAAAAAAAAAAAAAAAAAAAAAAAAAAAAAAAAAAAAAAAAAAAAAAAAAAAAAAAAAAAAAAAAAAAAAAAAAAAAAAAAAAAAAAAAAAAAAAAAAAAAAAAAAAAAAAAAAAAAAAAAAAAAAAAAAAAAAAAAAAAAAAAAAAAAAAAAAAAAAAAAAAAAAAAAAAAAAAAAAAAAAAAAAAAAAAAAAAAAAAAAAAAAAAAAAAAAAAAAAAAAAAAAAAAAAAAAAAAAAAAAAAAAAAAAAAAAAAAAAAAAAAAAAAAAAAAAAAAAAAAAAAAAAAAAAAAAAAAAAAAAAAAAAAAAAAAAAAAAAAAAAAAAAAAAAAAAAAAAAAAAAAAAAAAAAAAAAAAAAAAAAAAAAAAAAAAAAAAAAAAAAAAAAAAAAAAAAAAAAAAAAAAAAAAAAAAAAAAAAAAAAAAAAAAAAAAAAAAAAAAAAAAAAAAAAAAAAAAAAAAAAAAAAAAAAAAAAAAAAAAAAAAAAAAAAAAAAAAAAAAAAAAAAAAAAAAAAAAAAAAAAAAAAAAAAAAAAAAAAAAAAAAAAAAAAAAAAAAAAAAAAAAAAAAAAAAAAAAAAAAAAAAAAAAAAAAAAAAAAAAAAAAAAAAAAAAAAAAAAAAAAAAAAAAAAAAAAAAAAAAAAAAAAAAAAAAAAAAAAAAAAAAAAAAAAAAAAAAAAAAAAAAAAAAAAAAAAAAAAAAAAAAAAAAAAAAAAAAAAAAAAAAAAAAAAAAAAAAAAAAAAAAAAAAAAAAAAAAAAAAAAAAAAAAAAAAAAAAAAAAAAAAAAAAAAAAAAAAAAAAAAAAAAAAAAAAAAAAAAAAAAAAAAAAAAAAAAAAAAAAAAAAAAAAAAAAAAAAAAAAAAAAAAAAAAAAAAAAAAAAAAAAAAAAAAAAAAAAAAAAAAAAAAAAAAAAAAAAAAAAAAAAAAAAAAAAAAAAAAAAAAAAAAAAAAAAAAAAAAAAAAAAAAAAAAAAAAAAAAAAAAAAAAAAAAAAAAAAAAAAAAAAAAAAAAAAAAAAAAAAAAAAAAAAAAAAAAAAAAAAAAAAAAAAAAAAAAAAAAAAAAAAAAAAAAAAAAAAAAAAAAAAAAAAAAAAAAAAAAAAAAAAAAAAAAAAAAAAAAAAAAAAAAAAAAAAAAAAAAAAAAAAAAAAAAAAAAAAAAAAAAAAAAAAAAAAAAAAAAAAAAAAAAAAAAAAAAAAAAAAAAAAAAAAAAAAAAAAAAAAAAAAAAAAAAAAAAAAAAAAAAAAAAAAAAAAAAAAAAAAAAAAAAAAAAAAAAAAAAAAAAAAAAAAAAAAAAAAAAAAAAAAAAAAAAAAAAAAAAAAAAAAAAAAAAAAAAAAAAAAAAAAAAAAAAAAAAAAAAAAAAAAAAAAAAAAAAAAAAAAAAAAAAAAAAAAAAAAAAAAAAAAAAAAAAAAAAAAAAAAAAAAAAAAAAAAAAAAAAAAAAAAAAAAAAAAAAAAAAAAAAAAAAAAAAAAAAAAAAAAAAAAAAAAAAAAAAAAAAAAAAAAAAAAAAAAAAAAAAAAAAAAAAAAAAAAAAAAAAAAAAAAAAAAAAAAAAAAAAAAAAAAAAAAAAAAAAAAAAAAAAAAAAAAAAAAAAAAAAAAAAAAAAAAAAAAAAAAAAAAAAAAAAAAAAAAAAAAAAAAAAAAAAAAAAAAAAAAAAAAAAAAAAAAAAAAAAAAAAAAAAAAAAAAAAAAAAAAAAAAAAAAAAAAAAAAAAAAAAAAAAAAAAAAAAAAAAAAAAAAAAAAAAAAAAAAAAAAAAAAAAAAAAAAAAAAAAAAAAAAAAAAAAAAAAAAAAAAAAAAAAAAAAAAAAAAAAAAAAAAAAAAAAAAAAAAAAAAAAAAAAAAAAAAAAAAAAAAAAAAAAAAAAAAAAAAAAAAAAAAAAAAAAAAAAAAAAAAAAAAAAAAAAAAAAAAAAAAAAAAAAAAAAAAAAAAAAAAAAAAAAAAAAAAAAAAAAAAAAAAAAAAAAAAAAAAAAAAAAAAAAAAAAAAAAAAAAAAAAAAAAAAAAAAAAAAAAAAAAAAAAAAAAAAAAAAAAAAAAAAAAAAAAAAAAAAAAAAAAAAAAAAAAAAAAAAAAAAAAAAAAAAAAAAAAAAAAAAAAAAAAAAAAAAAAAAAAAAAAAAAAAAAAAAAAAAAAAAAAAAAAAAAAAAAAAAAAAAADsUbgeheuxPwAAAAAAAAAAAAAAAAAAAAAAAAAAAAAAAAAAAAAAAAAAAAAAAAAAAAAAAAAAAAAAAAAAAAAAAAAAAAAAAAAAAAAAAAAAAAAAAAAAAAAAAAAAAAAAAAAAAAAAAAAAAAAAAAAAAAAAAAAAAAAAAAAAAAAAAAAAAAAAAAAAAAAAAAAAAAAAAAAAAAAAAAAAAAAAAAAAAAAAAAAAAAAAAAAAAAAAAAAAAAAAAAAAAAAAAAAAAAAAAAAAAAAAAAAAAAAAAAAAAAAAAAAAAAAAAAAAAAAAAAAAAAAAAAAAAAAAAAAAAAAAAAAAAAAAAAAAAAAAAAAAAAAAAAAAAAAAAAAAAAAAAAAAAAAAAAAAAAAAAAAAAAAAAAAAAAAAAAAAAAAAAAAAAAAAAAAAAAAAAAAAAAAAAAAAAAAAAAAAAAAAAAAAAAAAAAAAAAAAAAAAAAAAAAAAAAAAAAAAAAAAAAAAAAAAAAAAAAAAAAAAAAAAAAAAAAAAAAAAAAAAAAAAAAAAAAAAAAAAAAAAAAAAAAAAAAAAAAAAAAAAAAAAAAAAAAAAAAAAAAAAAAAAAAAAAAAAAAAAAAAAAAAAAAAAAAAAAAAAAAAAAAAAAAAAAAAAAAAAAAAAAAAAAAAAAAAAAAAAAAAAAAAAAAAAAAAAAAAAAAAAAAAAAAAAAAAAAAAAAAAAAAAAAAAAAAAAAAAAAAAAAAAAAAAAAAAAAAAAAAAAAAAAAAAAAAAAAAAAAAAAAAAAAAAAAAAAAAAAAAAAAAAAAAAAAAAAAAAAAAAAAAAAAAAAAAAAAAAAAAAAAAAAAAAAAAAAAAAAAAAAAAAAAAAAAAAAAAAAAAAAAAAAAAAAAAAAAAAAAAAAAAAAAAAAAAAAAAAAAAAAAAAAAAAAAAAAAAAAAAAAAAAAAAAAAAAAAAAAAAAAAAAAAAAAAAAAAAAAAAAAAAAAAAAAAAAAAAAAAAAAAAAAAAAAAAAAAAAAAAAAAAAAAAAAAAAAAAAAAAAAAAAAAAAAAAAAAAAAAAAAAAAAAAAAAAAAAAAAAAAAAAAAAAAAAAAAAAAAAAAAAAAAAAAAAAAAAAAAAAAAAAAAAAAAAAAAAAAAAAAAAAAAAAAAAAAAAAAAAAAAAAAAAAAAAAAAAAAAAAAAAAAAAAAAAAAAAAAAAAAAAAAAAAAAAAAAAAAAAAAAAAAAAAAAAAAAAAAAAAAAAAAAAAAAAAAAAAAAAAAAAAAAAAAAAAAAAAAAAAAAAAAAAAAAAAAAAAAAAAAAAAAAAAAAAAAAAAAAAAAAAAAAAAAAAAAAAAAAAAAAAAAAAAAAAAAAAAAAAAAAAAAAAAAAAAAAAAAAAAAAAAAAAAAAAAAAAAAAAAAAAAAAAAAAAAAAAAAAAAAAAAAAAAAAAAAAAAAAAAAAAAAAAAAAAAAAAAAAAAAAAAAAAAAAAAAAAAAAAAAAAAAAAAAAAAAAAAAAAAAAAAAAAAAAAAAAAAAAAAAAAAAAAAAAAAAAAAAAAAAAAAAAAAAAAAAAAAAAAAAAAAAAAAAAAAAAAAAAAAAAAAAAAAAAAAAAAAAAAAAAAAAAAAAAAAAAAAAAAAAAAAAAAAAAAAAAAAAAAAAAAAAAAAAAAAAAAAAAAAAAAAAAAAAAAAAAAAAAAAAAAAAAAAAAAAAAAAAAAAAAAAAAAAAAAAAAAAAAAAAAAAAAAAAAAAAAAAAAAAAAAAAAAAAAAAAAAAAAAAAAAAAAAAAAAAAAAAAAAAAAAAAAAAAAAAAAAAAAAAAAAAAAAAAAAAAAAAAAAAAAAAAAAAAAAAAAAAAAAAAAAAAAAAAAAAAAAAAAAAAAAAAAAAAAAAAAAAAAAAAAAAAAAAAAAAAAAAAAAAAAAAAAAAAAAAAAAAAAAAAAAAAAAAAAAAAAAAAAAAAAAAAAAAAAAAAAAAAAAAAAAAAAAAAAAAAAAAAAAAAAAAAAAAAAAAAAAAAAAAAAAAAAAAAAAAAAAAAAAAAAAAAAAAAAAAAAAAAAAAAAAAAAAAAAAAAAAAAAAAAAAAAAAAAAAAAAAAAAAAAAAAAAAICfceFASCY/AAAAAAAAAAAAAAAAAAAAAOdSXFX2XUE/kst/SL99PT+Sy39Iv309PzZZox6i0U0/AAAAAAAAAAAAAAAAAAAAAICfceFASDY/AAAAAAAAAAD6fmq8dJNIPwAAAAAAAAAAAAAAAAAAAAAAAAAAAAAAAAAAAAAAAAAAAAAAAAAAAAAAAAAAAAAAAAAAAAAAAAAAAAAAAAAAAAAAAAAAAAAAANP7xteeWUI/AAAAAAAAAACAn3HhQEg2PwAAAAAAAAAAAAAAAAAAAAAAAAAAAAAAAJ4MjpJX51g/AAAAAAAAAAAAAAAAAAAAAGEyVTAqqVM/AAAAAAAAAAAAAAAAAAAAAAAAAAAAAAAAAAAAAAAAAAAAAAAAAAAAAPFo44i1+CQ/VvFG5pE/OD8AAAAAAAAAAAAAAAAAAAAA8WjjiLX4ND8AAAAAAAAAANP7xteeWUI/+n5qvHSTSD8AAAAAAAAAAAAAAAAAAAAAAAAAAAAAAAAAAAAAAAAAAAAAAAAAAAAAAAAAAAAAAAAAAAAAAAAAAAAAAAAAAAAAAAAAAAAAAAAAAAAAAAAAAAAAAAAAAAAAAAAAAAAAAAAAAAAAAAAAAAAAAAAAAAAAAAAAAAAAAAAAAAAAAAAAAGEyVTAqqTM/AAAAAAAAAADDL/XzpiJlP4CfceFASCY/kst/SL99TT/MRXwnZr1YPwAAAAAAAAAAAAAAAAAAAAD6fmq8dJNIPwAAAAAAAAAArK3YX3ZPXj8tQxzr4jZKPwAAAAAAAAAAAAAAAAAAAAAtQxzr4jZaPwAAAAAAAAAAAAAAAAAAAAD0yB8MPPduPwAAAAAAAAAAAAAAAAAAAAAAAAAAAAAAAC1DHOviNio/mpmZmZmZyT9LsDic+dUsP2EyVTAqqUM/YTJVMCqpUz8tQxzr4jZaPxaMSuoENGE/AAAAAAAAAABhMlUwKqlTP9P7xteeWUI/S7A4nPnVXD/wUBToE3lyP+Un1T4djzk/lPYGX5hMRT9LsDic+dU8P8e6uI0G8DY/N4QqNXugVT9hMlUwKqlTP2EyVTAqqTM//Knx0k1iUD8aFw6EZAEzPwAAAAAAAAAARMU4fxMKMT/8qfHSTWJAP03bv7LSpEQ/LUMc6+I2Sj8tQxzr4jZKP2EyVTAqqSM/AAAAAAAAAAAWjErqBDRRPwAAAAAAAAAAAAAAAAAAAAAAAAAAAAAAAAAAAAAAAAAAAAAAAAAAAAAtQxzr4jY6PwAAAAAAAAAAYTJVMCqpUz8AAAAAAAAAAK8I/reSHWs/aR1VTRB1Xz+FKjV7oBVYPwAAAAAAAAAACks8oGzKZT/xaOOItfj0PjeEKjV7oFU/AAAAAAAAAAAAAAAAAAAAAPFo44i1+CQ/AAAAAAAAAABLsDic+dUcPwAAAAAAAAAAFoxK6gQ0UT/SUnk7wmnfP5Gb4QZ8fmg/Iy2VtyOcVj8AAAAAAAAAAC1DHOviNko/AAAAAAAAAAAAAAAAAAAAAPyp8dJNYlA/LUMc6+I2Sj9W8UbmkT9oPwAAAAAAAAAAaB1VTRB1Tz9cp5GWyttRP74wmSoYlYQ/M+GX+nlTgT+pTZzc71B0P9iZQuc1dus/AAAAAAAAAABxAz4/jBB+P1bxRuaRPzg/xooaTMPwYT/pJjEIrByKPzPhl/p5U5E/yepWz0nvez/R6A5iZwp9P0YldQKaCHs//Knx0k1iQD92cRsN4C2AP2EyVTAqqWM/aB1VTRB1Pz/ZtiizQSaJPwAAAAAAAAAAAAAAAAAAAAAAAAAAAAAAAHReY5eo3jo/YTJVMCqpYz+WvDrHgOz7P3sUrkfheoQ/9MMI4dHGcT9t5/up8dLsP76kMVpHVWM/Zr0Yyol2dT+Sy39Iv309P4eFWtO842Q/AAAAAAAAAABmvRjKiXZ1P2EyVTAqqUM/AAAAAAAAAAD6fmq8dJNIPwSV8e8zLkw/2ubG9IQlPj8AAAAAAAAAAAAAAAAAAAAAAAAAAAAAAADT+8bXnllCPwAAAAAAAAAAAAAAAAAAAAAAAAAAAAAAAAAAAAAAAAAAAAAAAAAAAAC4HoXrUbiuP1pkO99PjXc/eekmMQisjD/6fmq8dJN4PwAAAAAAAAAAAAAAAAAAAAD8qfHSTWJQPwAAAAAAAAAA/Knx0k1iUD/8qfHSTWJQPwAAAAAAAAAAAAAAAAAAAAAAAAAAAAAAAAAAAAAAAAAAAAAAAAAAAAA5tMh2vp+aPwAAAAAAAAAAObTIdr6fmj8AAAAAAAAAAAAAAAAAAAAAAAAAAAAAAAAAAAAAAAAAAAAAAAAAAAAA+n5qvHSTeD/pJjEIrBy6PwAAAAAAAAAA+n5qvHSTmD8730+Nl26iPwAAAAAAAAAAAAAAAAAAAAAAAAAAAAAAAPp+arx0k3g/foy5awn5oD8AAAAAAAAAAGa9GMqJdmU/+n5qvHSTeD/6fmq8dJNoP3sUrkfhenQ/O99PjZdugj/8qfHSTWJgP/yp8dJNYmA/WmQ730+Npz8AAAAAAAAAAPyp8dJNYnA/AAAAAAAAAAAAAAAAAAAAAPyp8dJNYoA//Knx0k1isD+cxCCwcmihP/p+arx0k2g//Knx0k1iUD+6SQwCK4eGPzMbZJKRs5A//Knx0k1icD9YObTIdr6fP6q3BrZKsKg/AAAAAAAAAAAAAAAAAAAAAHsUrkfhenQ/AAAAAAAAAAAAAAAAAAAAAAAAAAAAAAAA+n5qvHSTuD8AAAAAAAAAAAAAAAAAAAAAAAAAAAAAAAAAAAAAAAAAALpJDAIrh6Y/AAAAAAAAAAD6fmq8dJOIPwAAAAAAAAAAnMQgsHJokT9MN4lBYOWwP/yp8dJNYoA/AAAAAAAAAAD0/dR46SaxP1TjpZvEILA/uB6F61G4nj+6SQwCK4eWP/yp8dJNYmA/ObTIdr6fij/6fmq8dJNoPzvfT42XbrI/+n5qvHSTmD97FK5H4XqUPzvfT42XbpI//Knx0k1iYD/y0k1iEFi5P/yp8dJNYrA/6SYxCKwcuj9oke18PzWuPwAAAAAAAAAAexSuR+F6dD+LbOf7qfGiPxsv3SQGgbU/ukkMAiuHlj8AAAAAAAAAAPp+arx0k5g/2/l+arx0kz+LbOf7qfGiP/p+arx0k6g/+n5qvHSTmD956SYxCKysP23n+6nx0uE/+n5qvHSTiD+JQWDl0CK7P76fGi/dJMY/AAAAAAAAAACq8dJNYhC4P4zzN6EQAbc/y6FFtvP9tD8730+Nl26SPzm0yHa+n4o/AAAAAAAAAAAAAAAAAAAAAAAAAAAAAAAAAAAAAAAAAAAAAAAAAAAAANv5fmq8dJM/RIts5/upwT85tMh2vp+aPzMzMzMzM8M/iUFg5dAiuz9CYOXQItvRPzvfT42XbpI//Knx0k1iYD/6fmq8dJN4P/p+arx0k5g//Knx0k1iYD8AAAAAAAAAAAAAAAAAAAAAexSuR+F6lD/sUbgehevBP6wcWmQ7388/N4lBYOXQ2j8730+Nl26yPxsv3SQGgZU/pHA9CtejsD/8qfHSTWJQP7pJDAIrh7Y/CKwcWmQ7vz9C8WPMXUvWPwAAAAAAAAAArkfhehSuxz8j2/l+ary0P/yp8dJNYlA/+n5qvHSTaD8AAAAAAAAAAMP1KFyPwrU//Knx0k1icD956SYxCKycPwAAAAAAAAAAAAAAAAAAAACxUGuad5zGP/yp8dJNYoA/tMh2vp8azz9CYOXQItvJP5qZmZmZmak/AAAAAAAAAACTGARWDi3SP/yp8dJNYlA/EjElkuhldD97FK5H4XqEP3sUrkfhenQ/aJHtfD81vj/6fmq8dJOIPwAAAAAAAAAAAAAAAAAAAADLoUW28/20P5qZmZmZmZk/uB6F61G4nj+xUGuad5zCP40G8BZIUMQ/AAAAAAAAAADpJjEIrByqPwAAAAAAAAAAJzEIrBxaxD+q8dJNYhC4Pxsv3SQGgbU/eekmMQisvD9KDAIrhxapP8P1KFyPwrU/exSuR+F6hD/6fmq8dJOIP3sUrkfheoQ/fT81XrpJzD+LbOf7qfGiP2Dl0CLb+b4/VOOlm8QgsD+gGi/dJAbBP9v5fmq8dJM/O99PjZdugj8AAAAAAAAAAKjGSzeJQcA/AAAAAAAA0D++nxov3STGPwAAAAAAAAAAeekmMQisjD956SYxCKx8PzvfT42XbpI/+n5qvHSTiD+amZmZmZmpPwAAAAAAAAAA/Knx0k1iUD8AAAAAAAAAAAAAAAAAAAAAAAAAAAAAAAAAAAAAAAAAAEw3iUFg5bA/uB6F61G4nj8AAAAAAAAAAPp+arx0k2g/AAAAAAAAAAAAAAAAAAAAAAAAAAAAAAAAAAAAAAAAAAAAAAAAAAAAAD81XrpJDMI/+n5qvHSTiD+LbOf7qfGiP3npJjEIrJw/jZduEoPAyj/6fmq8dJPoPzvfT42XbpI/TDeJQWDloD97FK5H4Xp0Pxsv3SQGgZU/+n5qvHSTaD8AAAAAAAAAADMzMzMzM7M/JQaBlUOL3D956SYxCKzUPzvfT42XbpI/eekmMQisfD/6fmq8dJN4P6abxCCwcsg/+n5qvHSTiD/pJjEIrByqP0w3iUFg5bA/ObTIdr6fuj/8qfHSTWKAP90kBoGVQ9M/2/l+arx0sz956SYxCKzgP7gehetRuI4/j8L1KFyP9D97FK5H4XqEP4ts5/up8aI/j8L1KFyPwj8AAAAAAAAAACuHFtnO96M/ObTIdr6fmj/b+X5qvHSjP3sUrkfhenQ/uB6F61G4jj8AAAAAAAAAAAAAAAAAAAAA2/l+arx0oz8AAAAAAAAAAAAAAAAAAAAAAAAAAAAAAAAAAAAAAAAAAAAAAAAAAAAAukkMAiuHlj8AAAAAAAAAAAAAAAAAAAAAeekmMQisfD8AAAAAAAAAAAAAAAAAAAAAAAAAAAAAAACyne+nxku3P6RwPQrXo7A/ukkMAiuHhj/8qfHSTWJgP/yp8dJNYrA/mpmZmZmZqT9U46WbxCDAP5qZmZmZmak/AAAAAAAAAABKDAIrhxapP5qZmZmZmak/6SYxCKwcqj/6fmq8dJNoP/yp8dJNYlA//Knx0k1icD8AAAAAAAAAAIGVQ4ts58s/Gy/dJAaBpT9SuB6F61G4P7gehetRuI4/ObTIdr6fqj+amZmZmZmpP+kmMQisHKo/AAAAAAAAAAAAAAAAAAAAAEw3iUFg5aA//Knx0k1iYD/8qfHSTWJgP9v5fmq8dKM/4XoUrkfhuj/P91PjpZvEPwAAAAAAAAAAuB6F61G4rj8AAAAAAAAAAPp+arx0k7g/AAAAAAAAAAB7FK5H4XqEP/yp8dJNYnA/kxgEVg4tsj8v3SQGgZXTPzvfT42XboI/+n5qvHSTiD/NzMzMzMzMP1K4HoXrUdg/c2iR7Xw/tT/+1HjpJjHQP7pJDAIrh5Y/AAAAAAAAAAAAAAAAAAAAAAAAAAAAAAAA+n5qvHSTeD9KDAIrhxapP2iR7Xw/Na4/4XoUrkfhuj9KDAIrhxa5PzMzMzMzM7M/uB6F61G4rj+LbOf7qfGyP7pJDAIrh6Y/UI2XbhKDwD9KDAIrhxa5P/p+arx0k5g/AAAAAAAAAADXo3A9CtfTPzvfT42XboI/Rrbz/dR42T+6SQwCK4emPwAAAAAAAAAA/Knx0k1ikD/8qfHSTWJwP3npJjEIrIw/AAAAAAAAAABMN4lBYOWwP+kmMQisHLo/TDeJQWDloD8pXI/C9SisP/p+arx0k6g/exSuR+F6dD/8qfHSTWJQP/p+arx0k3g//Knx0k1ikD97FK5H4Xp0P/p+arx0k2g/exSuR+F6pD/6fmq8dJNoPylcj8L1KMw/O99PjZdukj+cxCCwcmihP9v5fmq8dKM/7FG4HoXroT/8qfHSTWKQP/yp8dJNYrA/AAAAAAAAAAAAAAAAAAAAAPyp8dJNYmA/VOOlm8QgwD+amZmZmZmZP4ts5/up8aI//Knx0k1iYD8730+Nl26CPzm0yHa+n4o/Di2yne+n3j9xPQrXo3DNP/yp8dJNYpA/exSuR+F6hD+6SQwCK4eGP2IQWDm0yLY/d76fGi/d1D9OYhBYObTgP5qZmZmZmZk/K4cW2c73oz8AAAAAAAAAADvfT42XboI/2/l+arx0kz8730+Nl26CP3npJjEIrIw/7FG4HoXr0T/8qfHSTWJQP6JFtvP91Ow//Knx0k1igD/8qfHSTWJQPwAAAAAAAAAA+n5qvHSTmD97FK5H4XqUPzm0yHa+n4o/+n5qvHSTaD9MN4lBYOWgP7gehetRuNY/aJHtfD81rj/8qfHSTWJQPwAAAAAAAAAA/Knx0k1iYD/hehSuR+G6PwAAAAAAAAAAaJHtfD81rj8730+Nl26yPxkEVg4tsuE/2c73U+Olmz/6fmq8dJPIPzEIrBxaZNs/O99PjZduoj+4HoXrUbjOP/yp8dJNYnA/9ihcj8L12D8fhetRuB7hP3sUrkfhenQ/AAAAAAAAAAD6fmq8dJOIP0w3iUFg5dA//Knx0k1iYD8pXI/C9Sj2PyGwcmiR7dQ/exSuR+F6dD9YObTIdr6fP7gehetRuI4/AAAAAAAAAADb+X5qvHSzPwAAAAAAAAAA/Knx0k1ioD8AAAAAAAAAAAAAAAAAAAAA/Knx0k1iYD8AAAAAAAAAAG3n+6nx0s0/L90kBoGV5z/ufD81XrrJP0a28/3UeApA/Knx0k1iYD/8qfHSTWJwP/yp8dJNYmA//Knx0k1iYD+R7Xw/NV66P4lBYOXQIss//Knx0k1icD+amZmZmZmpP+f7qfHSTeI/2/l+arx0kz+DwMqhRbbDPy2yne+nxss/WDm0yHa+vz/ZzvdT46WrP8HKoUW2870/K4cW2c73sz8ZBFYOLbKtPwAAAAAAAAAA2c73U+Olqz9U46WbxCCwP4/C9Shcj9I/exSuR+F6dD8pXI/C9SisPwAAAAAAANA/eekmMQisrD9MN4lBYOX8P4ts5/up8cI//Knx0k1iUD+iRbbz/dTQP4lBYOXQItM//Knx0k1iUD8AAAAAAAAAAAIrhxbZzrc/Gy/dJAaBpT+amZmZmZm5P0oMAiuHFtk/YhBYObTItj/sUbgehevRP7gehetRuL4/8KfGSzeJ0T9eukkMAivXP/p+arx0k6g/K4cW2c730z+6SQwCK4emPxkEVg4tsq0/2/l+arx0sz/b+X5qvHSTP1TjpZvEILA/bef7qfHS1T/LoUW28/2kP3sUrkfhenQ/AAAAAAAAAAB7FK5H4XroP/yp8dJNYpA/MzMzMzMz2z9iEFg5tMi2P1K4HoXrUfA/7FG4HoXrsT+kcD0K16OwP8l2vp8aL80/arx0kxgEtj8K16NwPQq3P/p+arx0k4g/I9v5fmq8tD9KDAIrhxbJP3npJjEIrLw/wcqhRbbz6T81XrpJDALxP+kmMQisHLo/2c73U+Oluz/LoUW28/3EP4/C9Shcj8I/x0s3iUFg7T8X2c73U+PlP2IQWDm0yLY/ukkMAiuHhj9g5dAi2/m+PxBYObTIduo/AAAAAAAAAACJQWDl0CLvP7gehetRuI4/ke18PzVeyj+sHFpkO9/PP+f7qfHSTe4/WDm0yHa+rz/Jdr6fGi8EQAisHFpkO88/46WbxCCwAUB7FK5H4Xq0PwAAAAAAAAAAukkMAiuHlj91kxgEVg7VPwAAAAAAAAAAGQRWDi2ynT8pXI/C9SisPz0K16NwPdI/qvHSTWIQ4D/8qfHSTWJwP6JFtvP91Lg/ObTIdr6fqj97FK5H4XqkP6abxCCwcsg//Knx0k1iYD+R7Xw/NV7SP3sUrkfhenQ/BoGVQ4ts7z85tMh2vp+KPxsv3SQGgaU/6SYxCKwcqj/ZzvdT46WbPyPb+X5qvNQ/z/dT46Wb7D/8qfHSTWKgP7pJDAIrh6Y/2c73U+Olmz/+1HjpJjHIP0w3iUFg5aA/exSuR+F6dD/b+X5qvHSTPz0K16NwPdo/lkOLbOf7yT8fhetRuB4NQHNoke18P9U/hxbZzvdT6z97FK5H4XrEP5qZmZmZmck/Gy/dJAaBlT/l0CLb+X76P39qvHSTGBVAYhBYObTI9j+HFtnO91PDP1g5tMh2vp8/eekmMQisfD+DwMqhRbb5P8uhRbbz/aQ/mpmZmZmZmT9Ei2zn+6mxPzm0yHa+n4o/pHA9CtejsD93vp8aL93EP3sUrkfheoQ/MQisHFpk2z/n+6nx0k0AQEa28/3UeMk/Gy/dJAaBpT8j2/l+arzEP2q8dJMYBNY//Knx0k1igD9CYOXQItvRP6wcWmQ7388/5/up8dJN0j9/arx0kxjUP6rx0k1iEPY/aJHtfD81vj+amZmZmZn7P8uhRbbz/QBAw/UoXI/CtT8X2c73U+P1P9NNYhBYOeA/cT0K16Nw1T+PwvUoXI/aP3npJjEIrNQ/PQrXo3A9yj/8qfHSTWKAPzvfT42XboI/Gy/dJAaBlT9OYhBYObTgP3npJjEIrHw//tR46SYx2D9MN4lBYOWgPw4tsp3vp+o/2/l+arx0kz956SYxCKyMPzvfT42XboI/dZMYBFYO3T8QWDm0yHbmPy2yne+nxtM/H4XrUbge4T8K16NwPQrHPyGwcmiR7dw/F9nO91Pj+T8MAiuHFtnOPxsv3SQGwSFA8tJNYhBY2T/4U+Olm8TAP5huEoPAyvs/eekmMQisfD8hsHJoke3UP/p+arx0k2g/iUFg5dAiqz9KDAIrhxapP7gehetRuK4/7FG4HoXrsT8730+Nl26CP1g5tMh2vq8/y6FFtvP9tD/jpZvEILDCP3sUrkfheqQ/aJHtfD81rj9CYOXQItvJP0oMAiuHFqk/JQaBlUOLzD8AAAAAAAAAAAAAAAAAAAAA/Knx0k1igD+amZmZmZmpP1g5tMh2vp8/SgwCK4cW4T/6fmq8dJNoPzvfT42XbpI/uB6F61G4zj9U46WbxCCwP7gehetRuJ4//Knx0k1icD9YObTIdr6fP5huEoPAysE/7FG4HoXrsT9aZDvfT42XP7pJDAIrh5Y/2c73U+Olmz8730+Nl26SPwAAAAAAAAAAuB6F61G4jj956SYxCKycP9v5fmq8dJM/iUFg5dAiyz/6fmq8dJOIP8uhRbbz/aQ//Knx0k1iUD/8qfHSTWKQP9nO91PjpZs/uB6F61G4nj/b+X5qvHSjP6AaL90kBvM/nMQgsHJokT9aZDvfT42nP3Noke18P7U/KVyPwvUovD956SYxCKy8P28Sg8DKocU/9P3UeOkmsT8rhxbZzvezP+58PzVeeidA+n5qvHSTmD/ufD81XroCQOF6FK5H4dI/y6FFtvP9tD93vp8aL93gP65H4XoUruc/9P3UeOkmsT+e76fGSzfJP2q8dJMYBLY/eekmMQisjD956SYxCKycPzvfT42XbrI/qMZLN4lBwD+JQWDl0CKrP0w3iUFg5cA/lkOLbOf7yT9iEFg5tMi2P8UgsHJokc0/i2zn+6nxoj+cxCCwcmjBPzvfT42XboI//Knx0k1igD85tMh2vp+aP3Noke18P8U/okW28/3UuD9U46WbxCCwP5zEILByaKE/O99PjZdusj+amZmZmZmpPzMzMzMzM7M/2c73U+Olmz/sUbgeheuxP3sUrkfhenQ/eekmMQisrD/8qfHSTWKgP4ts5/up8bI/w/UoXI/CxT+iRbbz/dS4P5MYBFYOLbI/tMh2vp8azz8bL90kBoHhP/hT46WbxMA/c2iR7Xw/tT9aZDvfT423P7Kd76fGS7c/WmQ730+Npz9/arx0kxj0P4ts5/up8aI/O99PjZdukj956SYxCKy8P8uhRbbz/bQ/SOF6FK5HwT+wcmiR7Xy/PwisHFpkO68/2c73U+Olqz8bL90kBoG1P5qZmZmZmbk/exSuR+F6tD/Xo3A9CtfDPzVeukkMAtM/g8DKoUW2sz/D9Shcj8K1P/yp8dJNYqA/eekmMQisvD/sUbgeheuhP8uhRbbz/aQ/Gy/dJAaBlT9U46WbxCCwP+Olm8QgsLI/+n5qvHSTmD8ZBFYOLbKtP9nO91Pjpas/nMQgsHJooT956SYxCKy8P3sUrkfhepQ/exSuR+F6tD9zaJHtfD+1P/T91HjpJrE/+n5qvHSTqD8730+Nl26CP5MYBFYOLcI/CKwcWmQ7zz85tMh2vp+6P2iR7Xw/NeI/Gy/dJAaBpT97FK5H4Xp0P/T91HjpJtE/SgwCK4cWuT9oke18PzXWP/Cnxks3icE/LbKd76fGyz9Ei2zn+6n3Pzm0yHa+n8o/2c73U+Oluz+PwvUoXI/CP/p+arx0k2g/mpmZmZmZqT97FK5H4XqkP9nO91Pjpas/qvHSTWIQuD/ZzvdT46WbP3sUrkfheoQ/SgwCK4cWqT9I4XoUrkfRP7pJDAIrh4Y/vHSTGARW4j9CYOXQItvRPzeJQWDl0No/HVpkO99P1T8rhxbZzvfDP1g5tMh2vq8/I9v5fmq8xD9eukkMAivHPwrXo3A9Crc/QmDl0CLb0T+sHFpkO9/PP9nO91Pjpas/ke18PzVeuj/4U+Olm8TYP9v5fmq8dNM/Vg4tsp3v7z9WDi2yne/HP2Q730+Nl/A/4XoUrkfhuj/ByqFFtnMYQHE9CtejcPc/30+Nl24S5z8nMQisHFoQQFTjpZvEIAVAvHSTGARW4j+cxCCwcmiRP6RwPQrXo9A/MzMzMzMzsz+wcmiR7XzPP6JFtvP91NA/d76fGi/dxD9qvHSTGATGP9Ei2/l+arw/2c73U+Ol4z+amZmZmZn5P+kmMQisHKo/BFYOLbKd1z/dJAaBlUPLP7Kd76fGSw1Aj8L1KFyPDUA3iUFg5dD0P/YoXI/C9dg/UI2XbhKD0D9YObTIdr4CQAaBlUOLbOs//tR46SYx+j9vEoPAyqH3P3WTGARWDvU/ukkMAiuH3j+PwvUoXI/iP8dLN4lBYNU/y6FFtvP93D+Nl24Sg8DSP2Dl0CLb+dY/okW28/3U5D9MN4lBYOWwP+f7qfHSTcI/O99PjZduoj9mZmZmZmbGP57vp8ZLN+U/zczMzMzMzD8pXI/C9SjMP+xRuB6F68E//Knx0k1igD/0/dR46SaxP/yp8dJNYsA/mpmZmZmZuT+wcmiR7XzPP+F6FK5H4dI/bef7qfHSzT9zaJHtfD+1P3sUrkfhepQ/8tJNYhBYuT85tMh2vp+KP/p+arx0k6g/bxKDwMqhxT+iRbbz/dS4Pw4tsp3vp8Y/O99PjZdukj9U46WbxCDAP0SLbOf7qcE/exSuR+F6tD8X2c73U+PFP0oMAiuHFrk/2c73U+Olqz+gGi/dJAbBP/LSTWIQWMk/NV66SQwCyz83iUFg5dDCP83MzMzMzNw/ke18PzVeyj/0/dR46SbBP/7UeOkmMdA/y6FFtvP9pD8Sg8DKoUW2P7ByaJHtfL8/0SLb+X5qvD/0/dR46SaxP8P1KFyPwrU/ukkMAiuHhj+JQWDl0CKrP3sUrkfhenQ/i2zn+6nxoj9MN4lBYOWwP8dLN4lBYMU/EFg5tMh21j/fT42XbhLTPwrXo3A9Crc/ukkMAiuHpj/8qfHSTWLAPwrXo3A9Crc//Knx0k1ioD8xCKwcWmS7P5zEILByaJE/iUFg5dAiqz/ZzvdT46W7Pzm0yHa+n6o/YOXQItv5vj/b+X5qvHSzP7gehetRuI4/c2iR7Xw/tT8ZBFYOLbKdPzm0yHa+n6o/mpmZmZmZmT+q8dJNYhCoP1pkO99Pjcc/9P3UeOkmwT+yne+nxku3P3sUrkfherQ/I9v5fmq8xD8AAAAAAADAPzMzMzMzM7M/y6FFtvP9xD9CYOXQItu5P1pkO99Pjac/+n5qvHSTmD/6fmq8dJOIP3sUrkfhenQ/GQRWDi2yrT9YObTIdr6fP9v5fmq8dJM/AAAAAAAAAABoke18PzWuP3sUrkfhepQ/BFYOLbKdzz+6SQwCK4fGP1g5tMh2vp8/eekmMQisnD8pXI/C9SisP3sUrkfheqQ/nMQgsHJowT/TTWIQWDm0PyuHFtnO96M/uB6F61G4jj8AAAAAAAAAAPp+arx0k3g/mpmZmZmZuT8K16NwPQq3P9Ei2/l+asw/46WbxCCwwj97FK5H4Xq0P/yp8dJNYoA/+n5qvHSTiD8QWDm0yHbOP/p+arx0k5g/AAAAAAAAAAAAAAAAAAAAAAAAAAAAAAAAAAAAAAAAAAC6SQwCK4eGPwAAAAAAAAAAuB6F61G4jj8AAAAAAAAAADvfT42XboI/O99PjZdugj+6SQwCK4eGPwAAAAAAAAAAAAAAAAAAAAAAAAAAAAAAAAAAAAAAAAAA\",\"dtype\":\"float64\",\"shape\":[1899]},\"TONS_HE\":{\"__ndarray__\":\"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\",\"dtype\":\"float64\",\"shape\":[1899]},\"TONS_IC\":{\"__ndarray__\":\"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\",\"dtype\":\"float64\",\"shape\":[1899]},\"TOTAL_TONS\":{\"__ndarray__\":\"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\",\"dtype\":\"float64\",\"shape\":[1899]}},\"selected\":{\"id\":\"5947\",\"type\":\"Selection\"},\"selection_policy\":{\"id\":\"5948\",\"type\":\"UnionRenderers\"}},\"id\":\"5862\",\"type\":\"ColumnDataSource\"},{\"attributes\":{},\"id\":\"5907\",\"type\":\"BasicTickFormatter\"},{\"attributes\":{\"days\":[1,15]},\"id\":\"5914\",\"type\":\"DaysTicker\"},{\"attributes\":{\"active_drag\":\"auto\",\"active_inspect\":\"auto\",\"active_multi\":null,\"active_scroll\":\"auto\",\"active_tap\":\"auto\",\"tools\":[{\"id\":\"5882\",\"type\":\"PanTool\"},{\"id\":\"5883\",\"type\":\"WheelZoomTool\"},{\"id\":\"5884\",\"type\":\"BoxZoomTool\"},{\"id\":\"5885\",\"type\":\"SaveTool\"},{\"id\":\"5886\",\"type\":\"ResetTool\"},{\"id\":\"5887\",\"type\":\"HelpTool\"}]},\"id\":\"5888\",\"type\":\"Toolbar\"},{\"attributes\":{\"line_color\":\"#d7191c\",\"line_width\":2,\"x\":{\"field\":\"MSNDATE\"},\"y\":{\"field\":\"TONS_IC\"}},\"id\":\"5951\",\"type\":\"Line\"},{\"attributes\":{\"days\":[1,2,3,4,5,6,7,8,9,10,11,12,13,14,15,16,17,18,19,20,21,22,23,24,25,26,27,28,29,30,31]},\"id\":\"5911\",\"type\":\"DaysTicker\"},{\"attributes\":{},\"id\":\"5885\",\"type\":\"SaveTool\"},{\"attributes\":{\"callback\":null},\"id\":\"5866\",\"type\":\"DataRange1d\"},{\"attributes\":{\"source\":{\"id\":\"5862\",\"type\":\"ColumnDataSource\"}},\"id\":\"5927\",\"type\":\"CDSView\"},{\"attributes\":{\"num_minor_ticks\":5,\"tickers\":[{\"id\":\"5908\",\"type\":\"AdaptiveTicker\"},{\"id\":\"5909\",\"type\":\"AdaptiveTicker\"},{\"id\":\"5910\",\"type\":\"AdaptiveTicker\"},{\"id\":\"5911\",\"type\":\"DaysTicker\"},{\"id\":\"5912\",\"type\":\"DaysTicker\"},{\"id\":\"5913\",\"type\":\"DaysTicker\"},{\"id\":\"5914\",\"type\":\"DaysTicker\"},{\"id\":\"5915\",\"type\":\"MonthsTicker\"},{\"id\":\"5916\",\"type\":\"MonthsTicker\"},{\"id\":\"5917\",\"type\":\"MonthsTicker\"},{\"id\":\"5918\",\"type\":\"MonthsTicker\"},{\"id\":\"5919\",\"type\":\"YearsTicker\"}]},\"id\":\"5873\",\"type\":\"DatetimeTicker\"},{\"attributes\":{\"line_alpha\":0.1,\"line_color\":\"#1f77b4\",\"line_width\":2,\"x\":{\"field\":\"MSNDATE\"},\"y\":{\"field\":\"TONS_HE\"}},\"id\":\"5979\",\"type\":\"Line\"},{\"attributes\":{},\"id\":\"5905\",\"type\":\"DatetimeTickFormatter\"},{\"attributes\":{\"base\":24,\"mantissas\":[1,2,4,6,8,12],\"max_interval\":43200000.0,\"min_interval\":3600000.0,\"num_minor_ticks\":0},\"id\":\"5910\",\"type\":\"AdaptiveTicker\"},{\"attributes\":{\"label\":{\"value\":\"Incendiary\"},\"renderers\":[{\"id\":\"5953\",\"type\":\"GlyphRenderer\"}]},\"id\":\"5976\",\"type\":\"LegendItem\"},{\"attributes\":{},\"id\":\"5878\",\"type\":\"BasicTicker\"},{\"attributes\":{\"months\":[0,2,4,6,8,10]},\"id\":\"5916\",\"type\":\"MonthsTicker\"},{\"attributes\":{\"plot\":null,\"text\":\"\"},\"id\":\"5902\",\"type\":\"Title\"},{\"attributes\":{\"days\":[1,8,15,22]},\"id\":\"5913\",\"type\":\"DaysTicker\"},{\"attributes\":{},\"id\":\"5886\",\"type\":\"ResetTool\"},{\"attributes\":{\"label\":{\"value\":\"Fragmentation\"},\"renderers\":[{\"id\":\"5926\",\"type\":\"GlyphRenderer\"}]},\"id\":\"5949\",\"type\":\"LegendItem\"},{\"attributes\":{},\"id\":\"5919\",\"type\":\"YearsTicker\"},{\"attributes\":{},\"id\":\"5948\",\"type\":\"UnionRenderers\"},{\"attributes\":{},\"id\":\"5868\",\"type\":\"LinearScale\"},{\"attributes\":{\"label\":{\"value\":\"All Munitions\"},\"renderers\":[{\"id\":\"5900\",\"type\":\"GlyphRenderer\"}]},\"id\":\"5922\",\"type\":\"LegendItem\"},{\"attributes\":{},\"id\":\"5887\",\"type\":\"HelpTool\"},{\"attributes\":{\"label\":{\"value\":\"High Explosives\"},\"renderers\":[{\"id\":\"5980\",\"type\":\"GlyphRenderer\"}]},\"id\":\"6003\",\"type\":\"LegendItem\"},{\"attributes\":{\"bottom_units\":\"screen\",\"fill_alpha\":{\"value\":0.5},\"fill_color\":{\"value\":\"lightgrey\"},\"left_units\":\"screen\",\"level\":\"overlay\",\"line_alpha\":{\"value\":1.0},\"line_color\":{\"value\":\"black\"},\"line_dash\":[4,4],\"line_width\":{\"value\":2},\"plot\":null,\"render_mode\":\"css\",\"right_units\":\"screen\",\"top_units\":\"screen\"},\"id\":\"5890\",\"type\":\"BoxAnnotation\"},{\"attributes\":{\"source\":{\"id\":\"5862\",\"type\":\"ColumnDataSource\"}},\"id\":\"5981\",\"type\":\"CDSView\"},{\"attributes\":{\"dimension\":1,\"plot\":{\"id\":\"5863\",\"subtype\":\"Figure\",\"type\":\"Plot\"},\"ticker\":{\"id\":\"5878\",\"type\":\"BasicTicker\"}},\"id\":\"5881\",\"type\":\"Grid\"},{\"attributes\":{\"source\":{\"id\":\"5862\",\"type\":\"ColumnDataSource\"}},\"id\":\"5954\",\"type\":\"CDSView\"},{\"attributes\":{\"data_source\":{\"id\":\"5862\",\"type\":\"ColumnDataSource\"},\"glyph\":{\"id\":\"5898\",\"type\":\"Line\"},\"hover_glyph\":null,\"muted_glyph\":null,\"nonselection_glyph\":{\"id\":\"5899\",\"type\":\"Line\"},\"selection_glyph\":null,\"view\":{\"id\":\"5901\",\"type\":\"CDSView\"}},\"id\":\"5900\",\"type\":\"GlyphRenderer\"},{\"attributes\":{},\"id\":\"5947\",\"type\":\"Selection\"},{\"attributes\":{\"data_source\":{\"id\":\"5862\",\"type\":\"ColumnDataSource\"},\"glyph\":{\"id\":\"5951\",\"type\":\"Line\"},\"hover_glyph\":null,\"muted_glyph\":null,\"nonselection_glyph\":{\"id\":\"5952\",\"type\":\"Line\"},\"selection_glyph\":null,\"view\":{\"id\":\"5954\",\"type\":\"CDSView\"}},\"id\":\"5953\",\"type\":\"GlyphRenderer\"},{\"attributes\":{\"base\":60,\"mantissas\":[1,2,5,10,15,20,30],\"max_interval\":1800000.0,\"min_interval\":1000.0,\"num_minor_ticks\":0},\"id\":\"5909\",\"type\":\"AdaptiveTicker\"},{\"attributes\":{\"data_source\":{\"id\":\"5862\",\"type\":\"ColumnDataSource\"},\"glyph\":{\"id\":\"5978\",\"type\":\"Line\"},\"hover_glyph\":null,\"muted_glyph\":null,\"nonselection_glyph\":{\"id\":\"5979\",\"type\":\"Line\"},\"selection_glyph\":null,\"view\":{\"id\":\"5981\",\"type\":\"CDSView\"}},\"id\":\"5980\",\"type\":\"GlyphRenderer\"},{\"attributes\":{\"line_color\":\"#1f77b4\",\"line_width\":5,\"x\":{\"field\":\"MSNDATE\"},\"y\":{\"field\":\"TOTAL_TONS\"}},\"id\":\"5898\",\"type\":\"Line\"},{\"attributes\":{\"line_color\":\"#abdda4\",\"line_width\":3,\"x\":{\"field\":\"MSNDATE\"},\"y\":{\"field\":\"TONS_FRAG\"}},\"id\":\"5924\",\"type\":\"Line\"},{\"attributes\":{\"items\":[{\"id\":\"5922\",\"type\":\"LegendItem\"},{\"id\":\"5949\",\"type\":\"LegendItem\"},{\"id\":\"5976\",\"type\":\"LegendItem\"},{\"id\":\"6003\",\"type\":\"LegendItem\"}],\"location\":\"top_left\",\"plot\":{\"id\":\"5863\",\"subtype\":\"Figure\",\"type\":\"Plot\"}},\"id\":\"5921\",\"type\":\"Legend\"},{\"attributes\":{\"mantissas\":[1,2,5],\"max_interval\":500.0,\"num_minor_ticks\":0},\"id\":\"5908\",\"type\":\"AdaptiveTicker\"},{\"attributes\":{\"line_color\":\"#fdae61\",\"line_width\":2,\"x\":{\"field\":\"MSNDATE\"},\"y\":{\"field\":\"TONS_HE\"}},\"id\":\"5978\",\"type\":\"Line\"},{\"attributes\":{\"overlay\":{\"id\":\"5890\",\"type\":\"BoxAnnotation\"}},\"id\":\"5884\",\"type\":\"BoxZoomTool\"},{\"attributes\":{\"months\":[0,1,2,3,4,5,6,7,8,9,10,11]},\"id\":\"5915\",\"type\":\"MonthsTicker\"},{\"attributes\":{\"months\":[0,4,8]},\"id\":\"5917\",\"type\":\"MonthsTicker\"},{\"attributes\":{\"source\":{\"id\":\"5862\",\"type\":\"ColumnDataSource\"}},\"id\":\"5901\",\"type\":\"CDSView\"},{\"attributes\":{},\"id\":\"5883\",\"type\":\"WheelZoomTool\"},{\"attributes\":{\"line_alpha\":0.1,\"line_color\":\"#1f77b4\",\"line_width\":3,\"x\":{\"field\":\"MSNDATE\"},\"y\":{\"field\":\"TONS_FRAG\"}},\"id\":\"5925\",\"type\":\"Line\"},{\"attributes\":{},\"id\":\"5882\",\"type\":\"PanTool\"},{\"attributes\":{\"line_alpha\":0.1,\"line_color\":\"#1f77b4\",\"line_width\":5,\"x\":{\"field\":\"MSNDATE\"},\"y\":{\"field\":\"TOTAL_TONS\"}},\"id\":\"5899\",\"type\":\"Line\"},{\"attributes\":{\"months\":[0,6]},\"id\":\"5918\",\"type\":\"MonthsTicker\"},{\"attributes\":{\"axis_label\":\"Kilotons of Munitions Dropped\",\"formatter\":{\"id\":\"5907\",\"type\":\"BasicTickFormatter\"},\"plot\":{\"id\":\"5863\",\"subtype\":\"Figure\",\"type\":\"Plot\"},\"ticker\":{\"id\":\"5878\",\"type\":\"BasicTicker\"}},\"id\":\"5877\",\"type\":\"LinearAxis\"},{\"attributes\":{\"data_source\":{\"id\":\"5862\",\"type\":\"ColumnDataSource\"},\"glyph\":{\"id\":\"5924\",\"type\":\"Line\"},\"hover_glyph\":null,\"muted_glyph\":null,\"nonselection_glyph\":{\"id\":\"5925\",\"type\":\"Line\"},\"selection_glyph\":null,\"view\":{\"id\":\"5927\",\"type\":\"CDSView\"}},\"id\":\"5926\",\"type\":\"GlyphRenderer\"},{\"attributes\":{\"formatter\":{\"id\":\"5905\",\"type\":\"DatetimeTickFormatter\"},\"plot\":{\"id\":\"5863\",\"subtype\":\"Figure\",\"type\":\"Plot\"},\"ticker\":{\"id\":\"5873\",\"type\":\"DatetimeTicker\"}},\"id\":\"5872\",\"type\":\"DatetimeAxis\"},{\"attributes\":{\"plot\":{\"id\":\"5863\",\"subtype\":\"Figure\",\"type\":\"Plot\"},\"ticker\":{\"id\":\"5873\",\"type\":\"DatetimeTicker\"}},\"id\":\"5876\",\"type\":\"Grid\"},{\"attributes\":{\"callback\":null},\"id\":\"5864\",\"type\":\"DataRange1d\"}],\"root_ids\":[\"5863\"]},\"title\":\"Bokeh Application\",\"version\":\"1.0.1\"}};\n",
       "  var render_items = [{\"docid\":\"ddb1576f-0d25-4278-ad83-cabdb0bf1c5c\",\"roots\":{\"5863\":\"5a390f68-0f97-41a7-b391-87eaeca6c8a6\"}}];\n",
       "  root.Bokeh.embed.embed_items_notebook(docs_json, render_items);\n",
       "\n",
       "  }\n",
       "  if (root.Bokeh !== undefined) {\n",
       "    embed_document(root);\n",
       "  } else {\n",
       "    var attempts = 0;\n",
       "    var timer = setInterval(function(root) {\n",
       "      if (root.Bokeh !== undefined) {\n",
       "        embed_document(root);\n",
       "        clearInterval(timer);\n",
       "      }\n",
       "      attempts++;\n",
       "      if (attempts > 100) {\n",
       "        console.log(\"Bokeh: ERROR: Unable to run BokehJS code because BokehJS library is missing\");\n",
       "        clearInterval(timer);\n",
       "      }\n",
       "    }, 10, root)\n",
       "  }\n",
       "})(window);"
      ],
      "application/vnd.bokehjs_exec.v0+json": ""
     },
     "metadata": {
      "application/vnd.bokehjs_exec.v0+json": {
       "id": "5863"
      }
     },
     "output_type": "display_data"
    }
   ],
   "source": [
    "#make sure MSNDATE is a datetime format\n",
    "df = pd.read_csv(filename)\n",
    "df['MSNDATE'] = pd.to_datetime(df['MSNDATE'], format='%m/%d/%Y')\n",
    "\n",
    "grouped = df.groupby('MSNDATE')['TOTAL_TONS', 'TONS_IC', 'TONS_FRAG', 'TONS_HE'].sum()\n",
    "grouped = grouped/1000\n",
    "\n",
    "\n",
    "source = ColumnDataSource(grouped)\n",
    "\n",
    "p = figure(x_axis_type='datetime', plot_width=800, plot_height=300)\n",
    "\n",
    "p.line(x='MSNDATE', y='TOTAL_TONS', line_width=5, source=source, legend='All Munitions')\n",
    "p.line(x='MSNDATE', y='TONS_FRAG', line_width=3, source=source, color=Spectral5[1], legend='Fragmentation')\n",
    "p.line(x='MSNDATE', y='TONS_IC', line_width=2, source=source, color=Spectral5[4], legend='Incendiary')\n",
    "p.line(x='MSNDATE', y='TONS_HE', line_width=2, source=source, color=Spectral5[3], legend='High Explosives')\n",
    "\n",
    "p.legend.location = \"top_left\"\n",
    "\n",
    "p.yaxis.axis_label = 'Kilotons of Munitions Dropped'\n",
    "\n",
    "show(p)"
   ]
  },
  {
   "cell_type": "code",
   "execution_count": 97,
   "metadata": {},
   "outputs": [
    {
     "data": {
      "text/html": [
       "<div>\n",
       "<style scoped>\n",
       "    .dataframe tbody tr th:only-of-type {\n",
       "        vertical-align: middle;\n",
       "    }\n",
       "\n",
       "    .dataframe tbody tr th {\n",
       "        vertical-align: top;\n",
       "    }\n",
       "\n",
       "    .dataframe thead th {\n",
       "        text-align: right;\n",
       "    }\n",
       "</style>\n",
       "<table border=\"1\" class=\"dataframe\">\n",
       "  <thead>\n",
       "    <tr style=\"text-align: right;\">\n",
       "      <th></th>\n",
       "      <th>TOTAL_TONS</th>\n",
       "      <th>TONS_IC</th>\n",
       "      <th>TONS_FRAG</th>\n",
       "      <th>TONS_HE</th>\n",
       "    </tr>\n",
       "    <tr>\n",
       "      <th>MSNDATE</th>\n",
       "      <th></th>\n",
       "      <th></th>\n",
       "      <th></th>\n",
       "      <th></th>\n",
       "    </tr>\n",
       "  </thead>\n",
       "  <tbody>\n",
       "    <tr>\n",
       "      <th>1945-12-27</th>\n",
       "      <td>0.037</td>\n",
       "      <td>0.002</td>\n",
       "      <td>0.011</td>\n",
       "      <td>0.024</td>\n",
       "    </tr>\n",
       "    <tr>\n",
       "      <th>1945-12-28</th>\n",
       "      <td>0.065</td>\n",
       "      <td>0.002</td>\n",
       "      <td>0.000</td>\n",
       "      <td>0.063</td>\n",
       "    </tr>\n",
       "    <tr>\n",
       "      <th>1945-12-29</th>\n",
       "      <td>0.019</td>\n",
       "      <td>0.000</td>\n",
       "      <td>0.000</td>\n",
       "      <td>0.019</td>\n",
       "    </tr>\n",
       "    <tr>\n",
       "      <th>1945-12-30</th>\n",
       "      <td>0.048</td>\n",
       "      <td>0.000</td>\n",
       "      <td>0.000</td>\n",
       "      <td>0.048</td>\n",
       "    </tr>\n",
       "    <tr>\n",
       "      <th>1945-12-31</th>\n",
       "      <td>0.050</td>\n",
       "      <td>0.000</td>\n",
       "      <td>0.000</td>\n",
       "      <td>0.050</td>\n",
       "    </tr>\n",
       "  </tbody>\n",
       "</table>\n",
       "</div>"
      ],
      "text/plain": [
       "            TOTAL_TONS  TONS_IC  TONS_FRAG  TONS_HE\n",
       "MSNDATE                                            \n",
       "1945-12-27       0.037    0.002      0.011    0.024\n",
       "1945-12-28       0.065    0.002      0.000    0.063\n",
       "1945-12-29       0.019    0.000      0.000    0.019\n",
       "1945-12-30       0.048    0.000      0.000    0.048\n",
       "1945-12-31       0.050    0.000      0.000    0.050"
      ]
     },
     "execution_count": 97,
     "metadata": {},
     "output_type": "execute_result"
    }
   ],
   "source": [
    "grouped.tail()"
   ]
  },
  {
   "cell_type": "code",
   "execution_count": 98,
   "metadata": {},
   "outputs": [
    {
     "data": {
      "text/plain": [
       "1899"
      ]
     },
     "execution_count": 98,
     "metadata": {},
     "output_type": "execute_result"
    }
   ],
   "source": [
    "len(grouped)"
   ]
  },
  {
   "cell_type": "code",
   "execution_count": 99,
   "metadata": {},
   "outputs": [
    {
     "data": {
      "text/html": [
       "\n",
       "\n",
       "\n",
       "\n",
       "\n",
       "\n",
       "  <div class=\"bk-root\" id=\"c1c4c213-d41d-4d8f-99bd-ce918a403599\"></div>\n"
      ]
     },
     "metadata": {},
     "output_type": "display_data"
    },
    {
     "data": {
      "application/javascript": [
       "(function(root) {\n",
       "  function embed_document(root) {\n",
       "    \n",
       "  var docs_json = {\"099ca7a7-3fc4-4a2a-8f94-ff2e911cd368\":{\"roots\":{\"references\":[{\"attributes\":{\"below\":[{\"id\":\"6319\",\"type\":\"DatetimeAxis\"}],\"left\":[{\"id\":\"6324\",\"type\":\"LinearAxis\"}],\"plot_height\":300,\"plot_width\":800,\"renderers\":[{\"id\":\"6319\",\"type\":\"DatetimeAxis\"},{\"id\":\"6323\",\"type\":\"Grid\"},{\"id\":\"6324\",\"type\":\"LinearAxis\"},{\"id\":\"6328\",\"type\":\"Grid\"},{\"id\":\"6337\",\"type\":\"BoxAnnotation\"},{\"id\":\"6368\",\"type\":\"Legend\"},{\"id\":\"6347\",\"type\":\"GlyphRenderer\"},{\"id\":\"6373\",\"type\":\"GlyphRenderer\"},{\"id\":\"6400\",\"type\":\"GlyphRenderer\"}],\"title\":{\"id\":\"6349\",\"type\":\"Title\"},\"toolbar\":{\"id\":\"6335\",\"type\":\"Toolbar\"},\"x_range\":{\"id\":\"6311\",\"type\":\"DataRange1d\"},\"x_scale\":{\"id\":\"6315\",\"type\":\"LinearScale\"},\"y_range\":{\"id\":\"6313\",\"type\":\"DataRange1d\"},\"y_scale\":{\"id\":\"6317\",\"type\":\"LinearScale\"}},\"id\":\"6310\",\"subtype\":\"Figure\",\"type\":\"Plot\"},{\"attributes\":{},\"id\":\"6334\",\"type\":\"HelpTool\"},{\"attributes\":{\"source\":{\"id\":\"6309\",\"type\":\"ColumnDataSource\"}},\"id\":\"6348\",\"type\":\"CDSView\"},{\"attributes\":{\"months\":[0,4,8]},\"id\":\"6364\",\"type\":\"MonthsTicker\"},{\"attributes\":{},\"id\":\"6325\",\"type\":\"BasicTicker\"},{\"attributes\":{\"items\":[{\"id\":\"6369\",\"type\":\"LegendItem\"},{\"id\":\"6396\",\"type\":\"LegendItem\"},{\"id\":\"6423\",\"type\":\"LegendItem\"}],\"location\":\"top_left\",\"plot\":{\"id\":\"6310\",\"subtype\":\"Figure\",\"type\":\"Plot\"}},\"id\":\"6368\",\"type\":\"Legend\"},{\"attributes\":{\"base\":24,\"mantissas\":[1,2,4,6,8,12],\"max_interval\":43200000.0,\"min_interval\":3600000.0,\"num_minor_ticks\":0},\"id\":\"6357\",\"type\":\"AdaptiveTicker\"},{\"attributes\":{\"formatter\":{\"id\":\"6352\",\"type\":\"DatetimeTickFormatter\"},\"plot\":{\"id\":\"6310\",\"subtype\":\"Figure\",\"type\":\"Plot\"},\"ticker\":{\"id\":\"6320\",\"type\":\"DatetimeTicker\"}},\"id\":\"6319\",\"type\":\"DatetimeAxis\"},{\"attributes\":{\"days\":[1,8,15,22]},\"id\":\"6360\",\"type\":\"DaysTicker\"},{\"attributes\":{\"overlay\":{\"id\":\"6337\",\"type\":\"BoxAnnotation\"}},\"id\":\"6331\",\"type\":\"BoxZoomTool\"},{\"attributes\":{\"line_color\":\"#abdda4\",\"line_width\":3,\"x\":{\"field\":\"MSNDATE\"},\"y\":{\"field\":\"TONS_FRAG\"}},\"id\":\"6371\",\"type\":\"Line\"},{\"attributes\":{\"dimension\":1,\"plot\":{\"id\":\"6310\",\"subtype\":\"Figure\",\"type\":\"Plot\"},\"ticker\":{\"id\":\"6325\",\"type\":\"BasicTicker\"}},\"id\":\"6328\",\"type\":\"Grid\"},{\"attributes\":{},\"id\":\"6317\",\"type\":\"LinearScale\"},{\"attributes\":{\"data_source\":{\"id\":\"6309\",\"type\":\"ColumnDataSource\"},\"glyph\":{\"id\":\"6371\",\"type\":\"Line\"},\"hover_glyph\":null,\"muted_glyph\":null,\"nonselection_glyph\":{\"id\":\"6372\",\"type\":\"Line\"},\"selection_glyph\":null,\"view\":{\"id\":\"6374\",\"type\":\"CDSView\"}},\"id\":\"6373\",\"type\":\"GlyphRenderer\"},{\"attributes\":{\"line_alpha\":0.1,\"line_color\":\"#1f77b4\",\"line_width\":3,\"x\":{\"field\":\"MSNDATE\"},\"y\":{\"field\":\"TOTAL_TONS\"}},\"id\":\"6346\",\"type\":\"Line\"},{\"attributes\":{\"data_source\":{\"id\":\"6309\",\"type\":\"ColumnDataSource\"},\"glyph\":{\"id\":\"6345\",\"type\":\"Line\"},\"hover_glyph\":null,\"muted_glyph\":null,\"nonselection_glyph\":{\"id\":\"6346\",\"type\":\"Line\"},\"selection_glyph\":null,\"view\":{\"id\":\"6348\",\"type\":\"CDSView\"}},\"id\":\"6347\",\"type\":\"GlyphRenderer\"},{\"attributes\":{\"months\":[0,1,2,3,4,5,6,7,8,9,10,11]},\"id\":\"6362\",\"type\":\"MonthsTicker\"},{\"attributes\":{\"line_alpha\":0.1,\"line_color\":\"#1f77b4\",\"line_width\":3,\"x\":{\"field\":\"MSNDATE\"},\"y\":{\"field\":\"TONS_FRAG\"}},\"id\":\"6372\",\"type\":\"Line\"},{\"attributes\":{},\"id\":\"6352\",\"type\":\"DatetimeTickFormatter\"},{\"attributes\":{\"source\":{\"id\":\"6309\",\"type\":\"ColumnDataSource\"}},\"id\":\"6401\",\"type\":\"CDSView\"},{\"attributes\":{\"days\":[1,4,7,10,13,16,19,22,25,28]},\"id\":\"6359\",\"type\":\"DaysTicker\"},{\"attributes\":{\"axis_label\":\"Kilotons of Munitions Dropped\",\"formatter\":{\"id\":\"6354\",\"type\":\"BasicTickFormatter\"},\"plot\":{\"id\":\"6310\",\"subtype\":\"Figure\",\"type\":\"Plot\"},\"ticker\":{\"id\":\"6325\",\"type\":\"BasicTicker\"}},\"id\":\"6324\",\"type\":\"LinearAxis\"},{\"attributes\":{},\"id\":\"6333\",\"type\":\"ResetTool\"},{\"attributes\":{\"callback\":null,\"data\":{\"MSNDATE\":{\"__ndarray__\":\"AACArtzJa8IAAAAK6LVrwgAAADGYomvCAACAjKOOa8IAAADornprwgAAgNoDaGvCAAAANg9Ua8IAAABdv0BrwgAAgLjKLGvCAACA33oZa8IAAAA7hgVrwgAAgJaR8WrCAACAvUHeasIAAAAZTcpqwgAAAED9tmrCAACAmwijasIAAAD3E49qwgAAALUNfWrCAACAEBlpasIAAIA3yVVqwgAAAJPUQWrCAAAAuoQuasIAAIAVkBpqwgAAAHGbBmrCAAAAmEvzacIAAIDzVt9pwgAAgBoHzGnCAAAAdhK4acIAAIDRHaRpwgAAgI8XkmnCAAAA6yJ+acIAAAAS02ppwgAAgG3eVmnCAACAlI5DacIAAADwmS9pwgAAgEulG2nCAACAclUIacIAAADOYPRowgAAAPUQ4WjCAACAUBzNaMIAAACsJ7lowgAAAGohp2jCAACAxSyTaMIAAIDs3H9owgAAAEjoa2jCAAAAb5hYaMIAAIDKo0RowgAAACavMGjCAAAATV8daMIAAICoaglowgAAgM8a9mfCAAAAKybiZ8IAAICGMc5nwgAAAHmGu2fCAACA1JGnZ8IAAID7QZRnwgAAAFdNgGfCAAAAfv1sZ8IAAIDZCFlnwgAAADUURWfCAAAAXMQxZ8IAAIC3zx1nwgAAgN5/CmfCAAAAOov2ZsIAAICVluJmwgAAgFOQ0GbCAAAAr5u8ZsIAAADWS6lmwgAAgDFXlWbCAACAWAeCZsIAAAC0Em5mwgAAgA8eWmbCAACANs5GZsIAAACS2TJmwgAAALmJH2bCAACAFJULZsI=\",\"dtype\":\"float64\",\"shape\":[76]},\"TONS_FRAG\":{\"__ndarray__\":\"AAAAAAAAAAAAAAAAAAAAAAAAAAAAAAAAAAAAAAAAAAAAAAAAAAAAAAAAAAAAAAAAAAAAAAAAAAAAAAAAAAAAAAAAAAAAAAAAAAAAAAAAAAAAAAAAAAAAAPyp8dJNYlA/AAAAAAAAAAAAAAAAAAAAAHsUrkfheoQ/AAAAAAAAAAAAAAAAAAAAAAAAAAAAAAAAAAAAAAAAAAAAAAAAAAAAAAAAAAAAAAAAAAAAAAAAAAAAAAAAAAAAAAAAAAAAAAAAAAAAAAAAAAAAAAAAAAAAAAAAAAAAAAAA7FG4HoXrsT8AAAAAAAAAAAAAAAAAAAAAAAAAAAAAAAAAAAAAAAAAAAAAAAAAAAAAx7q4jQbwRj+il1Est7R6Py5zuiwmNn8/FtS3zOmyzD/4oGez6nOVP1ioNc07zvY/zGyQSUbOBUDTakjcY+nPPwncupunOtQ/NbVsrS8S5D+f5Xlwd9b9P588LNSapgRA3BZlNsik+z/sUbgehev9PwRWDi2ynQNARrbz/dR4BkCiRbbz/dTyPxfZzvdT4wJAukkMAiuH/D/wp8ZLN4kKQBBYObTIdgtASOF6FK5HH0DXo3A9CtcWQEoMAiuHlh9ADi2yne/nJECmm8QgsLIyQG8Sg8DKoSpAJQaBlUMrMkC6SQwCK4cCQNEi2/l+ajJAI9v5fmq8CUCwcmiR7XwMQF66SQwCqxNAdZMYBFZuNkAv3SQGgXU4QGQ730+NlxFAPQrXo3A9B0CuR+F6FK4CQFyPwvUoXO8/AAAAAAAAAAAAAAAAAAAAAAAAAAAAAAAAKVyPwvUorD8=\",\"dtype\":\"float64\",\"shape\":[76]},\"TONS_IC\":{\"__ndarray__\":\"AAAAAAAAAAAAAAAAAAAAAAAAAAAAAAAAAAAAAAAAAAAAAAAAAAAAAAAAAAAAAAAAAAAAAAAAAAAAAAAAAAAAAAAAAAAAAAAA/Knx0k1iUD8730+Nl26CPzMzMzMzM7M/8tJNYhBYuT+yne+nxku3P5zEILByaME/i2zn+6nxwj9oke18PzXiP+f7qfHSTdI/sp3vp8ZL1z/D9Shcj8LVP0K3lzRG6+A/s+HplbIM3T9tkElGzsLgP1pkO99PjeM/0SLb+X5q4D9mZmZmZmbWPx+F61G4HsU/TDeJQWDlwD8fhetRuB7FPx+i0R3EzmQ/y6FFtvP99D+FsYUgByX6P3Jyv0NRoPs/bdlaXyQUF0AIVWr2QGsBQGZmZmZmpgJAvAopP6k2CEBQYhBYOTQBQBqojH+fcek/fABSmzi59T+wA+eMKG0EQBtMw/ARcRlA+nlTkQpjFUDpt68D50wXQLkZbsDnBxpAb5nTZTGxH0DaOGItPgUjQIj029eB4yRAAAAAAADAIEBMN4lBYKUkQFg5tMh2/iZAiC09muoJL0C8dJMYBNYsQKAaL90khitAhetRuB69PEBI4XoUrg81QClcj8L1EDFAPQrXo3BdF0B/arx0k9g0QB+F61G4HjVAK4cW2c4XOUAdWmQ73/9CQFyPwvUo3CBA30+Nl25SKUAv3SQGgRUlQHnpJjEIjDpA30+Nl24CSUDXo3A9Cnc1QO58PzVeejVAyXa+nxrvM0D2KFyPwlVBQAaBlUOLbCxAAAAAAAAAAAAAAAAAAAAAAAAAAAAAAAAA+n5qvHSTeD8=\",\"dtype\":\"float64\",\"shape\":[76]},\"TOTAL_TONS\":{\"__ndarray__\":\"AAAAAAAAAAAAAAAAAAAAAAAAAAAAAAAAAAAAAAAAAAAAAAAAAAAAAAAAAAAAAAAAAAAAAAAAAAAAAAAAAAAAAHnpJjEIrJw//Knx0k1ioD8fnbryWZ7hP+kmMQisfBpANUbrqGoCBkCgGi/dJAYCQGg/UkSG1fo/2/l+arx08z8nMQisHFr4P+XQItv5/v8/ppvEILByAUCoxks3iUEHQIiiQJ/Ikw5AEugTeZLUFEAXMIFbd9MTQI5Yi08BcBRAWmQ730+NDUBg5dAi2/kLQC2yne+nxgBAImx4eqUsAECPdXEbDaAFQP37jAsHwvM/07zjFB1JEUBPO/w1WWMVQN8CCYofow1AsfShC+qbI0AWjErqBLQiQJMw0/av7BtA9wt2w7bFH0DdRgN4C6QbQBNwCFVq1hVAiD3t8NdkF0Dm49pQMT4kQAwyychZQDFAxv6ye/LoM0DKQQkzbfc5QEWjO4idWUJAvk1/9iNdREB8GcVySzNKQIQNT6+UNU1Ay6FFtvNLUEBWDi2ynVdHQKAaL90kfklA7+vAOSNaUkC4XWiu08ZXQIcuqG+ZgVhAvcEXJlNSYUDUhy6ob7dmQHt1jgHZPG5AnTOitLcpc0Dh6ZWyjBhxQPKYgcp4H3JAMkymCkb9a0AqIsMq3rZqQB8bgXhd/mhA0HmNXaILZ0DC+j+H+dRhQA39E1ysrWpAAuyjU1dwd0CiI7n8h71wQJzX2CWqG0dAON9PjZfWRUA0mIbhI55IQA5Pr5RlgE5AO99PjZduoj8AAAAAAAAAAAAAAAAAAAAAtvP91Hjp3j8=\",\"dtype\":\"float64\",\"shape\":[76]}},\"selected\":{\"id\":\"6394\",\"type\":\"Selection\"},\"selection_policy\":{\"id\":\"6395\",\"type\":\"UnionRenderers\"}},\"id\":\"6309\",\"type\":\"ColumnDataSource\"},{\"attributes\":{\"months\":[0,6]},\"id\":\"6365\",\"type\":\"MonthsTicker\"},{\"attributes\":{\"bottom_units\":\"screen\",\"fill_alpha\":{\"value\":0.5},\"fill_color\":{\"value\":\"lightgrey\"},\"left_units\":\"screen\",\"level\":\"overlay\",\"line_alpha\":{\"value\":1.0},\"line_color\":{\"value\":\"black\"},\"line_dash\":[4,4],\"line_width\":{\"value\":2},\"plot\":null,\"render_mode\":\"css\",\"right_units\":\"screen\",\"top_units\":\"screen\"},\"id\":\"6337\",\"type\":\"BoxAnnotation\"},{\"attributes\":{\"num_minor_ticks\":5,\"tickers\":[{\"id\":\"6355\",\"type\":\"AdaptiveTicker\"},{\"id\":\"6356\",\"type\":\"AdaptiveTicker\"},{\"id\":\"6357\",\"type\":\"AdaptiveTicker\"},{\"id\":\"6358\",\"type\":\"DaysTicker\"},{\"id\":\"6359\",\"type\":\"DaysTicker\"},{\"id\":\"6360\",\"type\":\"DaysTicker\"},{\"id\":\"6361\",\"type\":\"DaysTicker\"},{\"id\":\"6362\",\"type\":\"MonthsTicker\"},{\"id\":\"6363\",\"type\":\"MonthsTicker\"},{\"id\":\"6364\",\"type\":\"MonthsTicker\"},{\"id\":\"6365\",\"type\":\"MonthsTicker\"},{\"id\":\"6366\",\"type\":\"YearsTicker\"}]},\"id\":\"6320\",\"type\":\"DatetimeTicker\"},{\"attributes\":{\"label\":{\"value\":\"Incendiary\"},\"renderers\":[{\"id\":\"6400\",\"type\":\"GlyphRenderer\"}]},\"id\":\"6423\",\"type\":\"LegendItem\"},{\"attributes\":{\"plot\":{\"id\":\"6310\",\"subtype\":\"Figure\",\"type\":\"Plot\"},\"ticker\":{\"id\":\"6320\",\"type\":\"DatetimeTicker\"}},\"id\":\"6323\",\"type\":\"Grid\"},{\"attributes\":{\"line_alpha\":0.1,\"line_color\":\"#1f77b4\",\"line_width\":3,\"x\":{\"field\":\"MSNDATE\"},\"y\":{\"field\":\"TONS_IC\"}},\"id\":\"6399\",\"type\":\"Line\"},{\"attributes\":{},\"id\":\"6395\",\"type\":\"UnionRenderers\"},{\"attributes\":{\"line_color\":\"#1f77b4\",\"line_width\":3,\"x\":{\"field\":\"MSNDATE\"},\"y\":{\"field\":\"TOTAL_TONS\"}},\"id\":\"6345\",\"type\":\"Line\"},{\"attributes\":{\"months\":[0,2,4,6,8,10]},\"id\":\"6363\",\"type\":\"MonthsTicker\"},{\"attributes\":{\"label\":{\"value\":\"Fragmentation\"},\"renderers\":[{\"id\":\"6373\",\"type\":\"GlyphRenderer\"}]},\"id\":\"6396\",\"type\":\"LegendItem\"},{\"attributes\":{\"mantissas\":[1,2,5],\"max_interval\":500.0,\"num_minor_ticks\":0},\"id\":\"6355\",\"type\":\"AdaptiveTicker\"},{\"attributes\":{\"plot\":null,\"text\":\"European Theater of Operations\"},\"id\":\"6349\",\"type\":\"Title\"},{\"attributes\":{\"callback\":null},\"id\":\"6311\",\"type\":\"DataRange1d\"},{\"attributes\":{},\"id\":\"6329\",\"type\":\"PanTool\"},{\"attributes\":{\"base\":60,\"mantissas\":[1,2,5,10,15,20,30],\"max_interval\":1800000.0,\"min_interval\":1000.0,\"num_minor_ticks\":0},\"id\":\"6356\",\"type\":\"AdaptiveTicker\"},{\"attributes\":{\"label\":{\"value\":\"All Munitions\"},\"renderers\":[{\"id\":\"6347\",\"type\":\"GlyphRenderer\"}]},\"id\":\"6369\",\"type\":\"LegendItem\"},{\"attributes\":{},\"id\":\"6354\",\"type\":\"BasicTickFormatter\"},{\"attributes\":{\"callback\":null},\"id\":\"6313\",\"type\":\"DataRange1d\"},{\"attributes\":{\"line_color\":\"#fdae61\",\"line_width\":3,\"x\":{\"field\":\"MSNDATE\"},\"y\":{\"field\":\"TONS_IC\"}},\"id\":\"6398\",\"type\":\"Line\"},{\"attributes\":{},\"id\":\"6315\",\"type\":\"LinearScale\"},{\"attributes\":{\"active_drag\":\"auto\",\"active_inspect\":\"auto\",\"active_multi\":null,\"active_scroll\":\"auto\",\"active_tap\":\"auto\",\"tools\":[{\"id\":\"6329\",\"type\":\"PanTool\"},{\"id\":\"6330\",\"type\":\"WheelZoomTool\"},{\"id\":\"6331\",\"type\":\"BoxZoomTool\"},{\"id\":\"6332\",\"type\":\"SaveTool\"},{\"id\":\"6333\",\"type\":\"ResetTool\"},{\"id\":\"6334\",\"type\":\"HelpTool\"}]},\"id\":\"6335\",\"type\":\"Toolbar\"},{\"attributes\":{\"days\":[1,2,3,4,5,6,7,8,9,10,11,12,13,14,15,16,17,18,19,20,21,22,23,24,25,26,27,28,29,30,31]},\"id\":\"6358\",\"type\":\"DaysTicker\"},{\"attributes\":{},\"id\":\"6366\",\"type\":\"YearsTicker\"},{\"attributes\":{\"days\":[1,15]},\"id\":\"6361\",\"type\":\"DaysTicker\"},{\"attributes\":{\"source\":{\"id\":\"6309\",\"type\":\"ColumnDataSource\"}},\"id\":\"6374\",\"type\":\"CDSView\"},{\"attributes\":{},\"id\":\"6394\",\"type\":\"Selection\"},{\"attributes\":{},\"id\":\"6332\",\"type\":\"SaveTool\"},{\"attributes\":{},\"id\":\"6330\",\"type\":\"WheelZoomTool\"},{\"attributes\":{\"data_source\":{\"id\":\"6309\",\"type\":\"ColumnDataSource\"},\"glyph\":{\"id\":\"6398\",\"type\":\"Line\"},\"hover_glyph\":null,\"muted_glyph\":null,\"nonselection_glyph\":{\"id\":\"6399\",\"type\":\"Line\"},\"selection_glyph\":null,\"view\":{\"id\":\"6401\",\"type\":\"CDSView\"}},\"id\":\"6400\",\"type\":\"GlyphRenderer\"}],\"root_ids\":[\"6310\"]},\"title\":\"Bokeh Application\",\"version\":\"1.0.1\"}};\n",
       "  var render_items = [{\"docid\":\"099ca7a7-3fc4-4a2a-8f94-ff2e911cd368\",\"roots\":{\"6310\":\"c1c4c213-d41d-4d8f-99bd-ce918a403599\"}}];\n",
       "  root.Bokeh.embed.embed_items_notebook(docs_json, render_items);\n",
       "\n",
       "  }\n",
       "  if (root.Bokeh !== undefined) {\n",
       "    embed_document(root);\n",
       "  } else {\n",
       "    var attempts = 0;\n",
       "    var timer = setInterval(function(root) {\n",
       "      if (root.Bokeh !== undefined) {\n",
       "        embed_document(root);\n",
       "        clearInterval(timer);\n",
       "      }\n",
       "      attempts++;\n",
       "      if (attempts > 100) {\n",
       "        console.log(\"Bokeh: ERROR: Unable to run BokehJS code because BokehJS library is missing\");\n",
       "        clearInterval(timer);\n",
       "      }\n",
       "    }, 10, root)\n",
       "  }\n",
       "})(window);"
      ],
      "application/vnd.bokehjs_exec.v0+json": ""
     },
     "metadata": {
      "application/vnd.bokehjs_exec.v0+json": {
       "id": "6310"
      }
     },
     "output_type": "display_data"
    }
   ],
   "source": [
    "df = pd.read_csv(filename)\n",
    "# filter = df['THEATER']=='ETO'\n",
    "# df = df[filter]\n",
    "\n",
    "df['MSNDATE'] = pd.to_datetime(df['MSNDATE'], format='%m/%d/%Y')\n",
    "group = df.groupby(pd.Grouper(key='MSNDATE', freq='M'))['TOTAL_TONS', 'TONS_IC', 'TONS_FRAG'].sum()\n",
    "group = group / 1000\n",
    "\n",
    "source = ColumnDataSource(group)\n",
    "\n",
    "p = figure(x_axis_type=\"datetime\", plot_width=800, plot_height=300)\n",
    "\n",
    "p.line(x='MSNDATE', y='TOTAL_TONS', line_width=3, source=source, legend='All Munitions')\n",
    "p.line(x='MSNDATE', y='TONS_FRAG', line_width=3, source=source, color=Spectral5[1], legend='Fragmentation')\n",
    "p.line(x='MSNDATE', y='TONS_IC', line_width=3, source=source, color=Spectral5[3], legend='Incendiary')\n",
    "\n",
    "p.title.text = 'European Theater of Operations'\n",
    "p.legend.location = \"top_left\"\n",
    "p.yaxis.axis_label = 'Kilotons of Munitions Dropped'\n",
    "\n",
    "show(p)"
   ]
  },
  {
   "cell_type": "code",
   "execution_count": 100,
   "metadata": {},
   "outputs": [
    {
     "data": {
      "text/plain": [
       "1899"
      ]
     },
     "execution_count": 100,
     "metadata": {},
     "output_type": "execute_result"
    }
   ],
   "source": [
    "df['MSNDATE'].nunique()"
   ]
  },
  {
   "cell_type": "code",
   "execution_count": 101,
   "metadata": {},
   "outputs": [
    {
     "data": {
      "text/html": [
       "<div>\n",
       "<style scoped>\n",
       "    .dataframe tbody tr th:only-of-type {\n",
       "        vertical-align: middle;\n",
       "    }\n",
       "\n",
       "    .dataframe tbody tr th {\n",
       "        vertical-align: top;\n",
       "    }\n",
       "\n",
       "    .dataframe thead th {\n",
       "        text-align: right;\n",
       "    }\n",
       "</style>\n",
       "<table border=\"1\" class=\"dataframe\">\n",
       "  <thead>\n",
       "    <tr style=\"text-align: right;\">\n",
       "      <th></th>\n",
       "      <th>TOTAL_TONS</th>\n",
       "      <th>TONS_IC</th>\n",
       "      <th>TONS_FRAG</th>\n",
       "    </tr>\n",
       "    <tr>\n",
       "      <th>MSNDATE</th>\n",
       "      <th></th>\n",
       "      <th></th>\n",
       "      <th></th>\n",
       "    </tr>\n",
       "  </thead>\n",
       "  <tbody>\n",
       "    <tr>\n",
       "      <th>1945-08-31</th>\n",
       "      <td>61.0031</td>\n",
       "      <td>14.212</td>\n",
       "      <td>0.980</td>\n",
       "    </tr>\n",
       "    <tr>\n",
       "      <th>1945-09-30</th>\n",
       "      <td>0.0360</td>\n",
       "      <td>0.000</td>\n",
       "      <td>0.000</td>\n",
       "    </tr>\n",
       "    <tr>\n",
       "      <th>1945-10-31</th>\n",
       "      <td>0.0000</td>\n",
       "      <td>0.000</td>\n",
       "      <td>0.000</td>\n",
       "    </tr>\n",
       "    <tr>\n",
       "      <th>1945-11-30</th>\n",
       "      <td>0.0000</td>\n",
       "      <td>0.000</td>\n",
       "      <td>0.000</td>\n",
       "    </tr>\n",
       "    <tr>\n",
       "      <th>1945-12-31</th>\n",
       "      <td>0.4830</td>\n",
       "      <td>0.006</td>\n",
       "      <td>0.055</td>\n",
       "    </tr>\n",
       "  </tbody>\n",
       "</table>\n",
       "</div>"
      ],
      "text/plain": [
       "            TOTAL_TONS  TONS_IC  TONS_FRAG\n",
       "MSNDATE                                   \n",
       "1945-08-31     61.0031   14.212      0.980\n",
       "1945-09-30      0.0360    0.000      0.000\n",
       "1945-10-31      0.0000    0.000      0.000\n",
       "1945-11-30      0.0000    0.000      0.000\n",
       "1945-12-31      0.4830    0.006      0.055"
      ]
     },
     "execution_count": 101,
     "metadata": {},
     "output_type": "execute_result"
    }
   ],
   "source": [
    "group.tail(5)"
   ]
  },
  {
   "cell_type": "code",
   "execution_count": 102,
   "metadata": {},
   "outputs": [],
   "source": [
    "box_left = pd.to_datetime('6-6-1944')\n",
    "box_right = pd.to_datetime('16-12-1944')"
   ]
  },
  {
   "cell_type": "code",
   "execution_count": 103,
   "metadata": {},
   "outputs": [],
   "source": [
    "from bokeh.models import BoxAnnotation\n",
    "\n",
    "box = BoxAnnotation(left=box_left, right=box_right,\n",
    "                    line_width=1, line_color='black', line_dash='dashed',\n",
    "                    fill_alpha=0.2, fill_color='orange')\n",
    "\n",
    "p.add_layout(box)"
   ]
  },
  {
   "cell_type": "code",
   "execution_count": 104,
   "metadata": {},
   "outputs": [
    {
     "data": {
      "text/html": [
       "\n",
       "\n",
       "\n",
       "\n",
       "\n",
       "\n",
       "  <div class=\"bk-root\" id=\"e1970959-3329-4b4c-ab22-013e5193d723\"></div>\n"
      ]
     },
     "metadata": {},
     "output_type": "display_data"
    },
    {
     "data": {
      "application/javascript": [
       "(function(root) {\n",
       "  function embed_document(root) {\n",
       "    \n",
       "  var docs_json = {\"d478da74-a1f5-418c-b713-847ec0b208fe\":{\"roots\":{\"references\":[{\"attributes\":{\"below\":[{\"id\":\"6319\",\"type\":\"DatetimeAxis\"}],\"left\":[{\"id\":\"6324\",\"type\":\"LinearAxis\"}],\"plot_height\":300,\"plot_width\":800,\"renderers\":[{\"id\":\"6319\",\"type\":\"DatetimeAxis\"},{\"id\":\"6323\",\"type\":\"Grid\"},{\"id\":\"6324\",\"type\":\"LinearAxis\"},{\"id\":\"6328\",\"type\":\"Grid\"},{\"id\":\"6337\",\"type\":\"BoxAnnotation\"},{\"id\":\"6368\",\"type\":\"Legend\"},{\"id\":\"6347\",\"type\":\"GlyphRenderer\"},{\"id\":\"6373\",\"type\":\"GlyphRenderer\"},{\"id\":\"6400\",\"type\":\"GlyphRenderer\"},{\"id\":\"6751\",\"type\":\"BoxAnnotation\"}],\"title\":{\"id\":\"6349\",\"type\":\"Title\"},\"toolbar\":{\"id\":\"6335\",\"type\":\"Toolbar\"},\"x_range\":{\"id\":\"6311\",\"type\":\"DataRange1d\"},\"x_scale\":{\"id\":\"6315\",\"type\":\"LinearScale\"},\"y_range\":{\"id\":\"6313\",\"type\":\"DataRange1d\"},\"y_scale\":{\"id\":\"6317\",\"type\":\"LinearScale\"}},\"id\":\"6310\",\"subtype\":\"Figure\",\"type\":\"Plot\"},{\"attributes\":{},\"id\":\"6334\",\"type\":\"HelpTool\"},{\"attributes\":{\"source\":{\"id\":\"6309\",\"type\":\"ColumnDataSource\"}},\"id\":\"6348\",\"type\":\"CDSView\"},{\"attributes\":{\"months\":[0,4,8]},\"id\":\"6364\",\"type\":\"MonthsTicker\"},{\"attributes\":{},\"id\":\"6325\",\"type\":\"BasicTicker\"},{\"attributes\":{\"items\":[{\"id\":\"6369\",\"type\":\"LegendItem\"},{\"id\":\"6396\",\"type\":\"LegendItem\"},{\"id\":\"6423\",\"type\":\"LegendItem\"}],\"location\":\"top_left\",\"plot\":{\"id\":\"6310\",\"subtype\":\"Figure\",\"type\":\"Plot\"}},\"id\":\"6368\",\"type\":\"Legend\"},{\"attributes\":{\"base\":24,\"mantissas\":[1,2,4,6,8,12],\"max_interval\":43200000.0,\"min_interval\":3600000.0,\"num_minor_ticks\":0},\"id\":\"6357\",\"type\":\"AdaptiveTicker\"},{\"attributes\":{\"formatter\":{\"id\":\"6352\",\"type\":\"DatetimeTickFormatter\"},\"plot\":{\"id\":\"6310\",\"subtype\":\"Figure\",\"type\":\"Plot\"},\"ticker\":{\"id\":\"6320\",\"type\":\"DatetimeTicker\"}},\"id\":\"6319\",\"type\":\"DatetimeAxis\"},{\"attributes\":{\"days\":[1,8,15,22]},\"id\":\"6360\",\"type\":\"DaysTicker\"},{\"attributes\":{\"overlay\":{\"id\":\"6337\",\"type\":\"BoxAnnotation\"}},\"id\":\"6331\",\"type\":\"BoxZoomTool\"},{\"attributes\":{\"line_color\":\"#abdda4\",\"line_width\":3,\"x\":{\"field\":\"MSNDATE\"},\"y\":{\"field\":\"TONS_FRAG\"}},\"id\":\"6371\",\"type\":\"Line\"},{\"attributes\":{\"fill_alpha\":{\"value\":0.2},\"fill_color\":{\"value\":\"orange\"},\"left\":-806976000000.0,\"line_color\":{\"value\":\"black\"},\"line_dash\":[6],\"plot\":{\"id\":\"6310\",\"subtype\":\"Figure\",\"type\":\"Plot\"},\"right\":-790300800000.0},\"id\":\"6751\",\"type\":\"BoxAnnotation\"},{\"attributes\":{\"dimension\":1,\"plot\":{\"id\":\"6310\",\"subtype\":\"Figure\",\"type\":\"Plot\"},\"ticker\":{\"id\":\"6325\",\"type\":\"BasicTicker\"}},\"id\":\"6328\",\"type\":\"Grid\"},{\"attributes\":{},\"id\":\"6317\",\"type\":\"LinearScale\"},{\"attributes\":{\"data_source\":{\"id\":\"6309\",\"type\":\"ColumnDataSource\"},\"glyph\":{\"id\":\"6371\",\"type\":\"Line\"},\"hover_glyph\":null,\"muted_glyph\":null,\"nonselection_glyph\":{\"id\":\"6372\",\"type\":\"Line\"},\"selection_glyph\":null,\"view\":{\"id\":\"6374\",\"type\":\"CDSView\"}},\"id\":\"6373\",\"type\":\"GlyphRenderer\"},{\"attributes\":{\"line_alpha\":0.1,\"line_color\":\"#1f77b4\",\"line_width\":3,\"x\":{\"field\":\"MSNDATE\"},\"y\":{\"field\":\"TOTAL_TONS\"}},\"id\":\"6346\",\"type\":\"Line\"},{\"attributes\":{\"data_source\":{\"id\":\"6309\",\"type\":\"ColumnDataSource\"},\"glyph\":{\"id\":\"6345\",\"type\":\"Line\"},\"hover_glyph\":null,\"muted_glyph\":null,\"nonselection_glyph\":{\"id\":\"6346\",\"type\":\"Line\"},\"selection_glyph\":null,\"view\":{\"id\":\"6348\",\"type\":\"CDSView\"}},\"id\":\"6347\",\"type\":\"GlyphRenderer\"},{\"attributes\":{\"months\":[0,1,2,3,4,5,6,7,8,9,10,11]},\"id\":\"6362\",\"type\":\"MonthsTicker\"},{\"attributes\":{\"line_alpha\":0.1,\"line_color\":\"#1f77b4\",\"line_width\":3,\"x\":{\"field\":\"MSNDATE\"},\"y\":{\"field\":\"TONS_FRAG\"}},\"id\":\"6372\",\"type\":\"Line\"},{\"attributes\":{},\"id\":\"6352\",\"type\":\"DatetimeTickFormatter\"},{\"attributes\":{\"source\":{\"id\":\"6309\",\"type\":\"ColumnDataSource\"}},\"id\":\"6401\",\"type\":\"CDSView\"},{\"attributes\":{\"days\":[1,4,7,10,13,16,19,22,25,28]},\"id\":\"6359\",\"type\":\"DaysTicker\"},{\"attributes\":{\"axis_label\":\"Kilotons of Munitions Dropped\",\"formatter\":{\"id\":\"6354\",\"type\":\"BasicTickFormatter\"},\"plot\":{\"id\":\"6310\",\"subtype\":\"Figure\",\"type\":\"Plot\"},\"ticker\":{\"id\":\"6325\",\"type\":\"BasicTicker\"}},\"id\":\"6324\",\"type\":\"LinearAxis\"},{\"attributes\":{},\"id\":\"6333\",\"type\":\"ResetTool\"},{\"attributes\":{\"callback\":null,\"data\":{\"MSNDATE\":{\"__ndarray__\":\"AACArtzJa8IAAAAK6LVrwgAAADGYomvCAACAjKOOa8IAAADornprwgAAgNoDaGvCAAAANg9Ua8IAAABdv0BrwgAAgLjKLGvCAACA33oZa8IAAAA7hgVrwgAAgJaR8WrCAACAvUHeasIAAAAZTcpqwgAAAED9tmrCAACAmwijasIAAAD3E49qwgAAALUNfWrCAACAEBlpasIAAIA3yVVqwgAAAJPUQWrCAAAAuoQuasIAAIAVkBpqwgAAAHGbBmrCAAAAmEvzacIAAIDzVt9pwgAAgBoHzGnCAAAAdhK4acIAAIDRHaRpwgAAgI8XkmnCAAAA6yJ+acIAAAAS02ppwgAAgG3eVmnCAACAlI5DacIAAADwmS9pwgAAgEulG2nCAACAclUIacIAAADOYPRowgAAAPUQ4WjCAACAUBzNaMIAAACsJ7lowgAAAGohp2jCAACAxSyTaMIAAIDs3H9owgAAAEjoa2jCAAAAb5hYaMIAAIDKo0RowgAAACavMGjCAAAATV8daMIAAICoaglowgAAgM8a9mfCAAAAKybiZ8IAAICGMc5nwgAAAHmGu2fCAACA1JGnZ8IAAID7QZRnwgAAAFdNgGfCAAAAfv1sZ8IAAIDZCFlnwgAAADUURWfCAAAAXMQxZ8IAAIC3zx1nwgAAgN5/CmfCAAAAOov2ZsIAAICVluJmwgAAgFOQ0GbCAAAAr5u8ZsIAAADWS6lmwgAAgDFXlWbCAACAWAeCZsIAAAC0Em5mwgAAgA8eWmbCAACANs5GZsIAAACS2TJmwgAAALmJH2bCAACAFJULZsI=\",\"dtype\":\"float64\",\"shape\":[76]},\"TONS_FRAG\":{\"__ndarray__\":\"AAAAAAAAAAAAAAAAAAAAAAAAAAAAAAAAAAAAAAAAAAAAAAAAAAAAAAAAAAAAAAAAAAAAAAAAAAAAAAAAAAAAAAAAAAAAAAAAAAAAAAAAAAAAAAAAAAAAAPyp8dJNYlA/AAAAAAAAAAAAAAAAAAAAAHsUrkfheoQ/AAAAAAAAAAAAAAAAAAAAAAAAAAAAAAAAAAAAAAAAAAAAAAAAAAAAAAAAAAAAAAAAAAAAAAAAAAAAAAAAAAAAAAAAAAAAAAAAAAAAAAAAAAAAAAAAAAAAAAAAAAAAAAAA7FG4HoXrsT8AAAAAAAAAAAAAAAAAAAAAAAAAAAAAAAAAAAAAAAAAAAAAAAAAAAAAx7q4jQbwRj+il1Est7R6Py5zuiwmNn8/FtS3zOmyzD/4oGez6nOVP1ioNc07zvY/zGyQSUbOBUDTakjcY+nPPwncupunOtQ/NbVsrS8S5D+f5Xlwd9b9P588LNSapgRA3BZlNsik+z/sUbgehev9PwRWDi2ynQNARrbz/dR4BkCiRbbz/dTyPxfZzvdT4wJAukkMAiuH/D/wp8ZLN4kKQBBYObTIdgtASOF6FK5HH0DXo3A9CtcWQEoMAiuHlh9ADi2yne/nJECmm8QgsLIyQG8Sg8DKoSpAJQaBlUMrMkC6SQwCK4cCQNEi2/l+ajJAI9v5fmq8CUCwcmiR7XwMQF66SQwCqxNAdZMYBFZuNkAv3SQGgXU4QGQ730+NlxFAPQrXo3A9B0CuR+F6FK4CQFyPwvUoXO8/AAAAAAAAAAAAAAAAAAAAAAAAAAAAAAAAKVyPwvUorD8=\",\"dtype\":\"float64\",\"shape\":[76]},\"TONS_IC\":{\"__ndarray__\":\"AAAAAAAAAAAAAAAAAAAAAAAAAAAAAAAAAAAAAAAAAAAAAAAAAAAAAAAAAAAAAAAAAAAAAAAAAAAAAAAAAAAAAAAAAAAAAAAA/Knx0k1iUD8730+Nl26CPzMzMzMzM7M/8tJNYhBYuT+yne+nxku3P5zEILByaME/i2zn+6nxwj9oke18PzXiP+f7qfHSTdI/sp3vp8ZL1z/D9Shcj8LVP0K3lzRG6+A/s+HplbIM3T9tkElGzsLgP1pkO99PjeM/0SLb+X5q4D9mZmZmZmbWPx+F61G4HsU/TDeJQWDlwD8fhetRuB7FPx+i0R3EzmQ/y6FFtvP99D+FsYUgByX6P3Jyv0NRoPs/bdlaXyQUF0AIVWr2QGsBQGZmZmZmpgJAvAopP6k2CEBQYhBYOTQBQBqojH+fcek/fABSmzi59T+wA+eMKG0EQBtMw/ARcRlA+nlTkQpjFUDpt68D50wXQLkZbsDnBxpAb5nTZTGxH0DaOGItPgUjQIj029eB4yRAAAAAAADAIEBMN4lBYKUkQFg5tMh2/iZAiC09muoJL0C8dJMYBNYsQKAaL90khitAhetRuB69PEBI4XoUrg81QClcj8L1EDFAPQrXo3BdF0B/arx0k9g0QB+F61G4HjVAK4cW2c4XOUAdWmQ73/9CQFyPwvUo3CBA30+Nl25SKUAv3SQGgRUlQHnpJjEIjDpA30+Nl24CSUDXo3A9Cnc1QO58PzVeejVAyXa+nxrvM0D2KFyPwlVBQAaBlUOLbCxAAAAAAAAAAAAAAAAAAAAAAAAAAAAAAAAA+n5qvHSTeD8=\",\"dtype\":\"float64\",\"shape\":[76]},\"TOTAL_TONS\":{\"__ndarray__\":\"AAAAAAAAAAAAAAAAAAAAAAAAAAAAAAAAAAAAAAAAAAAAAAAAAAAAAAAAAAAAAAAAAAAAAAAAAAAAAAAAAAAAAHnpJjEIrJw//Knx0k1ioD8fnbryWZ7hP+kmMQisfBpANUbrqGoCBkCgGi/dJAYCQGg/UkSG1fo/2/l+arx08z8nMQisHFr4P+XQItv5/v8/ppvEILByAUCoxks3iUEHQIiiQJ/Ikw5AEugTeZLUFEAXMIFbd9MTQI5Yi08BcBRAWmQ730+NDUBg5dAi2/kLQC2yne+nxgBAImx4eqUsAECPdXEbDaAFQP37jAsHwvM/07zjFB1JEUBPO/w1WWMVQN8CCYofow1AsfShC+qbI0AWjErqBLQiQJMw0/av7BtA9wt2w7bFH0DdRgN4C6QbQBNwCFVq1hVAiD3t8NdkF0Dm49pQMT4kQAwyychZQDFAxv6ye/LoM0DKQQkzbfc5QEWjO4idWUJAvk1/9iNdREB8GcVySzNKQIQNT6+UNU1Ay6FFtvNLUEBWDi2ynVdHQKAaL90kfklA7+vAOSNaUkC4XWiu08ZXQIcuqG+ZgVhAvcEXJlNSYUDUhy6ob7dmQHt1jgHZPG5AnTOitLcpc0Dh6ZWyjBhxQPKYgcp4H3JAMkymCkb9a0AqIsMq3rZqQB8bgXhd/mhA0HmNXaILZ0DC+j+H+dRhQA39E1ysrWpAAuyjU1dwd0CiI7n8h71wQJzX2CWqG0dAON9PjZfWRUA0mIbhI55IQA5Pr5RlgE5AO99PjZduoj8AAAAAAAAAAAAAAAAAAAAAtvP91Hjp3j8=\",\"dtype\":\"float64\",\"shape\":[76]}},\"selected\":{\"id\":\"6394\",\"type\":\"Selection\"},\"selection_policy\":{\"id\":\"6395\",\"type\":\"UnionRenderers\"}},\"id\":\"6309\",\"type\":\"ColumnDataSource\"},{\"attributes\":{\"months\":[0,6]},\"id\":\"6365\",\"type\":\"MonthsTicker\"},{\"attributes\":{\"bottom_units\":\"screen\",\"fill_alpha\":{\"value\":0.5},\"fill_color\":{\"value\":\"lightgrey\"},\"left_units\":\"screen\",\"level\":\"overlay\",\"line_alpha\":{\"value\":1.0},\"line_color\":{\"value\":\"black\"},\"line_dash\":[4,4],\"line_width\":{\"value\":2},\"plot\":null,\"render_mode\":\"css\",\"right_units\":\"screen\",\"top_units\":\"screen\"},\"id\":\"6337\",\"type\":\"BoxAnnotation\"},{\"attributes\":{\"num_minor_ticks\":5,\"tickers\":[{\"id\":\"6355\",\"type\":\"AdaptiveTicker\"},{\"id\":\"6356\",\"type\":\"AdaptiveTicker\"},{\"id\":\"6357\",\"type\":\"AdaptiveTicker\"},{\"id\":\"6358\",\"type\":\"DaysTicker\"},{\"id\":\"6359\",\"type\":\"DaysTicker\"},{\"id\":\"6360\",\"type\":\"DaysTicker\"},{\"id\":\"6361\",\"type\":\"DaysTicker\"},{\"id\":\"6362\",\"type\":\"MonthsTicker\"},{\"id\":\"6363\",\"type\":\"MonthsTicker\"},{\"id\":\"6364\",\"type\":\"MonthsTicker\"},{\"id\":\"6365\",\"type\":\"MonthsTicker\"},{\"id\":\"6366\",\"type\":\"YearsTicker\"}]},\"id\":\"6320\",\"type\":\"DatetimeTicker\"},{\"attributes\":{\"label\":{\"value\":\"Incendiary\"},\"renderers\":[{\"id\":\"6400\",\"type\":\"GlyphRenderer\"}]},\"id\":\"6423\",\"type\":\"LegendItem\"},{\"attributes\":{\"plot\":{\"id\":\"6310\",\"subtype\":\"Figure\",\"type\":\"Plot\"},\"ticker\":{\"id\":\"6320\",\"type\":\"DatetimeTicker\"}},\"id\":\"6323\",\"type\":\"Grid\"},{\"attributes\":{\"line_alpha\":0.1,\"line_color\":\"#1f77b4\",\"line_width\":3,\"x\":{\"field\":\"MSNDATE\"},\"y\":{\"field\":\"TONS_IC\"}},\"id\":\"6399\",\"type\":\"Line\"},{\"attributes\":{},\"id\":\"6395\",\"type\":\"UnionRenderers\"},{\"attributes\":{\"line_color\":\"#1f77b4\",\"line_width\":3,\"x\":{\"field\":\"MSNDATE\"},\"y\":{\"field\":\"TOTAL_TONS\"}},\"id\":\"6345\",\"type\":\"Line\"},{\"attributes\":{\"months\":[0,2,4,6,8,10]},\"id\":\"6363\",\"type\":\"MonthsTicker\"},{\"attributes\":{\"label\":{\"value\":\"Fragmentation\"},\"renderers\":[{\"id\":\"6373\",\"type\":\"GlyphRenderer\"}]},\"id\":\"6396\",\"type\":\"LegendItem\"},{\"attributes\":{\"mantissas\":[1,2,5],\"max_interval\":500.0,\"num_minor_ticks\":0},\"id\":\"6355\",\"type\":\"AdaptiveTicker\"},{\"attributes\":{\"plot\":null,\"text\":\"European Theater of Operations\"},\"id\":\"6349\",\"type\":\"Title\"},{\"attributes\":{\"callback\":null},\"id\":\"6311\",\"type\":\"DataRange1d\"},{\"attributes\":{},\"id\":\"6329\",\"type\":\"PanTool\"},{\"attributes\":{\"base\":60,\"mantissas\":[1,2,5,10,15,20,30],\"max_interval\":1800000.0,\"min_interval\":1000.0,\"num_minor_ticks\":0},\"id\":\"6356\",\"type\":\"AdaptiveTicker\"},{\"attributes\":{\"label\":{\"value\":\"All Munitions\"},\"renderers\":[{\"id\":\"6347\",\"type\":\"GlyphRenderer\"}]},\"id\":\"6369\",\"type\":\"LegendItem\"},{\"attributes\":{},\"id\":\"6354\",\"type\":\"BasicTickFormatter\"},{\"attributes\":{\"callback\":null},\"id\":\"6313\",\"type\":\"DataRange1d\"},{\"attributes\":{\"line_color\":\"#fdae61\",\"line_width\":3,\"x\":{\"field\":\"MSNDATE\"},\"y\":{\"field\":\"TONS_IC\"}},\"id\":\"6398\",\"type\":\"Line\"},{\"attributes\":{},\"id\":\"6315\",\"type\":\"LinearScale\"},{\"attributes\":{\"active_drag\":\"auto\",\"active_inspect\":\"auto\",\"active_multi\":null,\"active_scroll\":\"auto\",\"active_tap\":\"auto\",\"tools\":[{\"id\":\"6329\",\"type\":\"PanTool\"},{\"id\":\"6330\",\"type\":\"WheelZoomTool\"},{\"id\":\"6331\",\"type\":\"BoxZoomTool\"},{\"id\":\"6332\",\"type\":\"SaveTool\"},{\"id\":\"6333\",\"type\":\"ResetTool\"},{\"id\":\"6334\",\"type\":\"HelpTool\"}]},\"id\":\"6335\",\"type\":\"Toolbar\"},{\"attributes\":{\"days\":[1,2,3,4,5,6,7,8,9,10,11,12,13,14,15,16,17,18,19,20,21,22,23,24,25,26,27,28,29,30,31]},\"id\":\"6358\",\"type\":\"DaysTicker\"},{\"attributes\":{},\"id\":\"6366\",\"type\":\"YearsTicker\"},{\"attributes\":{\"days\":[1,15]},\"id\":\"6361\",\"type\":\"DaysTicker\"},{\"attributes\":{\"source\":{\"id\":\"6309\",\"type\":\"ColumnDataSource\"}},\"id\":\"6374\",\"type\":\"CDSView\"},{\"attributes\":{},\"id\":\"6394\",\"type\":\"Selection\"},{\"attributes\":{},\"id\":\"6332\",\"type\":\"SaveTool\"},{\"attributes\":{},\"id\":\"6330\",\"type\":\"WheelZoomTool\"},{\"attributes\":{\"data_source\":{\"id\":\"6309\",\"type\":\"ColumnDataSource\"},\"glyph\":{\"id\":\"6398\",\"type\":\"Line\"},\"hover_glyph\":null,\"muted_glyph\":null,\"nonselection_glyph\":{\"id\":\"6399\",\"type\":\"Line\"},\"selection_glyph\":null,\"view\":{\"id\":\"6401\",\"type\":\"CDSView\"}},\"id\":\"6400\",\"type\":\"GlyphRenderer\"}],\"root_ids\":[\"6310\"]},\"title\":\"Bokeh Application\",\"version\":\"1.0.1\"}};\n",
       "  var render_items = [{\"docid\":\"d478da74-a1f5-418c-b713-847ec0b208fe\",\"roots\":{\"6310\":\"e1970959-3329-4b4c-ab22-013e5193d723\"}}];\n",
       "  root.Bokeh.embed.embed_items_notebook(docs_json, render_items);\n",
       "\n",
       "  }\n",
       "  if (root.Bokeh !== undefined) {\n",
       "    embed_document(root);\n",
       "  } else {\n",
       "    var attempts = 0;\n",
       "    var timer = setInterval(function(root) {\n",
       "      if (root.Bokeh !== undefined) {\n",
       "        embed_document(root);\n",
       "        clearInterval(timer);\n",
       "      }\n",
       "      attempts++;\n",
       "      if (attempts > 100) {\n",
       "        console.log(\"Bokeh: ERROR: Unable to run BokehJS code because BokehJS library is missing\");\n",
       "        clearInterval(timer);\n",
       "      }\n",
       "    }, 10, root)\n",
       "  }\n",
       "})(window);"
      ],
      "application/vnd.bokehjs_exec.v0+json": ""
     },
     "metadata": {
      "application/vnd.bokehjs_exec.v0+json": {
       "id": "6310"
      }
     },
     "output_type": "display_data"
    }
   ],
   "source": [
    "show(p)"
   ]
  },
  {
   "cell_type": "code",
   "execution_count": 105,
   "metadata": {},
   "outputs": [],
   "source": [
    "#target_locations.py\n",
    "import pandas as pd\n",
    "from bokeh.plotting import figure, output_file, show\n",
    "from bokeh.models import ColumnDataSource, Range1d\n",
    "from bokeh.layouts import layout\n",
    "from bokeh.palettes import Spectral3\n",
    "from bokeh.tile_providers import CARTODBPOSITRON\n",
    "from pyproj import Proj, transform \n",
    "# output_file('mapping_targets.html')\n",
    "\n",
    "#helper function to convert lat/long to easting/northing for mapping\n",
    "#this relies on functions from the pyproj library\n",
    "def LongLat_to_EN(long, lat):\n",
    "    try:\n",
    "      easting, northing = transform(\n",
    "        Proj(init='epsg:4326'), Proj(init='epsg:3857'), long, lat)\n",
    "      return easting, northing\n",
    "    except:\n",
    "      return None, None\n",
    "\n",
    "df = pd.read_csv(filename)\n",
    "#helper to convert all lat/long to webmercator and stores in new column\n",
    "df['E'], df['N'] = zip(*df.apply(lambda x: LongLat_to_EN(x['TGT_LONGITUDE'], x['TGT_LATITUDE']), axis=1))"
   ]
  },
  {
   "cell_type": "code",
   "execution_count": 106,
   "metadata": {},
   "outputs": [],
   "source": [
    "grouped = df.groupby(['E', 'N'])['TONS_IC','TONS_FRAG'].sum().reset_index()\n",
    "\n",
    "filter = grouped['TONS_FRAG']!=0\n",
    "grouped = grouped[filter]\n",
    "\n",
    "source = ColumnDataSource(grouped)"
   ]
  },
  {
   "cell_type": "code",
   "execution_count": 107,
   "metadata": {},
   "outputs": [],
   "source": [
    "left = -2150000\n",
    "right = 18000000\n",
    "bottom = -5300000\n",
    "top = 11000000\n",
    "\n",
    "p = figure(x_range=Range1d(left, right), y_range=Range1d(bottom, top))"
   ]
  },
  {
   "cell_type": "code",
   "execution_count": 108,
   "metadata": {},
   "outputs": [
    {
     "data": {
      "text/html": [
       "\n",
       "\n",
       "\n",
       "\n",
       "\n",
       "\n",
       "  <div class=\"bk-root\" id=\"c652a3fd-689a-4902-a3d5-ec38d8c9810f\"></div>\n"
      ]
     },
     "metadata": {},
     "output_type": "display_data"
    },
    {
     "data": {
      "application/javascript": [
       "(function(root) {\n",
       "  function embed_document(root) {\n",
       "    \n",
       "  var docs_json = {\"2a146150-e7ad-4f67-ac11-82fa11f30c12\":{\"roots\":{\"references\":[{\"attributes\":{\"below\":[{\"id\":\"7089\",\"type\":\"LinearAxis\"}],\"left\":[{\"id\":\"7094\",\"type\":\"LinearAxis\"}],\"renderers\":[{\"id\":\"7089\",\"type\":\"LinearAxis\"},{\"id\":\"7093\",\"type\":\"Grid\"},{\"id\":\"7094\",\"type\":\"LinearAxis\"},{\"id\":\"7098\",\"type\":\"Grid\"},{\"id\":\"7107\",\"type\":\"BoxAnnotation\"},{\"id\":\"7114\",\"type\":\"TileRenderer\"},{\"id\":\"7119\",\"type\":\"GlyphRenderer\"}],\"title\":{\"id\":\"7321\",\"type\":\"Title\"},\"toolbar\":{\"id\":\"7105\",\"type\":\"Toolbar\"},\"x_range\":{\"id\":\"7080\",\"type\":\"Range1d\"},\"x_scale\":{\"id\":\"7085\",\"type\":\"LinearScale\"},\"y_range\":{\"id\":\"7081\",\"type\":\"Range1d\"},\"y_scale\":{\"id\":\"7087\",\"type\":\"LinearScale\"}},\"id\":\"7082\",\"subtype\":\"Figure\",\"type\":\"Plot\"},{\"attributes\":{},\"id\":\"7099\",\"type\":\"PanTool\"},{\"attributes\":{},\"id\":\"7085\",\"type\":\"LinearScale\"},{\"attributes\":{\"fill_color\":{\"value\":\"yellow\"},\"line_color\":{\"value\":\"grey\"},\"x\":{\"field\":\"E\"},\"y\":{\"field\":\"N\"}},\"id\":\"7117\",\"type\":\"Circle\"},{\"attributes\":{\"callback\":null,\"data\":{\"E\":{\"__ndarray__\":\"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\",\"dtype\":\"float64\",\"shape\":[1772]},\"N\":{\"__ndarray__\":\"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\",\"dtype\":\"float64\",\"shape\":[1772]},\"TONS_FRAG\":{\"__ndarray__\":\"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\",\"dtype\":\"float64\",\"shape\":[1772]},\"TONS_IC\":{\"__ndarray__\":\"AAAAAAAAU0AAAAAAAMBYQAAAAAAAAAAAAAAAAAAAMUAAAAAAAAAYQAAAAAAAAAAAAAAAAAAAAAAAAAAAAAAAAAAAAAAAAAAAAAAAAAAAAAAAAAAAAAAAAAAAAAAAAAAAAAAAAADsr0AAAAAAAAAAAAAAAAAAQGZAAAAAAAAAAAAAAAAAAAAAAAAAAAAAAChAAAAAAAAAAAAAAAAAAAAAAAAAAAAAAAAAAAAAAAAAAAAAAAAAAAAAAAAAAAAAAAAAAAAAAAAAAAAAAAAAAABAQAAAAAAAAAAAAAAAAAAAAAAAAAAAAAAAAAAAAAAAAAAAAAAAAABgc0AAAAAAAAAAAAAAAAAAACBAAAAAAAAAAAAAAAAAAAAAAAAAAAAAAAAAAAAAAAAAAAAAAAAAAAAAAAAAAAAAAGJAAAAAAAAAAAAAAAAAAAAAAAAAAAAAAAAAAAAAAAAAU0AAAAAAAAA2QAAAAAAAAAAAAAAAAAAAAAAAAAAAAAAAAAAAAAAA4GZAAAAAAAAAAAAAAAAAAAAAAAAAAAAAAABAAAAAAAAAAAAAAAAAAAAAAAAAAAAAAEpAAAAAAADgaUAAAAAAAAAyQAAAAAAAAAAAAAAAAAAAAAAAAAAAAAAqQAAAAAAAAE5AAAAAAAAAEEAAAAAAAABHQAAAAAAAgExAAAAAAAAga0AAAAAAAAAAAAAAAAAAAAAAAAAAAABAWUAAAAAAAAAAAAAAAAAAAPA/AAAAAABQc0AAAAAAAIBgQAAAAAAAAAAAAAAAAAAAAAAAAAAAAAAAAAAAAAAAAFFAAAAAAAAAAAAAAAAAAEBUQAAAAAAAAAAAAAAAAAAAAAAAAAAAAAAAAAAAAAAAgFBAAAAAAAAAAAAAAAAAAMBSQAAAAAAAAFtAAAAAAAAAWkAAAAAAAIBWQAAAAAAAAGBAAAAAAAAAAAAAAAAAAABSQAAAAAAAADRAAAAAAAAAIkAAAAAAAAAAAAAAAAAAAAAAAAAAAABQdEAAAAAAAAAAAAAAAAAAAAAAAAAAAAAAAAAAAAAAAADwPwAAAAAAAAAAAAAAAAAAAAAAAAAAAABIQAAAAAAAAAAAAAAAAAAAAAAAAAAAAAAAAAAAAAAAAAAAAAAAAAAAAAAAAAAAAJCTQAAAAAAAABBAAAAAAACwc0AAAAAAAAAAAAAAAAAAAAAAAAAAAAAUlkAAAAAAAAAAAAAAAAAAADhAAAAAAAAAAAAAAAAAAAAAAAAAAAAAAAAAAAAAAAAAAAAAAAAAAAAAAAAAAAAAAAAAAAAAAACAg0AAAAAAAAA5QAAAAAAA0HVAAAAAAAAAAAAAAAAAAAAAAAAAAAAAAAAAAAAAAACIgEAAAAAAAABIQAAAAAAAUb9AAAAAAAAAAAAAAAAAAAAAAAAAAAAAAAAAAAAAAADAa0AAAAAAAAAAAAAAAAAAQIJAAAAAAAAAAAAAAAAAAIBDQAAAAAAAAAAAAAAAAAAgcEAAAAAAAABGQAAAAAAAABhAAAAAAAAAAAAAAAAAAAAAAAAAAACAJslAAAAAAAAAAAAAAAAAAAAAAAAAAAAAAAAAAAAAAAAAAAAAAAAAAAAqQAAAAAAAAAAAAAAAAAAAAAAAAAAAAAAgQAAAAAAAAAAAAAAAAAAAAAAAAAAAAOBoQAAAAAAAACpAAAAAAABgdkAAAAAAACB8QAAAAAAAAAAAAAAAAAAAAAAAAAAAAAAAAAAAAAAAwGBAAAAAAAAAWUAAAAAAAAAAAAAAAAAAAAAAAAAAAAAAJEAAAAAAAAAAAAAAAAAAYGZAAAAAAAAAHEAAAAAAAAAAAAAAAAAAAAAAAAAAAAA4ikAAAAAAAAAIQAAAAAAAABBAAAAAAAAAAAAAAAAAAAAAAAAAAAAAAAAAAAAAAAAAAAAAAAAAAAAAAAAAAAAAAAAAAAAAAACUkEAAAAAAANiWQAAAAAAAAAAAAAAAAACMo0AAAAAAAAAAAAAAAAAAAAAAAAAAAAAAAAAAAAAAAABTQAAAAAAAwHFAAAAAAAAAKEAAAAAAABBxQAAAAAAAACxAAAAAAAAAAAAAAAAAAAAAAAAAAAAAAAAAAAAAAAAAAAAAAAAAANCJQAAAAAAAyKhAAAAAAAAAHEAAAAAAAIBjQAAAAAAAADdAAAAAAAAAAAAAAAAAALiWQAAAAAAAAAAAAAAAAADApkAAAAAAAAAAAAAAAAAAAAAAAAAAAAAAAAAAAAAAAAAAAAAAAAAAAAAAAAAAAAAAAAAAAAAAAGBuQAAAAAAAAAAAAAAAAACAhkAAAAAAAIBYQAAAAAAAAAAAAAAAAAAAAEAAAAAAADCSQAAAAAAAAAAAAAAAAAAAAAAAAAAAAAAAAAAAAAAAAAAAAAAAAAAAAAAAAAAAAAAAAAAAAAAA/cxAAAAAAAAAAAAAAAAAAAAAAAAAAACA1chAAAAAAAAAAAAAAAAAAAAAAAAAAAAAAAAAAAAAAAAAAAAAAAAAAAAAAAAAAAAAAAAAAAAAAACAXEAAAAAAAAAAAAAAAAAAAAAAAAAAAAAAAAAAAAAAAAAuQAAAAAAAAChAAAAAAAAAAAAAAAAAAAAAAAAAAAAAAAAAAAAAAAAQekAAAAAAAAAAAAAAAAAAAAAAAAAAAAAAAAAAAAAAAAAAAAAAAAAAAAAAAAAAAAAAAAAAAAAAAAAAAAAAAAAAAABAAAAAAAAAAAAAAAAAAAAAAAAAAAAAAERAAAAAAAAAAAAAAAAAAAAAAAAAAAAAIIZAAAAAAAAAAAAAAAAAgCnGQAAAAAAAAG5AAAAAAAAAAAAAAAAAAAA+QAAAAAAAAAAAAAAAAAAAAAAAAAAAAAAAAAAAAAAAAAAAmpmZmZmZ2T8AAAAAAAAAAAAAAAAAAAAAAAAAAAAAAAAAAAAAAAAAAAAAAAAAAAAAAAAAAAAAAAAAAAAAAAAAAAAAAAAAAAAAAAAAAAAAAAAAAAAAAAAmQAAAAAAAwFxAAAAAAABgcUAAAAAAAAAAAAAAAAAAAAAAAAAAAAAAAAAAAAAAAAAAAAAAAAAAAAAAAAAAAAAAGEAAAAAAAAAAAAAAAAAAAAAAAAAAAAAAAAAAAAAAAAAAAAAAAAAAAAAAAAAAAAAAAAAAAAAAAAAAAAAAAAAAAAAAAAAAAAAAAAAAAAAAAAAAAAAAAAAAAAAAAAAAAAAAAAAAAAAAAAAAAAAAAAAAAAAAAAAAAAAAAAAAAAAAAAAAAAAAAAAAAAAAAAAAAABAXUAAAAAAAAAAAAAAAAAAAAAAAAAAAAAAAAAAAAAAAAA4QAAAAAAAAAAAAAAAAAAAAAAAAAAAAAAAAAAAAAAAAAAAAAAAAAAAAAAAAAAAAAAAAAAAAAAAAAAAAAAAAAAAAAAAAAAAACBhQAAAAAAAAAAAAAAAAAAAAAAAAAAAAAAAAAAAAAAAAAAAAAAAAAAAAAAAAAAAAAAAAAAAAAAAAAAAAAAAAAAAAAAAAAAAACBgQAAAAAAAYGxAAAAAAAAAAAAAAAAAAAAAAAAAAAAAAC5AAAAAAAAAAAAAAAAAAABeQAAAAAAAAAAAAAAAAAAAAAAAAAAAAAAAAAAAAAAAAAAAAAAAAAAAAAAAAAAAAAAAAAAAAAAAAAAAAAAAAAAAAAAAAAAAAAAAAAAAAAAAAAAAAAAAAAAAAAAAAAAAAAAAAAAAAAAAAAAAAAAAAACQpkAAAAAAAAAAAAAAAAAAAAAAAAAAAIDHwkAAAAAAAAAAAAAAAAAAcHdAAAAAAAAAAAAAAAAAAAAAAAAAAAAAAAAAAAAAAAAAAAAAAAAAAAA4QAAAAAAAAAAAAAAAAAAgZkAAAAAAAAAAAAAAAAAAAAAAAAAAAAAAAAAAAAAAAIBpQAAAAAAAAAAAAAAAAAAAAAAAAAAAAKBtQAAAAAAAADtAAAAAAAAgeUAAAAAAAAAAAAAAAAAAAAAAAAAAAAAAAAAAAAAAAAAAAAAAAAAAAAAAAAAAAAAgb0AAAAAAAAAAAAAAAAAAAAAAAAAAAAAAJkAAAAAAAAAyQAAAAAAAAAAAAAAAAAAAAEAAAAAAAAAAAAAAAAAAABBAAAAAAAAAAAAAAAAAAAAAAAAAAAAAAEtAAAAAAAAAAAAAAAAAAAAAAAAAAAAAAAAAAAAAAAAAAAAAAAAAAAAAAAAAAAAAAAAAAAAAAAAAAAAAAAAAAAAAAAAAAAAAAAAAAAAAAAAAAAAAAAAAAAA4QAAAAACAf8hAAAAAAAAAAAAAAAAAAAAAAAAAAAAAAAAAAAAAAAAACEAAAAAAAAAAAAAAAAAAAAAAAAAAAAAAAAAAAAAAAAAAAAAAAAAAAAAAAAAAAAAAAAAAAAAAAAAAAAAAAAAAAAAAAAAAAAAAAAAAAAAAAAAAAAAAAAAAAAAAAAAAAAAAAAAAAAAAAAAAAAAAAAAAAAAAAAAAAACYgkAAAAAAAAAAAAAAAAAAAAAAAAAAAAAAAAAAAAAAAAAAAAAAAAAAAAAAAAAAAAAAAAAAAAAAAGBlQAAAAAAAAAAAAAAAAABAWkAAAAAAAAAAAAAAAAAAAAAAAAAAAAAAAAAAAAAAAGiAQAAAAAAAABRAAAAAAAAAWEAAAAAAAAAAAAAAAAAA4GNAAAAAAAD4rkAAAAAAADB0QAAAAAAAAAAAAAAAAAAAAAAAAAAAAAAAAAAAAAAAAAAAAAAAAAAAAAAAAAAAAEBRQAAAAAAAAAAAAAAAAAAAAAAAAAAAAAAAAAAAAAAAAAAAAAAAAAAAAAAAAAAAAAAuQAAAAAAAAEpAAAAAAAAANUAAAAAAAAAAAAAAAAAAAAAAAAAAAAAAKEAAAAAAAIBaQAAAAAAAIGFAAAAAAAAAAAAAAAAAAABRQAAAAAAAkH5AAAAAAAAAAAAAAAAAADvAQAAAAAAAEJFAAAAAAAAAAAAAAAAAAAAAAAAAAAAAAChAAAAAAAAAHEAAAAAAAAAAAAAAAAAAAAhAAAAAAAAAAAAAAAAAAAAgQAAAAAAAAAhAAAAAAAAAAAAAAAAAAABBQAAAAAAAAABAAAAAAAAAAAAAAAAAACiWQAAAAAAAAAAAAAAAAAAAAAAAAAAAAOBpQAAAAAAAAEFAAAAAAAAAAAAAAAAAAAAAAAAAAAAAAAAAAAAAAAAAAAAAAAAAAAAAAAAAAAAAAAAAAAAAAAAAAAAAAAAAAAAAAAAAAAAAAAAAAAAAAAAAAAAAAAAAAAAAAAAAAAAAAAAAAAAAAAAAAAAAAAAAAIBJQAAAAAAAAAAAAAAAAAAAAAAAAAAAAAAAAAAAAAAAAAAAAAAAAADAUEAAAAAAAAB8QAAAAAAAAAAAAAAAAADwjkAAAAAAAAAAAAAAAAAAQGBAAAAAAAAAAAAAAAAAAAAAAAAAAAAAQFdAAAAAAAAAAAAAAAAAAAAAAAAAAAAA5MpAAAAAAAAAMkAAAAAAAAAAAAAAAAAAAAAAAAAAAAAAAAAAAAAAAIBFQAAAAAAA4KlAAAAAAAAAAAAAAAAAAAAAAAAAAAAAAAAAAAAAAAAAAAAAAAAAAAAAAAAAAAAAAAAAAAAAAAAAAAAAAAAAAAAAAAAAAAAAAAAAAAAAAADgakAAAAAAAAAAAAAAAAAAQFdAAAAAAAAAAAAAAAAAAAAAAAAAAAAAAAAAAAAAAABAaUAAAAAAAAAAAAAAAAAAAAAAAAAAAAAAAAAAAAAAAAAAAAAAAAAAAAAAAAAAAAAAAAAAAAAAAKBqQAAAAAAAAAAAAAAAAAAAEEAAAAAAAAAAAAAAAAAAwGhAAAAAAABAXUAAAAAAAAAAAAAAAAAAgFNAAAAAAAAAAAAAAAAAAAAAAAAAAAAAAAAAAAAAAAAAAAAAAAAAAAAAAAAAAAAAAAAAAAAAAABAWUAAAAAAAAAAAAAAAAAAAAAAAAAAAACgYUAAAAAAAAAuQAAAAAAAQFRAAAAAAAAMkUAAAAAAAAAAAAAAAAAAADdAAAAAAADAg0AAAAAAAAA5QAAAAAAAAAAAAAAAAABAakAAAAAAAAAAAAAAAAAAAAAAAAAAAAAAAAAAAAAAAAAAAAAAAAAAAEtAAAAAAAAAAAAAAAAAAAA7QAAAAAAAt7JAAAAAAAAALkAAAAAAAAAoQAAAAAAAAAAAAAAAAAAAAAAAAAAAAAAAAAAAAAAAAAAAAAAAAAAAMEAAAAAAAAAAAAAAAAAAAAAAAAAAAAAAAAAAAAAAAAAAAAAAAAAAgEZAAAAAAAAAAAAAAAAAAAAAAAAAAAAAAEtAAAAAAAAAAAAAAAAAAAAAAAAAAAAAAAAAAAAAAAAAAAAAAAAAAAAAAAAAAAAAAAAAAAAAAAAAAAAAAAAAAAAAAAAAAAAAAAAAAAAAAAAAAAAAAAAAAAAAAAAAAAAAAAAAAAAAAAAAAAAAAAAAAAAAAAAAAAAAuIlAAAAAAAAAAAAAAAAAACB1QAAAAAAAAC5AAAAAAAAIh0AAAAAAAAAAAAAAAAAAIGlAAAAAAAAAAAAAAAAAAAAAAAAAAAAAAAAAAAAAAAAAAAAAAAAAAAAAAAAAAAAAAAAAAAAAAAAAAAAAAAAAAAAAAAAAAAAAAAAAAAAAAAAAAAAAAAAAAOCkQAAAAAAAAAAAAAAAAAAAAAAAAAAAAAAAAAAAAAAAAAAAAAAAAAAAAAAAAAAAAAAAAAAAAAAAAAAAAAAAAAAALkAAAAAAAAAAAAAAAAAAAAAAAAAAAAAAAAAAAAAAAAAAAAAAAAAAAAAAAAAAAAAAAAAAAAAAAAA+QAAAAAAAsJtAAAAAAACQjkAAAAAAAAAAAAAAAAAAAABAAAAAAAAAAAAAAAAAAAAAAAAAAAAAAAAAAAAAAOBq4kAAAAAAAAAAAAAAAAAAAAAAAAAAAAAAAAAAAAAAAAAAAAAAAAAAAAAAAAAAAAAAAAAAAAAAAAAAAAAAAAAAAAAAAAAAAAAAAAAAAAAAAAAAAAAAAAAAAAAAAAAAAAAAAAAAAAAAAAAAAAAAAAAAAAAAAAAAAADwiUAAAAAAAEBhQAAAAAAAAAAAAAAAAAAAAAAAAAAAAABCQAAAAAAAwFhAAAAAAAAAAAAAAAAAAAAAAAAAAAAAAAAAAAAAAAAAAAAAAAAAAABHQAAAAAAAAAAAAAAAAAAAAAAAAAAAAMBeQAAAAAAAAAAAAAAAAAAAAAAAAAAAAAAAAAAAAAAAAAAAAAAAAAAAAAAAAAAAAAAAAAAAAAAAAAAAAAAAAAAAWEAAAAAAAAAAAAAAAAAAAAAAAAAAAAAAAAAAAAAAAAAAAAAAAAAAwGJAAAAAAAAAAAAAAAAAAAAAAAAAAAAAAAAAAAAAAAAAAAAAAAAAAAAAAAAAAAAAAAAAAAAAAAAAAABSuB6F61HwPwAAAAAAAAAAAAAAAAAAAAAAAAAAAAAAAAAAAAAAAAAAAAAAAAAAAAAAAAAAAAAAAAAAAAAAAAAAAAAAAAAAAAAAAAAAAAAAAAAAAAAAAAAAAAAAAAAAAAAAAAAAAAAAAAAAAAAAAAAAAAAAAAAAFEAAAAAAAAAAAAAAAAAAwGVAAAAAAAAAAAAAAAAAAAAAAAAAAAAAAAAAAAAAAAAAAAAAAAAAAAAuQJDC9Shcj0NAAAAAAACAcEDYo3A9CtdMQAAAAAAAAAAAAAAAAAAAAAAAAAAAAAAAAAAAAAAAAAAAAAAAAAAAAAAAAAAAAAAAAAAAAAAAAAAAAAAAAAAAAAAAAAAAAAAAAEjhehSuR/E/AAAAAAAAAAAAAAAAAABbQAAAAAAAQG1AAAAAAAAAAAAAAAAAAAAAAAAAAAAAJqZAAAAAAAAAAAAAAAAAAAAAAAAAAAAAAAAAAAAAAAAAAAAAAAAAAAAAAGdmZmZmhk5AAAAAAAAAAAAAAAAAAAAAAAAAAAAAIHZAAAAAAAAAAAAAAAAAAAAiQAAAAAAAABhAAAAAAADQj0AAAAAAAAAAAAAAAAAAAAAAAAAAAAAAAAAAAAAAAAAAAAAAAAAAAAAAAAAAAAAAAAAAAAAAAAAAAAAAAAAAAE5AAAAAAAAAAAAAAAAAAAAAAAAAAAAAAFJAAAAAAAAAAAAAAAAAAAAAAAAAAAAAAAAAAAAAAAAAAAAAAAAAAAAAAAAAAAAAAAAAAAAAAAAAAAAAAAAAAAAAAAAAAAAAAAAAAAAAAAAAAAAAAAAAAAAAAAAAAAAAAAAAAAAAAAAAAAAAAAAAAAAAQOxRuB6FK0BAAAAAAAAAAAAAAAAAAAAAAAAAAAAAAPA/AAAAAAAAAAAAAAAAAAAQQAAAAAAAgEZAAAAAAAAAAAAAAAAAAAAAAAAAAAAAAAAAAAAAAAAAAAAAAAAAAAAAAAAAAAAAACJAAAAAAAAAAAAAAAAAAAAAAAAAAAAAACpAAAAAAAAAAAAAAAAAAIBCQAAAAAAAAAAAAAAAAAAASEAAAAAAAADwPwAAAAAAAPA/AAAAAAAAAAAAAAAAAAAzQAAAAAAAAAAAAAAAAAAAAEAAAAAAAIAsQAAAAAAAAAAAAAAAAAAAIkAAAAAAAAAAAAAAAAAAAAAAAAAAAAAAFEAAAAAAAAA/QAAAAAAAAAhAAAAAAACASkAAAAAAAAAAAAAAAAAAACxAAAAAAAAAHEAAAAAAAAAAAFCNl24SAzFAAAAAAAAAAAAAAAAAAAAwQAAAAAAAAAAAAAAAAADAb0AAAAAAAAAAAAAAAAAAADNAAAAAAAAAAAAAAAAAAAAAAAAAAAAAAAAAAAAAAAAAAAAAAAAAAAAAAAAAAAAAAAAAAAAAAAAAAAAAAAAAAOCCQAAAAAAAAAAAAAAAAAAAFEAAAAAAAAAAAAAAAAAAAAAAAAAAAAAANUAAAAAAAAAAAAAAAAAAACJAAAAAAAAANEAAAAAAAIBMQAAAAAAAAAAAAAAAAAAAAEAAAAAAAAAiQAAAAAAAAAAAAAAAAAAAAAAAAAAAAAA0QAAAAAAAAAAAAAAAAAAAAAAAAAAAAAAuQAAAAAAAABxAAAAAAAAAIkAAAAAAAAAcQAAAAAAAAChAAAAAAAAAKkAAAAAAAAAAAAAAAAAAAAAAAAAAAACATkAAAAAAAAAAAAAAAAAAACpAAAAAAAAAAEAAAAAAAAAAAAAAAAAAAPA/AAAAAAAAAAAAAAAAAAAAQMP1KFyPQjFAAAAAAAAAAAAAAAAAAAAAAAAAAAAAABBAAAAAAAAAAAAAAAAAAIBDQAAAAAAAAChAAAAAAAAAAAAAAAAAAAAAAAAAAAAAAAAAAAAAAAAA8D8AAAAAAAAAAAAAAAAAADdAAAAAAAAAAEAAAAAAAAAAAAAAAAAAACZAAAAAAAAAEEAAAAAAAAA+QAAAAAAAAAAAAAAAAAAAEEAAAAAAAAAAAAAAAAAAAAAAAAAAAAAACEAAAAAAAAAuQB+F61G4HuU/AAAAAAAAAAAAAAAAAAAAAAAAAAAAAAAAAAAAAAAAIkAAAAAAAAAAAAAAAAAAAAAAAAAAAAAA8D8AAAAAAAAAQAAAAAAAAAAAAAAAAAAAAAAAAAAAAAAgQAAAAAAAACBAAAAAAAAALEAAAAAAAAAyQAAAAAAAAAAAAAAAAAAAOUAAAAAAAADwPx+F61G4HuU/AAAAAAAAAAAAAAAAAAAYQAAAAAAAACZAAAAAAAAAAACuR+F6FK4PQAAAAAAAAAAAAAAAAAAA8D8AAAAAAAAAAAAAAAAAAAAAAAAAAAAA8D8AAAAAAAAAAAAAAAAAAAAAAAAAAAAAAAAAAAAAAAAAANejcD0K1x1AAAAAAAAAJkAAAAAAAAAAQAAAAAAAAABAAAAAAAAAAAAAAAAAAAAAAAAAAAAAAAAAAAAAAAAAAAAAAAAAAAAAAAAAAAAAAAAAAAAAAAAAAAAAAAAAAAAAAAAAAAAAAAhAAAAAAAAAAAAAAAAAAAAAAAAAAAAAAAAAAAAAAAAAAAAAAAAAAAAAAAAAAAAAAPA/AAAAAAAACEAAAAAAAAAAAAAAAAAAAAAAAAAAAAAAAAAAAAAAAAAAAAAAAAAAAPA/AAAAAAAAAAAAAAAAAAAAAAAAAAAAAAAAAAAAAAAAAAAAAAAAAAAAAB+F61G4HvU/AAAAAAAAAAAAAAAAAAAAAAAAAAAAAABAAAAAAAAACEAK16NwPQr3PwAAAAAAAAAAAAAAAAAAAAAAAAAAAAAAAAAAAAAAAAAAAAAAAAAAAAAAAAAAAADwPwAAAAAAAAAAAAAAAAAAEEAAAAAAAAA6QAAAAAAAAPA/AAAAAAAAAAAAAAAAAAAAQAAAAAAAAPA/AAAAAAAAAAAAAAAAAEBYQAAAAAAAgEdAAAAAAAAAAAAAAAAAAAAqQAAAAAAAAAAAAAAAAAAAJEAAAAAAAAAAAAAAAAAAADBAAAAAAAAAAAAAAAAAAAAAAAAAAAAAAABAAAAAAAAAGEAAAAAAAAAAAAAAAAAAAAAAAAAAAAAAAEAAAAAAAAAAQAAAAAAAAAhAAAAAAAAAAAAAAAAAAAAIQAAAAAAAABRAAAAAAAAAEEAAAAAAAAAAAAAAAAAAAAAAAAAAAAAASUAAAAAAAAAkQAAAAAAAAAAAH4XrUbge9T8AAAAAAAAoQAAAAAAAAAAAAAAAAAAAAACuR+F6FK7/PwAAAAAAAAAAAAAAAAAASUAAAAAAAADwPwAAAAAAAAAAAAAAAAAA8D8AAAAAAABCQAAAAAAAAAAAAAAAAAAAAAAAAAAAAAAAAAAAAAAAgEdAAAAAAAAAAAAAAAAAAADwPwAAAAAAAPA/AAAAAAAAAAAAAAAAAAAAAAAAAAAAAABAAAAAAACAR0AAAAAAAAAAQGZmZmZmZipAAAAAAAAA8D/NzMzMzMzsPwAAAAAAAAAAAAAAAAAA8D8AAAAAAAAiQAAAAAAAAAAAAAAAAAAAFEAAAAAAAAA+QAAAAAAAAAAAAAAAAAAAAAAAAAAAAAAAAAAAAAAAAAAAAAAAAAAAAAAAAAAAAAAAAB+F61G4HgVAAAAAAAAACEAfhetRuB71PwAAAAAAADFAAAAAAAAAAAAAAAAAAAAAAAAAAAAAAAAAAAAAAAAA8D8AAAAAAAAAAAAAAAAAAAAAAAAAAAAAAAAAAAAAAABIQAAAAAAAADFAAAAAAACASEAAAAAAAAAAAAAAAAAAAAAAAAAAAAAAAAAAAAAAAAAAQAAAAAAAAAAAAAAAAAAAAAAAAAAAAAAAAAAAAAAAAEtAAAAAAAAAAAAAAAAAAAAAAAAAAAAAAAAAAAAAAAAAAAAAAAAAAKBiQAAAAAAAAD9AAAAAAAAAAAAAAAAAAAAAAAAAAAAAAAhAAAAAAAAAAAAAAAAAAIBAQAAAAAAAAAAAAAAAAAAAAAAAAAAAAABmQAAAAAAAABBAAAAAAAAAIEAAAAAAAAAAAAAAAAAAABRAAAAAAACARkAAAAAAAAAAAAAAAAAAAAAAAAAAAAAAAAAAAAAAAIBWQAAAAAAAAAAAAAAAAAAAAEAAAAAAAAAQQB+F61G4HvU/AAAAAAAAAEAAAAAAAIBFQAAAAAAAAAAAAAAAAAAAAAAAAAAAAAAAAAAAAAAAAABAAAAAAAAAN0AAAAAAAAAAAAAAAAAAAPA/AAAAAAAAAAAAAAAAAMBRQAAAAAAA4GdAAAAAAAAAAAAAAAAAAAAYQAAAAAAAAAAAAAAAAAAAAAAAAAAAAAAAAAAAAAAAABBAAAAAAABAdkAAAAAAAGBpQAAAAAAAAPA/AAAAAAAAGEAAAAAAAAAuQAAAAAAAAAAAAAAAAAAAAAAAAAAAAAAAAAAAAAAAgEhAAAAAAAAAEEAAAAAAAAAAAAAAAAAAAAAAAAAAAAAAJEAAAAAAAAAAAAAAAAAAgEdAAAAAAADAUkAAAAAAAAAAAAAAAAAAAAAAAAAAAACARkAAAAAAAABHQAAAAAAAAChAAAAAAAAAAAAAAAAAAABTQAAAAAAAAAAAAAAAAAAAAAAAAAAAAAAAAAAAAAAAAAAAAAAAAAAAAAAAAAAAAAAyQAAAAAAAAAAAAAAAAAAAAAAAAAAAAAAAAAAAAAAAgEVAAAAAAACAWkAAAAAAAAAAAAAAAAAAACxAAAAAAAAAAAAAAAAAAEBUQAAAAAAAACBAAAAAAAAAAAAAAAAAAAAAAAAAAAAAAAAAAAAAAAAAAAAAAAAAAAAAAAAAAAAAIGlAAAAAAAAAAAAAAAAAAIBCQAAAAAAAADZAAAAAAAAAAAAAAAAAAAAAAAAAAAAAAAAAAAAAAAAAHEAAAAAAAAAAAAAAAAAAAAAAAAAAAAAACEAAAAAAAAAAAAAAAAAAAAAAAAAAAAAAAAAAAAAAAAAAAAAAAAAAAPA/AAAAAAAAPUAAAAAAAAAAAAAAAAAAAAAAAAAAAAAANkAAAAAAAAAQQAAAAAAAAAAAAAAAAADAVkAAAAAAAAAAAAAAAAAAAAAAAAAAAAAAAAAAAAAAAAAAAAAAAAAAAAAAAAAAAAAALkAAAAAAAAAAAAAAAAAAAAAAAAAAAAAAAAAAAAAAAAAAAAAAAAAAAAAAAAAAAACAYEAAAAAAAAAAQAAAAAAAAAAAAAAAAAAAMUAAAAAAACBwQAAAAAAAACxAAAAAAACATkAAAAAAAAAAAAAAAAAAADBAAAAAAAAAMkAAAAAAAAAAAAAAAAAAAAAAAAAAAAAAAAAAAAAAAAAAAAAAAAAAAAAAAAAAAAAAAAAAAAAAAAAAAAAAAAAAwFxAAAAAAAAANUAAAAAAAAAAAAAAAAAAABxAAAAAAAAALkAAAAAAAAAoQAAAAAAAAAAAAAAAAAAAAAAAAAAAAAAAAAAAAAAAAFhAAAAAAAAAAAAAAAAAAAAAAAAAAAAAAExAAAAAAAAAAAAAAAAAAAA0QAAAAAAAAAAAAAAAAAAAEEAAAAAAAEBlQAAAAAAAACZAAAAAAADAV0AAAAAAAAAQQAAAAAAAAAAAAAAAAAAAHEAAAAAAABiCQAAAAAAAAAAAAAAAAAAAAAAAAAAAAAAAAAAAAAAAAAAAAAAAAAAAAAAAAAAAAAAAAAAAAAAAABhAAAAAAAAAAAAAAAAAAAAAAAAAAAAAAAAAAAAAAAAAMUAAAAAAAAAAAAAAAAAAAGFAAAAAAAAskEAAAAAAAAAiQAAAAAAAAAAAAAAAAAAAAAAAAAAAAAAAAAAAAAAAAAAAAAAAAAAAAAAAAAAAAABAQAAAAAAAAAAAAAAAAAAAAAAAAAAAAAAAAAAAAAAAAAAAAAAAAAAALEAAAAAAAAAAAAAAAAAAAAAAAAAAAAAAAAAAAAAAAIBIQAAAAAAAAAAAAAAAAAAAAAAAAAAAAAAAAAAAAAAAADJAAAAAAAAAAAAAAAAAAAAAAAAAAAAAAAAAAAAAAAAAAAAAAAAAAAAAAAAAAAAAAAAAAAAAAAAAAAAAAAAAAAAAAAAAAAAAAAAAAAAAAAAAAACamZmZmZnxPwAAAAAAAAAAAAAAAAAAAAAAAAAAAAAAAAAAAAAAADRAAAAAAAAAIEAAAAAAAAAAAAAAAAAAAAAAAAAAAAAAAAAAAAAAAAAAAAAAAAAAABhAAAAAAAAA8D8AAAAAAAAAAAAAAAAAgFdAAAAAAAAAM0AAAAAAAAAAAAAAAAAAAAAAAAAAAAAAAAAAAAAAAAAAAAAAAAAAAChAAAAAAAAAAAAAAAAAAAAAAAAAAAAAAABAAAAAAAAAAAAAAAAAAAAAAAAAAAAAAPA/AAAAAAAAAAAAAAAAAAAAAAAAAAAAAABAAAAAAAAAAAAAAAAAAAAQQAAAAAAAgERAAAAAAAAACEAAAAAAAAAcQAAAAAAAAABAAAAAAAAAFEAAAAAAAAAwQAAAAAAAADJAAAAAAACARkAAAAAAAAAzQAAAAAAAAAAAAAAAAAAAEEAAAAAAAAAAAAAAAAAAAAAAAAAAAAAAAAAAAAAAAAAAAAAAAAAAAAAAAAAAAAAAAAAAAAAAAAAAAAAAAAAAAAAAAAAAAAAAEEAAAAAAAIBFQAAAAAAAAAAAAAAAAAAAAAAAAAAAAIBvQAAAAAAAAEVAAAAAAAAA8D8AAAAAAAAUQAAAAAAAAE5AAAAAAAAA8D8AAAAAAAAAAAAAAAAAAAAAAAAAAAAAAAAAAAAAAAAAAAAAAAAAABBAAAAAAAAAAAAAAAAAAAAAAAAAAAAAAAAAAAAAAAAAHEAAAAAAAAAAAAAAAAAAABhAAAAAAAAAAAAAAAAAAAAAAAAAAAAAAAAAAAAAAAAAAAAAAAAAAAAAAAAAAAAAAAAAAAAAAAAAAAAAAAAAAAAAAAAAAAAAAAAAAAAAAAAAAAAAAAAAAAAAAAAAAAAAAPA/AAAAAAAAPkAAAAAAAAAAAAAAAAAAAAAAAAAAAAAAAAAAAAAAAAAAAAAAAAAAAAAAAAAAAAAAAAAAAAAAAAAAAAAAAAAAQFlAAAAAAAAA8D8AAAAAAAAAAAAAAAAAAAAAAAAAAAAAJEAAAAAAAAAAAAAAAAAAAAAAAAAAAAAA8D8AAAAAAAAAAAAAAAAAADRAAAAAAAAAIkAAAAAAAAAAAAAAAAAAADBAAAAAAAAAAAAAAAAAAAA0QAAAAAAAAAAAAAAAAAAAAAAAAAAAAAAIQAAAAAAAACRAAAAAAAAAAAAAAAAAAAAAAAAAAAAAACJAAAAAAAAAHEAAAAAAAAAAAAAAAAAAAE1AAAAAAACAXEAAAAAAAIBPQAAAAAAAQGJAAAAAAAAACEAAAAAAAAAgQAAAAAAAAAAAAAAAAAAAAAAAAAAAAAAAAAAAAAAAAAAAAAAAAAAAAAAAAAAAAAAAAAAAAAAAAPA/AAAAAAAAHEAAAAAAAAAAAAAAAAAAAAAAAAAAAAAAAAAAAAAAAAAAAAAAAAAAAAAAAAAAAAAAAAAAAAAAAAAAAAAAAAAAAAAAAAAAAAAA8D8AAAAAAIBCQAAAAAAAAAAAAAAAAAAA8D8AAAAAAAAkQAAAAAAAAAAAAAAAAAAAAAAAAAAAAAAAAAAAAAAAAAAAAAAAAAAA8D8AAAAAAAAAAAAAAAAAAAAAAAAAAAAAAAAAAAAAAAAAAAAAAAAAAAAAAAAAAAAAAACZmZmZmZnJPwAAAAAAADlAAAAAAAAAAAAAAAAAAAAAAAAAAAAAAAAANDMzMzMz+z8AAAAAAAAAAAAAAAAAAAAAAAAAAAAAAAAAAAAAAAAAAAAAAAAAAAAAAAAAAAAAFEAAAAAAAAAAAAAAAAAAAAhAAAAAAAAAMUAAAAAAAAAUQAAAAAAAADJAAAAAAAAAMEAAAAAAAAAAAAAAAAAAAPA/AAAAAAAAOkAAAAAAAAAAAAAAAAAAAAAAAAAAAAAAAAAAAAAAAAAAAAAAAAAAAAhAAAAAAAAAAAAAAAAAAEBbQAAAAAAAAAAAAAAAAAAAAAAAAAAAAAAAAAAAAAAAAAAAAAAAAABAUEAAAAAAAAAAAAAAAAAAABxAAAAAAAAAOEAAAAAAAIBNQAAAAAAAQFRAAAAAAAAALkAAAAAAAAA7QAAAAAAAAAAAAAAAAACAUEAAAAAAAAAAAAAAAAAAADxAAAAAAAAACEAAAAAAAAAgQAAAAAAAAAAAAAAAAAAAAAAAAAAAAAAAAAAAAAAAAAAAAAAAAAAAAEAAAAAAAAA/QAAAAAAAoJBAAAAAAACASkAAAAAAAAA/QAAAAAAAADFAAAAAAAAAAAAAAAAAAAAAAAAAAAAAAFtAAAAAAACAVEAAAAAAAHB7QAAAAAAAAAAAAAAAAAAAAAAAAAAAAAAAAAAAAAAAAAAAAAAAAAAAHEAAAAAAAAAzQAAAAAAAAAAAAAAAAAAAAAAAAAAAAAAAAAAAAAAAABRAAAAAAAAAAAAAAAAAAAAAAAAAAAAAAAAAAAAAAACgbkAAAAAAAAAAAAAAAAAAAHJAAAAAAAAAAAAAAAAAAAAAAAAAAAAAABRAAAAAAAAAAAAAAAAAAAAAAAAAAAAAkINAAAAAAAAACEAAAAAAAAAkQAAAAAAAAAAAAAAAAAAAAAAAAAAAAAAAAAAAAAAAAAAAAAAAAAAAAAAAAAAAAAAIQAAAAAAAAAAAAAAAAAAAAAAAAAAAAAAAAAAAAAAAABBAAAAAAABwhkAAAAAAAAAAAAAAAAAAAAAAAAAAAAAAAAAAAAAAAAAkQAAAAAAAAAAAAAAAAAAAjEAAAAAAAAAYQAAAAAAAAAAAAAAAAACgfkAAAAAAAAAQQAAAAAAAAAAAAAAAAAAAAAAAAAAAAAAAAAAAAAAAAABAAAAAAAAAAAAAAAAAAAAUQAAAAAAAAAAAAAAAAAAAAAAAAAAAAAAAAAAAAAAAAAAAAAAAAAAANUAAAAAAAAAAAAAAAAAAAAAAAAAAAAAAAAAAAAAAAAAIQAAAAAAAAAAAAAAAAAB+tUAAAAAAAAyeQAAAAAAAADtAAAAAAAAAAAAAAAAAAEq+QAAAAAAAAAAAAAAAAAAAGEAAAAAAAEBWQAAAAAAAACxAAAAAAAAAAAAAAAAAAAAAAAAAAAAAAAAAAAAAAAAAAAAAAAAAAAAAAAAAAAAAAAAAAAAAAAAAAAAAAAAAAPCGQAAAAAAAAEpAAAAAAAAqrkAAAAAAANiCQAAAAAAAAAAAAAAAAABwkEAAAAAAAAAAAAAAAAAAAAAAAAAAAAAAAAAAAAAAAAAAAAAAAAAAAAAAAAAAAAAAPUAAAAAAAAAAAAAAAAAAABxAAAAAAABQkEAAAAAAAAAAAAAAAAAAmIVAAAAAAAAopEAAAAAAACiRQAAAAAAAbMNAAAAAAADQeUAAAAAAAABAQAAAAAAAAAAAAAAAAADgikAAAAAAAAAAAAAAAAAAACBAAAAAAAAAAAAAAAAAAAA2QAAAAAAAsIRAAAAAAAAAAAAAAAAAAAAAAAAAAAAAAFlAAAAAAACAQEAAAAAAAAA2QAAAAAAAAF5AAAAAAAAAQUAAAAAAAAAAAAAAAAAAAAAAAAAAAAAAEEAAAAAAAAAAAAAAAAAAAAAAAAAAAAAAIkAAAAAAAAAAAAAAAAAAAAAAAAAAAAAACEAAAAAAAAAIQAAAAAAAAAAAAAAAAAAAAAAAAAAAAADwPwAAAAAAAAAAAAAAAAAAAAAAAAAAAAAAQAAAAAAAABRAAAAAAAAAMkAAAAAAAAAUQAAAAAAAAEVAAAAAAAAALEAAAAAAAAAAAAAAAAAAAAAAAAAAAAAAAAAAAAAAAAAAAAAAAAAAAAAAAAAAAAAAAAAAAAAAAAAAAAAAAAAAAABAAAAAAAAAAAAAAAAAAADwPwAAAAAAAAAAAAAAAAAAFEAAAAAAAAAAAAAAAAAAAAAAAAAAAAAAAAAAAAAAAAAAAAAAAAAAACRAAAAAAAAAREAAAAAAAIBQQAAAAAAAAPA/AAAAAAAAAAAAAAAAAAAAAAAAAAAAAAAAAAAAAAAAAAAAAAAAAAAAAAAAAAAAAAAAuB6F61G4EEAAAAAAAAAAAAAAAAAAAAAAAAAAAAAA8D8AAAAAAAAAAAAAAAAAAAAAAAAAAAAAAAAAAAAAAAAAAAAAAAAAAPg/AAAAAAAAAAAAAAAAAAAAAAAAAAAAAAAAAAAAAAAAAAAAAAAAAAAAAAAAAAAAAAAAAAAAAAAAAAAAAAAAAAAAAAAAAAAAAAAAAAAAAAAAAAB7FK5H4XqEPwAAAAAAAAAAAAAAAAAAAACamZmZmZnZPwAAAAAAAAAAAAAAAAAAAAAAAAAAAAAAAAAAAAAAAAAAAAAAAAAAAAAAAAAAAAAAAAAAAAAAAAAA4noUrkfh2j8AAAAAAAAAAAAAAAAAAAAAAAAAAAAAAAAK16NwPQrHPwAAAAAAAAAAAAAAAAAAAAAAAAAAAAAAAAAAAAAAAAAAAAAAAAAAAAAAAAAAAAAAAAAAAAAAAAAAAAAAAAAAAAAAAAAAAAAAAOF6FK5H4eI/AAAAAAAAAAAAAAAAAAAAAAAAAAAAAAAAAAAAAAAAAAAAAAAAAAAAAAAAAAAAAAAAAAAAAAAAAAAAAAAAAAAAAAAAAAAAAAAAcT0K16NwzT8AAAAAAADwPwAAAAAAAAAAAAAAAAAAAAAAAAAAAAAiQChcj8L1KOQ/AAAAAAAAJkAAAAAAAAAAAAAAAAAAACZAAAAAAAAAFEAAAAAAAOBgQAAAAAAAAExAAAAAAAAAAAAAAAAAAABRQJmZmZmZGSZAAAAAAABYaEAAAAAAAIBBQAAAAAAAAAAAAAAAAAAANEAAAAAAAAAIQAAAAAAAAAAAAAAAAAAAAAAAAAAAAAAiQAAAAAAAAAAAAAAAAAAAAAAAAAAAAAAAAAAAAAAAAAAAAAAAAAAAAAAAAAAAAAAAAAAAAAAAAAAApHA9Ctej/D8AAAAAAAAAAAAAAAAAAAAAAAAAAAAAAAAAAAAAAAAYQAAAAAAAADpAAAAAAAAAAAAAAAAAAAAAAAAAAAAAAAAAAAAAAAAAAEAAAAAAAAAYQAAAAAAAAC5AAAAAAAAAAAAAAAAAAAAAAAAAAAAAAAAAAAAAAAAA8D8AAAAAAAAmQIXrUbgehds/AAAAAAAAAAAAAAAAAAAQQAAAAAAAAAAAAAAAAAAAAAAAAAAAAIBCQAAAAAAAAAAAAAAAAAAAAAAAAAAAAAAAAAAAAAAAAAAAAAAAAAAAAAAAAAAAAAAAAAAAAAAAABxAAAAAAAAAAAAAAAAAAAA8QAAAAAAAADlAAAAAAAAAAAAAAAAAAAAAAAAAAAAAAAAAAAAAAAAAAEAAAAAAAAAAAAAAAAAAAABAAAAAAAAAAEAAAAAAAAAAAAAAAAAAAAhAAAAAAAAAAAAAAAAAAAAAAAAAAAAAAAAAAAAAAAAAAAAAAAAAAAA3QAAAAAAAAABAHoXrUbge5T8AAAAAAAAAAAAAAAAAADxAAAAAAAAAIEAAAAAAAAAAAAAAAAAAAAAAAAAAAAAAAAAAAAAAAADwPwAAAAAAAAAAAAAAAAAAAAAAAAAAAAAAAA==\",\"dtype\":\"float64\",\"shape\":[1772]},\"index\":[5,18,35,37,41,44,50,62,73,83,88,89,90,93,111,121,129,133,137,142,145,147,148,149,152,154,173,185,199,209,221,235,238,244,247,250,253,255,257,265,275,276,290,304,315,323,326,334,342,363,376,412,420,426,440,448,462,511,540,551,552,564,572,573,575,581,589,593,601,609,614,618,621,628,643,647,655,670,671,675,723,729,742,753,793,822,828,838,843,856,858,870,877,878,883,889,896,897,917,919,927,928,994,998,1002,1004,1006,1027,1030,1039,1045,1046,1063,1070,1074,1075,1086,1102,1116,1122,1127,1150,1167,1168,1182,1194,1213,1216,1236,1240,1251,1256,1261,1262,1263,1264,1273,1277,1289,1290,1294,1295,1297,1307,1308,1313,1317,1329,1339,1344,1345,1346,1349,1358,1368,1370,1371,1373,1387,1407,1408,1411,1417,1430,1434,1454,1463,1464,1465,1466,1512,1513,1516,1520,1526,1532,1535,1536,1537,1541,1546,1575,1577,1578,1581,1583,1592,1606,1607,1608,1612,1620,1626,1627,1628,1630,1654,1664,1668,1683,1686,1700,1701,1708,1714,1734,1735,1736,1737,1738,1742,1752,1763,1766,1775,1776,1803,1820,1827,1832,1836,1840,1841,1842,1852,1861,1870,1872,1876,1877,1887,1888,1892,1893,1895,1896,1899,1910,1916,1924,1931,1932,1941,1942,1946,1951,1957,1960,1961,1962,1963,1964,1966,1977,1983,1988,2019,2021,2025,2031,2035,2039,2044,2045,2049,2050,2061,2063,2064,2065,2066,2067,2068,2069,2070,2071,2074,2083,2096,2100,2101,2105,2107,2110,2118,2122,2124,2125,2127,2132,2133,2134,2135,2136,2137,2138,2139,2140,2141,2142,2143,2144,2148,2149,2157,2158,2161,2165,2167,2174,2181,2183,2185,2188,2192,2193,2194,2197,2198,2201,2203,2208,2209,2210,2211,2213,2217,2218,2222,2225,2231,2236,2241,2242,2243,2244,2245,2246,2247,2248,2249,2251,2252,2253,2254,2255,2258,2260,2263,2267,2269,2271,2273,2275,2277,2280,2288,2291,2295,2298,2306,2311,2317,2319,2323,2325,2327,2331,2332,2333,2340,2343,2346,2352,2353,2357,2360,2361,2362,2363,2364,2365,2366,2372,2377,2380,2390,2393,2394,2396,2403,2408,2415,2417,2418,2420,2424,2428,2447,2457,2460,2461,2462,2466,2467,2469,2471,2472,2473,2475,2476,2477,2482,2483,2488,2495,2497,2498,2502,2503,2505,2506,2510,2513,2521,2527,2529,2531,2532,2533,2535,2536,2537,2539,2544,2551,2566,2570,2571,2572,2574,2575,2577,2578,2579,2580,2581,2582,2584,2585,2590,2593,2596,2597,2600,2601,2610,2611,2612,2614,2628,2634,2642,2643,2644,2649,2652,2655,2662,2671,2673,2675,2677,2678,2680,2681,2690,2692,2693,2696,2700,2701,2703,2704,2705,2706,2708,2710,2713,2716,2717,2719,2724,2725,2726,2728,2743,2744,2745,2753,2758,2773,2779,2783,2785,2788,2790,2792,2795,2800,2803,2805,2811,2814,2817,2818,2820,2821,2823,2825,2826,2828,2839,2841,2846,2848,2859,2868,2870,2872,2874,2876,2877,2878,2881,2883,2884,2885,2892,2895,2896,2899,2903,2914,2918,2922,2929,2930,2931,2932,2934,2940,2950,2951,2954,2957,2958,2959,2960,2961,2979,2982,2996,3008,3010,3018,3023,3025,3027,3028,3032,3045,3047,3048,3049,3055,3057,3058,3062,3068,3072,3073,3075,3076,3078,3081,3083,3086,3087,3089,3091,3092,3098,3099,3100,3105,3110,3112,3113,3120,3122,3126,3130,3137,3139,3140,3147,3152,3153,3160,3164,3167,3168,3175,3180,3190,3191,3194,3197,3204,3206,3207,3213,3222,3229,3233,3238,3243,3248,3255,3259,3271,3280,3284,3285,3298,3306,3318,3319,3334,3342,3359,3360,3370,3371,3374,3379,3381,3391,3392,3398,3405,3407,3409,3426,3435,3447,3448,3451,3452,3454,3459,3471,3472,3473,3474,3480,3487,3497,3498,3502,3509,3511,3527,3533,3534,3537,3538,3544,3553,3557,3560,3561,3562,3564,3567,3578,3582,3591,3604,3615,3617,3618,3626,3629,3633,3634,3635,3637,3638,3643,3652,3668,3680,3685,3707,3719,3720,3724,3725,3727,3731,3740,3742,3755,3760,3762,3773,3776,3781,3782,3791,3799,3806,3816,3821,3822,3829,3838,3872,3878,3879,3902,3904,3906,3929,3930,3939,3952,3956,3968,4007,4012,4038,4039,4060,4069,4070,4089,4094,4097,4102,4113,4120,4131,4138,4141,4159,4192,4195,4207,4361,4364,4369,4371,4373,4374,4385,4387,4397,4402,4404,4406,4421,4425,4434,4455,4456,4466,4470,4472,4485,4490,4494,4495,4505,4506,4508,4540,4545,4550,4555,4562,4566,4572,4579,4581,4588,4593,4594,4620,4621,4639,4641,4643,4656,4660,4671,4677,4679,4682,4683,4685,4691,4693,4695,4696,4700,4701,4706,4716,4717,4724,4730,4738,4741,4745,4750,4763,4772,4785,4790,4792,4795,4797,4801,4807,4815,4823,4825,4829,4830,4831,4847,4853,4868,4875,4886,4887,4890,4893,4914,4916,4937,4975,4995,4996,5015,5024,5040,5054,5070,5087,5094,5095,5112,5118,5150,5167,5170,5171,5172,5178,5181,5183,5184,5191,5208,5216,5219,5222,5236,5240,5250,5252,5253,5254,5258,5263,5264,5266,5281,5288,5289,5290,5293,5294,5297,5298,5300,5302,5303,5306,5307,5309,5314,5322,5324,5325,5343,5346,5350,5354,5363,5364,5368,5372,5382,5386,5387,5394,5395,5401,5413,5415,5416,5419,5423,5424,5425,5426,5431,5434,5440,5443,5444,5446,5448,5453,5456,5457,5462,5464,5465,5469,5471,5476,5488,5489,5493,5499,5501,5504,5505,5512,5535,5541,5543,5546,5551,5552,5557,5560,5563,5567,5568,5569,5572,5575,5576,5582,5586,5592,5600,5605,5607,5608,5613,5615,5616,5617,5619,5620,5627,5628,5629,5632,5634,5635,5647,5651,5658,5659,5668,5670,5672,5673,5678,5680,5681,5683,5691,5702,5703,5704,5705,5706,5707,5709,5710,5716,5718,5719,5723,5728,5729,5733,5737,5741,5744,5748,5754,5758,5763,5765,5767,5768,5770,5772,5773,5777,5792,5801,5806,5811,5818,5820,5823,5824,5825,5839,5841,5842,5846,5852,5853,5855,5859,5876,5881,5888,5891,5892,5895,5898,5902,5903,5905,5907,5921,5926,5927,5936,5937,5939,5942,5944,5945,5952,5956,5962,5967,5970,5973,5983,5986,5992,5999,6001,6014,6024,6025,6028,6044,6048,6053,6055,6059,6064,6066,6067,6069,6072,6075,6077,6080,6081,6082,6088,6094,6096,6099,6105,6111,6117,6122,6125,6129,6130,6133,6134,6136,6140,6144,6145,6146,6151,6158,6165,6170,6176,6177,6178,6180,6181,6182,6186,6187,6188,6194,6195,6197,6200,6201,6204,6211,6218,6219,6233,6238,6239,6242,6243,6244,6245,6250,6256,6259,6260,6263,6267,6268,6269,6272,6275,6277,6282,6283,6284,6285,6288,6293,6295,6298,6299,6302,6304,6305,6310,6314,6323,6330,6338,6343,6347,6349,6350,6351,6353,6355,6358,6359,6360,6368,6369,6372,6373,6376,6377,6381,6383,6389,6390,6391,6393,6394,6395,6396,6398,6403,6404,6406,6410,6413,6417,6418,6423,6424,6425,6428,6431,6439,6450,6452,6453,6454,6455,6461,6462,6464,6469,6471,6474,6478,6479,6483,6484,6487,6488,6489,6491,6494,6495,6496,6508,6515,6522,6523,6524,6525,6527,6528,6531,6536,6537,6538,6540,6547,6550,6556,6557,6558,6559,6560,6561,6562,6563,6565,6566,6567,6576,6577,6587,6588,6589,6596,6598,6599,6603,6604,6606,6609,6611,6614,6621,6625,6634,6635,6641,6642,6650,6653,6654,6655,6658,6662,6664,6665,6667,6669,6672,6674,6675,6677,6678,6679,6683,6685,6688,6690,6691,6696,6699,6700,6701,6704,6707,6712,6715,6719,6720,6723,6724,6726,6727,6729,6735,6737,6738,6741,6743,6744,6750,6753,6759,6761,6765,6768,6772,6774,6775,6776,6781,6784,6785,6786,6787,6793,6797,6798,6802,6809,6818,6826,6827,6828,6833,6834,6843,6847,6849,6851,6852,6856,6859,6869,6871,6872,6873,6883,6884,6885,6889,6890,6895,6901,6906,6909,6911,6914,6916,6918,6919,6920,6921,6922,6923,6930,6936,6943,6946,6954,6970,6972,6976,6977,6985,6987,6993,6996,6997,6999,7001,7005,7016,7018,7021,7023,7028,7033,7039,7040,7042,7046,7055,7056,7059,7065,7069,7074,7075,7076,7078,7081,7086,7088,7091,7117,7119,7120,7122,7125,7127,7128,7133,7140,7144,7152,7154,7156,7160,7161,7164,7165,7166,7169,7170,7178,7180,7182,7183,7184,7186,7187,7188,7194,7200,7203,7207,7211,7213,7215,7216,7229,7232,7237,7241,7245,7248,7251,7262,7268,7273,7274,7275,7281,7284,7286,7288,7291,7292,7294,7300,7305,7306,7315,7318,7319,7321,7323,7332,7340,7342,7346,7347,7348,7350,7356,7359,7362,7366,7367,7369,7372,7379,7380,7395,7399,7403,7404,7410,7412,7424,7438,7441,7464,7468,7491,7494,7495,7498,7499,7504,7520,7528,7540,7548,7550,7560,7562,7564,7568,7572,7578,7586,7587,7588,7600,7602,7603,7627,7631,7635,7640,7650,7654,7658,7661,7668,7675,7676,7684,7685,7692,7698,7701,7706,7708,7726,7734,7752,7761,7771,7772,7776,7782,7798,7801,7803,7806,7812,7821,7822,7848,7854,7855,7873,7881,7889,7895,7905,7912,7925,7926,7928,7940,7941,7945,7953,7954,7960,7963,7973,7979,7990,8000,8002,8005,8011,8013,8019,8023,8031,8032,8036,8037,8039,8046,8047,8048,8051,8052,8056,8059,8066,8067,8069,8070,8071,8074,8092,8096,8099,8113,8120,8126,8135,8150,8167,8168,8177,8178,8194,8204,8219,8227,8230,8232,8238,8239,8241,8242,8245,8246,8247,8248,8252,8259,8263,8264,8266,8286,8299,8305,8309,8310,8311,8317,8319,8324,8325,8326,8327,8330,8333,8341,8342,8345,8348,8350,8356,8358,8359,8362,8367,8368,8370,8374,8377,8379,8380,8381,8382,8383,8384,8386,8389,8407,8417,8426,8469,8474,8486,8494,8496,8499,8502,8509,8514,8529,8536,8539,8540,8544,8559,8561,8571,8574,8579,8580,8590,8592,8598,8604,8606,8607,8614,8616,8622,8629,8634,8637,8639,8657,8659,8660,8662,8663,8664,8666,8669,8670,8671,8674,8677,8683,8693,8703,8713,8725,8748,8760,8768,8769,8773,8775,8786,8788,8793,8794,8795,8797,8799,8803,8809,8811,8814,8815,8834,8835,8838,8840,8841,8842,8850,8851,8853,8854,8857,8862,8869,8875,8887,8890,8895,8896,8897,8901,8923,8931,8933,8937]},\"selected\":{\"id\":\"7328\",\"type\":\"Selection\"},\"selection_policy\":{\"id\":\"7329\",\"type\":\"UnionRenderers\"}},\"id\":\"7079\",\"type\":\"ColumnDataSource\"},{\"attributes\":{},\"id\":\"7087\",\"type\":\"LinearScale\"},{\"attributes\":{},\"id\":\"7090\",\"type\":\"BasicTicker\"},{\"attributes\":{},\"id\":\"7100\",\"type\":\"WheelZoomTool\"},{\"attributes\":{\"bottom_units\":\"screen\",\"fill_alpha\":{\"value\":0.5},\"fill_color\":{\"value\":\"lightgrey\"},\"left_units\":\"screen\",\"level\":\"overlay\",\"line_alpha\":{\"value\":1.0},\"line_color\":{\"value\":\"black\"},\"line_dash\":[4,4],\"line_width\":{\"value\":2},\"plot\":null,\"render_mode\":\"css\",\"right_units\":\"screen\",\"top_units\":\"screen\"},\"id\":\"7107\",\"type\":\"BoxAnnotation\"},{\"attributes\":{},\"id\":\"7095\",\"type\":\"BasicTicker\"},{\"attributes\":{\"callback\":null,\"end\":11000000,\"start\":-5300000},\"id\":\"7081\",\"type\":\"Range1d\"},{\"attributes\":{},\"id\":\"7102\",\"type\":\"SaveTool\"},{\"attributes\":{\"formatter\":{\"id\":\"7324\",\"type\":\"BasicTickFormatter\"},\"plot\":{\"id\":\"7082\",\"subtype\":\"Figure\",\"type\":\"Plot\"},\"ticker\":{\"id\":\"7090\",\"type\":\"BasicTicker\"},\"visible\":false},\"id\":\"7089\",\"type\":\"LinearAxis\"},{\"attributes\":{\"attribution\":\"&copy; <a href=\\\"https://www.openstreetmap.org/copyright\\\">OpenStreetMap</a> contributors,&copy; <a href=\\\"https://cartodb.com/attributions\\\">CartoDB</a>\",\"url\":\"https://tiles.basemaps.cartocdn.com/light_all/{z}/{x}/{y}.png\"},\"id\":\"7078\",\"type\":\"WMTSTileSource\"},{\"attributes\":{\"plot\":null,\"text\":\"\"},\"id\":\"7321\",\"type\":\"Title\"},{\"attributes\":{\"overlay\":{\"id\":\"7107\",\"type\":\"BoxAnnotation\"}},\"id\":\"7101\",\"type\":\"BoxZoomTool\"},{\"attributes\":{\"source\":{\"id\":\"7079\",\"type\":\"ColumnDataSource\"}},\"id\":\"7120\",\"type\":\"CDSView\"},{\"attributes\":{},\"id\":\"7324\",\"type\":\"BasicTickFormatter\"},{\"attributes\":{\"data_source\":{\"id\":\"7079\",\"type\":\"ColumnDataSource\"},\"glyph\":{\"id\":\"7117\",\"type\":\"Circle\"},\"hover_glyph\":null,\"muted_glyph\":null,\"nonselection_glyph\":{\"id\":\"7118\",\"type\":\"Circle\"},\"selection_glyph\":null,\"view\":{\"id\":\"7120\",\"type\":\"CDSView\"}},\"id\":\"7119\",\"type\":\"GlyphRenderer\"},{\"attributes\":{},\"id\":\"7328\",\"type\":\"Selection\"},{\"attributes\":{\"fill_alpha\":{\"value\":0.1},\"fill_color\":{\"value\":\"#1f77b4\"},\"line_alpha\":{\"value\":0.1},\"line_color\":{\"value\":\"#1f77b4\"},\"x\":{\"field\":\"E\"},\"y\":{\"field\":\"N\"}},\"id\":\"7118\",\"type\":\"Circle\"},{\"attributes\":{\"dimension\":1,\"plot\":{\"id\":\"7082\",\"subtype\":\"Figure\",\"type\":\"Plot\"},\"ticker\":{\"id\":\"7095\",\"type\":\"BasicTicker\"}},\"id\":\"7098\",\"type\":\"Grid\"},{\"attributes\":{\"tile_source\":{\"id\":\"7078\",\"type\":\"WMTSTileSource\"}},\"id\":\"7114\",\"type\":\"TileRenderer\"},{\"attributes\":{},\"id\":\"7103\",\"type\":\"ResetTool\"},{\"attributes\":{\"formatter\":{\"id\":\"7326\",\"type\":\"BasicTickFormatter\"},\"plot\":{\"id\":\"7082\",\"subtype\":\"Figure\",\"type\":\"Plot\"},\"ticker\":{\"id\":\"7095\",\"type\":\"BasicTicker\"},\"visible\":false},\"id\":\"7094\",\"type\":\"LinearAxis\"},{\"attributes\":{\"callback\":null,\"end\":18000000,\"start\":-2150000},\"id\":\"7080\",\"type\":\"Range1d\"},{\"attributes\":{},\"id\":\"7326\",\"type\":\"BasicTickFormatter\"},{\"attributes\":{\"active_drag\":\"auto\",\"active_inspect\":\"auto\",\"active_multi\":null,\"active_scroll\":\"auto\",\"active_tap\":\"auto\",\"tools\":[{\"id\":\"7099\",\"type\":\"PanTool\"},{\"id\":\"7100\",\"type\":\"WheelZoomTool\"},{\"id\":\"7101\",\"type\":\"BoxZoomTool\"},{\"id\":\"7102\",\"type\":\"SaveTool\"},{\"id\":\"7103\",\"type\":\"ResetTool\"},{\"id\":\"7104\",\"type\":\"HelpTool\"}]},\"id\":\"7105\",\"type\":\"Toolbar\"},{\"attributes\":{\"plot\":{\"id\":\"7082\",\"subtype\":\"Figure\",\"type\":\"Plot\"},\"ticker\":{\"id\":\"7090\",\"type\":\"BasicTicker\"}},\"id\":\"7093\",\"type\":\"Grid\"},{\"attributes\":{},\"id\":\"7104\",\"type\":\"HelpTool\"},{\"attributes\":{},\"id\":\"7329\",\"type\":\"UnionRenderers\"}],\"root_ids\":[\"7082\"]},\"title\":\"Bokeh Application\",\"version\":\"1.0.1\"}};\n",
       "  var render_items = [{\"docid\":\"2a146150-e7ad-4f67-ac11-82fa11f30c12\",\"roots\":{\"7082\":\"c652a3fd-689a-4902-a3d5-ec38d8c9810f\"}}];\n",
       "  root.Bokeh.embed.embed_items_notebook(docs_json, render_items);\n",
       "\n",
       "  }\n",
       "  if (root.Bokeh !== undefined) {\n",
       "    embed_document(root);\n",
       "  } else {\n",
       "    var attempts = 0;\n",
       "    var timer = setInterval(function(root) {\n",
       "      if (root.Bokeh !== undefined) {\n",
       "        embed_document(root);\n",
       "        clearInterval(timer);\n",
       "      }\n",
       "      attempts++;\n",
       "      if (attempts > 100) {\n",
       "        console.log(\"Bokeh: ERROR: Unable to run BokehJS code because BokehJS library is missing\");\n",
       "        clearInterval(timer);\n",
       "      }\n",
       "    }, 10, root)\n",
       "  }\n",
       "})(window);"
      ],
      "application/vnd.bokehjs_exec.v0+json": ""
     },
     "metadata": {
      "application/vnd.bokehjs_exec.v0+json": {
       "id": "7082"
      }
     },
     "output_type": "display_data"
    }
   ],
   "source": [
    "p.add_tile(CARTODBPOSITRON)\n",
    "p.circle(x='E', y='N', source=source, line_color='grey', fill_color='yellow')\n",
    "\n",
    "p.axis.visible = False\n",
    "\n",
    "show(p)"
   ]
  },
  {
   "cell_type": "code",
   "execution_count": null,
   "metadata": {},
   "outputs": [],
   "source": []
  }
 ],
 "metadata": {
  "kernelspec": {
   "display_name": "Python 3",
   "language": "python",
   "name": "python3"
  },
  "language_info": {
   "codemirror_mode": {
    "name": "ipython",
    "version": 3
   },
   "file_extension": ".py",
   "mimetype": "text/x-python",
   "name": "python",
   "nbconvert_exporter": "python",
   "pygments_lexer": "ipython3",
   "version": "3.6.5"
  }
 },
 "nbformat": 4,
 "nbformat_minor": 2
}
