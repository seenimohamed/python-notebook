{
 "cells": [
  {
   "cell_type": "code",
   "execution_count": 19,
   "metadata": {},
   "outputs": [
    {
     "name": "stdout",
     "output_type": "stream",
     "text": [
      "Populating the interactive namespace from numpy and matplotlib\n"
     ]
    }
   ],
   "source": [
    "%pylab inline\n"
   ]
  },
  {
   "cell_type": "code",
   "execution_count": 20,
   "metadata": {},
   "outputs": [],
   "source": [
    "import pandas as pd\n",
    "filepath = '/Users/seeni-2328/Documents/Seeni/Datasets/kaggle/lda and t sne interactive visualization/Papers.csv'\n",
    "p_df = pd.read_csv(filepath)"
   ]
  },
  {
   "cell_type": "code",
   "execution_count": 21,
   "metadata": {},
   "outputs": [
    {
     "data": {
      "text/plain": [
       "Id            int64\n",
       "Title        object\n",
       "EventType    object\n",
       "PdfName      object\n",
       "Abstract     object\n",
       "PaperText    object\n",
       "dtype: object"
      ]
     },
     "execution_count": 21,
     "metadata": {},
     "output_type": "execute_result"
    }
   ],
   "source": [
    "p_df.dtypes"
   ]
  },
  {
   "cell_type": "code",
   "execution_count": 22,
   "metadata": {},
   "outputs": [],
   "source": [
    "docs = array(p_df['PaperText'])"
   ]
  },
  {
   "cell_type": "code",
   "execution_count": 23,
   "metadata": {},
   "outputs": [
    {
     "data": {
      "text/plain": [
       "403"
      ]
     },
     "execution_count": 23,
     "metadata": {},
     "output_type": "execute_result"
    }
   ],
   "source": [
    "len(docs)"
   ]
  },
  {
   "cell_type": "code",
   "execution_count": 24,
   "metadata": {},
   "outputs": [
    {
     "data": {
      "text/plain": [
       "Id           403\n",
       "Title        403\n",
       "EventType    403\n",
       "PdfName      403\n",
       "Abstract     403\n",
       "PaperText    403\n",
       "dtype: int64"
      ]
     },
     "execution_count": 24,
     "metadata": {},
     "output_type": "execute_result"
    }
   ],
   "source": [
    "# raw tsne parameters \n",
    "p_df.count()"
   ]
  },
  {
   "cell_type": "code",
   "execution_count": 25,
   "metadata": {},
   "outputs": [
    {
     "data": {
      "text/plain": [
       "Id           403\n",
       "Title        403\n",
       "EventType    403\n",
       "PdfName      403\n",
       "Abstract     403\n",
       "PaperText    403\n",
       "dtype: int64"
      ]
     },
     "execution_count": 25,
     "metadata": {},
     "output_type": "execute_result"
    }
   ],
   "source": [
    "# after embedding tsne parameters\n",
    "p_df.count()"
   ]
  },
  {
   "cell_type": "code",
   "execution_count": 26,
   "metadata": {},
   "outputs": [
    {
     "data": {
      "text/html": [
       "<div>\n",
       "<style scoped>\n",
       "    .dataframe tbody tr th:only-of-type {\n",
       "        vertical-align: middle;\n",
       "    }\n",
       "\n",
       "    .dataframe tbody tr th {\n",
       "        vertical-align: top;\n",
       "    }\n",
       "\n",
       "    .dataframe thead th {\n",
       "        text-align: right;\n",
       "    }\n",
       "</style>\n",
       "<table border=\"1\" class=\"dataframe\">\n",
       "  <thead>\n",
       "    <tr style=\"text-align: right;\">\n",
       "      <th></th>\n",
       "      <th>Id</th>\n",
       "      <th>Title</th>\n",
       "      <th>EventType</th>\n",
       "      <th>PdfName</th>\n",
       "      <th>Abstract</th>\n",
       "      <th>PaperText</th>\n",
       "    </tr>\n",
       "  </thead>\n",
       "  <tbody>\n",
       "    <tr>\n",
       "      <th>0</th>\n",
       "      <td>5677</td>\n",
       "      <td>Double or Nothing: Multiplicative Incentive Me...</td>\n",
       "      <td>Poster</td>\n",
       "      <td>5677-double-or-nothing-multiplicative-incentiv...</td>\n",
       "      <td>Crowdsourcing has gained immense popularity in...</td>\n",
       "      <td>Double or Nothing: Multiplicative\\nIncentive M...</td>\n",
       "    </tr>\n",
       "    <tr>\n",
       "      <th>1</th>\n",
       "      <td>5941</td>\n",
       "      <td>Learning with Symmetric Label Noise: The Impor...</td>\n",
       "      <td>Spotlight</td>\n",
       "      <td>5941-learning-with-symmetric-label-noise-the-i...</td>\n",
       "      <td>Convex potential minimisation is the de facto ...</td>\n",
       "      <td>Learning with Symmetric Label Noise: The\\nImpo...</td>\n",
       "    </tr>\n",
       "    <tr>\n",
       "      <th>2</th>\n",
       "      <td>6019</td>\n",
       "      <td>Algorithmic Stability and Uniform Generalization</td>\n",
       "      <td>Poster</td>\n",
       "      <td>6019-algorithmic-stability-and-uniform-general...</td>\n",
       "      <td>One of the central questions in statistical le...</td>\n",
       "      <td>Algorithmic Stability and Uniform Generalizati...</td>\n",
       "    </tr>\n",
       "    <tr>\n",
       "      <th>3</th>\n",
       "      <td>6035</td>\n",
       "      <td>Adaptive Low-Complexity Sequential Inference f...</td>\n",
       "      <td>Poster</td>\n",
       "      <td>6035-adaptive-low-complexity-sequential-infere...</td>\n",
       "      <td>We develop a sequential low-complexity inferen...</td>\n",
       "      <td>Adaptive Low-Complexity Sequential Inference f...</td>\n",
       "    </tr>\n",
       "    <tr>\n",
       "      <th>4</th>\n",
       "      <td>5978</td>\n",
       "      <td>Covariance-Controlled Adaptive Langevin Thermo...</td>\n",
       "      <td>Poster</td>\n",
       "      <td>5978-covariance-controlled-adaptive-langevin-t...</td>\n",
       "      <td>Monte Carlo sampling for Bayesian posterior in...</td>\n",
       "      <td>Covariance-Controlled Adaptive Langevin\\nTherm...</td>\n",
       "    </tr>\n",
       "  </tbody>\n",
       "</table>\n",
       "</div>"
      ],
      "text/plain": [
       "     Id                                              Title  EventType  \\\n",
       "0  5677  Double or Nothing: Multiplicative Incentive Me...     Poster   \n",
       "1  5941  Learning with Symmetric Label Noise: The Impor...  Spotlight   \n",
       "2  6019   Algorithmic Stability and Uniform Generalization     Poster   \n",
       "3  6035  Adaptive Low-Complexity Sequential Inference f...     Poster   \n",
       "4  5978  Covariance-Controlled Adaptive Langevin Thermo...     Poster   \n",
       "\n",
       "                                             PdfName  \\\n",
       "0  5677-double-or-nothing-multiplicative-incentiv...   \n",
       "1  5941-learning-with-symmetric-label-noise-the-i...   \n",
       "2  6019-algorithmic-stability-and-uniform-general...   \n",
       "3  6035-adaptive-low-complexity-sequential-infere...   \n",
       "4  5978-covariance-controlled-adaptive-langevin-t...   \n",
       "\n",
       "                                            Abstract  \\\n",
       "0  Crowdsourcing has gained immense popularity in...   \n",
       "1  Convex potential minimisation is the de facto ...   \n",
       "2  One of the central questions in statistical le...   \n",
       "3  We develop a sequential low-complexity inferen...   \n",
       "4  Monte Carlo sampling for Bayesian posterior in...   \n",
       "\n",
       "                                           PaperText  \n",
       "0  Double or Nothing: Multiplicative\\nIncentive M...  \n",
       "1  Learning with Symmetric Label Noise: The\\nImpo...  \n",
       "2  Algorithmic Stability and Uniform Generalizati...  \n",
       "3  Adaptive Low-Complexity Sequential Inference f...  \n",
       "4  Covariance-Controlled Adaptive Langevin\\nTherm...  "
      ]
     },
     "execution_count": 26,
     "metadata": {},
     "output_type": "execute_result"
    }
   ],
   "source": [
    "p_df.head()"
   ]
  },
  {
   "cell_type": "code",
   "execution_count": 27,
   "metadata": {},
   "outputs": [],
   "source": [
    "from nltk.stem.wordnet import WordNetLemmatizer\n",
    "from nltk.tokenize import RegexpTokenizer\n",
    "\n",
    "def docs_preprocessor(docs):\n",
    "    tokenizer = RegexpTokenizer(r'\\w+')\n",
    "    for idx in range(len(docs)):\n",
    "        docs[idx] = docs[idx].lower()  # Convert to lowercase.\n",
    "        docs[idx] = tokenizer.tokenize(docs[idx])  # Split into words.\n",
    "\n",
    "    # Remove numbers, but not words that contain numbers.\n",
    "    docs = [[token for token in doc if not token.isdigit()] for doc in docs]\n",
    "\n",
    "    # Remove words that are only one character.\n",
    "    docs = [[token for token in doc if len(token) > 3] for doc in docs]\n",
    "\n",
    "    # Lemmatize all words in documents.\n",
    "    lemmatizer = WordNetLemmatizer()\n",
    "    docs = [[lemmatizer.lemmatize(token) for token in doc] for doc in docs]\n",
    "\n",
    "    return docs\n"
   ]
  },
  {
   "cell_type": "code",
   "execution_count": 28,
   "metadata": {},
   "outputs": [],
   "source": [
    "docs = docs_preprocessor(docs)"
   ]
  },
  {
   "cell_type": "code",
   "execution_count": 29,
   "metadata": {},
   "outputs": [
    {
     "name": "stdout",
     "output_type": "stream",
     "text": [
      "double\n"
     ]
    }
   ],
   "source": [
    "print(docs[0][0])"
   ]
  },
  {
   "cell_type": "code",
   "execution_count": 33,
   "metadata": {},
   "outputs": [
    {
     "name": "stderr",
     "output_type": "stream",
     "text": [
      "/usr/local/lib/python3.6/site-packages/gensim/models/phrases.py:598: UserWarning: For a faster implementation, use the gensim.models.phrases.Phraser class\n",
      "  warnings.warn(\"For a faster implementation, use the gensim.models.phrases.Phraser class\")\n"
     ]
    },
    {
     "ename": "KeyboardInterrupt",
     "evalue": "",
     "output_type": "error",
     "traceback": [
      "\u001b[0;31m---------------------------------------------------------------------------\u001b[0m",
      "\u001b[0;31mKeyboardInterrupt\u001b[0m                         Traceback (most recent call last)",
      "\u001b[0;32m<ipython-input-33-2104e0fa0284>\u001b[0m in \u001b[0;36m<module>\u001b[0;34m()\u001b[0m\n\u001b[1;32m      9\u001b[0m             \u001b[0;31m# Token is a bigram, add to document.\u001b[0m\u001b[0;34m\u001b[0m\u001b[0;34m\u001b[0m\u001b[0m\n\u001b[1;32m     10\u001b[0m             \u001b[0mdocs\u001b[0m\u001b[0;34m[\u001b[0m\u001b[0midx\u001b[0m\u001b[0;34m]\u001b[0m\u001b[0;34m.\u001b[0m\u001b[0mappend\u001b[0m\u001b[0;34m(\u001b[0m\u001b[0mtoken\u001b[0m\u001b[0;34m)\u001b[0m\u001b[0;34m\u001b[0m\u001b[0m\n\u001b[0;32m---> 11\u001b[0;31m     \u001b[0;32mfor\u001b[0m \u001b[0mtoken\u001b[0m \u001b[0;32min\u001b[0m \u001b[0mtrigram\u001b[0m\u001b[0;34m[\u001b[0m\u001b[0mdocs\u001b[0m\u001b[0;34m[\u001b[0m\u001b[0midx\u001b[0m\u001b[0;34m]\u001b[0m\u001b[0;34m]\u001b[0m\u001b[0;34m:\u001b[0m\u001b[0;34m\u001b[0m\u001b[0m\n\u001b[0m\u001b[1;32m     12\u001b[0m         \u001b[0;32mif\u001b[0m \u001b[0;34m'_'\u001b[0m \u001b[0;32min\u001b[0m \u001b[0mtoken\u001b[0m\u001b[0;34m:\u001b[0m\u001b[0;34m\u001b[0m\u001b[0m\n\u001b[1;32m     13\u001b[0m             \u001b[0;31m# Token is a bigram, add to document.\u001b[0m\u001b[0;34m\u001b[0m\u001b[0;34m\u001b[0m\u001b[0m\n",
      "\u001b[0;32m/usr/local/lib/python3.6/site-packages/gensim/models/phrases.py\u001b[0m in \u001b[0;36m__getitem__\u001b[0;34m(self, sentence)\u001b[0m\n\u001b[1;32m    619\u001b[0m         )\n\u001b[1;32m    620\u001b[0m         \u001b[0mnew_s\u001b[0m \u001b[0;34m=\u001b[0m \u001b[0;34m[\u001b[0m\u001b[0;34m]\u001b[0m\u001b[0;34m\u001b[0m\u001b[0m\n\u001b[0;32m--> 621\u001b[0;31m         \u001b[0;32mfor\u001b[0m \u001b[0mwords\u001b[0m\u001b[0;34m,\u001b[0m \u001b[0mscore\u001b[0m \u001b[0;32min\u001b[0m \u001b[0mbigrams\u001b[0m\u001b[0;34m:\u001b[0m\u001b[0;34m\u001b[0m\u001b[0m\n\u001b[0m\u001b[1;32m    622\u001b[0m             \u001b[0;32mif\u001b[0m \u001b[0mscore\u001b[0m \u001b[0;32mis\u001b[0m \u001b[0;32mnot\u001b[0m \u001b[0;32mNone\u001b[0m\u001b[0;34m:\u001b[0m\u001b[0;34m\u001b[0m\u001b[0m\n\u001b[1;32m    623\u001b[0m                 \u001b[0mwords\u001b[0m \u001b[0;34m=\u001b[0m \u001b[0mdelimiter\u001b[0m\u001b[0;34m.\u001b[0m\u001b[0mjoin\u001b[0m\u001b[0;34m(\u001b[0m\u001b[0mwords\u001b[0m\u001b[0;34m)\u001b[0m\u001b[0;34m\u001b[0m\u001b[0m\n",
      "\u001b[0;32m/usr/local/lib/python3.6/site-packages/gensim/models/phrases.py\u001b[0m in \u001b[0;36manalyze_sentence\u001b[0;34m(self, sentence, threshold, common_terms, scorer)\u001b[0m\n\u001b[1;32m    164\u001b[0m                     \u001b[0mwordb\u001b[0m\u001b[0;34m=\u001b[0m\u001b[0mword\u001b[0m\u001b[0;34m,\u001b[0m\u001b[0;34m\u001b[0m\u001b[0m\n\u001b[1;32m    165\u001b[0m                     \u001b[0mcomponents\u001b[0m\u001b[0;34m=\u001b[0m\u001b[0mchain\u001b[0m\u001b[0;34m,\u001b[0m\u001b[0;34m\u001b[0m\u001b[0m\n\u001b[0;32m--> 166\u001b[0;31m                     \u001b[0mscorer\u001b[0m\u001b[0;34m=\u001b[0m\u001b[0mscorer\u001b[0m\u001b[0;34m,\u001b[0m\u001b[0;34m\u001b[0m\u001b[0m\n\u001b[0m\u001b[1;32m    167\u001b[0m                 )\n\u001b[1;32m    168\u001b[0m                 \u001b[0;32mif\u001b[0m \u001b[0mscore\u001b[0m \u001b[0;34m>\u001b[0m \u001b[0mthreshold\u001b[0m\u001b[0;34m:\u001b[0m\u001b[0;34m\u001b[0m\u001b[0m\n",
      "\u001b[0;32m/usr/local/lib/python3.6/site-packages/gensim/models/phrases.py\u001b[0m in \u001b[0;36mscore_item\u001b[0;34m(self, worda, wordb, components, scorer)\u001b[0m\n\u001b[1;32m    124\u001b[0m                     \u001b[0mworda_count\u001b[0m\u001b[0;34m=\u001b[0m\u001b[0mfloat\u001b[0m\u001b[0;34m(\u001b[0m\u001b[0mvocab\u001b[0m\u001b[0;34m[\u001b[0m\u001b[0mworda\u001b[0m\u001b[0;34m]\u001b[0m\u001b[0;34m)\u001b[0m\u001b[0;34m,\u001b[0m\u001b[0;34m\u001b[0m\u001b[0m\n\u001b[1;32m    125\u001b[0m                     \u001b[0mwordb_count\u001b[0m\u001b[0;34m=\u001b[0m\u001b[0mfloat\u001b[0m\u001b[0;34m(\u001b[0m\u001b[0mvocab\u001b[0m\u001b[0;34m[\u001b[0m\u001b[0mwordb\u001b[0m\u001b[0;34m]\u001b[0m\u001b[0;34m)\u001b[0m\u001b[0;34m,\u001b[0m\u001b[0;34m\u001b[0m\u001b[0m\n\u001b[0;32m--> 126\u001b[0;31m                     bigram_count=float(vocab[bigram]))\n\u001b[0m\u001b[1;32m    127\u001b[0m         \u001b[0;32mreturn\u001b[0m \u001b[0;34m-\u001b[0m\u001b[0;36m1\u001b[0m\u001b[0;34m\u001b[0m\u001b[0m\n\u001b[1;32m    128\u001b[0m \u001b[0;34m\u001b[0m\u001b[0m\n",
      "\u001b[0;32m/usr/local/lib/python3.6/site-packages/gensim/models/phrases.py\u001b[0m in \u001b[0;36moriginal_scorer\u001b[0;34m(worda_count, wordb_count, bigram_count, len_vocab, min_count, corpus_word_count)\u001b[0m\n\u001b[1;32m    627\u001b[0m \u001b[0;34m\u001b[0m\u001b[0m\n\u001b[1;32m    628\u001b[0m \u001b[0;34m\u001b[0m\u001b[0m\n\u001b[0;32m--> 629\u001b[0;31m \u001b[0;32mdef\u001b[0m \u001b[0moriginal_scorer\u001b[0m\u001b[0;34m(\u001b[0m\u001b[0mworda_count\u001b[0m\u001b[0;34m,\u001b[0m \u001b[0mwordb_count\u001b[0m\u001b[0;34m,\u001b[0m \u001b[0mbigram_count\u001b[0m\u001b[0;34m,\u001b[0m \u001b[0mlen_vocab\u001b[0m\u001b[0;34m,\u001b[0m \u001b[0mmin_count\u001b[0m\u001b[0;34m,\u001b[0m \u001b[0mcorpus_word_count\u001b[0m\u001b[0;34m)\u001b[0m\u001b[0;34m:\u001b[0m\u001b[0;34m\u001b[0m\u001b[0m\n\u001b[0m\u001b[1;32m    630\u001b[0m     \"\"\"Bigram scoring function, based on the original `Mikolov, et. al: \"Distributed Representations\n\u001b[1;32m    631\u001b[0m     \u001b[0mof\u001b[0m \u001b[0mWords\u001b[0m \u001b[0;32mand\u001b[0m \u001b[0mPhrases\u001b[0m \u001b[0;32mand\u001b[0m \u001b[0mtheir\u001b[0m \u001b[0mCompositionality\u001b[0m\u001b[0;31m\"\u001b[0m \u001b[0;34m<\u001b[0m\u001b[0mhttps\u001b[0m\u001b[0;34m:\u001b[0m\u001b[0;34m//\u001b[0m\u001b[0marxiv\u001b[0m\u001b[0;34m.\u001b[0m\u001b[0morg\u001b[0m\u001b[0;34m/\u001b[0m\u001b[0mabs\u001b[0m\u001b[0;34m/\u001b[0m\u001b[0;36m1310.4546\u001b[0m\u001b[0;34m>\u001b[0m\u001b[0;31m`\u001b[0m\u001b[0m_\u001b[0m\u001b[0;34m.\u001b[0m\u001b[0;34m\u001b[0m\u001b[0m\n",
      "\u001b[0;31mKeyboardInterrupt\u001b[0m: "
     ]
    }
   ],
   "source": [
    "from gensim.models import Phrases\n",
    "# Add bigrams and trigrams to docs (only ones that appear 10 times or more).\n",
    "bigram = Phrases(docs, min_count=10)\n",
    "trigram = Phrases(bigram[docs])\n",
    "\n",
    "for idx in range(len(docs)):\n",
    "    for token in bigram[docs[idx]]:\n",
    "        if '_' in token:\n",
    "            # Token is a bigram, add to document.\n",
    "            docs[idx].append(token)\n",
    "    for token in trigram[docs[idx]]:\n",
    "        if '_' in token:\n",
    "            # Token is a bigram, add to document.\n",
    "            docs[idx].append(token)"
   ]
  },
  {
   "cell_type": "code",
   "execution_count": 12,
   "metadata": {},
   "outputs": [
    {
     "name": "stdout",
     "output_type": "stream",
     "text": [
      "Number of unique words in initital documents: 39534\n",
      "Number of unique words after removing rare and common words: 6001\n"
     ]
    }
   ],
   "source": [
    "from gensim.corpora import Dictionary\n",
    "\n",
    "# Create a dictionary representation of the documents.\n",
    "dictionary = Dictionary(docs)\n",
    "print('Number of unique words in initital documents:', len(dictionary))\n",
    "\n",
    "# Filter out words that occur less than 10 documents, or more than 20% of the documents.\n",
    "dictionary.filter_extremes(no_below=10, no_above=0.2)\n",
    "print('Number of unique words after removing rare and common words:', len(dictionary))"
   ]
  },
  {
   "cell_type": "code",
   "execution_count": 13,
   "metadata": {},
   "outputs": [
    {
     "name": "stdout",
     "output_type": "stream",
     "text": [
      "Number of unique tokens: 6001\n",
      "Number of documents: 403\n"
     ]
    }
   ],
   "source": [
    "corpus = [dictionary.doc2bow(doc) for doc in docs]\n",
    "print('Number of unique tokens: %d' % len(dictionary))\n",
    "print('Number of documents: %d' % len(corpus))\n"
   ]
  },
  {
   "cell_type": "code",
   "execution_count": 14,
   "metadata": {},
   "outputs": [
    {
     "name": "stdout",
     "output_type": "stream",
     "text": [
      "CPU times: user 35.6 s, sys: 78.5 ms, total: 35.7 s\n",
      "Wall time: 35.8 s\n"
     ]
    }
   ],
   "source": [
    "from gensim.models import LdaModel\n",
    "# Set training parameters.\n",
    "num_topics = 4\n",
    "chunksize = 500 # size of the doc looked at every pass\n",
    "passes = 20 # number of passes through documents\n",
    "iterations = 400\n",
    "eval_every = 1  # Don't evaluate model perplexity, takes too much time.\n",
    "\n",
    "# Make a index to word dictionary.\n",
    "temp = dictionary[0]  # This is only to \"load\" the dictionary.\n",
    "id2word = dictionary.id2token\n",
    "\n",
    "%time model = LdaModel(corpus=corpus, id2word=id2word, chunksize=chunksize, \\\n",
    "                       alpha='auto', eta='auto', \\\n",
    "                       iterations=iterations, num_topics=num_topics, \\\n",
    "                       passes=passes, eval_every=eval_every)\n"
   ]
  },
  {
   "cell_type": "code",
   "execution_count": 71,
   "metadata": {},
   "outputs": [],
   "source": [
    "import pyLDAvis.gensim\n",
    "pyLDAvis.enable_notebook()\n"
   ]
  },
  {
   "cell_type": "code",
   "execution_count": 16,
   "metadata": {},
   "outputs": [
    {
     "name": "stderr",
     "output_type": "stream",
     "text": [
      "/usr/local/lib/python3.6/site-packages/pyLDAvis/_prepare.py:257: FutureWarning: Sorting because non-concatenation axis is not aligned. A future version\n",
      "of pandas will change to not sort by default.\n",
      "\n",
      "To accept the future behavior, pass 'sort=False'.\n",
      "\n",
      "To retain the current behavior and silence the warning, pass 'sort=True'.\n",
      "\n",
      "  return pd.concat([default_term_info] + list(topic_dfs))\n"
     ]
    },
    {
     "data": {
      "text/html": [
       "\n",
       "<link rel=\"stylesheet\" type=\"text/css\" href=\"https://cdn.rawgit.com/bmabey/pyLDAvis/files/ldavis.v1.0.0.css\">\n",
       "\n",
       "\n",
       "<div id=\"ldavis_el7887750433755846067585695\"></div>\n",
       "<script type=\"text/javascript\">\n",
       "\n",
       "var ldavis_el7887750433755846067585695_data = {\"mdsDat\": {\"x\": [0.17668847031656607, -0.011784070639197633, -0.07188045712685469, -0.09302394255051372], \"y\": [0.02162786556033221, -0.05084449403253004, -0.08053088640429702, 0.10974751487649488], \"topics\": [1, 2, 3, 4], \"cluster\": [1, 1, 1, 1], \"Freq\": [29.2146053314209, 25.714439392089844, 24.99833869934082, 20.07261848449707]}, \"tinfo\": {\"Category\": [\"Default\", \"Default\", \"Default\", \"Default\", \"Default\", \"Default\", \"Default\", \"Default\", \"Default\", \"Default\", \"Default\", \"Default\", \"Default\", \"Default\", \"Default\", \"Default\", \"Default\", \"Default\", \"Default\", \"Default\", \"Default\", \"Default\", \"Default\", \"Default\", \"Default\", \"Default\", \"Default\", \"Default\", \"Default\", \"Default\", \"Topic1\", \"Topic1\", \"Topic1\", \"Topic1\", \"Topic1\", \"Topic1\", \"Topic1\", \"Topic1\", \"Topic1\", \"Topic1\", \"Topic1\", \"Topic1\", \"Topic1\", \"Topic1\", \"Topic1\", \"Topic1\", \"Topic1\", \"Topic1\", \"Topic1\", \"Topic1\", \"Topic1\", \"Topic1\", \"Topic1\", \"Topic1\", \"Topic1\", \"Topic1\", \"Topic1\", \"Topic1\", \"Topic1\", \"Topic1\", \"Topic1\", \"Topic1\", \"Topic1\", \"Topic1\", \"Topic1\", \"Topic1\", \"Topic1\", \"Topic1\", \"Topic1\", \"Topic1\", \"Topic1\", \"Topic1\", \"Topic1\", \"Topic1\", \"Topic1\", \"Topic1\", \"Topic1\", \"Topic1\", \"Topic1\", \"Topic1\", \"Topic1\", \"Topic1\", \"Topic1\", \"Topic1\", \"Topic1\", \"Topic1\", \"Topic1\", \"Topic1\", \"Topic1\", \"Topic1\", \"Topic1\", \"Topic1\", \"Topic1\", \"Topic1\", \"Topic1\", \"Topic1\", \"Topic1\", \"Topic1\", \"Topic2\", \"Topic2\", \"Topic2\", \"Topic2\", \"Topic2\", \"Topic2\", \"Topic2\", \"Topic2\", \"Topic2\", \"Topic2\", \"Topic2\", \"Topic2\", \"Topic2\", \"Topic2\", \"Topic2\", \"Topic2\", \"Topic2\", \"Topic2\", \"Topic2\", \"Topic2\", \"Topic2\", \"Topic2\", \"Topic2\", \"Topic2\", \"Topic2\", \"Topic2\", \"Topic2\", \"Topic2\", \"Topic2\", \"Topic2\", \"Topic2\", \"Topic2\", \"Topic2\", \"Topic2\", \"Topic2\", \"Topic2\", \"Topic2\", \"Topic2\", \"Topic2\", \"Topic2\", \"Topic2\", \"Topic2\", \"Topic2\", \"Topic2\", \"Topic2\", \"Topic2\", \"Topic2\", \"Topic2\", \"Topic2\", \"Topic2\", \"Topic2\", \"Topic2\", \"Topic2\", \"Topic2\", \"Topic2\", \"Topic2\", \"Topic2\", \"Topic2\", \"Topic2\", \"Topic2\", \"Topic2\", \"Topic2\", \"Topic3\", \"Topic3\", \"Topic3\", \"Topic3\", \"Topic3\", \"Topic3\", \"Topic3\", \"Topic3\", \"Topic3\", \"Topic3\", \"Topic3\", \"Topic3\", \"Topic3\", \"Topic3\", \"Topic3\", \"Topic3\", \"Topic3\", \"Topic3\", \"Topic3\", \"Topic3\", \"Topic3\", \"Topic3\", \"Topic3\", \"Topic3\", \"Topic3\", \"Topic3\", \"Topic3\", \"Topic3\", \"Topic3\", \"Topic3\", \"Topic3\", \"Topic3\", \"Topic3\", \"Topic3\", \"Topic3\", \"Topic3\", \"Topic3\", \"Topic3\", \"Topic3\", \"Topic3\", \"Topic3\", \"Topic3\", \"Topic3\", \"Topic3\", \"Topic3\", \"Topic3\", \"Topic3\", \"Topic3\", \"Topic3\", \"Topic3\", \"Topic3\", \"Topic3\", \"Topic3\", \"Topic3\", \"Topic3\", \"Topic3\", \"Topic3\", \"Topic3\", \"Topic3\", \"Topic3\", \"Topic3\", \"Topic3\", \"Topic3\", \"Topic3\", \"Topic3\", \"Topic4\", \"Topic4\", \"Topic4\", \"Topic4\", \"Topic4\", \"Topic4\", \"Topic4\", \"Topic4\", \"Topic4\", \"Topic4\", \"Topic4\", \"Topic4\", \"Topic4\", \"Topic4\", \"Topic4\", \"Topic4\", \"Topic4\", \"Topic4\", \"Topic4\", \"Topic4\", \"Topic4\", \"Topic4\", \"Topic4\", \"Topic4\", \"Topic4\", \"Topic4\", \"Topic4\", \"Topic4\", \"Topic4\", \"Topic4\", \"Topic4\", \"Topic4\", \"Topic4\", \"Topic4\", \"Topic4\", \"Topic4\", \"Topic4\", \"Topic4\", \"Topic4\", \"Topic4\", \"Topic4\", \"Topic4\", \"Topic4\", \"Topic4\", \"Topic4\", \"Topic4\", \"Topic4\", \"Topic4\", \"Topic4\", \"Topic4\", \"Topic4\", \"Topic4\", \"Topic4\", \"Topic4\", \"Topic4\", \"Topic4\", \"Topic4\", \"Topic4\", \"Topic4\", \"Topic4\", \"Topic4\", \"Topic4\", \"Topic4\", \"Topic4\", \"Topic4\", \"Topic4\"], \"Freq\": [1158.0, 666.0, 713.0, 679.0, 645.0, 666.0, 472.0, 521.0, 527.0, 552.0, 569.0, 586.0, 461.0, 655.0, 535.0, 940.0, 541.0, 493.0, 406.0, 481.0, 475.0, 476.0, 588.0, 350.0, 558.0, 479.0, 799.0, 607.0, 887.0, 910.0, 473.9560241699219, 215.83746337890625, 490.46002197265625, 565.80517578125, 93.82811737060547, 117.45796966552734, 530.8661499023438, 96.66484069824219, 130.654541015625, 199.39675903320312, 122.12860870361328, 84.36085510253906, 83.4130859375, 148.50193786621094, 329.2234802246094, 69.22868347167969, 79.63875579833984, 79.6336898803711, 62.60670471191406, 189.7814178466797, 71.11373901367188, 110.75077056884766, 90.92402648925781, 150.2406768798828, 231.9806671142578, 194.14418029785156, 80.52738189697266, 107.83911895751953, 72.03742980957031, 100.30928802490234, 657.9735717773438, 369.70556640625, 331.16015625, 530.1937866210938, 415.8033447265625, 211.04396057128906, 468.3481750488281, 243.139404296875, 147.28060913085938, 180.46287536621094, 144.06942749023438, 184.46376037597656, 340.37042236328125, 199.7834930419922, 202.2855682373047, 552.3604736328125, 387.37860107421875, 193.5052032470703, 418.64471435546875, 556.451904296875, 337.65740966796875, 198.90830993652344, 305.9986877441406, 727.1378173828125, 248.31777954101562, 283.2360534667969, 303.0067443847656, 328.6356201171875, 600.455078125, 236.88803100585938, 345.9390869140625, 382.68646240234375, 444.31561279296875, 262.7835388183594, 303.23602294921875, 348.1494445800781, 294.87384033203125, 281.964599609375, 137.42274475097656, 125.81896209716797, 129.6180419921875, 71.8819580078125, 131.29640197753906, 226.66796875, 12.670963287353516, 561.9121704101562, 372.5794982910156, 126.55712127685547, 100.76005554199219, 149.3075714111328, 333.6202087402344, 130.41937255859375, 35.65290832519531, 121.56976318359375, 38.21028518676758, 66.04000091552734, 64.34992980957031, 83.8051528930664, 82.07057189941406, 64.00008392333984, 41.347904205322266, 102.64310455322266, 26.867128372192383, 39.59224319458008, 349.4816589355469, 33.20344161987305, 81.22014617919922, 42.53514099121094, 244.63360595703125, 289.87811279296875, 173.40077209472656, 524.6280517578125, 91.59600067138672, 278.26611328125, 318.4486999511719, 198.48638916015625, 351.8475646972656, 254.76583862304688, 372.51934814453125, 502.9810791015625, 589.7991943359375, 227.81956481933594, 248.1620330810547, 569.11669921875, 316.7431945800781, 276.32220458984375, 301.0734558105469, 489.9389953613281, 340.2789001464844, 258.4453430175781, 231.9666748046875, 247.46112060546875, 225.63710021972656, 236.79653930664062, 310.4538879394531, 277.6903991699219, 268.4214172363281, 266.1590270996094, 267.2048645019531, 240.07733154296875, 709.3560180664062, 202.7623291015625, 171.09169006347656, 115.0730972290039, 75.840087890625, 137.21607971191406, 72.05585479736328, 192.13858032226562, 666.200439453125, 56.03178024291992, 35.637657165527344, 350.0998229980469, 38.32548904418945, 53.00994873046875, 250.60345458984375, 30.897632598876953, 534.5807495117188, 91.25424194335938, 20.685657501220703, 31.703018188476562, 24.36998176574707, 156.56918334960938, 76.29490661621094, 24.31099510192871, 71.54002380371094, 31.67864418029785, 285.5401306152344, 123.51917266845703, 128.48243713378906, 455.53369140625, 169.1233673095703, 314.6124572753906, 304.6125793457031, 73.0993881225586, 133.92977905273438, 195.37429809570312, 579.4031982421875, 243.51724243164062, 133.2645263671875, 295.2247009277344, 263.6760559082031, 330.863525390625, 195.8966827392578, 317.9172668457031, 218.05093383789062, 281.30950927734375, 271.2435302734375, 357.43829345703125, 347.2933654785156, 217.28656005859375, 502.79144287109375, 433.1244201660156, 483.875, 221.38357543945312, 325.91485595703125, 239.15003967285156, 252.33187866210938, 314.6998596191406, 326.2513427734375, 253.7439422607422, 238.8365020751953, 263.9704895019531, 282.7367858886719, 272.8055419921875, 248.93385314941406, 1153.9114990234375, 663.65771484375, 294.5026550292969, 263.6087341308594, 470.2406311035156, 118.31310272216797, 67.6913070678711, 76.12371063232422, 63.941749572753906, 346.3531799316406, 106.91615295410156, 99.40271759033203, 81.66270446777344, 84.43653869628906, 84.43047332763672, 68.55565643310547, 41.43099594116211, 37.674964904785156, 112.21414184570312, 31.106321334838867, 32.98387145996094, 33.9256706237793, 26.414663314819336, 30.17336082458496, 21.719512939453125, 20.786975860595703, 41.25783157348633, 21.728439331054688, 20.783031463623047, 20.790658950805664, 265.0232238769531, 164.24107360839844, 388.3697509765625, 439.3605651855469, 495.63201904296875, 163.56741333007812, 56.51731491088867, 588.9014282226562, 483.6621398925781, 425.9014587402344, 86.93600463867188, 226.45321655273438, 139.02125549316406, 443.1010437011719, 139.5806121826172, 107.27690124511719, 561.6051025390625, 170.61830139160156, 208.87806701660156, 331.37158203125, 239.25379943847656, 219.3390350341797, 390.5380859375, 220.435791015625, 209.37254333496094, 342.5807189941406, 181.51303100585938, 228.19290161132812, 191.12384033203125, 246.63955688476562, 223.40164184570312, 332.2520446777344, 316.67950439453125, 277.1170654296875, 255.07652282714844, 264.51031494140625], \"Term\": [\"regret\", \"bandit\", \"matrix_completion\", \"rank_matrix\", \"active_learning\", \"convolutional\", \"regret_bound\", \"reward\", \"game\", \"singular_value\", \"recurrent\", \"submodular\", \"agent\", \"tensor\", \"recurrent_neural\", \"convergence_rate\", \"hidden_unit\", \"hidden_layer\", \"reward_function\", \"strongly_convex\", \"lstm\", \"recovery\", \"fully_connected\", \"player\", \"online_learning\", \"neuron\", \"variational_inference\", \"deep_learning\", \"sample_complexity\", \"gaussian_process\", \"lstm\", \"recurrent_network\", \"hidden_layer\", \"recurrent\", \"recurrent_connection\", \"autoencoder\", \"recurrent_neural\", \"lstms\", \"network_architecture\", \"convolutional_layer\", \"encoder_decoder\", \"parsing\", \"rnns\", \"softmax\", \"deep_network\", \"rmsprop\", \"image_caption\", \"alex_graf\", \"grammar\", \"patch\", \"feedforward_neural\", \"pooling_layer\", \"lstm_lstm\", \"deep_belief\", \"speech_recognition\", \"stack\", \"ilya_sutskever\", \"temporal_dependency\", \"schmidhuber\", \"very_deep\", \"convolutional\", \"hidden_state\", \"convolutional_network\", \"hidden_unit\", \"convolutional_neural\", \"encoder\", \"neuron\", \"deep_convolutional\", \"deep_architecture\", \"latent_state\", \"variational_lower\", \"feed_forward\", \"sentence\", \"dropout\", \"texture\", \"fully_connected\", \"during_training\", \"machine_translation\", \"pixel\", \"deep_learning\", \"spatial\", \"yoshua_bengio\", \"frame\", \"gaussian_process\", \"natural_image\", \"feature_map\", \"deep_neural\", \"filter\", \"generative_model\", \"unsupervised_learning\", \"segmentation\", \"proposal\", \"ground_truth\", \"input_output\", \"semi_supervised\", \"embedding\", \"time_step\", \"trajectory\", \"hamiltonian_monte\", \"ising_model\", \"infinite_dimensional\", \"metropolis_hastings\", \"dirichlet_process\", \"parent\", \"wolsey\", \"submodular\", \"submodular_function\", \"directed_edge\", \"hamiltonian\", \"calibration\", \"bayesian_network\", \"thread\", \"gretton\", \"multilabel\", \"acceptance\", \"maximizing_submodular\", \"ising\", \"submodularity\", \"safe\", \"vertex_edge\", \"black_variational\", \"bayesian_nonparametric\", \"hastings\", \"bilmes\", \"sampler\", \"guestrin\", \"david_blei\", \"misclassification\", \"probability_measure\", \"causal\", \"decision_rule\", \"random_walk\", \"hamming\", \"walk\", \"mcmc\", \"dirichlet\", \"gibbs\", \"gibbs_sampler\", \"gibbs_sampling\", \"vertex\", \"variational_inference\", \"multi_class\", \"partition_function\", \"markov_chain\", \"topic_model\", \"mixture_model\", \"cover\", \"graphical_model\", \"exponential_family\", \"mean_field\", \"message_passing\", \"stationary_distribution\", \"approximate_inference\", \"message\", \"state_space\", \"regularization_parameter\", \"closed_form\", \"document\", \"running_time\", \"posterior_distribution\", \"matrix_completion\", \"lifted\", \"exact_recovery\", \"linear_measurement\", \"restricted_strong\", \"sparse_recovery\", \"incoherence\", \"singular_vector\", \"rank_matrix\", \"recovery_guarantee\", \"vershynin\", \"nuclear_norm\", \"lasso_journal\", \"recommendation_system\", \"compressed_sensing\", \"candes\", \"singular_value\", \"nonzero_entry\", \"vershynin_introduction\", \"society_series\", \"mcsherry\", \"tensor_decomposition\", \"orthonormal\", \"royal_statistical\", \"sparse_signal\", \"tropp\", \"singular\", \"random_projection\", \"sparse_regression\", \"recovery\", \"alternating_minimization\", \"completion\", \"rank_approximation\", \"dantzig_selector\", \"nuclear\", \"spectral_norm\", \"tensor\", \"frobenius_norm\", \"sensing\", \"principal_component\", \"lasso\", \"subspace\", \"convex_relaxation\", \"estimation_error\", \"private\", \"eigenvalue\", \"relative_error\", \"line_search\", \"least_square\", \"principal\", \"data_set\", \"covariance_matrix\", \"sample_complexity\", \"privacy\", \"probability_least\", \"multi_label\", \"rate_convergence\", \"running_time\", \"step_size\", \"linear_regression\", \"event\", \"sample_size\", \"convergence_rate\", \"gradient_descent\", \"item\", \"regret\", \"bandit\", \"multi_armed\", \"bandit_problem\", \"regret_bound\", \"expected_reward\", \"regret_minimization\", \"upper_confidence\", \"bubeck\", \"player\", \"time_horizon\", \"bandit_setting\", \"cumulative_regret\", \"cesa\", \"bianchi\", \"regret_regret\", \"multiarmed_bandit\", \"multi_armed_bandit_problem\", \"bandit_feedback\", \"fischer_finite\", \"peter_auer\", \"bianchi_regret\", \"bubeck_cesa\", \"stochastic_nonstochastic\", \"stochastic_bandit\", \"multiarmed\", \"nicolo_cesa\", \"bianchi_lugosi\", \"zinkevich\", \"nonstochastic\", \"market\", \"arm\", \"reward_function\", \"agent\", \"reward\", \"armed\", \"payoff\", \"active_learning\", \"game\", \"strongly_convex\", \"exploration_exploitation\", \"price\", \"horizon\", \"online_learning\", \"equilibrium\", \"maker\", \"convergence_rate\", \"strong_convexity\", \"feedback\", \"round\", \"ranking\", \"learner\", \"policy\", \"oracle\", \"environment\", \"time_step\", \"linear_convergence\", \"confidence\", \"worker\", \"mechanism\", \"empirical_risk\", \"sample_complexity\", \"step_size\", \"query\", \"item\", \"gradient_descent\"], \"Total\": [1158.0, 666.0, 713.0, 679.0, 645.0, 666.0, 472.0, 521.0, 527.0, 552.0, 569.0, 586.0, 461.0, 655.0, 535.0, 940.0, 541.0, 493.0, 406.0, 481.0, 475.0, 476.0, 588.0, 350.0, 558.0, 479.0, 799.0, 607.0, 887.0, 910.0, 475.65606689453125, 216.8527374267578, 493.2696228027344, 569.1492309570312, 94.58332824707031, 118.4095458984375, 535.2880249023438, 97.53400421142578, 131.89395141601562, 201.38107299804688, 123.35750579833984, 85.21003723144531, 84.26319885253906, 150.03895568847656, 332.66461181640625, 69.9560317993164, 80.47636413574219, 80.5025634765625, 63.29216384887695, 191.8973388671875, 71.93453216552734, 112.03026580810547, 91.99376678466797, 152.02435302734375, 234.75584411621094, 196.47537231445312, 81.49781799316406, 109.18950653076172, 72.95809936523438, 101.60396575927734, 666.7222900390625, 374.501708984375, 336.0367126464844, 541.0606079101562, 423.5490417480469, 213.8649444580078, 479.893798828125, 247.7535858154297, 149.42520141601562, 183.48231506347656, 146.4547576904297, 188.70396423339844, 353.5881652832031, 204.97219848632812, 207.9288330078125, 588.5503540039062, 407.1883544921875, 199.1100311279297, 447.617431640625, 607.7117919921875, 367.5332946777344, 206.6240692138672, 336.0821533203125, 910.3324584960938, 266.4051818847656, 313.7011413574219, 340.8536376953125, 377.19427490234375, 797.0936279296875, 256.58929443359375, 445.29754638671875, 590.5342407226562, 804.7623901367188, 312.04754638671875, 441.77740478515625, 627.8782348632812, 667.608154296875, 527.784423828125, 140.78073120117188, 129.03958129882812, 132.95501708984375, 73.76289367675781, 136.23507690429688, 236.50439453125, 13.2305908203125, 586.745849609375, 389.11712646484375, 132.23963928222656, 105.2979736328125, 157.2461700439453, 354.0949401855469, 138.4471893310547, 38.063987731933594, 130.0421905517578, 40.91841125488281, 70.94554138183594, 69.17781829833984, 90.40542602539062, 88.6928939819336, 69.30852508544922, 44.780677795410156, 111.33440399169922, 29.196577072143555, 43.10030746459961, 380.7615051269531, 36.402713775634766, 89.12106323242188, 47.04536056518555, 270.708251953125, 332.3690490722656, 198.23379516601562, 629.7173461914062, 102.71844482421875, 328.1454772949219, 379.1063232421875, 232.77268981933594, 433.13848876953125, 309.6107482910156, 468.093505859375, 654.86474609375, 799.82861328125, 281.1723937988281, 312.6317443847656, 814.1549072265625, 415.69573974609375, 354.91851806640625, 393.5629577636719, 748.123046875, 469.10400390625, 341.00311279296875, 295.3027648925781, 325.3707275390625, 297.60321044921875, 321.95477294921875, 523.666259765625, 493.4593200683594, 510.75250244140625, 540.1577758789062, 697.3515625, 482.8977355957031, 713.84228515625, 204.0699005126953, 172.3489532470703, 116.0444107055664, 76.70416259765625, 139.04293823242188, 73.1039047241211, 195.66110229492188, 679.4586791992188, 57.3043212890625, 36.52801513671875, 359.5048522949219, 39.4143180847168, 54.56298828125, 258.2416076660156, 31.926464080810547, 552.5558471679688, 94.60747528076172, 21.452075958251953, 32.88340759277344, 25.27907371520996, 162.66696166992188, 79.4133529663086, 25.307865142822266, 74.47374725341797, 32.99613952636719, 297.90478515625, 128.97528076171875, 134.23533630371094, 476.0055847167969, 176.9195098876953, 332.8662109375, 323.3521423339844, 76.57760620117188, 142.35552978515625, 211.73263549804688, 655.6124877929688, 266.5976257324219, 143.69692993164062, 332.1054992675781, 304.72540283203125, 391.498291015625, 223.2566375732422, 385.2831726074219, 252.6504669189453, 345.6520690917969, 333.45623779296875, 476.60809326171875, 465.41632080078125, 260.4378967285156, 756.7188720703125, 716.6842041015625, 887.5618896484375, 275.2973327636719, 596.0372314453125, 334.4756164550781, 387.41619873046875, 697.3515625, 832.8685302734375, 437.7568359375, 392.8429260253906, 646.4598999023438, 940.75927734375, 783.7025146484375, 591.5217895507812, 1158.069091796875, 666.1046142578125, 295.93994140625, 264.9197692871094, 472.9285583496094, 119.23448944091797, 68.39299774169922, 76.98616027832031, 64.67398834228516, 350.323974609375, 108.33704376220703, 100.7258529663086, 82.79315948486328, 85.64972686767578, 85.64947509765625, 69.5845718383789, 42.073238372802734, 38.27964782714844, 114.0968246459961, 31.662351608276367, 33.64406967163086, 34.61997985839844, 26.95915985107422, 30.844511032104492, 22.22252082824707, 21.321565628051758, 42.352176666259766, 22.32465362548828, 21.361684799194336, 21.371273040771484, 274.04815673828125, 169.33592224121094, 406.2793273925781, 461.4460144042969, 521.9949951171875, 170.56594848632812, 58.4460334777832, 645.671142578125, 527.2444458007812, 481.7695617675781, 92.05630493164062, 256.20404052734375, 153.8111114501953, 558.780517578125, 158.25418090820312, 118.7571029663086, 940.75927734375, 214.16197204589844, 277.4678955078125, 506.2200927734375, 347.91925048828125, 309.68695068359375, 679.9140625, 321.598388671875, 306.628662109375, 667.608154296875, 245.3869171142578, 370.17974853515625, 277.99127197265625, 461.8656311035156, 379.3765869140625, 887.5618896484375, 832.8685302734375, 656.6273193359375, 591.5217895507812, 783.7025146484375], \"loglift\": [30.0, 29.0, 28.0, 27.0, 26.0, 25.0, 24.0, 23.0, 22.0, 21.0, 20.0, 19.0, 18.0, 17.0, 16.0, 15.0, 14.0, 13.0, 12.0, 11.0, 10.0, 9.0, 8.0, 7.0, 6.0, 5.0, 4.0, 3.0, 2.0, 1.0, 1.2268999814987183, 1.2258000373840332, 1.2247999906539917, 1.2245999574661255, 1.222499966621399, 1.2223999500274658, 1.2222000360488892, 1.22160005569458, 1.2210999727249146, 1.2206000089645386, 1.2204999923706055, 1.2204999923706055, 1.2203999757766724, 1.2201999425888062, 1.2201000452041626, 1.2200000286102295, 1.2200000286102295, 1.219599962234497, 1.219599962234497, 1.2194000482559204, 1.218999981880188, 1.218999981880188, 1.2187999486923218, 1.2187000513076782, 1.2186000347137451, 1.2186000347137451, 1.218500018119812, 1.2180999517440796, 1.2178000211715698, 1.2177000045776367, 1.2173000574111938, 1.2175999879837036, 1.21589994430542, 1.2101999521255493, 1.2120000123977661, 1.2172000408172607, 1.2060999870300293, 1.2116999626159668, 1.215999960899353, 1.2138999700546265, 1.2141000032424927, 1.207800030708313, 1.1923999786376953, 1.2049000263214111, 1.2029999494552612, 1.1670000553131104, 1.1806000471115112, 1.2019000053405762, 1.163599967956543, 1.1424000263214111, 1.1456999778747559, 1.1923999786376953, 1.1367000341415405, 1.0058000087738037, 1.1601999998092651, 1.1282999515533447, 1.1128000020980835, 1.0927000045776367, 0.9472000002861023, 1.1505999565124512, 0.9779999852180481, 0.7967000007629395, 0.6365000009536743, 1.0586999654769897, 0.854200005531311, 0.6407999992370605, 0.4133000075817108, 0.603600025177002, 1.3339999914169312, 1.332800030708313, 1.3327000141143799, 1.3322999477386475, 1.3212000131607056, 1.315600037574768, 1.3149000406265259, 1.3149000406265259, 1.3147000074386597, 1.3142000436782837, 1.3141000270843506, 1.3063000440597534, 1.2985999584197998, 1.2984000444412231, 1.2927000522613525, 1.2906999588012695, 1.2896000146865845, 1.2864999771118164, 1.2857999801635742, 1.2822999954223633, 1.280500054359436, 1.27839994430542, 1.27839994430542, 1.2768000364303589, 1.274999976158142, 1.2732000350952148, 1.2724000215530396, 1.2661000490188599, 1.2653000354766846, 1.2573000192642212, 1.2568000555038452, 1.2213000059127808, 1.2243000268936157, 1.1755000352859497, 1.243499994277954, 1.1931999921798706, 1.1837999820709229, 1.198799967765808, 1.1503000259399414, 1.163100004196167, 1.129699945449829, 1.0942000150680542, 1.0535000562667847, 1.1476999521255493, 1.1272000074386597, 1.000100016593933, 1.086300015449524, 1.107800006866455, 1.0901999473571777, 0.9348000288009644, 1.0370999574661255, 1.080899953842163, 1.1167000532150269, 1.0844000577926636, 1.0813000202178955, 1.0508999824523926, 0.8353000283241272, 0.7832000255584717, 0.7148000001907349, 0.6503999829292297, 0.39879998564720154, 0.6593000292778015, 1.3801000118255615, 1.3798999786376953, 1.378999948501587, 1.378000020980835, 1.375, 1.3731000423431396, 1.371899962425232, 1.3681999444961548, 1.3667000532150269, 1.3638999462127686, 1.3617000579833984, 1.3598999977111816, 1.358299970626831, 1.3574999570846558, 1.3562999963760376, 1.353600025177002, 1.3532999753952026, 1.3502999544143677, 1.350000023841858, 1.3497999906539917, 1.3496999740600586, 1.3481999635696411, 1.3463000059127808, 1.3461999893188477, 1.3461999893188477, 1.3456000089645386, 1.343999981880188, 1.3430999517440796, 1.3425999879837036, 1.3423999547958374, 1.3413000106811523, 1.3300000429153442, 1.32669997215271, 1.339900016784668, 1.3252999782562256, 1.305999994277954, 1.2627999782562256, 1.295799970626831, 1.3109999895095825, 1.2685999870300293, 1.2417000532150269, 1.2180999517440796, 1.2555999755859375, 1.194200038909912, 1.2390999794006348, 1.180400013923645, 1.179900050163269, 1.0986000299453735, 1.0936000347137451, 1.205199956893921, 0.9775000214576721, 0.8827999830245972, 0.779699981212616, 1.1684000492095947, 0.7827000021934509, 1.0508999824523926, 0.9575999975204468, 0.5906999707221985, 0.44920000433921814, 0.8410000205039978, 0.888700008392334, 0.49070000648498535, 0.1842000037431717, 0.3310999870300293, 0.520799994468689, 1.6022000312805176, 1.6021000146865845, 1.6009000539779663, 1.6009000539779663, 1.600100040435791, 1.598099946975708, 1.5954999923706055, 1.594499945640564, 1.5944000482559204, 1.5944000482559204, 1.5925999879837036, 1.5925999879837036, 1.5921000242233276, 1.5915000438690186, 1.5915000438690186, 1.59089994430542, 1.590399980545044, 1.589900016784668, 1.5892000198364258, 1.5880999565124512, 1.5859999656677246, 1.5856000185012817, 1.5853999853134155, 1.583799958229065, 1.582900047302246, 1.580399990081787, 1.5795999765396118, 1.5786999464035034, 1.5784000158309937, 1.5782999992370605, 1.5722999572753906, 1.5752999782562256, 1.5607000589370728, 1.5568000078201294, 1.5540000200271606, 1.5638999938964844, 1.5722999572753906, 1.513800024986267, 1.5195000171661377, 1.4825999736785889, 1.5485999584197998, 1.4823999404907227, 1.504699945449829, 1.373900055885315, 1.480299949645996, 1.50409996509552, 1.089900016784668, 1.378499984741211, 1.3219000101089478, 1.1821000576019287, 1.2314000129699707, 1.2609000205993652, 1.0513999462127686, 1.2280999422073364, 1.2243000268936157, 0.9386000037193298, 1.3042999505996704, 1.121999979019165, 1.2310999631881714, 0.9785000085830688, 1.076300024986267, 0.623199999332428, 0.6388000249862671, 0.7430999875068665, 0.7646999955177307, 0.5196999907493591], \"logprob\": [30.0, 29.0, 28.0, 27.0, 26.0, 25.0, 24.0, 23.0, 22.0, 21.0, 20.0, 19.0, 18.0, 17.0, 16.0, 15.0, 14.0, 13.0, 12.0, 11.0, 10.0, 9.0, 8.0, 7.0, 6.0, 5.0, 4.0, 3.0, 2.0, 1.0, -5.604599952697754, -6.391200065612793, -5.570400238037109, -5.427499771118164, -7.224299907684326, -6.999599933624268, -5.491199970245361, -7.194499969482422, -6.893199920654297, -6.470399856567383, -6.960599899291992, -7.330599784851074, -7.341899871826172, -6.765100002288818, -5.968999862670898, -7.528299808502197, -7.388199806213379, -7.388299942016602, -7.628799915313721, -6.519800186157227, -7.501399993896484, -7.0584001541137695, -7.25570011138916, -6.753499984741211, -6.3190999031066895, -6.497099876403809, -7.377099990844727, -7.085100173950195, -7.488500118255615, -7.15749979019165, -5.276599884033203, -5.853000164031982, -5.963099956512451, -5.492499828338623, -5.735499858856201, -6.413700103759766, -5.616499900817871, -6.27209997177124, -6.773399829864502, -6.570199966430664, -6.795400142669678, -6.548299789428711, -5.935699939727783, -6.468500137329102, -6.455999851226807, -5.451499938964844, -5.806300163269043, -6.500400066375732, -5.728700160980225, -5.4440999031066895, -5.943699836730957, -6.472899913787842, -6.042099952697754, -5.176599979400635, -6.250999927520752, -6.1194000244140625, -6.052000045776367, -5.970799922943115, -5.368000030517578, -6.298099994659424, -5.91949987411499, -5.81850004196167, -5.6691999435424805, -6.194399833679199, -6.051199913024902, -5.913099765777588, -6.07919979095459, -6.123899936676025, -6.715000152587891, -6.803299903869629, -6.773499965667725, -7.363100051879883, -6.7606000900268555, -6.214600086212158, -9.098799705505371, -5.30679988861084, -5.717700004577637, -6.797399997711182, -7.025400161743164, -6.6321001052856445, -5.828100204467773, -6.767300128936768, -8.064299583435059, -6.837600231170654, -7.994999885559082, -7.447800159454346, -7.473800182342529, -7.20959997177124, -7.230500221252441, -7.4791998863220215, -7.916100025177002, -7.006800174713135, -8.347200393676758, -7.959499835968018, -5.781700134277344, -8.13539981842041, -7.240900039672852, -7.887800216674805, -6.138299942016602, -5.968599796295166, -6.482500076293945, -5.375400066375732, -7.120699882507324, -6.009500026702881, -5.874599933624268, -6.347400188446045, -5.774899959564209, -6.097799777984619, -5.717800140380859, -5.417600154876709, -5.258299827575684, -6.20959997177124, -6.124000072479248, -5.294000148773193, -5.880000114440918, -6.016499996185303, -5.930799961090088, -5.44379997253418, -5.808300018310547, -6.083399772644043, -6.191500186920166, -6.1269001960754395, -6.219200134277344, -6.170899868011475, -5.900100231170654, -6.011600017547607, -6.045499801635742, -6.053999900817871, -6.050099849700928, -6.157100200653076, -5.045499801635742, -6.297800064086914, -6.467700004577637, -6.864299774169922, -7.281199932098389, -6.688300132751465, -7.332399845123291, -6.351600170135498, -5.10830020904541, -7.583899974822998, -8.036499977111816, -5.7515997886657715, -7.963699817657471, -7.639400005340576, -6.085999965667725, -8.179200172424316, -5.328400135040283, -7.096199989318848, -8.580400466918945, -8.153400421142578, -8.416500091552734, -6.556399822235107, -7.275300025939941, -8.418899536132812, -7.339600086212158, -8.154199600219727, -5.95550012588501, -6.793499946594238, -6.7540998458862305, -5.488399982452393, -6.4791998863220215, -5.858500003814697, -5.8907999992370605, -7.317999839782715, -6.712500095367432, -6.33489990234375, -5.247900009155273, -6.114699840545654, -6.71750020980835, -5.922100067138672, -6.035099983215332, -5.808199882507324, -6.332300186157227, -5.848100185394287, -6.225100040435791, -5.970399856567383, -6.006800174713135, -5.730899810791016, -5.759699821472168, -6.228600025177002, -5.389699935913086, -5.53879976272583, -5.427999973297119, -6.210000038146973, -5.823200225830078, -6.132800102233887, -6.079100131988525, -5.8582000732421875, -5.822199821472168, -6.073500156402588, -6.134099960327148, -6.033999919891357, -5.9653000831604, -6.001100063323975, -6.092700004577637, -4.3394999504089355, -4.892600059509277, -5.705100059509277, -5.815899848937988, -5.237199783325195, -6.617099761962891, -7.1753997802734375, -7.058000087738037, -7.232399940490723, -5.542900085449219, -6.718400001525879, -6.791200160980225, -6.987800121307373, -6.954400062561035, -6.954500198364258, -7.162799835205078, -7.666399955749512, -7.76140022277832, -6.670000076293945, -7.953000068664551, -7.894400119781494, -7.866199970245361, -8.116499900817871, -7.983399868011475, -8.312199592590332, -8.356100082397461, -7.670599937438965, -8.311800003051758, -8.356300354003906, -8.355899810791016, -5.8105998039245605, -6.289100170135498, -5.428400039672852, -5.305099964141846, -5.184599876403809, -6.2932000160217285, -7.355899810791016, -5.0121002197265625, -5.209000110626221, -5.33620023727417, -6.92519998550415, -5.967899799346924, -6.4558000564575195, -5.296599864959717, -6.4517998695373535, -6.715000152587891, -5.059599876403809, -6.250999927520752, -6.048699855804443, -5.587200164794922, -5.912899971008301, -5.999800205230713, -5.422900199890137, -5.994800090789795, -6.046299934387207, -5.553899765014648, -6.1890997886657715, -5.96019983291626, -6.137499809265137, -5.882500171661377, -5.981400012969971, -5.584499835968018, -5.632500171661377, -5.765999794006348, -5.848800182342529, -5.8125]}, \"token.table\": {\"Topic\": [1, 2, 1, 2, 3, 4, 1, 2, 3, 4, 1, 1, 2, 3, 4, 1, 2, 3, 4, 1, 2, 3, 4, 1, 2, 3, 4, 1, 1, 2, 3, 4, 3, 4, 4, 3, 4, 1, 2, 3, 4, 1, 2, 3, 4, 2, 4, 4, 4, 1, 2, 3, 4, 1, 2, 4, 4, 1, 2, 3, 4, 3, 1, 2, 3, 4, 2, 4, 1, 2, 3, 4, 1, 2, 3, 4, 1, 2, 3, 4, 1, 2, 3, 4, 1, 2, 3, 4, 1, 2, 3, 4, 1, 2, 3, 4, 1, 2, 3, 4, 1, 2, 3, 4, 1, 2, 3, 4, 1, 2, 3, 4, 1, 2, 3, 4, 4, 1, 2, 3, 1, 2, 3, 4, 1, 2, 3, 4, 1, 2, 3, 4, 1, 2, 3, 4, 1, 2, 3, 1, 2, 3, 4, 1, 2, 3, 4, 1, 2, 3, 4, 1, 2, 3, 4, 1, 2, 3, 4, 1, 2, 3, 4, 1, 2, 3, 4, 1, 2, 3, 4, 1, 2, 3, 4, 1, 2, 3, 4, 1, 2, 3, 4, 1, 2, 3, 4, 1, 2, 3, 4, 1, 2, 3, 4, 1, 1, 2, 3, 4, 1, 2, 3, 4, 1, 2, 3, 4, 1, 2, 3, 4, 3, 4, 1, 2, 3, 4, 1, 2, 3, 4, 1, 2, 3, 4, 1, 2, 3, 4, 1, 2, 3, 4, 1, 1, 2, 3, 4, 4, 1, 2, 3, 4, 1, 2, 3, 4, 1, 2, 3, 4, 1, 2, 3, 4, 1, 2, 3, 4, 1, 2, 3, 4, 1, 2, 3, 4, 1, 2, 3, 4, 1, 2, 3, 4, 1, 2, 3, 4, 1, 1, 2, 3, 4, 1, 2, 4, 1, 2, 3, 4, 1, 2, 3, 4, 1, 2, 3, 4, 1, 2, 3, 4, 1, 2, 3, 4, 1, 2, 1, 2, 3, 4, 1, 2, 3, 4, 1, 2, 3, 4, 1, 2, 3, 4, 1, 1, 3, 1, 2, 3, 4, 1, 2, 3, 4, 1, 2, 3, 4, 1, 2, 3, 4, 1, 2, 3, 4, 1, 2, 3, 4, 2, 3, 1, 2, 3, 4, 1, 2, 3, 4, 1, 2, 3, 4, 3, 1, 2, 3, 4, 1, 2, 3, 4, 3, 1, 2, 3, 4, 1, 2, 3, 4, 1, 1, 1, 2, 3, 4, 1, 2, 3, 4, 1, 2, 3, 4, 1, 2, 3, 4, 1, 2, 3, 4, 2, 4, 1, 2, 3, 4, 3, 1, 2, 3, 4, 1, 2, 3, 4, 1, 2, 3, 4, 1, 2, 3, 4, 1, 2, 4, 1, 2, 3, 4, 1, 2, 3, 4, 2, 4, 4, 1, 2, 3, 4, 1, 2, 3, 4, 4, 4, 1, 2, 3, 4, 1, 2, 3, 4, 1, 1, 2, 3, 4, 2, 4, 4, 1, 2, 3, 4, 1, 2, 3, 4, 1, 2, 3, 4, 1, 2, 3, 4, 1, 2, 3, 4, 1, 2, 3, 4, 1, 2, 3, 4, 1, 1, 2, 3, 4, 1, 2, 4, 3, 4, 4, 1, 2, 3, 4, 1, 2, 3, 4, 1, 2, 3, 4, 1, 4, 1, 2, 3, 4, 1, 2, 3, 4, 1, 2, 3, 4, 1, 2, 3, 4, 1, 2, 3, 4, 1, 2, 3, 4, 1, 2, 3, 4, 1, 2, 3, 4, 1, 2, 3, 4, 1, 2, 3, 4, 1, 2, 3, 4, 1, 2, 3, 4, 1, 2, 3, 4, 1, 2, 3, 4, 1, 2, 3, 4, 1, 2, 3, 4, 3, 4, 1, 2, 3, 4, 2, 3, 1, 2, 3, 4, 1, 1, 1, 2, 3, 4, 1, 2, 3, 4, 1, 2, 3, 4, 4, 4, 1, 2, 3, 4, 1, 2, 3, 4, 3, 1, 2, 3, 4, 1, 2, 3, 4, 1, 1, 1, 2, 3, 4, 3, 1, 2, 3, 4, 1, 2, 3, 4, 1, 2, 3, 4, 1, 2, 3, 4, 1, 2, 3, 4, 1, 1, 2, 3, 4, 1, 2, 3, 4, 1, 2, 3, 4, 1, 2, 3, 4, 1, 2, 3, 4, 1, 2, 3, 4, 1, 2, 3, 4, 2, 3, 1, 2, 3, 1, 2, 3, 4, 1, 2, 3, 4, 1, 3, 1, 2, 3, 4, 1, 2, 3, 4, 1, 2, 3, 4, 1, 3, 1, 2, 3, 4, 1, 2, 3, 4, 1, 2, 3, 4, 4, 4, 1, 2, 3, 4, 1, 2, 3, 4, 1, 2, 3, 4, 1, 2, 3, 4, 1, 2, 3, 4, 1, 2, 3, 4, 1, 4, 1, 2, 3, 4, 1, 2, 3, 4, 1, 2, 3, 4, 1, 2, 3, 4, 1, 4, 1, 2, 3, 4, 1, 2, 3, 4, 1, 2, 3, 4, 2, 3, 1, 2, 3, 4, 4, 1, 2, 3, 4, 1, 2, 4, 3, 3, 1, 2, 3, 4, 1, 2, 3, 4, 1, 4, 1, 2, 3, 4, 2, 1, 2, 3, 4, 1, 2, 3, 4, 4], \"Freq\": [0.04887775331735611, 0.9286773204803467, 0.009292656555771828, 0.07124369591474533, 0.006195104215294123, 0.9122291207313538, 0.03033941052854061, 0.013002604246139526, 0.004334201570600271, 0.9513572454452515, 0.9937571883201599, 0.005652287974953651, 0.028261439874768257, 0.9552366733551025, 0.005652287974953651, 0.1780894696712494, 0.7594004273414612, 0.03024160861968994, 0.0336017869412899, 0.017716264352202415, 0.011810842901468277, 0.0059054214507341385, 0.9684891104698181, 0.0058628348633646965, 0.017588505521416664, 0.017588505521416664, 0.9615049362182617, 0.9880959987640381, 0.0015012656804174185, 0.0015012656804174185, 0.0015012656804174185, 0.9968404173851013, 0.008764485828578472, 0.9816223978996277, 0.996528148651123, 0.009927937760949135, 0.9828658103942871, 0.025416912510991096, 0.9432498812675476, 0.01976870931684971, 0.014120507054030895, 0.035927798599004745, 0.9251407980918884, 0.008981949649751186, 0.035927798599004745, 0.011675494723021984, 0.980741560459137, 0.9854575991630554, 0.9820918440818787, 0.04640338197350502, 0.9280676245689392, 0.02320169098675251, 0.02320169098675251, 0.06699317693710327, 0.9155734777450562, 0.9895786643028259, 0.9644217491149902, 0.012718910351395607, 0.9475588202476501, 0.019078366458415985, 0.019078366458415985, 0.9709812998771667, 0.03610444441437721, 0.872524082660675, 0.009026111103594303, 0.08424370735883713, 0.011675460264086723, 0.9807386994361877, 0.09397897869348526, 0.5247159600257874, 0.29172641038894653, 0.08810529857873917, 0.033046308904886246, 0.015021050348877907, 0.9463261365890503, 0.009012630209326744, 0.007744685281068087, 0.019361713901162148, 0.9719580411911011, 0.0038723426405340433, 0.07023614645004272, 0.202604278922081, 0.1107570007443428, 0.6159170269966125, 0.015944568440318108, 0.08716363459825516, 0.30082085728645325, 0.597389817237854, 0.004479150287806988, 0.1074996069073677, 0.8779134154319763, 0.008958300575613976, 0.9869176745414734, 0.0044996244832873344, 0.0044996244832873344, 0.0044996244832873344, 0.9881762862205505, 0.004965709988027811, 0.004965709988027811, 0.004965709988027811, 0.9850113987922668, 0.0059517305344343185, 0.0029758652672171593, 0.0059517305344343185, 0.9821767210960388, 0.004722003359347582, 0.011805008165538311, 0.004722003359347582, 0.19115811586380005, 0.19115811586380005, 0.6041712760925293, 0.013953146524727345, 0.04065423086285591, 0.7648077607154846, 0.060981348156929016, 0.13466714322566986, 0.9904199838638306, 0.013058647513389587, 0.026117295026779175, 0.9532812833786011, 0.05946726351976395, 0.2616559565067291, 0.6647118330001831, 0.01453644223511219, 0.04488276690244675, 0.9088760614395142, 0.03366207703948021, 0.011220691725611687, 0.020178193226456642, 0.8727068901062012, 0.05549003556370735, 0.05044548586010933, 0.9837697744369507, 0.006692311726510525, 0.006692311726510525, 0.006692311726510525, 0.9866840243339539, 0.006577893625944853, 0.006577893625944853, 0.9808132648468018, 0.008072537370026112, 0.004036268685013056, 0.008072537370026112, 0.9149073958396912, 0.027973785996437073, 0.0394924059510231, 0.018100686371326447, 0.9889840483665466, 0.003006030572578311, 0.003006030572578311, 0.003006030572578311, 0.8889446258544922, 0.07921288162469864, 0.008801431395113468, 0.023470483720302582, 0.030248116701841354, 0.9603776931762695, 0.007562029175460339, 0.007562029175460339, 0.04296036437153816, 0.8506152629852295, 0.07303262501955032, 0.030072256922721863, 0.007340253330767155, 0.9615731835365295, 0.007340253330767155, 0.02202076092362404, 0.2980610728263855, 0.49244871735572815, 0.18513108789920807, 0.02221573144197464, 0.9757421016693115, 0.004878710489720106, 0.009757420979440212, 0.014636131003499031, 0.950420081615448, 0.0122793298214674, 0.02210279367864132, 0.0122793298214674, 0.049182403832674026, 0.09257864207029343, 0.8129562139511108, 0.0433962382376194, 0.5542476177215576, 0.11785724759101868, 0.2834944725036621, 0.043001968413591385, 0.013179516419768333, 0.052718065679073334, 0.34530332684516907, 0.5878064632415771, 0.9866039752960205, 0.004675847943872213, 0.004675847943872213, 0.004675847943872213, 0.988995373249054, 0.19567643105983734, 0.08805438876152039, 0.03261273726820946, 0.6816062331199646, 0.018956845626235008, 0.07582738250494003, 0.018956845626235008, 0.8846527934074402, 0.02335944212973118, 0.0545053668320179, 0.8253669738769531, 0.0960332602262497, 0.07891194522380829, 0.1934615522623062, 0.6083856821060181, 0.11964069306850433, 0.9921731352806091, 0.9896465539932251, 0.010862916707992554, 0.043451666831970215, 0.010862916707992554, 0.9450737833976746, 0.03197585046291351, 0.7247859835624695, 0.061819978058338165, 0.18119649589061737, 0.902132511138916, 0.06375494599342346, 0.028689727187156677, 0.0031877474393695593, 0.9750722646713257, 0.01589791662991047, 0.00529930554330349, 0.00529930554330349, 0.20542916655540466, 0.02162412367761135, 0.02162412367761135, 0.7532402873039246, 0.9870085716247559, 0.8722295761108398, 0.0662788450717926, 0.01855807565152645, 0.0424184575676918, 0.9790807962417603, 0.9104916453361511, 0.014877314679324627, 0.05653379485011101, 0.014877314679324627, 0.0337587408721447, 0.04501165449619293, 0.9152369499206543, 0.007501942105591297, 0.9378976821899414, 0.044176340103149414, 0.0050972700119018555, 0.013592720031738281, 0.06258956342935562, 0.01137992087751627, 0.007586613763123751, 0.9179802536964417, 0.7986093163490295, 0.11534247547388077, 0.014280497096478939, 0.07140248268842697, 0.7527346611022949, 0.1292194426059723, 0.07401891052722931, 0.042654965072870255, 0.05079206824302673, 0.8126730918884277, 0.12236271053552628, 0.013852382078766823, 0.035528481006622314, 0.8236148357391357, 0.13242433965206146, 0.009689586237072945, 0.05127180740237236, 0.7968493103981018, 0.14099746942520142, 0.01281795185059309, 0.2513708770275116, 0.0625237226486206, 0.348346471786499, 0.33813852071762085, 0.9953838586807251, 0.05213046073913574, 0.654972493648529, 0.27936580777168274, 0.013366784900426865, 0.026271551847457886, 0.9457758665084839, 0.026271551847457886, 0.5517156720161438, 0.2547335624694824, 0.09443781524896622, 0.09940822422504425, 0.027470478788018227, 0.9065258502960205, 0.05494095757603645, 0.027470478788018227, 0.018993718549609184, 0.9591827392578125, 0.009496859274804592, 0.018993718549609184, 0.01420648954808712, 0.97314453125, 0.00710324477404356, 0.00710324477404356, 0.0097353495657444, 0.895652174949646, 0.0389413982629776, 0.0584121011197567, 0.06850118190050125, 0.924765944480896, 0.9933715462684631, 0.0020272887777537107, 0.0020272887777537107, 0.0020272887777537107, 0.9879794716835022, 0.002670214744284749, 0.00801064446568489, 0.002670214744284749, 0.9795575141906738, 0.0073928870260715485, 0.005544665269553661, 0.0073928870260715485, 0.0650148093700409, 0.019504442811012268, 0.006501480937004089, 0.9037058353424072, 0.9938916563987732, 0.9940807223320007, 0.9848995208740234, 0.007521340623497963, 0.9777743220329285, 0.007521340623497963, 0.015042681246995926, 0.8428202867507935, 0.073706716299057, 0.073706716299057, 0.00961391907185316, 0.014455500990152359, 0.925152063369751, 0.057822003960609436, 0.014455500990152359, 0.007749560289084911, 0.9764446020126343, 0.015499120578169823, 0.007749560289084911, 0.01690554805099964, 0.1318632811307907, 0.4209481477737427, 0.4310914874076843, 0.003281643148511648, 0.12142079323530197, 0.8663537502288818, 0.009844928979873657, 0.02537149004638195, 0.964116632938385, 0.981020987033844, 0.010900232940912247, 0.005450116470456123, 0.005450116470456123, 0.10333015024662018, 0.07103948295116425, 0.11947549134492874, 0.7071657180786133, 0.04297227784991264, 0.06445841491222382, 0.7455690503120422, 0.1482543647289276, 0.9947571754455566, 0.02517791837453842, 0.05035583674907684, 0.7490431070327759, 0.17414727807044983, 0.008150394074618816, 0.032601576298475266, 0.22006063163280487, 0.7416858077049255, 0.9909998774528503, 0.0708155706524849, 0.2512810528278351, 0.5802307724952698, 0.09822805225849152, 0.9965183734893799, 0.0021023594308644533, 0.0021023594308644533, 0.0021023594308644533, 0.9891974329948425, 0.9945249557495117, 0.9743356704711914, 0.020089395344257355, 0.005022348836064339, 0.005022348836064339, 0.00842054933309555, 0.00842054933309555, 0.0842054933309555, 0.9009987115859985, 0.01094698067754507, 0.003648993792012334, 0.018244968727231026, 0.9669833183288574, 0.045445896685123444, 0.6988841891288757, 0.029478419572114944, 0.22600121796131134, 0.001400869688950479, 0.002801739377900958, 0.9932165741920471, 0.001400869688950479, 0.9302909970283508, 0.05638127401471138, 0.12397577613592148, 0.8388147950172424, 0.015826694667339325, 0.018464477732777596, 0.94940185546875, 0.2346019595861435, 0.7565913200378418, 0.0029325245413929224, 0.0029325245413929224, 0.32043951749801636, 0.03897237405180931, 0.1060914620757103, 0.5347875952720642, 0.07143860310316086, 0.7361282110214233, 0.17393746972084045, 0.018636157736182213, 0.06772710382938385, 0.7856343388557434, 0.1354542076587677, 0.010159065015614033, 0.0135569516569376, 0.9761005640029907, 0.0135569516569376, 0.06376824527978897, 0.9140114784240723, 0.021256081759929657, 0.021256081759929657, 0.07325625419616699, 0.7776432633399963, 0.08734399080276489, 0.059168510138988495, 0.0033790639135986567, 0.9968239068984985, 0.992694616317749, 0.12803532183170319, 0.8108904361724854, 0.04623498022556305, 0.017782684415578842, 0.056805334985256195, 0.20928281545639038, 0.7145513296127319, 0.020928282290697098, 0.9849182963371277, 0.9744911789894104, 0.00768981222063303, 0.9381570816040039, 0.053828682750463486, 0.00768981222063303, 0.9309128522872925, 0.03378312662243843, 0.01876840367913246, 0.01501472294330597, 0.993222177028656, 0.9752157926559448, 0.004167588893324137, 0.014586560428142548, 0.0062513831071555614, 0.023611538112163544, 0.9680730104446411, 0.9826274514198303, 0.010569989681243896, 0.010569989681243896, 0.9618690013885498, 0.010569989681243896, 0.014049331657588482, 0.021073997020721436, 0.9413052201271057, 0.028098663315176964, 0.008344810456037521, 0.002781603718176484, 0.9735612869262695, 0.013908018358051777, 0.06979484856128693, 0.08769095689058304, 0.05010911822319031, 0.792797863483429, 0.040423087775707245, 0.02487574703991413, 0.2518669366836548, 0.6840830445289612, 0.01259234081953764, 0.02518468163907528, 0.9570178985595703, 0.01259234081953764, 0.012684754095971584, 0.9598130583763123, 0.021141257137060165, 0.008456502109766006, 0.9857993721961975, 0.006397303193807602, 0.7932655811309814, 0.18552178144454956, 0.012794606387615204, 0.9901127219200134, 0.005211119540035725, 0.005211119540035725, 0.01710980013012886, 0.9752586483955383, 0.9808563590049744, 0.9360672235488892, 0.03797886148095131, 0.017872404307127, 0.006702152080833912, 0.005709001328796148, 0.002854500664398074, 0.002854500664398074, 0.9876571893692017, 0.1912006288766861, 0.2059083729982376, 0.02941548265516758, 0.575072705745697, 0.9908036589622498, 0.00892615970224142, 0.44729968905448914, 0.4969996511936188, 0.014495822601020336, 0.04141663759946823, 0.015612556599080563, 0.02732197381556034, 0.0741596445441246, 0.8821094036102295, 0.065274678170681, 0.04607624188065529, 0.8332120776176453, 0.057595305144786835, 0.07226619124412537, 0.03312200680375099, 0.8882719278335571, 0.006022182758897543, 0.007264872547239065, 0.039956796914339066, 0.8027684092521667, 0.1489298790693283, 0.003958037588745356, 0.007916075177490711, 0.862852156162262, 0.12665720283985138, 0.010066485032439232, 0.110731340944767, 0.5469456911087036, 0.3321940004825592, 0.007388027384877205, 0.9050333499908447, 0.04432816430926323, 0.04432816430926323, 0.6485652923583984, 0.28448817133903503, 0.008466909639537334, 0.059268366545438766, 0.18427500128746033, 0.04416508227586746, 0.34875187277793884, 0.4218526780605316, 0.015506847761571407, 0.015506847761571407, 0.9614245295524597, 0.007753423880785704, 0.04287638142704964, 0.8337073922157288, 0.05716850608587265, 0.06669659167528152, 0.030926035717129707, 0.024740828201174736, 0.9432440996170044, 0.003092603525146842, 0.01618935912847519, 0.0014717598678544164, 0.9801920652389526, 0.0014717598678544164, 0.10922074317932129, 0.08047844469547272, 0.12359189987182617, 0.6869410276412964, 0.015487220138311386, 0.04904286563396454, 0.6504632234573364, 0.2813511788845062, 0.9713544249534607, 0.018327441066503525, 0.02310897223651409, 0.008403263054788113, 0.9579719305038452, 0.012604894116520882, 0.017450690269470215, 0.9772387146949768, 0.9944667816162109, 0.0017570084892213345, 0.0017570084892213345, 0.0017570084892213345, 0.9938326478004456, 0.9960676431655884, 0.9919893145561218, 0.0018681531073525548, 0.0018681531073525548, 0.005604459438472986, 0.0017270126845687628, 0.0008635063422843814, 0.0008635063422843814, 0.9964863061904907, 0.0021144843194633722, 0.0021144843194633722, 0.0021144843194633722, 0.9938076138496399, 0.9942538142204285, 0.9915991425514221, 0.010132547467947006, 0.563369631767273, 0.38908982276916504, 0.038503680378198624, 0.02998894266784191, 0.08996682614088058, 0.8127003312110901, 0.06597567349672318, 0.9908197522163391, 0.03639881685376167, 0.005747181363403797, 0.007662908639758825, 0.9502006769180298, 0.03445905074477196, 0.0049227215349674225, 0.0049227215349674225, 0.9550079703330994, 0.9863338470458984, 0.9850088953971863, 0.015803402289748192, 0.20346881449222565, 0.12642721831798553, 0.6538658142089844, 0.9483218193054199, 0.12475772947072983, 0.3828771710395813, 0.4517090320587158, 0.04158591106534004, 0.011274860240519047, 0.9245385527610779, 0.022549720481038094, 0.04509944096207619, 0.009013456292450428, 0.070980966091156, 0.5453140735626221, 0.37405842542648315, 0.04485970363020897, 0.34186187386512756, 0.408378005027771, 0.2041890025138855, 0.04464736953377724, 0.9165842533111572, 0.03151579201221466, 0.005252631846815348, 0.9868677854537964, 0.7770085334777832, 0.18863791227340698, 0.024702584370970726, 0.008982758037745953, 0.6858657598495483, 0.07017108798027039, 0.21956759691238403, 0.024899417534470558, 0.02783636376261711, 0.02783636376261711, 0.9255591034889221, 0.02087727189064026, 0.9615706205368042, 0.01979704201221466, 0.011312595568597317, 0.008484446443617344, 0.020140662789344788, 0.013427108526229858, 0.9600383043289185, 0.010070331394672394, 0.018097717314958572, 0.009048858657479286, 0.9682279229164124, 0.003619543742388487, 0.010221756063401699, 0.0051108780317008495, 0.9812885522842407, 0.0051108780317008495, 0.03041047416627407, 0.9731351733207703, 0.993075430393219, 0.00666493596509099, 0.00666493596509099, 0.0071920230984687805, 0.0071920230984687805, 0.9853071570396423, 0.0071920230984687805, 0.007449603173881769, 0.029798412695527077, 0.9535492062568665, 0.007449603173881769, 0.0268551018089056, 0.9667836427688599, 0.9196445941925049, 0.05169599503278732, 0.02176673524081707, 0.0054416838102042675, 0.004722937475889921, 0.023614687845110893, 0.9209728240966797, 0.047229375690221786, 0.988260805606842, 0.0042597446590662, 0.0042597446590662, 0.0042597446590662, 0.9874011278152466, 0.005089696496725082, 0.2024189978837967, 0.5919800996780396, 0.009548066183924675, 0.19287092983722687, 0.06146834418177605, 0.75913405418396, 0.030734172090888023, 0.1505974382162094, 0.05403013527393341, 0.17409710586071014, 0.39141830801963806, 0.3806122839450836, 0.9899867177009583, 0.9726203680038452, 0.009338726289570332, 0.06070172041654587, 0.13541153073310852, 0.7984610795974731, 0.006227043457329273, 0.03943794220685959, 0.07264883816242218, 0.8842401504516602, 0.003408630844205618, 0.957825243473053, 0.011930207721889019, 0.027269046753644943, 0.0025699203833937645, 0.9585802555084229, 0.015419521369040012, 0.023129282519221306, 0.011061282828450203, 0.9291477799415588, 0.055306416004896164, 0.011061282828450203, 0.0383143424987793, 0.06896581500768661, 0.8454698324203491, 0.04853150248527527, 0.9891060590744019, 0.009158389642834663, 0.0930427685379982, 0.007626456208527088, 0.8831436634063721, 0.015252912417054176, 0.012295059859752655, 0.0061475299298763275, 0.9651621580123901, 0.018442589789628983, 0.9714862108230591, 0.009618675336241722, 0.014428013004362583, 0.004809337668120861, 0.014445941895246506, 0.9389861822128296, 0.02889188379049301, 0.014445941895246506, 0.00923045352101326, 0.9876585006713867, 0.44187596440315247, 0.02396615408360958, 0.020970385521650314, 0.5137744545936584, 0.06976256519556046, 0.7625769972801208, 0.15876996517181396, 0.0096224220469594, 0.5343090891838074, 0.16294531524181366, 0.06063081696629524, 0.24252326786518097, 0.030306575819849968, 0.969810426235199, 0.9236550331115723, 0.02728095091879368, 0.035075508058071136, 0.011691836640238762, 0.9871904253959656, 0.2250482141971588, 0.7376580238342285, 0.023755088448524475, 0.013752946630120277, 0.9832388162612915, 0.006828047335147858, 0.006828047335147858, 0.9855449199676514, 0.9789262413978577, 0.009162196889519691, 0.7680975198745728, 0.20614944398403168, 0.01679736189544201, 0.014428239315748215, 0.9234073162078857, 0.05771295726299286, 0.014428239315748215, 0.9842135310173035, 0.009842135943472385, 0.05485371872782707, 0.8471852540969849, 0.04571143165230751, 0.051806289702653885, 0.9825713634490967, 0.039569586515426636, 0.25180646777153015, 0.025180647149682045, 0.6870719194412231, 0.9631017446517944, 0.004839707165956497, 0.029038242995738983, 0.004839707165956497, 0.9830685257911682], \"Term\": [\"acceptance\", \"acceptance\", \"active_learning\", \"active_learning\", \"active_learning\", \"active_learning\", \"agent\", \"agent\", \"agent\", \"agent\", \"alex_graf\", \"alternating_minimization\", \"alternating_minimization\", \"alternating_minimization\", \"alternating_minimization\", \"approximate_inference\", \"approximate_inference\", \"approximate_inference\", \"approximate_inference\", \"arm\", \"arm\", \"arm\", \"arm\", \"armed\", \"armed\", \"armed\", \"armed\", \"autoencoder\", \"bandit\", \"bandit\", \"bandit\", \"bandit\", \"bandit_feedback\", \"bandit_feedback\", \"bandit_problem\", \"bandit_setting\", \"bandit_setting\", \"bayesian_network\", \"bayesian_network\", \"bayesian_network\", \"bayesian_network\", \"bayesian_nonparametric\", \"bayesian_nonparametric\", \"bayesian_nonparametric\", \"bayesian_nonparametric\", \"bianchi\", \"bianchi\", \"bianchi_lugosi\", \"bianchi_regret\", \"bilmes\", \"bilmes\", \"bilmes\", \"bilmes\", \"black_variational\", \"black_variational\", \"bubeck\", \"bubeck_cesa\", \"calibration\", \"calibration\", \"calibration\", \"calibration\", \"candes\", \"causal\", \"causal\", \"causal\", \"causal\", \"cesa\", \"cesa\", \"closed_form\", \"closed_form\", \"closed_form\", \"closed_form\", \"completion\", \"completion\", \"completion\", \"completion\", \"compressed_sensing\", \"compressed_sensing\", \"compressed_sensing\", \"compressed_sensing\", \"confidence\", \"confidence\", \"confidence\", \"confidence\", \"convergence_rate\", \"convergence_rate\", \"convergence_rate\", \"convergence_rate\", \"convex_relaxation\", \"convex_relaxation\", \"convex_relaxation\", \"convex_relaxation\", \"convolutional\", \"convolutional\", \"convolutional\", \"convolutional\", \"convolutional_layer\", \"convolutional_layer\", \"convolutional_layer\", \"convolutional_layer\", \"convolutional_network\", \"convolutional_network\", \"convolutional_network\", \"convolutional_network\", \"convolutional_neural\", \"convolutional_neural\", \"convolutional_neural\", \"convolutional_neural\", \"covariance_matrix\", \"covariance_matrix\", \"covariance_matrix\", \"covariance_matrix\", \"cover\", \"cover\", \"cover\", \"cover\", \"cumulative_regret\", \"dantzig_selector\", \"dantzig_selector\", \"dantzig_selector\", \"data_set\", \"data_set\", \"data_set\", \"data_set\", \"david_blei\", \"david_blei\", \"david_blei\", \"david_blei\", \"decision_rule\", \"decision_rule\", \"decision_rule\", \"decision_rule\", \"deep_architecture\", \"deep_architecture\", \"deep_architecture\", \"deep_architecture\", \"deep_belief\", \"deep_belief\", \"deep_belief\", \"deep_convolutional\", \"deep_convolutional\", \"deep_convolutional\", \"deep_convolutional\", \"deep_learning\", \"deep_learning\", \"deep_learning\", \"deep_learning\", \"deep_network\", \"deep_network\", \"deep_network\", \"deep_network\", \"deep_neural\", \"deep_neural\", \"deep_neural\", \"deep_neural\", \"directed_edge\", \"directed_edge\", \"directed_edge\", \"directed_edge\", \"dirichlet\", \"dirichlet\", \"dirichlet\", \"dirichlet\", \"dirichlet_process\", \"dirichlet_process\", \"dirichlet_process\", \"dirichlet_process\", \"document\", \"document\", \"document\", \"document\", \"dropout\", \"dropout\", \"dropout\", \"dropout\", \"during_training\", \"during_training\", \"during_training\", \"during_training\", \"eigenvalue\", \"eigenvalue\", \"eigenvalue\", \"eigenvalue\", \"embedding\", \"embedding\", \"embedding\", \"embedding\", \"empirical_risk\", \"empirical_risk\", \"empirical_risk\", \"empirical_risk\", \"encoder\", \"encoder\", \"encoder\", \"encoder\", \"encoder_decoder\", \"environment\", \"environment\", \"environment\", \"environment\", \"equilibrium\", \"equilibrium\", \"equilibrium\", \"equilibrium\", \"estimation_error\", \"estimation_error\", \"estimation_error\", \"estimation_error\", \"event\", \"event\", \"event\", \"event\", \"exact_recovery\", \"expected_reward\", \"exploration_exploitation\", \"exploration_exploitation\", \"exploration_exploitation\", \"exploration_exploitation\", \"exponential_family\", \"exponential_family\", \"exponential_family\", \"exponential_family\", \"feature_map\", \"feature_map\", \"feature_map\", \"feature_map\", \"feed_forward\", \"feed_forward\", \"feed_forward\", \"feed_forward\", \"feedback\", \"feedback\", \"feedback\", \"feedback\", \"feedforward_neural\", \"filter\", \"filter\", \"filter\", \"filter\", \"fischer_finite\", \"frame\", \"frame\", \"frame\", \"frame\", \"frobenius_norm\", \"frobenius_norm\", \"frobenius_norm\", \"frobenius_norm\", \"fully_connected\", \"fully_connected\", \"fully_connected\", \"fully_connected\", \"game\", \"game\", \"game\", \"game\", \"gaussian_process\", \"gaussian_process\", \"gaussian_process\", \"gaussian_process\", \"generative_model\", \"generative_model\", \"generative_model\", \"generative_model\", \"gibbs\", \"gibbs\", \"gibbs\", \"gibbs\", \"gibbs_sampler\", \"gibbs_sampler\", \"gibbs_sampler\", \"gibbs_sampler\", \"gibbs_sampling\", \"gibbs_sampling\", \"gibbs_sampling\", \"gibbs_sampling\", \"gradient_descent\", \"gradient_descent\", \"gradient_descent\", \"gradient_descent\", \"grammar\", \"graphical_model\", \"graphical_model\", \"graphical_model\", \"graphical_model\", \"gretton\", \"gretton\", \"gretton\", \"ground_truth\", \"ground_truth\", \"ground_truth\", \"ground_truth\", \"guestrin\", \"guestrin\", \"guestrin\", \"guestrin\", \"hamiltonian\", \"hamiltonian\", \"hamiltonian\", \"hamiltonian\", \"hamiltonian_monte\", \"hamiltonian_monte\", \"hamiltonian_monte\", \"hamiltonian_monte\", \"hamming\", \"hamming\", \"hamming\", \"hamming\", \"hastings\", \"hastings\", \"hidden_layer\", \"hidden_layer\", \"hidden_layer\", \"hidden_layer\", \"hidden_state\", \"hidden_state\", \"hidden_state\", \"hidden_state\", \"hidden_unit\", \"hidden_unit\", \"hidden_unit\", \"hidden_unit\", \"horizon\", \"horizon\", \"horizon\", \"horizon\", \"ilya_sutskever\", \"image_caption\", \"incoherence\", \"infinite_dimensional\", \"infinite_dimensional\", \"infinite_dimensional\", \"infinite_dimensional\", \"input_output\", \"input_output\", \"input_output\", \"input_output\", \"ising\", \"ising\", \"ising\", \"ising\", \"ising_model\", \"ising_model\", \"ising_model\", \"ising_model\", \"item\", \"item\", \"item\", \"item\", \"lasso\", \"lasso\", \"lasso\", \"lasso\", \"lasso_journal\", \"lasso_journal\", \"latent_state\", \"latent_state\", \"latent_state\", \"latent_state\", \"learner\", \"learner\", \"learner\", \"learner\", \"least_square\", \"least_square\", \"least_square\", \"least_square\", \"lifted\", \"line_search\", \"line_search\", \"line_search\", \"line_search\", \"linear_convergence\", \"linear_convergence\", \"linear_convergence\", \"linear_convergence\", \"linear_measurement\", \"linear_regression\", \"linear_regression\", \"linear_regression\", \"linear_regression\", \"lstm\", \"lstm\", \"lstm\", \"lstm\", \"lstm_lstm\", \"lstms\", \"machine_translation\", \"machine_translation\", \"machine_translation\", \"machine_translation\", \"maker\", \"maker\", \"maker\", \"maker\", \"market\", \"market\", \"market\", \"market\", \"markov_chain\", \"markov_chain\", \"markov_chain\", \"markov_chain\", \"matrix_completion\", \"matrix_completion\", \"matrix_completion\", \"matrix_completion\", \"maximizing_submodular\", \"maximizing_submodular\", \"mcmc\", \"mcmc\", \"mcmc\", \"mcmc\", \"mcsherry\", \"mean_field\", \"mean_field\", \"mean_field\", \"mean_field\", \"mechanism\", \"mechanism\", \"mechanism\", \"mechanism\", \"message\", \"message\", \"message\", \"message\", \"message_passing\", \"message_passing\", \"message_passing\", \"message_passing\", \"metropolis_hastings\", \"metropolis_hastings\", \"metropolis_hastings\", \"misclassification\", \"misclassification\", \"misclassification\", \"misclassification\", \"mixture_model\", \"mixture_model\", \"mixture_model\", \"mixture_model\", \"multi_armed\", \"multi_armed\", \"multi_armed_bandit_problem\", \"multi_class\", \"multi_class\", \"multi_class\", \"multi_class\", \"multi_label\", \"multi_label\", \"multi_label\", \"multi_label\", \"multiarmed\", \"multiarmed_bandit\", \"multilabel\", \"multilabel\", \"multilabel\", \"multilabel\", \"natural_image\", \"natural_image\", \"natural_image\", \"natural_image\", \"network_architecture\", \"neuron\", \"neuron\", \"neuron\", \"neuron\", \"nicolo_cesa\", \"nicolo_cesa\", \"nonstochastic\", \"nonzero_entry\", \"nonzero_entry\", \"nonzero_entry\", \"nonzero_entry\", \"nuclear\", \"nuclear\", \"nuclear\", \"nuclear\", \"nuclear_norm\", \"nuclear_norm\", \"nuclear_norm\", \"nuclear_norm\", \"online_learning\", \"online_learning\", \"online_learning\", \"online_learning\", \"oracle\", \"oracle\", \"oracle\", \"oracle\", \"orthonormal\", \"orthonormal\", \"orthonormal\", \"orthonormal\", \"parent\", \"parent\", \"parent\", \"parent\", \"parsing\", \"partition_function\", \"partition_function\", \"partition_function\", \"partition_function\", \"patch\", \"patch\", \"patch\", \"payoff\", \"payoff\", \"peter_auer\", \"pixel\", \"pixel\", \"pixel\", \"pixel\", \"player\", \"player\", \"player\", \"player\", \"policy\", \"policy\", \"policy\", \"policy\", \"pooling_layer\", \"pooling_layer\", \"posterior_distribution\", \"posterior_distribution\", \"posterior_distribution\", \"posterior_distribution\", \"price\", \"price\", \"price\", \"price\", \"principal\", \"principal\", \"principal\", \"principal\", \"principal_component\", \"principal_component\", \"principal_component\", \"principal_component\", \"privacy\", \"privacy\", \"privacy\", \"privacy\", \"private\", \"private\", \"private\", \"private\", \"probability_least\", \"probability_least\", \"probability_least\", \"probability_least\", \"probability_measure\", \"probability_measure\", \"probability_measure\", \"probability_measure\", \"proposal\", \"proposal\", \"proposal\", \"proposal\", \"query\", \"query\", \"query\", \"query\", \"random_projection\", \"random_projection\", \"random_projection\", \"random_projection\", \"random_walk\", \"random_walk\", \"random_walk\", \"random_walk\", \"rank_approximation\", \"rank_approximation\", \"rank_approximation\", \"rank_approximation\", \"rank_matrix\", \"rank_matrix\", \"rank_matrix\", \"rank_matrix\", \"ranking\", \"ranking\", \"ranking\", \"ranking\", \"rate_convergence\", \"rate_convergence\", \"rate_convergence\", \"rate_convergence\", \"recommendation_system\", \"recommendation_system\", \"recovery\", \"recovery\", \"recovery\", \"recovery\", \"recovery_guarantee\", \"recovery_guarantee\", \"recurrent\", \"recurrent\", \"recurrent\", \"recurrent\", \"recurrent_connection\", \"recurrent_network\", \"recurrent_neural\", \"recurrent_neural\", \"recurrent_neural\", \"recurrent_neural\", \"regret\", \"regret\", \"regret\", \"regret\", \"regret_bound\", \"regret_bound\", \"regret_bound\", \"regret_bound\", \"regret_minimization\", \"regret_regret\", \"regularization_parameter\", \"regularization_parameter\", \"regularization_parameter\", \"regularization_parameter\", \"relative_error\", \"relative_error\", \"relative_error\", \"relative_error\", \"restricted_strong\", \"reward\", \"reward\", \"reward\", \"reward\", \"reward_function\", \"reward_function\", \"reward_function\", \"reward_function\", \"rmsprop\", \"rnns\", \"round\", \"round\", \"round\", \"round\", \"royal_statistical\", \"running_time\", \"running_time\", \"running_time\", \"running_time\", \"safe\", \"safe\", \"safe\", \"safe\", \"sample_complexity\", \"sample_complexity\", \"sample_complexity\", \"sample_complexity\", \"sample_size\", \"sample_size\", \"sample_size\", \"sample_size\", \"sampler\", \"sampler\", \"sampler\", \"sampler\", \"schmidhuber\", \"segmentation\", \"segmentation\", \"segmentation\", \"segmentation\", \"semi_supervised\", \"semi_supervised\", \"semi_supervised\", \"semi_supervised\", \"sensing\", \"sensing\", \"sensing\", \"sensing\", \"sentence\", \"sentence\", \"sentence\", \"sentence\", \"singular\", \"singular\", \"singular\", \"singular\", \"singular_value\", \"singular_value\", \"singular_value\", \"singular_value\", \"singular_vector\", \"singular_vector\", \"singular_vector\", \"singular_vector\", \"society_series\", \"society_series\", \"softmax\", \"softmax\", \"softmax\", \"sparse_recovery\", \"sparse_recovery\", \"sparse_recovery\", \"sparse_recovery\", \"sparse_regression\", \"sparse_regression\", \"sparse_regression\", \"sparse_regression\", \"sparse_signal\", \"sparse_signal\", \"spatial\", \"spatial\", \"spatial\", \"spatial\", \"spectral_norm\", \"spectral_norm\", \"spectral_norm\", \"spectral_norm\", \"speech_recognition\", \"speech_recognition\", \"speech_recognition\", \"speech_recognition\", \"stack\", \"stack\", \"state_space\", \"state_space\", \"state_space\", \"state_space\", \"stationary_distribution\", \"stationary_distribution\", \"stationary_distribution\", \"stationary_distribution\", \"step_size\", \"step_size\", \"step_size\", \"step_size\", \"stochastic_bandit\", \"stochastic_nonstochastic\", \"strong_convexity\", \"strong_convexity\", \"strong_convexity\", \"strong_convexity\", \"strongly_convex\", \"strongly_convex\", \"strongly_convex\", \"strongly_convex\", \"submodular\", \"submodular\", \"submodular\", \"submodular\", \"submodular_function\", \"submodular_function\", \"submodular_function\", \"submodular_function\", \"submodularity\", \"submodularity\", \"submodularity\", \"submodularity\", \"subspace\", \"subspace\", \"subspace\", \"subspace\", \"temporal_dependency\", \"temporal_dependency\", \"tensor\", \"tensor\", \"tensor\", \"tensor\", \"tensor_decomposition\", \"tensor_decomposition\", \"tensor_decomposition\", \"tensor_decomposition\", \"texture\", \"texture\", \"texture\", \"texture\", \"thread\", \"thread\", \"thread\", \"thread\", \"time_horizon\", \"time_horizon\", \"time_step\", \"time_step\", \"time_step\", \"time_step\", \"topic_model\", \"topic_model\", \"topic_model\", \"topic_model\", \"trajectory\", \"trajectory\", \"trajectory\", \"trajectory\", \"tropp\", \"tropp\", \"unsupervised_learning\", \"unsupervised_learning\", \"unsupervised_learning\", \"unsupervised_learning\", \"upper_confidence\", \"variational_inference\", \"variational_inference\", \"variational_inference\", \"variational_inference\", \"variational_lower\", \"variational_lower\", \"variational_lower\", \"vershynin\", \"vershynin_introduction\", \"vertex\", \"vertex\", \"vertex\", \"vertex\", \"vertex_edge\", \"vertex_edge\", \"vertex_edge\", \"vertex_edge\", \"very_deep\", \"very_deep\", \"walk\", \"walk\", \"walk\", \"walk\", \"wolsey\", \"worker\", \"worker\", \"worker\", \"worker\", \"yoshua_bengio\", \"yoshua_bengio\", \"yoshua_bengio\", \"yoshua_bengio\", \"zinkevich\"]}, \"R\": 30, \"lambda.step\": 0.01, \"plot.opts\": {\"xlab\": \"PC1\", \"ylab\": \"PC2\"}, \"topic.order\": [2, 4, 3, 1]};\n",
       "\n",
       "function LDAvis_load_lib(url, callback){\n",
       "  var s = document.createElement('script');\n",
       "  s.src = url;\n",
       "  s.async = true;\n",
       "  s.onreadystatechange = s.onload = callback;\n",
       "  s.onerror = function(){console.warn(\"failed to load library \" + url);};\n",
       "  document.getElementsByTagName(\"head\")[0].appendChild(s);\n",
       "}\n",
       "\n",
       "if(typeof(LDAvis) !== \"undefined\"){\n",
       "   // already loaded: just create the visualization\n",
       "   !function(LDAvis){\n",
       "       new LDAvis(\"#\" + \"ldavis_el7887750433755846067585695\", ldavis_el7887750433755846067585695_data);\n",
       "   }(LDAvis);\n",
       "}else if(typeof define === \"function\" && define.amd){\n",
       "   // require.js is available: use it to load d3/LDAvis\n",
       "   require.config({paths: {d3: \"https://cdnjs.cloudflare.com/ajax/libs/d3/3.5.5/d3.min\"}});\n",
       "   require([\"d3\"], function(d3){\n",
       "      window.d3 = d3;\n",
       "      LDAvis_load_lib(\"https://cdn.rawgit.com/bmabey/pyLDAvis/files/ldavis.v1.0.0.js\", function(){\n",
       "        new LDAvis(\"#\" + \"ldavis_el7887750433755846067585695\", ldavis_el7887750433755846067585695_data);\n",
       "      });\n",
       "    });\n",
       "}else{\n",
       "    // require.js not available: dynamically load d3 & LDAvis\n",
       "    LDAvis_load_lib(\"https://cdnjs.cloudflare.com/ajax/libs/d3/3.5.5/d3.min.js\", function(){\n",
       "         LDAvis_load_lib(\"https://cdn.rawgit.com/bmabey/pyLDAvis/files/ldavis.v1.0.0.js\", function(){\n",
       "                 new LDAvis(\"#\" + \"ldavis_el7887750433755846067585695\", ldavis_el7887750433755846067585695_data);\n",
       "            })\n",
       "         });\n",
       "}\n",
       "</script>"
      ],
      "text/plain": [
       "PreparedData(topic_coordinates=              x         y  topics  cluster       Freq\n",
       "topic                                                \n",
       "1      0.176688  0.021628       1        1  29.214605\n",
       "3     -0.011784 -0.050844       2        1  25.714439\n",
       "2     -0.071880 -0.080531       3        1  24.998339\n",
       "0     -0.093024  0.109748       4        1  20.072618, topic_info=     Category         Freq                      Term        Total  loglift  \\\n",
       "term                                                                         \n",
       "609   Default  1158.000000                    regret  1158.000000  30.0000   \n",
       "3192  Default   666.000000                    bandit   666.000000  29.0000   \n",
       "3105  Default   713.000000         matrix_completion   713.000000  28.0000   \n",
       "3140  Default   679.000000               rank_matrix   679.000000  27.0000   \n",
       "3185  Default   645.000000           active_learning   645.000000  26.0000   \n",
       "2180  Default   666.000000             convolutional   666.000000  25.0000   \n",
       "610   Default   472.000000              regret_bound   472.000000  24.0000   \n",
       "270   Default   521.000000                    reward   521.000000  23.0000   \n",
       "123   Default   527.000000                      game   527.000000  22.0000   \n",
       "2366  Default   552.000000            singular_value   552.000000  21.0000   \n",
       "2333  Default   569.000000                 recurrent   569.000000  20.0000   \n",
       "3287  Default   586.000000                submodular   586.000000  19.0000   \n",
       "7     Default   461.000000                     agent   461.000000  18.0000   \n",
       "3172  Default   655.000000                    tensor   655.000000  17.0000   \n",
       "2336  Default   535.000000          recurrent_neural   535.000000  16.0000   \n",
       "3048  Default   940.000000          convergence_rate   940.000000  15.0000   \n",
       "1311  Default   541.000000               hidden_unit   541.000000  14.0000   \n",
       "3937  Default   493.000000              hidden_layer   493.000000  13.0000   \n",
       "5038  Default   406.000000           reward_function   406.000000  12.0000   \n",
       "3167  Default   481.000000           strongly_convex   481.000000  11.0000   \n",
       "2272  Default   475.000000                      lstm   475.000000  10.0000   \n",
       "3142  Default   476.000000                  recovery   476.000000   9.0000   \n",
       "2221  Default   588.000000           fully_connected   588.000000   8.0000   \n",
       "3841  Default   350.000000                    player   350.000000   7.0000   \n",
       "1143  Default   558.000000           online_learning   558.000000   6.0000   \n",
       "3612  Default   479.000000                    neuron   479.000000   5.0000   \n",
       "335   Default   799.000000     variational_inference   799.000000   4.0000   \n",
       "74    Default   607.000000             deep_learning   607.000000   3.0000   \n",
       "3152  Default   887.000000         sample_complexity   887.000000   2.0000   \n",
       "3230  Default   910.000000          gaussian_process   910.000000   1.0000   \n",
       "...       ...          ...                       ...          ...      ...   \n",
       "5413   Topic4    56.517315                    payoff    58.446033   1.5723   \n",
       "3185   Topic4   588.901428           active_learning   645.671143   1.5138   \n",
       "123    Topic4   483.662140                      game   527.244446   1.5195   \n",
       "3167   Topic4   425.901459           strongly_convex   481.769562   1.4826   \n",
       "3226   Topic4    86.936005  exploration_exploitation    92.056305   1.5486   \n",
       "1607   Topic4   226.453217                     price   256.204041   1.4824   \n",
       "4139   Topic4   139.021255                   horizon   153.811111   1.5047   \n",
       "1143   Topic4   443.101044           online_learning   558.780518   1.3739   \n",
       "1290   Topic4   139.580612               equilibrium   158.254181   1.4803   \n",
       "3243   Topic4   107.276901                     maker   118.757103   1.5041   \n",
       "3048   Topic4   561.605103          convergence_rate   940.759277   1.0899   \n",
       "3166   Topic4   170.618301          strong_convexity   214.161972   1.3785   \n",
       "1298   Topic4   208.878067                  feedback   277.467896   1.3219   \n",
       "2090   Topic4   331.371582                     round   506.220093   1.1821   \n",
       "260    Topic4   239.253799                   ranking   347.919250   1.2314   \n",
       "539    Topic4   219.339035                   learner   309.686951   1.2609   \n",
       "3263   Topic4   390.538086                    policy   679.914062   1.0514   \n",
       "1594   Topic4   220.435791                    oracle   321.598389   1.2281   \n",
       "2479   Topic4   209.372543               environment   306.628662   1.2243   \n",
       "3656   Topic4   342.580719                 time_step   667.608154   0.9386   \n",
       "3095   Topic4   181.513031        linear_convergence   245.386917   1.3043   \n",
       "57     Topic4   228.192902                confidence   370.179749   1.1220   \n",
       "356    Topic4   191.123840                    worker   277.991272   1.2311   \n",
       "191    Topic4   246.639557                 mechanism   461.865631   0.9785   \n",
       "475    Topic4   223.401642            empirical_risk   379.376587   1.0763   \n",
       "3152   Topic4   332.252045         sample_complexity   887.561890   0.6232   \n",
       "1886   Topic4   316.679504                 step_size   832.868530   0.6388   \n",
       "598    Topic4   277.117065                     query   656.627319   0.7431   \n",
       "2511   Topic4   255.076523                      item   591.521790   0.7647   \n",
       "1771   Topic4   264.510315          gradient_descent   783.702515   0.5197   \n",
       "\n",
       "      logprob  \n",
       "term           \n",
       "609   30.0000  \n",
       "3192  29.0000  \n",
       "3105  28.0000  \n",
       "3140  27.0000  \n",
       "3185  26.0000  \n",
       "2180  25.0000  \n",
       "610   24.0000  \n",
       "270   23.0000  \n",
       "123   22.0000  \n",
       "2366  21.0000  \n",
       "2333  20.0000  \n",
       "3287  19.0000  \n",
       "7     18.0000  \n",
       "3172  17.0000  \n",
       "2336  16.0000  \n",
       "3048  15.0000  \n",
       "1311  14.0000  \n",
       "3937  13.0000  \n",
       "5038  12.0000  \n",
       "3167  11.0000  \n",
       "2272  10.0000  \n",
       "3142   9.0000  \n",
       "2221   8.0000  \n",
       "3841   7.0000  \n",
       "1143   6.0000  \n",
       "3612   5.0000  \n",
       "335    4.0000  \n",
       "74     3.0000  \n",
       "3152   2.0000  \n",
       "3230   1.0000  \n",
       "...       ...  \n",
       "5413  -7.3559  \n",
       "3185  -5.0121  \n",
       "123   -5.2090  \n",
       "3167  -5.3362  \n",
       "3226  -6.9252  \n",
       "1607  -5.9679  \n",
       "4139  -6.4558  \n",
       "1143  -5.2966  \n",
       "1290  -6.4518  \n",
       "3243  -6.7150  \n",
       "3048  -5.0596  \n",
       "3166  -6.2510  \n",
       "1298  -6.0487  \n",
       "2090  -5.5872  \n",
       "260   -5.9129  \n",
       "539   -5.9998  \n",
       "3263  -5.4229  \n",
       "1594  -5.9948  \n",
       "2479  -6.0463  \n",
       "3656  -5.5539  \n",
       "3095  -6.1891  \n",
       "57    -5.9602  \n",
       "356   -6.1375  \n",
       "191   -5.8825  \n",
       "475   -5.9814  \n",
       "3152  -5.5845  \n",
       "1886  -5.6325  \n",
       "598   -5.7660  \n",
       "2511  -5.8488  \n",
       "1771  -5.8125  \n",
       "\n",
       "[291 rows x 6 columns], token_table=      Topic      Freq                      Term\n",
       "term                                           \n",
       "1228      1  0.048878                acceptance\n",
       "1228      2  0.928677                acceptance\n",
       "3185      1  0.009293           active_learning\n",
       "3185      2  0.071244           active_learning\n",
       "3185      3  0.006195           active_learning\n",
       "3185      4  0.912229           active_learning\n",
       "7         1  0.030339                     agent\n",
       "7         2  0.013003                     agent\n",
       "7         3  0.004334                     agent\n",
       "7         4  0.951357                     agent\n",
       "5876      1  0.993757                 alex_graf\n",
       "3023      1  0.005652  alternating_minimization\n",
       "3023      2  0.028261  alternating_minimization\n",
       "3023      3  0.955237  alternating_minimization\n",
       "3023      4  0.005652  alternating_minimization\n",
       "1942      1  0.178089     approximate_inference\n",
       "1942      2  0.759400     approximate_inference\n",
       "1942      3  0.030242     approximate_inference\n",
       "1942      4  0.033602     approximate_inference\n",
       "4180      1  0.017716                       arm\n",
       "4180      2  0.011811                       arm\n",
       "4180      3  0.005905                       arm\n",
       "4180      4  0.968489                       arm\n",
       "3190      1  0.005863                     armed\n",
       "3190      2  0.017589                     armed\n",
       "3190      3  0.017589                     armed\n",
       "3190      4  0.961505                     armed\n",
       "5923      1  0.988096               autoencoder\n",
       "3192      1  0.001501                    bandit\n",
       "3192      2  0.001501                    bandit\n",
       "...     ...       ...                       ...\n",
       "335       4  0.013753     variational_inference\n",
       "3662      1  0.983239         variational_lower\n",
       "3662      2  0.006828         variational_lower\n",
       "3662      4  0.006828         variational_lower\n",
       "5749      3  0.985545                 vershynin\n",
       "5788      3  0.978926    vershynin_introduction\n",
       "2124      1  0.009162                    vertex\n",
       "2124      2  0.768098                    vertex\n",
       "2124      3  0.206149                    vertex\n",
       "2124      4  0.016797                    vertex\n",
       "2618      1  0.014428               vertex_edge\n",
       "2618      2  0.923407               vertex_edge\n",
       "2618      3  0.057713               vertex_edge\n",
       "2618      4  0.014428               vertex_edge\n",
       "2405      1  0.984214                 very_deep\n",
       "2405      4  0.009842                 very_deep\n",
       "1469      1  0.054854                      walk\n",
       "1469      2  0.847185                      walk\n",
       "1469      3  0.045711                      walk\n",
       "1469      4  0.051806                      walk\n",
       "3302      2  0.982571                    wolsey\n",
       "356       1  0.039570                    worker\n",
       "356       2  0.251806                    worker\n",
       "356       3  0.025181                    worker\n",
       "356       4  0.687072                    worker\n",
       "3422      1  0.963102             yoshua_bengio\n",
       "3422      2  0.004840             yoshua_bengio\n",
       "3422      3  0.029038             yoshua_bengio\n",
       "3422      4  0.004840             yoshua_bengio\n",
       "5759      4  0.983069                 zinkevich\n",
       "\n",
       "[827 rows x 3 columns], R=30, lambda_step=0.01, plot_opts={'xlab': 'PC1', 'ylab': 'PC2'}, topic_order=[2, 4, 3, 1])"
      ]
     },
     "execution_count": 16,
     "metadata": {},
     "output_type": "execute_result"
    }
   ],
   "source": [
    "pyLDAvis.gensim.prepare(model, corpus, dictionary)"
   ]
  },
  {
   "cell_type": "code",
   "execution_count": 79,
   "metadata": {},
   "outputs": [],
   "source": [
    "from sklearn.metrics.pairwise import cosine_similarity\n",
    "\n",
    "p_df['tokenz'] = docs\n",
    "\n",
    "docs1 = p_df['tokenz'].apply(lambda l: l[:int0(len(l)/2)])\n",
    "docs2 = p_df['tokenz'].apply(lambda l: l[int0(len(l)/2):])\n"
   ]
  },
  {
   "cell_type": "code",
   "execution_count": 84,
   "metadata": {},
   "outputs": [
    {
     "name": "stdout",
     "output_type": "stream",
     "text": [
      "[(0, 0.8982865), (1, 0.10144702)]\n",
      "[(0, 0.13426296), (3, 0.8653958)]\n",
      "[(0, 0.7073055), (1, 0.01981192), (2, 0.2726317)]\n",
      "[(1, 0.20875853), (3, 0.79062504)]\n",
      "[(0, 0.04207052), (1, 0.35923475), (3, 0.5984264)]\n",
      "[(0, 0.16116999), (2, 0.83839005)]\n",
      "[(0, 0.3414898), (1, 0.102716714), (2, 0.19569142), (3, 0.36010203)]\n",
      "[(1, 0.2121649), (3, 0.78748995)]\n",
      "[(1, 0.99963224)]\n",
      "[(0, 0.18993643), (3, 0.8097223)]\n"
     ]
    }
   ],
   "source": [
    "corpus1 = [dictionary.doc2bow(doc) for doc in docs1]\n",
    "corpus2 = [dictionary.doc2bow(doc) for doc in docs2]\n",
    "\n",
    "# Using the corpus LDA model tranformation\n",
    "lda_corpus1 = model[corpus1]\n",
    "lda_corpus2 = model[corpus2]\n",
    "for i in range(10) :\n",
    "    print(lda_corpus2[i])"
   ]
  },
  {
   "cell_type": "code",
   "execution_count": 97,
   "metadata": {},
   "outputs": [],
   "source": [
    "from collections import OrderedDict\n",
    "def get_doc_topic_dist(model, corpus, kwords=False):\n",
    "    \n",
    "    '''\n",
    "    LDA transformation, for each doc only returns topics with non-zero weight\n",
    "    This function makes a matrix transformation of docs in the topic space.\n",
    "    '''\n",
    "    top_dist =[]\n",
    "    keys = []\n",
    "\n",
    "    for d in corpus:\n",
    "        tmp = {i:0 for i in range(num_topics)}\n",
    "#         print(tmp)\n",
    "        tmp.update(dict(model[d]))\n",
    "#         print(dict(model[d]))\n",
    "#         print(tmp)\n",
    "        vals = list(OrderedDict(tmp).values())\n",
    "        top_dist += [array(vals)]\n",
    "        if kwords:\n",
    "            keys += [array(vals).argmax()]\n",
    "#         print(\"data : {}, top_dist : {}, keys : {}\\n\".format(d,vals, array(vals).argmax()))\n",
    "    \n",
    "#     print(\"top_dist : {}, keys : {}\".format(top_dist,keys))\n",
    "\n",
    "    return array(top_dist), keys"
   ]
  },
  {
   "cell_type": "code",
   "execution_count": 121,
   "metadata": {},
   "outputs": [
    {
     "name": "stdout",
     "output_type": "stream",
     "text": [
      "[0.8644456  0.04243042 0.04457616 0.04854782] [0.0348147  0.8720615  0.04457609 0.04854774]\n",
      "[[0.8644456  0.04243042 0.04457616 0.04854782]] [[0.0348147  0.8720615  0.04457609 0.04854774]]\n",
      "0.09403847\n",
      "\n",
      "\n",
      "[0.8644506  0.04242885 0.04457453 0.04854604] [0.03481686 0.04243298 0.87419933 0.04855077]\n",
      "[[0.8644506  0.04242885 0.04457453 0.04854604]] [[0.03481686 0.04243298 0.87419933 0.04855077]]\n",
      "0.0961593\n",
      "\n",
      "\n",
      "[0.86442196 0.0424378  0.04458394 0.04855629] [0.8644476  0.0424298  0.04457552 0.04854713]\n",
      "[[0.86442196 0.0424378  0.04458394 0.04855629]] [[0.8644476  0.0424298  0.04457552 0.04854713]]\n",
      "0.99999994\n",
      "\n",
      "\n",
      "[0.03482955 0.04244843 0.8741536  0.04856845] [0.03482481 0.04244267 0.8741706  0.04856185]\n",
      "[[0.03482955 0.04244843 0.8741536  0.04856845]] [[0.03482481 0.04244267 0.8741706  0.04856185]]\n",
      "1.0\n",
      "\n",
      "\n",
      "[0.03481411 0.04242963 0.8742093  0.04854693] [0.03481476 0.87206125 0.04457618 0.04854785]\n",
      "[[0.03481411 0.04242963 0.8742093  0.04854693]] [[0.03481476 0.87206125 0.04457618 0.04854785]]\n",
      "0.10358982\n",
      "\n",
      "\n",
      "[0.09403847, 0.0961593, 0.99999994, 1.0, 0.10358982]\n",
      "0.4587575\n"
     ]
    }
   ],
   "source": [
    "top_dist1, _ = get_doc_topic_dist(model, lda_corpus1[0:5])\n",
    "top_dist2, _ = get_doc_topic_dist(model, lda_corpus2[0:5])\n",
    "lists = []\n",
    "for c1, c2 in zip(top_dist1, top_dist2) :\n",
    "    print(c1, c2)\n",
    "    print(c1.reshape(1, -1),c2.reshape(1, -1))\n",
    "    print(cosine_similarity(c1.reshape(1, -1), c2.reshape(1, -1))[0][0])\n",
    "    lists.append(cosine_similarity(c1.reshape(1, -1), c2.reshape(1, -1))[0][0])\n",
    "    print(\"\\n\")\n",
    "\n",
    "print(lists)\n",
    "print(mean(lists))"
   ]
  },
  {
   "cell_type": "code",
   "execution_count": 130,
   "metadata": {},
   "outputs": [
    {
     "name": "stdout",
     "output_type": "stream",
     "text": [
      "[[261 389]\n",
      " [311  56]\n",
      " [ 95  72]\n",
      " [304 264]\n",
      " [218 230]]\n"
     ]
    }
   ],
   "source": [
    "random_pairs = np.random.randint(0, len(p_df['PaperText']), size=(400, 2))\n",
    "random_pairs = random_pairs[0:5]\n",
    "print(random_pairs[0:5])"
   ]
  },
  {
   "cell_type": "code",
   "execution_count": 132,
   "metadata": {},
   "outputs": [
    {
     "name": "stdout",
     "output_type": "stream",
     "text": [
      "[0.03481508 0.87206006 0.04457658 0.04854828] [0.864446   0.04243029 0.04457604 0.0485477 ]\n",
      "[[0.03481508 0.87206006 0.04457658 0.04854828]] [[0.864446   0.04243029 0.04457604 0.0485477 ]]\n",
      "[[0.09403884]]\n",
      "\n",
      "\n",
      "[0.86440974 0.04244164 0.04458796 0.04856067] [0.03481166 0.8720726  0.04457221 0.04854352]\n",
      "[[0.86440974 0.04244164 0.04458796 0.04856067]] [[0.03481166 0.8720726  0.04457221 0.04854352]]\n",
      "[[0.09405042]]\n",
      "\n",
      "\n",
      "[0.03482349 0.8720291  0.04458735 0.04856   ] [0.03481936 0.8720443  0.04458207 0.04855425]\n",
      "[[0.03482349 0.8720291  0.04458735 0.04856   ]] [[0.03481936 0.8720443  0.04458207 0.04855425]]\n",
      "[[1.0000001]]\n",
      "\n",
      "\n",
      "[0.03482467 0.87202483 0.04458886 0.04856165] [0.03481556 0.8720583  0.0445772  0.04854894]\n",
      "[[0.03482467 0.87202483 0.04458886 0.04856165]] [[0.03481556 0.8720583  0.0445772  0.04854894]]\n",
      "[[1.]]\n",
      "\n",
      "\n",
      "[0.8644259  0.04243658 0.04458265 0.04855488] [0.03482028 0.04243714 0.874187   0.04855553]\n",
      "[[0.8644259  0.04243658 0.04458265 0.04855488]] [[0.03482028 0.04243714 0.874187   0.04855553]]\n",
      "[[0.09617605]]\n",
      "\n",
      "\n",
      "[0.09403847, 0.0961593, 0.99999994, 1.0, 0.10358982, array([[0.0940606]], dtype=float32), array([[0.09404776]], dtype=float32), array([[0.09406681]], dtype=float32), array([[1.]], dtype=float32), array([[0.09407072]], dtype=float32), array([[1.]], dtype=float32), array([[0.10362297]], dtype=float32), array([[0.09407564]], dtype=float32), array([[1.0000001]], dtype=float32), array([[0.99999994]], dtype=float32), array([[0.0961668]], dtype=float32), array([[0.99999994]], dtype=float32), array([[0.09405149]], dtype=float32), array([[0.10359667]], dtype=float32), array([[0.09405403]], dtype=float32), array([[0.09405769]], dtype=float32), array([[0.09405698]], dtype=float32), array([[1.]], dtype=float32), array([[0.10360733]], dtype=float32), array([[1.]], dtype=float32), array([[1.]], dtype=float32), array([[0.10361359]], dtype=float32), array([[0.09405542]], dtype=float32), array([[1.]], dtype=float32), array([[0.09618071]], dtype=float32), array([[1.]], dtype=float32), array([[0.09405746]], dtype=float32), array([[1.0000001]], dtype=float32), array([[0.10360955]], dtype=float32), array([[0.09406854]], dtype=float32), array([[0.99999994]], dtype=float32), array([[0.09404939]], dtype=float32), array([[0.1035943]], dtype=float32), array([[0.09405571]], dtype=float32), array([[1.]], dtype=float32), array([[0.09407022]], dtype=float32), array([[1.]], dtype=float32), array([[0.10359785]], dtype=float32), array([[0.09617411]], dtype=float32), array([[1.]], dtype=float32), array([[0.09617771]], dtype=float32), array([[1.]], dtype=float32), array([[0.09619769]], dtype=float32), array([[1.0000001]], dtype=float32), array([[1.]], dtype=float32), array([[0.09405916]], dtype=float32), array([[1.]], dtype=float32), array([[0.99999994]], dtype=float32), array([[1.]], dtype=float32), array([[0.09403742]], dtype=float32), array([[0.10360536]], dtype=float32), array([[0.9999999]], dtype=float32), array([[0.09618957]], dtype=float32), array([[0.99999994]], dtype=float32), array([[1.]], dtype=float32), array([[0.09405807]], dtype=float32), array([[0.09404403]], dtype=float32), array([[0.09616873]], dtype=float32), array([[1.]], dtype=float32), array([[0.09617382]], dtype=float32), array([[0.99999994]], dtype=float32), array([[0.09617425]], dtype=float32), array([[0.09402774]], dtype=float32), array([[0.09405459]], dtype=float32), array([[0.09405586]], dtype=float32), array([[0.10360464]], dtype=float32), array([[1.]], dtype=float32), array([[0.0940287]], dtype=float32), array([[0.10360924]], dtype=float32), array([[1.]], dtype=float32), array([[0.10359377]], dtype=float32), array([[0.09407091]], dtype=float32), array([[1.]], dtype=float32), array([[0.09407123]], dtype=float32), array([[0.09406139]], dtype=float32), array([[0.09405551]], dtype=float32), array([[0.09615469]], dtype=float32), array([[0.094055]], dtype=float32), array([[0.10361139]], dtype=float32), array([[1.]], dtype=float32), array([[0.0961815]], dtype=float32), array([[0.09617602]], dtype=float32), array([[0.09405524]], dtype=float32), array([[0.09406067]], dtype=float32), array([[0.09404689]], dtype=float32), array([[0.0940274]], dtype=float32), array([[0.0940574]], dtype=float32), array([[1.]], dtype=float32), array([[0.09616272]], dtype=float32), array([[0.10359611]], dtype=float32), array([[0.10363036]], dtype=float32), array([[0.09615146]], dtype=float32), array([[0.10358756]], dtype=float32), array([[1.]], dtype=float32), array([[0.09404762]], dtype=float32), array([[0.09404586]], dtype=float32), array([[0.09405967]], dtype=float32), array([[0.09616134]], dtype=float32), array([[1.]], dtype=float32), array([[1.]], dtype=float32), array([[0.10361402]], dtype=float32), array([[0.09618406]], dtype=float32), array([[0.09618646]], dtype=float32), array([[0.09620048]], dtype=float32), array([[0.10387571]], dtype=float32), array([[1.]], dtype=float32), array([[0.09404221]], dtype=float32), array([[0.094056]], dtype=float32), array([[1.]], dtype=float32), array([[0.09403787]], dtype=float32), array([[1.]], dtype=float32), array([[0.09615567]], dtype=float32), array([[0.09408391]], dtype=float32), array([[1.]], dtype=float32), array([[0.09405069]], dtype=float32), array([[0.99999994]], dtype=float32), array([[1.0000001]], dtype=float32), array([[0.10360079]], dtype=float32), array([[0.10361284]], dtype=float32), array([[1.]], dtype=float32), array([[0.09404936]], dtype=float32), array([[0.09616778]], dtype=float32), array([[0.09406958]], dtype=float32), array([[0.09617601]], dtype=float32), array([[1.]], dtype=float32), array([[0.10361163]], dtype=float32), array([[0.09403699]], dtype=float32), array([[0.99999994]], dtype=float32), array([[0.99999994]], dtype=float32), array([[0.09406713]], dtype=float32), array([[1.]], dtype=float32), array([[0.0940588]], dtype=float32), array([[0.0940718]], dtype=float32), array([[0.094055]], dtype=float32), array([[0.09405462]], dtype=float32), array([[0.09405472]], dtype=float32), array([[0.99999994]], dtype=float32), array([[0.09615049]], dtype=float32), array([[0.09406462]], dtype=float32), array([[0.09407075]], dtype=float32), array([[1.]], dtype=float32), array([[0.10360521]], dtype=float32), array([[0.1035833]], dtype=float32), array([[0.99999994]], dtype=float32), array([[0.09619736]], dtype=float32), array([[1.0000001]], dtype=float32), array([[1.]], dtype=float32), array([[0.09404875]], dtype=float32), array([[0.09404413]], dtype=float32), array([[0.09404493]], dtype=float32), array([[0.09617512]], dtype=float32), array([[1.0000001]], dtype=float32), array([[0.09619126]], dtype=float32), array([[0.0940459]], dtype=float32), array([[1.0000001]], dtype=float32), array([[0.99999994]], dtype=float32), array([[1.]], dtype=float32), array([[1.0000001]], dtype=float32), array([[0.10386112]], dtype=float32), array([[0.09405559]], dtype=float32), array([[0.09406164]], dtype=float32), array([[0.09404422]], dtype=float32), array([[1.]], dtype=float32), array([[0.1036205]], dtype=float32), array([[0.10357276]], dtype=float32), array([[0.09618764]], dtype=float32), array([[0.09403893]], dtype=float32), array([[0.09617557]], dtype=float32), array([[0.0961692]], dtype=float32), array([[1.]], dtype=float32), array([[0.09407165]], dtype=float32), array([[0.09405742]], dtype=float32), array([[1.]], dtype=float32), array([[0.09617573]], dtype=float32), array([[0.09405562]], dtype=float32), array([[0.99999994]], dtype=float32), array([[0.10360605]], dtype=float32), array([[1.0000001]], dtype=float32), array([[0.1035879]], dtype=float32), array([[1.0000001]], dtype=float32), array([[0.0961814]], dtype=float32), array([[0.09616154]], dtype=float32), array([[0.10363039]], dtype=float32), array([[1.]], dtype=float32), array([[0.10359874]], dtype=float32), array([[0.09403392]], dtype=float32), array([[1.]], dtype=float32), array([[0.09404517]], dtype=float32), array([[0.10361292]], dtype=float32), array([[0.99999994]], dtype=float32), array([[0.09406847]], dtype=float32), array([[0.09618884]], dtype=float32), array([[0.09403116]], dtype=float32), array([[1.]], dtype=float32), array([[0.0940555]], dtype=float32), array([[0.10360061]], dtype=float32), array([[0.1035974]], dtype=float32), array([[0.09403206]], dtype=float32), array([[0.09407507]], dtype=float32), array([[0.0940494]], dtype=float32), array([[0.09404819]], dtype=float32), array([[1.]], dtype=float32), array([[0.10359778]], dtype=float32), array([[1.0000001]], dtype=float32), array([[0.99999994]], dtype=float32), array([[0.35671693]], dtype=float32), array([[0.09618585]], dtype=float32), array([[0.09403967]], dtype=float32), array([[0.0940553]], dtype=float32), array([[0.99999994]], dtype=float32), array([[0.09403335]], dtype=float32), array([[1.]], dtype=float32), array([[1.]], dtype=float32), array([[0.09405932]], dtype=float32), array([[0.10360191]], dtype=float32), array([[0.09405335]], dtype=float32), array([[0.09405384]], dtype=float32), array([[1.]], dtype=float32), array([[1.0000001]], dtype=float32), array([[0.99999994]], dtype=float32), array([[0.09617128]], dtype=float32), array([[1.]], dtype=float32), array([[0.09619993]], dtype=float32), array([[0.09406038]], dtype=float32), array([[0.09405779]], dtype=float32), array([[1.]], dtype=float32), array([[1.0000001]], dtype=float32), array([[0.09405328]], dtype=float32), array([[0.09403679]], dtype=float32), array([[0.9999999]], dtype=float32), array([[0.09619367]], dtype=float32), array([[0.0961778]], dtype=float32), array([[0.09617642]], dtype=float32), array([[0.09404965]], dtype=float32), array([[1.]], dtype=float32), array([[1.]], dtype=float32), array([[1.]], dtype=float32), array([[0.99999994]], dtype=float32), array([[0.09403605]], dtype=float32), array([[0.09616312]], dtype=float32), array([[0.09405517]], dtype=float32), array([[1.]], dtype=float32), array([[0.09620005]], dtype=float32), array([[1.]], dtype=float32), array([[1.]], dtype=float32), array([[0.09404237]], dtype=float32), array([[0.99999994]], dtype=float32), array([[1.]], dtype=float32), array([[0.99999994]], dtype=float32), array([[0.99999994]], dtype=float32), array([[1.]], dtype=float32), array([[0.09403862]], dtype=float32), array([[0.09404595]], dtype=float32), array([[0.10360237]], dtype=float32), array([[1.]], dtype=float32), array([[1.0000001]], dtype=float32), array([[0.09403831]], dtype=float32), array([[0.09619552]], dtype=float32), array([[0.09617499]], dtype=float32), array([[0.09405052]], dtype=float32), array([[0.09408525]], dtype=float32), array([[0.09404059]], dtype=float32), array([[0.10360534]], dtype=float32), array([[1.]], dtype=float32), array([[0.0940377]], dtype=float32), array([[1.]], dtype=float32), array([[0.09618211]], dtype=float32), array([[1.]], dtype=float32), array([[0.09406524]], dtype=float32), array([[0.09406449]], dtype=float32), array([[0.10360918]], dtype=float32), array([[1.]], dtype=float32), array([[0.10360625]], dtype=float32), array([[0.99999994]], dtype=float32), array([[1.]], dtype=float32), array([[1.]], dtype=float32), array([[1.]], dtype=float32), array([[0.10360945]], dtype=float32), array([[0.10359669]], dtype=float32), array([[0.10358914]], dtype=float32), array([[0.09405719]], dtype=float32), array([[1.]], dtype=float32), array([[0.99999994]], dtype=float32), array([[0.09405697]], dtype=float32), array([[1.]], dtype=float32), array([[0.99999994]], dtype=float32), array([[0.99999994]], dtype=float32), array([[1.0000001]], dtype=float32), array([[0.1036097]], dtype=float32), array([[0.09403873]], dtype=float32), array([[1.]], dtype=float32), array([[0.09409843]], dtype=float32), array([[1.]], dtype=float32), array([[0.09618971]], dtype=float32), array([[0.09404577]], dtype=float32), array([[0.09407475]], dtype=float32), array([[0.09405282]], dtype=float32), array([[0.44347903]], dtype=float32), array([[0.09615532]], dtype=float32), array([[0.09616318]], dtype=float32), array([[1.]], dtype=float32), array([[1.]], dtype=float32), array([[0.09406555]], dtype=float32), array([[0.99999994]], dtype=float32), array([[0.09406669]], dtype=float32), array([[0.09405903]], dtype=float32), array([[0.09407365]], dtype=float32), array([[0.9999999]], dtype=float32), array([[0.10360097]], dtype=float32), array([[1.]], dtype=float32), array([[1.]], dtype=float32), array([[0.99999994]], dtype=float32), array([[0.09404439]], dtype=float32), array([[0.09616585]], dtype=float32), array([[0.09616805]], dtype=float32), array([[0.09617148]], dtype=float32), array([[0.09404005]], dtype=float32), array([[0.09618078]], dtype=float32), array([[1.]], dtype=float32), array([[1.]], dtype=float32), array([[0.35671023]], dtype=float32), array([[1.]], dtype=float32), array([[0.09618437]], dtype=float32), array([[0.10359856]], dtype=float32), array([[1.]], dtype=float32), array([[0.09403481]], dtype=float32), array([[0.10360116]], dtype=float32), array([[1.]], dtype=float32), array([[0.10359658]], dtype=float32), array([[0.09619004]], dtype=float32), array([[0.09404779]], dtype=float32), array([[0.0940762]], dtype=float32), array([[1.]], dtype=float32), array([[0.99999994]], dtype=float32), array([[1.]], dtype=float32), array([[1.]], dtype=float32), array([[0.09405169]], dtype=float32), array([[0.99999994]], dtype=float32), array([[0.10360339]], dtype=float32), array([[0.09403715]], dtype=float32), array([[0.09619205]], dtype=float32), array([[1.]], dtype=float32), array([[0.10360754]], dtype=float32), array([[1.]], dtype=float32), array([[0.99999994]], dtype=float32), array([[0.09403838]], dtype=float32), array([[0.09404286]], dtype=float32), array([[0.99999994]], dtype=float32), array([[1.]], dtype=float32), array([[1.]], dtype=float32), array([[0.09403153]], dtype=float32), array([[0.09616937]], dtype=float32), array([[0.09406728]], dtype=float32), array([[1.]], dtype=float32), array([[0.99999994]], dtype=float32), array([[0.09404482]], dtype=float32), array([[0.99999994]], dtype=float32), array([[0.09405261]], dtype=float32), array([[0.09618106]], dtype=float32), array([[0.09403633]], dtype=float32), array([[0.09404935]], dtype=float32), array([[0.09616335]], dtype=float32), array([[0.0961565]], dtype=float32), array([[0.10361443]], dtype=float32), array([[0.09407876]], dtype=float32), array([[0.0940742]], dtype=float32), array([[1.]], dtype=float32), array([[0.10360146]], dtype=float32), array([[0.10359855]], dtype=float32), array([[1.]], dtype=float32), array([[1.]], dtype=float32), array([[0.09403854]], dtype=float32), array([[0.1180307]], dtype=float32), array([[0.10361316]], dtype=float32), array([[0.9999999]], dtype=float32), array([[0.09617529]], dtype=float32), array([[0.09616798]], dtype=float32), array([[0.09407648]], dtype=float32), array([[0.10360128]], dtype=float32), array([[1.]], dtype=float32), array([[0.09614385]], dtype=float32), array([[0.09619235]], dtype=float32), array([[0.1036033]], dtype=float32), array([[0.3941741]], dtype=float32), array([[0.09405664]], dtype=float32), array([[1.]], dtype=float32), array([[0.10360739]], dtype=float32), array([[1.]], dtype=float32), array([[0.09405038]], dtype=float32), array([[0.09405895]], dtype=float32), array([[0.09402004]], dtype=float32), array([[0.0940671]], dtype=float32), array([[0.09403287]], dtype=float32), array([[0.10359177]], dtype=float32), array([[0.09405927]], dtype=float32), array([[1.]], dtype=float32), array([[0.09407469]], dtype=float32), array([[0.99999994]], dtype=float32), array([[0.99999994]], dtype=float32), array([[1.]], dtype=float32), array([[0.09405287]], dtype=float32), array([[0.09406355]], dtype=float32), array([[0.09619401]], dtype=float32), array([[1.]], dtype=float32), array([[0.99999994]], dtype=float32), array([[0.09616672]], dtype=float32), array([[0.9999999]], dtype=float32), array([[0.09404792]], dtype=float32), array([[0.09403972]], dtype=float32), array([[0.09405416]], dtype=float32), array([[1.]], dtype=float32), array([[0.09405296]], dtype=float32), array([[1.0000001]], dtype=float32), array([[1.]], dtype=float32), array([[0.09405947]], dtype=float32), array([[0.0940413]], dtype=float32), array([[0.99999994]], dtype=float32), array([[0.10359766]], dtype=float32), array([[0.10358952]], dtype=float32), array([[1.]], dtype=float32), array([[1.]], dtype=float32), array([[0.09616898]], dtype=float32), array([[0.0940598]], dtype=float32), array([[0.09406579]], dtype=float32), array([[0.10359972]], dtype=float32), array([[0.09405985]], dtype=float32), array([[1.]], dtype=float32), array([[0.10361117]], dtype=float32), array([[1.]], dtype=float32), array([[1.]], dtype=float32), array([[1.]], dtype=float32), array([[0.10360894]], dtype=float32), array([[0.10359307]], dtype=float32), array([[0.99999994]], dtype=float32), array([[0.0961513]], dtype=float32), array([[0.09615164]], dtype=float32), array([[1.]], dtype=float32), array([[1.]], dtype=float32), array([[0.09615632]], dtype=float32), array([[0.09408349]], dtype=float32), array([[0.09404029]], dtype=float32), array([[0.10360938]], dtype=float32), array([[0.99999994]], dtype=float32), array([[0.10359513]], dtype=float32), array([[0.0940555]], dtype=float32), array([[0.10360833]], dtype=float32), array([[0.09406594]], dtype=float32), array([[0.09619161]], dtype=float32), array([[1.0000001]], dtype=float32), array([[0.09405717]], dtype=float32), array([[0.10361359]], dtype=float32), array([[0.09619863]], dtype=float32), array([[0.99999994]], dtype=float32), array([[0.10361068]], dtype=float32), array([[1.0000001]], dtype=float32), array([[0.09618591]], dtype=float32), array([[0.09405881]], dtype=float32), array([[0.09614232]], dtype=float32), array([[1.]], dtype=float32), array([[0.99999994]], dtype=float32), array([[0.09405272]], dtype=float32), array([[0.09615587]], dtype=float32), array([[0.09618728]], dtype=float32), array([[0.09617639]], dtype=float32), array([[0.9999999]], dtype=float32), array([[0.99999994]], dtype=float32), array([[0.09404661]], dtype=float32), array([[0.09616537]], dtype=float32), array([[1.]], dtype=float32), array([[0.09405089]], dtype=float32), array([[0.10362157]], dtype=float32), array([[0.09407161]], dtype=float32), array([[0.09618833]], dtype=float32), array([[0.9519192]], dtype=float32), array([[1.]], dtype=float32), array([[0.09404957]], dtype=float32), array([[0.09403994]], dtype=float32), array([[1.]], dtype=float32), array([[1.]], dtype=float32), array([[0.09407885]], dtype=float32), array([[1.]], dtype=float32), array([[0.09406674]], dtype=float32), array([[0.09617069]], dtype=float32), array([[1.0000001]], dtype=float32), array([[0.10359664]], dtype=float32), array([[0.99999994]], dtype=float32), array([[1.]], dtype=float32), array([[0.99999994]], dtype=float32), array([[0.09406967]], dtype=float32), array([[0.09618004]], dtype=float32), array([[0.09404811]], dtype=float32), array([[0.09619834]], dtype=float32), array([[0.09617953]], dtype=float32), array([[1.]], dtype=float32), array([[0.09404657]], dtype=float32), array([[1.]], dtype=float32), array([[1.0000001]], dtype=float32), array([[1.]], dtype=float32), array([[0.09616797]], dtype=float32), array([[0.09403475]], dtype=float32), array([[1.]], dtype=float32), array([[0.09618989]], dtype=float32), array([[0.09403794]], dtype=float32), array([[0.1036123]], dtype=float32), array([[0.09404364]], dtype=float32), array([[0.9999999]], dtype=float32), array([[0.09403915]], dtype=float32), array([[0.09617601]], dtype=float32), array([[0.99999994]], dtype=float32), array([[1.]], dtype=float32), array([[0.0940552]], dtype=float32), array([[0.09616737]], dtype=float32), array([[0.0940521]], dtype=float32), array([[0.0940531]], dtype=float32), array([[0.09617615]], dtype=float32), array([[0.09618448]], dtype=float32), array([[0.09404181]], dtype=float32), array([[0.09405965]], dtype=float32), array([[0.09616939]], dtype=float32), array([[0.09404621]], dtype=float32), array([[0.9999999]], dtype=float32), array([[0.99999994]], dtype=float32), array([[0.09405195]], dtype=float32), array([[0.09405545]], dtype=float32), array([[0.09405436]], dtype=float32), array([[1.]], dtype=float32), array([[0.09407263]], dtype=float32), array([[0.09406228]], dtype=float32), array([[1.]], dtype=float32), array([[1.0000001]], dtype=float32), array([[0.09616654]], dtype=float32), array([[0.09404464]], dtype=float32), array([[0.99999994]], dtype=float32), array([[1.]], dtype=float32), array([[0.09617472]], dtype=float32), array([[0.10358698]], dtype=float32), array([[0.99999994]], dtype=float32), array([[0.09405354]], dtype=float32), array([[1.]], dtype=float32), array([[1.0000001]], dtype=float32), array([[0.10361567]], dtype=float32), array([[0.9999999]], dtype=float32), array([[1.]], dtype=float32), array([[0.09616096]], dtype=float32), array([[0.09403956]], dtype=float32), array([[1.0000001]], dtype=float32), array([[1.]], dtype=float32), array([[0.0962226]], dtype=float32), array([[0.09409893]], dtype=float32), array([[0.09615211]], dtype=float32), array([[1.]], dtype=float32), array([[0.09404286]], dtype=float32), array([[0.09405178]], dtype=float32), array([[0.09403446]], dtype=float32), array([[0.99999994]], dtype=float32), array([[0.09615783]], dtype=float32), array([[1.]], dtype=float32), array([[1.]], dtype=float32), array([[0.09405562]], dtype=float32), array([[0.09615595]], dtype=float32), array([[0.09405646]], dtype=float32), array([[1.0000001]], dtype=float32), array([[1.0000001]], dtype=float32), array([[1.]], dtype=float32), array([[0.99999994]], dtype=float32), array([[0.09404235]], dtype=float32), array([[0.10359898]], dtype=float32), array([[0.0940561]], dtype=float32), array([[1.]], dtype=float32), array([[1.]], dtype=float32), array([[1.]], dtype=float32), array([[0.0940581]], dtype=float32), array([[0.99999994]], dtype=float32), array([[0.09406763]], dtype=float32), array([[0.09618431]], dtype=float32), array([[0.10360996]], dtype=float32), array([[0.09403523]], dtype=float32), array([[1.]], dtype=float32), array([[0.10359545]], dtype=float32), array([[1.]], dtype=float32), array([[1.]], dtype=float32), array([[1.]], dtype=float32), array([[1.]], dtype=float32), array([[0.12744477]], dtype=float32), array([[1.]], dtype=float32), array([[0.99999994]], dtype=float32), array([[0.10358422]], dtype=float32), array([[0.09404564]], dtype=float32), array([[1.]], dtype=float32), array([[0.09404015]], dtype=float32), array([[1.]], dtype=float32), array([[0.09404165]], dtype=float32), array([[0.09405575]], dtype=float32), array([[0.09405796]], dtype=float32), array([[1.]], dtype=float32), array([[0.99999994]], dtype=float32), array([[0.10359845]], dtype=float32), array([[0.09618023]], dtype=float32), array([[0.10360734]], dtype=float32), array([[1.0000001]], dtype=float32), array([[0.99999994]], dtype=float32), array([[1.]], dtype=float32), array([[0.09407385]], dtype=float32), array([[0.09618606]], dtype=float32), array([[0.09407637]], dtype=float32), array([[0.09403374]], dtype=float32), array([[0.09404883]], dtype=float32), array([[0.09616422]], dtype=float32), array([[0.09405491]], dtype=float32), array([[0.09619736]], dtype=float32), array([[0.10359722]], dtype=float32), array([[0.09616297]], dtype=float32), array([[0.09404328]], dtype=float32), array([[0.09402277]], dtype=float32), array([[0.09403702]], dtype=float32), array([[0.10361954]], dtype=float32), array([[1.]], dtype=float32), array([[0.09404308]], dtype=float32), array([[1.]], dtype=float32), array([[0.0940694]], dtype=float32), array([[1.0000001]], dtype=float32), array([[0.09406509]], dtype=float32), array([[0.99999994]], dtype=float32), array([[0.99999994]], dtype=float32), array([[0.09617899]], dtype=float32), array([[0.99999994]], dtype=float32), array([[0.10360397]], dtype=float32), array([[0.9999999]], dtype=float32), array([[1.0000001]], dtype=float32), array([[0.09406715]], dtype=float32), array([[0.9999999]], dtype=float32), array([[1.]], dtype=float32), array([[1.]], dtype=float32), array([[1.]], dtype=float32), array([[0.99999994]], dtype=float32), array([[0.09405515]], dtype=float32), array([[0.09408838]], dtype=float32), array([[1.]], dtype=float32), array([[0.09404699]], dtype=float32), array([[1.0000001]], dtype=float32), array([[1.]], dtype=float32), array([[0.09411813]], dtype=float32), array([[1.0000001]], dtype=float32), array([[0.10360485]], dtype=float32), array([[0.99999994]], dtype=float32), array([[1.]], dtype=float32), array([[0.99999994]], dtype=float32), array([[0.09403653]], dtype=float32), array([[0.09406511]], dtype=float32), array([[0.10360445]], dtype=float32), array([[0.09407397]], dtype=float32), array([[0.99999994]], dtype=float32), array([[1.]], dtype=float32), array([[0.99999994]], dtype=float32), array([[1.]], dtype=float32), array([[1.]], dtype=float32), array([[0.9999999]], dtype=float32), array([[0.09405538]], dtype=float32), array([[0.09617335]], dtype=float32), array([[0.0961765]], dtype=float32), array([[0.09617226]], dtype=float32), array([[1.]], dtype=float32), array([[0.09404583]], dtype=float32), array([[1.0000001]], dtype=float32), array([[0.09405126]], dtype=float32), array([[0.09406252]], dtype=float32), array([[0.09406345]], dtype=float32), array([[0.0940723]], dtype=float32), array([[0.10360704]], dtype=float32), array([[1.]], dtype=float32), array([[0.09618513]], dtype=float32), array([[0.09404261]], dtype=float32), array([[0.10362171]], dtype=float32), array([[1.]], dtype=float32), array([[0.09406667]], dtype=float32), array([[0.09619103]], dtype=float32), array([[0.99999994]], dtype=float32), array([[0.9999999]], dtype=float32), array([[0.10360783]], dtype=float32), array([[0.99999994]], dtype=float32), array([[0.10359805]], dtype=float32), array([[0.09405108]], dtype=float32), array([[0.09616353]], dtype=float32), array([[0.09405846]], dtype=float32), array([[0.09405506]], dtype=float32), array([[0.09406452]], dtype=float32), array([[0.09404649]], dtype=float32), array([[0.09617607]], dtype=float32), array([[0.99999994]], dtype=float32), array([[0.09618033]], dtype=float32), array([[1.]], dtype=float32), array([[1.0000001]], dtype=float32), array([[0.096154]], dtype=float32), array([[0.09404594]], dtype=float32), array([[0.09616693]], dtype=float32), array([[0.99999994]], dtype=float32), array([[0.09403931]], dtype=float32), array([[0.10360616]], dtype=float32), array([[0.09407753]], dtype=float32), array([[0.09404879]], dtype=float32), array([[0.1038736]], dtype=float32), array([[0.09617122]], dtype=float32), array([[1.]], dtype=float32), array([[0.99999994]], dtype=float32), array([[0.09405265]], dtype=float32), array([[1.]], dtype=float32), array([[0.9999999]], dtype=float32), array([[0.09404057]], dtype=float32), array([[0.10360716]], dtype=float32), array([[0.99999994]], dtype=float32), array([[0.10359727]], dtype=float32), array([[0.10358749]], dtype=float32), array([[1.]], dtype=float32), array([[0.09617123]], dtype=float32), array([[0.09617313]], dtype=float32), array([[0.99999994]], dtype=float32), array([[0.10358941]], dtype=float32), array([[1.0000001]], dtype=float32), array([[1.]], dtype=float32), array([[0.1036336]], dtype=float32), array([[1.]], dtype=float32), array([[1.]], dtype=float32), array([[1.]], dtype=float32), array([[0.09405509]], dtype=float32), array([[1.0000001]], dtype=float32), array([[0.0961662]], dtype=float32), array([[0.09619584]], dtype=float32), array([[0.09405053]], dtype=float32), array([[0.09404445]], dtype=float32), array([[0.09617104]], dtype=float32), array([[0.09407756]], dtype=float32), array([[0.09619562]], dtype=float32), array([[1.]], dtype=float32), array([[1.]], dtype=float32), array([[0.09407154]], dtype=float32), array([[1.]], dtype=float32), array([[0.09406758]], dtype=float32), array([[0.09405906]], dtype=float32), array([[0.09405742]], dtype=float32), array([[0.10361591]], dtype=float32), array([[1.]], dtype=float32), array([[0.096164]], dtype=float32), array([[1.]], dtype=float32), array([[0.09406012]], dtype=float32), array([[0.9999999]], dtype=float32), array([[0.09402693]], dtype=float32), array([[0.99999994]], dtype=float32), array([[0.09405636]], dtype=float32), array([[0.09406479]], dtype=float32), array([[0.09616998]], dtype=float32), array([[0.99999994]], dtype=float32), array([[1.]], dtype=float32), array([[0.09404909]], dtype=float32), array([[1.]], dtype=float32), array([[0.09406909]], dtype=float32), array([[0.09404993]], dtype=float32), array([[1.]], dtype=float32), array([[0.09405456]], dtype=float32), array([[0.10387582]], dtype=float32), array([[1.]], dtype=float32), array([[0.0940524]], dtype=float32), array([[0.09405383]], dtype=float32), array([[0.09617926]], dtype=float32), array([[0.0940615]], dtype=float32), array([[0.09405616]], dtype=float32), array([[0.10360292]], dtype=float32), array([[1.]], dtype=float32), array([[0.10359335]], dtype=float32), array([[0.10361334]], dtype=float32), array([[0.10362107]], dtype=float32), array([[0.09618448]], dtype=float32), array([[0.09404765]], dtype=float32), array([[0.10360423]], dtype=float32), array([[0.09616095]], dtype=float32), array([[1.]], dtype=float32), array([[0.09404911]], dtype=float32), array([[0.99999994]], dtype=float32), array([[0.09405501]], dtype=float32), array([[0.09620095]], dtype=float32), array([[0.10361145]], dtype=float32), array([[0.09405979]], dtype=float32), array([[0.09405839]], dtype=float32), array([[0.0961865]], dtype=float32), array([[0.99999994]], dtype=float32), array([[0.99999994]], dtype=float32), array([[1.]], dtype=float32), array([[0.99999994]], dtype=float32), array([[0.10359509]], dtype=float32), array([[0.09405062]], dtype=float32), array([[0.99999994]], dtype=float32), array([[0.10360811]], dtype=float32), array([[0.09403945]], dtype=float32), array([[1.0000001]], dtype=float32), array([[0.99999994]], dtype=float32), array([[0.09619926]], dtype=float32), array([[0.09619278]], dtype=float32), array([[0.09404077]], dtype=float32), array([[0.09617215]], dtype=float32), array([[0.10360934]], dtype=float32), array([[0.09403815]], dtype=float32), array([[0.09403884]], dtype=float32), array([[0.09405042]], dtype=float32), array([[1.0000001]], dtype=float32), array([[1.]], dtype=float32), array([[0.09617605]], dtype=float32), array([[0.09403884]], dtype=float32), array([[0.09405042]], dtype=float32), array([[1.0000001]], dtype=float32), array([[1.]], dtype=float32), array([[0.09617605]], dtype=float32)]\n",
      "0.43612638\n"
     ]
    }
   ],
   "source": [
    "for i in random_pairs[0:5] :\n",
    "    print(top_dist1[i[0]], top_dist2[i[1]])\n",
    "    print(top_dist1[i[0]].reshape(1, -1),top_dist2[i[1]].reshape(1, -1))\n",
    "    print(cosine_similarity(top_dist1[i[0]].reshape(1, -1), top_dist2[i[1]].reshape(1, -1)))\n",
    "    lists.append(cosine_similarity(top_dist1[i[0]].reshape(1, -1), top_dist2[i[1]].reshape(1, -1)))\n",
    "    print(\"\\n\")\n",
    "\n",
    "print(lists)\n",
    "print(mean(lists))"
   ]
  },
  {
   "cell_type": "code",
   "execution_count": 135,
   "metadata": {},
   "outputs": [
    {
     "name": "stdout",
     "output_type": "stream",
     "text": [
      "Intra similarity: cosine similarity for corresponding parts of a doc(higher is better):\n",
      "0.8527726\n",
      "Inter similarity: cosine similarity between random parts (lower is better):\n",
      "0.43492416\n"
     ]
    }
   ],
   "source": [
    "top_dist1, _ = get_doc_topic_dist(model, lda_corpus1)\n",
    "top_dist2, _ = get_doc_topic_dist(model, lda_corpus2)\n",
    "\n",
    "print(\"Intra similarity: cosine similarity for corresponding parts of a doc(higher is better):\")\n",
    "print(np.mean([cosine_similarity(c1.reshape(1, -1), c2.reshape(1, -1)) for c1,c2 in zip(top_dist1, top_dist2)]))\n",
    "\n",
    "random_pairs = np.random.randint(0, len(p_df['PaperText']), size=(400, 2))\n",
    "\n",
    "print(\"Inter similarity: cosine similarity between random parts (lower is better):\")\n",
    "print(np.mean([cosine_similarity(top_dist1[i[0]].reshape(1, -1), top_dist2[i[1]].reshape(1, -1)) for i in random_pairs]))"
   ]
  },
  {
   "cell_type": "code",
   "execution_count": 95,
   "metadata": {},
   "outputs": [],
   "source": [
    "def explore_topic(lda_model, topic_number, topn, output=True):\n",
    "    \"\"\"\n",
    "    accept a ldamodel, atopic number and topn vocabs of interest\n",
    "    prints a formatted list of the topn terms\n",
    "    \"\"\"\n",
    "    terms = []\n",
    "    for term, frequency in lda_model.show_topic(topic_number, topn=topn):\n",
    "        terms += [term]\n",
    "        if output:\n",
    "            print(u'{:20} {:.3f}'.format(term, round(frequency, 3)))\n",
    "    \n",
    "    return terms"
   ]
  },
  {
   "cell_type": "code",
   "execution_count": 138,
   "metadata": {},
   "outputs": [
    {
     "name": "stdout",
     "output_type": "stream",
     "text": [
      "term                 frequency\n",
      "\n",
      "Topic 0 |---------------------\n",
      "\n",
      "regret               0.013\n",
      "bandit               0.008\n",
      "active_learning      0.007\n",
      "convergence_rate     0.006\n",
      "reward               0.006\n",
      "game                 0.005\n",
      "regret_bound         0.005\n",
      "online_learning      0.005\n",
      "agent                0.005\n",
      "strongly_convex      0.005\n",
      "Topic 1 |---------------------\n",
      "\n",
      "gaussian_process     0.006\n",
      "convolutional        0.005\n",
      "generative_model     0.005\n",
      "recurrent            0.004\n",
      "deep_learning        0.004\n",
      "fully_connected      0.004\n",
      "recurrent_neural     0.004\n",
      "hidden_unit          0.004\n",
      "hidden_layer         0.004\n",
      "lstm                 0.004\n",
      "Topic 2 |---------------------\n",
      "\n",
      "matrix_completion    0.006\n",
      "rank_matrix          0.006\n",
      "tensor               0.005\n",
      "singular_value       0.005\n",
      "data_set             0.005\n",
      "sample_complexity    0.004\n",
      "recovery             0.004\n",
      "covariance_matrix    0.004\n",
      "line_search          0.003\n",
      "nuclear_norm         0.003\n",
      "Topic 3 |---------------------\n",
      "\n",
      "variational_inference 0.005\n",
      "markov_chain         0.005\n",
      "submodular           0.005\n",
      "random_walk          0.005\n",
      "vertex               0.004\n",
      "graphical_model      0.004\n",
      "submodular_function  0.003\n",
      "gibbs_sampling       0.003\n",
      "gibbs                0.003\n",
      "sampler              0.003\n"
     ]
    }
   ],
   "source": [
    "topic_summaries = []\n",
    "print(u'{:20} {}'.format(u'term', u'frequency') + u'\\n')\n",
    "for i in range(num_topics):\n",
    "    print('Topic '+str(i)+' |---------------------\\n')\n",
    "    tmp = explore_topic(model,topic_number=i, topn=10, output=True )\n",
    "#     print(tmp[:5])\n",
    "    topic_summaries += [tmp[:5]]\n",
    "    print\n"
   ]
  },
  {
   "cell_type": "code",
   "execution_count": 23,
   "metadata": {},
   "outputs": [],
   "source": [
    "top_labels = {0: 'Statistics', 1:'Numerical Analysis', 2:'Online Learning', 3:'Deep Learning'}"
   ]
  },
  {
   "cell_type": "code",
   "execution_count": 24,
   "metadata": {},
   "outputs": [],
   "source": [
    "import re\n",
    "import nltk\n",
    "\n",
    "from nltk.corpus import stopwords\n",
    "\n",
    "stops = set(stopwords.words('english'))\n",
    "\n",
    "def paper_to_wordlist( paper, remove_stopwords=True ):\n",
    "    '''\n",
    "        Function converts text to a sequence of words,\n",
    "        Returns a list of words.\n",
    "    '''\n",
    "    lemmatizer = WordNetLemmatizer()\n",
    "    # 1. Remove non-letters\n",
    "    paper_text = re.sub(\"[^a-zA-Z]\",\" \", paper)\n",
    "    # 2. Convert words to lower case and split them\n",
    "    words = paper_text.lower().split()\n",
    "    # 3. Remove stop words\n",
    "    words = [w for w in words if not w in stops]\n",
    "    # 4. Remove short words\n",
    "    words = [t for t in words if len(t) > 2]\n",
    "    # 5. lemmatizing\n",
    "    words = [nltk.stem.WordNetLemmatizer().lemmatize(t) for t in words]\n",
    "\n",
    "    return(words)"
   ]
  },
  {
   "cell_type": "code",
   "execution_count": 25,
   "metadata": {},
   "outputs": [
    {
     "name": "stderr",
     "output_type": "stream",
     "text": [
      "/usr/local/lib/python3.6/site-packages/sklearn/feature_extraction/text.py:286: UserWarning: Your stop_words may be inconsistent with your preprocessing. Tokenizing the stop words generated tokens ['le'] not in stop_words.\n",
      "  sorted(inconsistent))\n"
     ]
    }
   ],
   "source": [
    "from sklearn.feature_extraction.text import TfidfVectorizer\n",
    "\n",
    "tvectorizer = TfidfVectorizer(input='content', analyzer = 'word', lowercase=True, stop_words='english',\\\n",
    "                                  tokenizer=paper_to_wordlist, ngram_range=(1, 3), min_df=40, max_df=0.20,\\\n",
    "                                  norm='l2', use_idf=True, smooth_idf=True, sublinear_tf=True)\n",
    "\n",
    "dtm = tvectorizer.fit_transform(p_df['PaperText']).toarray()"
   ]
  },
  {
   "cell_type": "code",
   "execution_count": 26,
   "metadata": {},
   "outputs": [],
   "source": [
    "top_dist =[]\n",
    "for d in corpus:\n",
    "    tmp = {i:0 for i in range(num_topics)}\n",
    "    tmp.update(dict(model[d]))\n",
    "    vals = list(OrderedDict(tmp).values())\n",
    "    top_dist += [array(vals)]"
   ]
  },
  {
   "cell_type": "code",
   "execution_count": 27,
   "metadata": {},
   "outputs": [],
   "source": [
    "top_dist, lda_keys= get_doc_topic_dist(model, corpus, True)\n",
    "features = tvectorizer.get_feature_names()"
   ]
  },
  {
   "cell_type": "code",
   "execution_count": 28,
   "metadata": {},
   "outputs": [],
   "source": [
    "top_ws = []\n",
    "for n in range(len(dtm)):\n",
    "    inds = int0(argsort(dtm[n])[::-1][:4])\n",
    "    tmp = [features[i] for i in inds]\n",
    "    \n",
    "    top_ws += [' '.join(tmp)]\n",
    "    \n",
    "p_df['Text_Rep'] = pd.DataFrame(top_ws)\n",
    "p_df['clusters'] = pd.DataFrame(lda_keys)\n",
    "p_df['clusters'].fillna(10, inplace=True)\n",
    "\n",
    "cluster_colors = {0: 'blue', 1: 'green', 2: 'yellow', 3: 'red', 4: 'skyblue', 5:'salmon', 6:'orange', 7:'maroon', 8:'crimson', 9:'black', 10:'gray'}\n",
    "\n",
    "p_df['colors'] = p_df['clusters'].apply(lambda l: cluster_colors[l])"
   ]
  },
  {
   "cell_type": "code",
   "execution_count": 29,
   "metadata": {},
   "outputs": [],
   "source": [
    "from sklearn.manifold import TSNE\n",
    "tsne = TSNE(n_components=2)\n",
    "X_tsne = tsne.fit_transform(top_dist)"
   ]
  },
  {
   "cell_type": "code",
   "execution_count": 30,
   "metadata": {},
   "outputs": [],
   "source": [
    "p_df['X_tsne'] =X_tsne[:, 0]\n",
    "p_df['Y_tsne'] =X_tsne[:, 1]"
   ]
  },
  {
   "cell_type": "code",
   "execution_count": 37,
   "metadata": {},
   "outputs": [
    {
     "data": {
      "text/html": [
       "\n",
       "    <div class=\"bk-root\">\n",
       "        <a href=\"https://bokeh.pydata.org\" target=\"_blank\" class=\"bk-logo bk-logo-small bk-logo-notebook\"></a>\n",
       "        <span id=\"1070\">Loading BokehJS ...</span>\n",
       "    </div>"
      ]
     },
     "metadata": {},
     "output_type": "display_data"
    },
    {
     "data": {
      "application/javascript": [
       "\n",
       "(function(root) {\n",
       "  function now() {\n",
       "    return new Date();\n",
       "  }\n",
       "\n",
       "  var force = true;\n",
       "\n",
       "  if (typeof (root._bokeh_onload_callbacks) === \"undefined\" || force === true) {\n",
       "    root._bokeh_onload_callbacks = [];\n",
       "    root._bokeh_is_loading = undefined;\n",
       "  }\n",
       "\n",
       "  var JS_MIME_TYPE = 'application/javascript';\n",
       "  var HTML_MIME_TYPE = 'text/html';\n",
       "  var EXEC_MIME_TYPE = 'application/vnd.bokehjs_exec.v0+json';\n",
       "  var CLASS_NAME = 'output_bokeh rendered_html';\n",
       "\n",
       "  /**\n",
       "   * Render data to the DOM node\n",
       "   */\n",
       "  function render(props, node) {\n",
       "    var script = document.createElement(\"script\");\n",
       "    node.appendChild(script);\n",
       "  }\n",
       "\n",
       "  /**\n",
       "   * Handle when an output is cleared or removed\n",
       "   */\n",
       "  function handleClearOutput(event, handle) {\n",
       "    var cell = handle.cell;\n",
       "\n",
       "    var id = cell.output_area._bokeh_element_id;\n",
       "    var server_id = cell.output_area._bokeh_server_id;\n",
       "    // Clean up Bokeh references\n",
       "    if (id != null && id in Bokeh.index) {\n",
       "      Bokeh.index[id].model.document.clear();\n",
       "      delete Bokeh.index[id];\n",
       "    }\n",
       "\n",
       "    if (server_id !== undefined) {\n",
       "      // Clean up Bokeh references\n",
       "      var cmd = \"from bokeh.io.state import curstate; print(curstate().uuid_to_server['\" + server_id + \"'].get_sessions()[0].document.roots[0]._id)\";\n",
       "      cell.notebook.kernel.execute(cmd, {\n",
       "        iopub: {\n",
       "          output: function(msg) {\n",
       "            var id = msg.content.text.trim();\n",
       "            if (id in Bokeh.index) {\n",
       "              Bokeh.index[id].model.document.clear();\n",
       "              delete Bokeh.index[id];\n",
       "            }\n",
       "          }\n",
       "        }\n",
       "      });\n",
       "      // Destroy server and session\n",
       "      var cmd = \"import bokeh.io.notebook as ion; ion.destroy_server('\" + server_id + \"')\";\n",
       "      cell.notebook.kernel.execute(cmd);\n",
       "    }\n",
       "  }\n",
       "\n",
       "  /**\n",
       "   * Handle when a new output is added\n",
       "   */\n",
       "  function handleAddOutput(event, handle) {\n",
       "    var output_area = handle.output_area;\n",
       "    var output = handle.output;\n",
       "\n",
       "    // limit handleAddOutput to display_data with EXEC_MIME_TYPE content only\n",
       "    if ((output.output_type != \"display_data\") || (!output.data.hasOwnProperty(EXEC_MIME_TYPE))) {\n",
       "      return\n",
       "    }\n",
       "\n",
       "    var toinsert = output_area.element.find(\".\" + CLASS_NAME.split(' ')[0]);\n",
       "\n",
       "    if (output.metadata[EXEC_MIME_TYPE][\"id\"] !== undefined) {\n",
       "      toinsert[toinsert.length - 1].firstChild.textContent = output.data[JS_MIME_TYPE];\n",
       "      // store reference to embed id on output_area\n",
       "      output_area._bokeh_element_id = output.metadata[EXEC_MIME_TYPE][\"id\"];\n",
       "    }\n",
       "    if (output.metadata[EXEC_MIME_TYPE][\"server_id\"] !== undefined) {\n",
       "      var bk_div = document.createElement(\"div\");\n",
       "      bk_div.innerHTML = output.data[HTML_MIME_TYPE];\n",
       "      var script_attrs = bk_div.children[0].attributes;\n",
       "      for (var i = 0; i < script_attrs.length; i++) {\n",
       "        toinsert[toinsert.length - 1].firstChild.setAttribute(script_attrs[i].name, script_attrs[i].value);\n",
       "      }\n",
       "      // store reference to server id on output_area\n",
       "      output_area._bokeh_server_id = output.metadata[EXEC_MIME_TYPE][\"server_id\"];\n",
       "    }\n",
       "  }\n",
       "\n",
       "  function register_renderer(events, OutputArea) {\n",
       "\n",
       "    function append_mime(data, metadata, element) {\n",
       "      // create a DOM node to render to\n",
       "      var toinsert = this.create_output_subarea(\n",
       "        metadata,\n",
       "        CLASS_NAME,\n",
       "        EXEC_MIME_TYPE\n",
       "      );\n",
       "      this.keyboard_manager.register_events(toinsert);\n",
       "      // Render to node\n",
       "      var props = {data: data, metadata: metadata[EXEC_MIME_TYPE]};\n",
       "      render(props, toinsert[toinsert.length - 1]);\n",
       "      element.append(toinsert);\n",
       "      return toinsert\n",
       "    }\n",
       "\n",
       "    /* Handle when an output is cleared or removed */\n",
       "    events.on('clear_output.CodeCell', handleClearOutput);\n",
       "    events.on('delete.Cell', handleClearOutput);\n",
       "\n",
       "    /* Handle when a new output is added */\n",
       "    events.on('output_added.OutputArea', handleAddOutput);\n",
       "\n",
       "    /**\n",
       "     * Register the mime type and append_mime function with output_area\n",
       "     */\n",
       "    OutputArea.prototype.register_mime_type(EXEC_MIME_TYPE, append_mime, {\n",
       "      /* Is output safe? */\n",
       "      safe: true,\n",
       "      /* Index of renderer in `output_area.display_order` */\n",
       "      index: 0\n",
       "    });\n",
       "  }\n",
       "\n",
       "  // register the mime type if in Jupyter Notebook environment and previously unregistered\n",
       "  if (root.Jupyter !== undefined) {\n",
       "    var events = require('base/js/events');\n",
       "    var OutputArea = require('notebook/js/outputarea').OutputArea;\n",
       "\n",
       "    if (OutputArea.prototype.mime_types().indexOf(EXEC_MIME_TYPE) == -1) {\n",
       "      register_renderer(events, OutputArea);\n",
       "    }\n",
       "  }\n",
       "\n",
       "  \n",
       "  if (typeof (root._bokeh_timeout) === \"undefined\" || force === true) {\n",
       "    root._bokeh_timeout = Date.now() + 5000;\n",
       "    root._bokeh_failed_load = false;\n",
       "  }\n",
       "\n",
       "  var NB_LOAD_WARNING = {'data': {'text/html':\n",
       "     \"<div style='background-color: #fdd'>\\n\"+\n",
       "     \"<p>\\n\"+\n",
       "     \"BokehJS does not appear to have successfully loaded. If loading BokehJS from CDN, this \\n\"+\n",
       "     \"may be due to a slow or bad network connection. Possible fixes:\\n\"+\n",
       "     \"</p>\\n\"+\n",
       "     \"<ul>\\n\"+\n",
       "     \"<li>re-rerun `output_notebook()` to attempt to load from CDN again, or</li>\\n\"+\n",
       "     \"<li>use INLINE resources instead, as so:</li>\\n\"+\n",
       "     \"</ul>\\n\"+\n",
       "     \"<code>\\n\"+\n",
       "     \"from bokeh.resources import INLINE\\n\"+\n",
       "     \"output_notebook(resources=INLINE)\\n\"+\n",
       "     \"</code>\\n\"+\n",
       "     \"</div>\"}};\n",
       "\n",
       "  function display_loaded() {\n",
       "    var el = document.getElementById(\"1070\");\n",
       "    if (el != null) {\n",
       "      el.textContent = \"BokehJS is loading...\";\n",
       "    }\n",
       "    if (root.Bokeh !== undefined) {\n",
       "      if (el != null) {\n",
       "        el.textContent = \"BokehJS \" + root.Bokeh.version + \" successfully loaded.\";\n",
       "      }\n",
       "    } else if (Date.now() < root._bokeh_timeout) {\n",
       "      setTimeout(display_loaded, 100)\n",
       "    }\n",
       "  }\n",
       "\n",
       "\n",
       "  function run_callbacks() {\n",
       "    try {\n",
       "      root._bokeh_onload_callbacks.forEach(function(callback) { callback() });\n",
       "    }\n",
       "    finally {\n",
       "      delete root._bokeh_onload_callbacks\n",
       "    }\n",
       "    console.info(\"Bokeh: all callbacks have finished\");\n",
       "  }\n",
       "\n",
       "  function load_libs(js_urls, callback) {\n",
       "    root._bokeh_onload_callbacks.push(callback);\n",
       "    if (root._bokeh_is_loading > 0) {\n",
       "      console.log(\"Bokeh: BokehJS is being loaded, scheduling callback at\", now());\n",
       "      return null;\n",
       "    }\n",
       "    if (js_urls == null || js_urls.length === 0) {\n",
       "      run_callbacks();\n",
       "      return null;\n",
       "    }\n",
       "    console.log(\"Bokeh: BokehJS not loaded, scheduling load and callback at\", now());\n",
       "    root._bokeh_is_loading = js_urls.length;\n",
       "    for (var i = 0; i < js_urls.length; i++) {\n",
       "      var url = js_urls[i];\n",
       "      var s = document.createElement('script');\n",
       "      s.src = url;\n",
       "      s.async = false;\n",
       "      s.onreadystatechange = s.onload = function() {\n",
       "        root._bokeh_is_loading--;\n",
       "        if (root._bokeh_is_loading === 0) {\n",
       "          console.log(\"Bokeh: all BokehJS libraries loaded\");\n",
       "          run_callbacks()\n",
       "        }\n",
       "      };\n",
       "      s.onerror = function() {\n",
       "        console.warn(\"failed to load library \" + url);\n",
       "      };\n",
       "      console.log(\"Bokeh: injecting script tag for BokehJS library: \", url);\n",
       "      document.getElementsByTagName(\"head\")[0].appendChild(s);\n",
       "    }\n",
       "  };var element = document.getElementById(\"1070\");\n",
       "  if (element == null) {\n",
       "    console.log(\"Bokeh: ERROR: autoload.js configured with elementid '1070' but no matching script tag was found. \")\n",
       "    return false;\n",
       "  }\n",
       "\n",
       "  var js_urls = [\"https://cdn.pydata.org/bokeh/release/bokeh-1.0.1.min.js\", \"https://cdn.pydata.org/bokeh/release/bokeh-widgets-1.0.1.min.js\", \"https://cdn.pydata.org/bokeh/release/bokeh-tables-1.0.1.min.js\", \"https://cdn.pydata.org/bokeh/release/bokeh-gl-1.0.1.min.js\"];\n",
       "\n",
       "  var inline_js = [\n",
       "    function(Bokeh) {\n",
       "      Bokeh.set_log_level(\"info\");\n",
       "    },\n",
       "    \n",
       "    function(Bokeh) {\n",
       "      \n",
       "    },\n",
       "    function(Bokeh) {\n",
       "      console.log(\"Bokeh: injecting CSS: https://cdn.pydata.org/bokeh/release/bokeh-1.0.1.min.css\");\n",
       "      Bokeh.embed.inject_css(\"https://cdn.pydata.org/bokeh/release/bokeh-1.0.1.min.css\");\n",
       "      console.log(\"Bokeh: injecting CSS: https://cdn.pydata.org/bokeh/release/bokeh-widgets-1.0.1.min.css\");\n",
       "      Bokeh.embed.inject_css(\"https://cdn.pydata.org/bokeh/release/bokeh-widgets-1.0.1.min.css\");\n",
       "      console.log(\"Bokeh: injecting CSS: https://cdn.pydata.org/bokeh/release/bokeh-tables-1.0.1.min.css\");\n",
       "      Bokeh.embed.inject_css(\"https://cdn.pydata.org/bokeh/release/bokeh-tables-1.0.1.min.css\");\n",
       "    }\n",
       "  ];\n",
       "\n",
       "  function run_inline_js() {\n",
       "    \n",
       "    if ((root.Bokeh !== undefined) || (force === true)) {\n",
       "      for (var i = 0; i < inline_js.length; i++) {\n",
       "        inline_js[i].call(root, root.Bokeh);\n",
       "      }if (force === true) {\n",
       "        display_loaded();\n",
       "      }} else if (Date.now() < root._bokeh_timeout) {\n",
       "      setTimeout(run_inline_js, 100);\n",
       "    } else if (!root._bokeh_failed_load) {\n",
       "      console.log(\"Bokeh: BokehJS failed to load within specified timeout.\");\n",
       "      root._bokeh_failed_load = true;\n",
       "    } else if (force !== true) {\n",
       "      var cell = $(document.getElementById(\"1070\")).parents('.cell').data().cell;\n",
       "      cell.output_area.append_execute_result(NB_LOAD_WARNING)\n",
       "    }\n",
       "\n",
       "  }\n",
       "\n",
       "  if (root._bokeh_is_loading === 0) {\n",
       "    console.log(\"Bokeh: BokehJS loaded, going straight to plotting\");\n",
       "    run_inline_js();\n",
       "  } else {\n",
       "    load_libs(js_urls, function() {\n",
       "      console.log(\"Bokeh: BokehJS plotting callback run at\", now());\n",
       "      run_inline_js();\n",
       "    });\n",
       "  }\n",
       "}(window));"
      ],
      "application/vnd.bokehjs_load.v0+json": "\n(function(root) {\n  function now() {\n    return new Date();\n  }\n\n  var force = true;\n\n  if (typeof (root._bokeh_onload_callbacks) === \"undefined\" || force === true) {\n    root._bokeh_onload_callbacks = [];\n    root._bokeh_is_loading = undefined;\n  }\n\n  \n\n  \n  if (typeof (root._bokeh_timeout) === \"undefined\" || force === true) {\n    root._bokeh_timeout = Date.now() + 5000;\n    root._bokeh_failed_load = false;\n  }\n\n  var NB_LOAD_WARNING = {'data': {'text/html':\n     \"<div style='background-color: #fdd'>\\n\"+\n     \"<p>\\n\"+\n     \"BokehJS does not appear to have successfully loaded. If loading BokehJS from CDN, this \\n\"+\n     \"may be due to a slow or bad network connection. Possible fixes:\\n\"+\n     \"</p>\\n\"+\n     \"<ul>\\n\"+\n     \"<li>re-rerun `output_notebook()` to attempt to load from CDN again, or</li>\\n\"+\n     \"<li>use INLINE resources instead, as so:</li>\\n\"+\n     \"</ul>\\n\"+\n     \"<code>\\n\"+\n     \"from bokeh.resources import INLINE\\n\"+\n     \"output_notebook(resources=INLINE)\\n\"+\n     \"</code>\\n\"+\n     \"</div>\"}};\n\n  function display_loaded() {\n    var el = document.getElementById(\"1070\");\n    if (el != null) {\n      el.textContent = \"BokehJS is loading...\";\n    }\n    if (root.Bokeh !== undefined) {\n      if (el != null) {\n        el.textContent = \"BokehJS \" + root.Bokeh.version + \" successfully loaded.\";\n      }\n    } else if (Date.now() < root._bokeh_timeout) {\n      setTimeout(display_loaded, 100)\n    }\n  }\n\n\n  function run_callbacks() {\n    try {\n      root._bokeh_onload_callbacks.forEach(function(callback) { callback() });\n    }\n    finally {\n      delete root._bokeh_onload_callbacks\n    }\n    console.info(\"Bokeh: all callbacks have finished\");\n  }\n\n  function load_libs(js_urls, callback) {\n    root._bokeh_onload_callbacks.push(callback);\n    if (root._bokeh_is_loading > 0) {\n      console.log(\"Bokeh: BokehJS is being loaded, scheduling callback at\", now());\n      return null;\n    }\n    if (js_urls == null || js_urls.length === 0) {\n      run_callbacks();\n      return null;\n    }\n    console.log(\"Bokeh: BokehJS not loaded, scheduling load and callback at\", now());\n    root._bokeh_is_loading = js_urls.length;\n    for (var i = 0; i < js_urls.length; i++) {\n      var url = js_urls[i];\n      var s = document.createElement('script');\n      s.src = url;\n      s.async = false;\n      s.onreadystatechange = s.onload = function() {\n        root._bokeh_is_loading--;\n        if (root._bokeh_is_loading === 0) {\n          console.log(\"Bokeh: all BokehJS libraries loaded\");\n          run_callbacks()\n        }\n      };\n      s.onerror = function() {\n        console.warn(\"failed to load library \" + url);\n      };\n      console.log(\"Bokeh: injecting script tag for BokehJS library: \", url);\n      document.getElementsByTagName(\"head\")[0].appendChild(s);\n    }\n  };var element = document.getElementById(\"1070\");\n  if (element == null) {\n    console.log(\"Bokeh: ERROR: autoload.js configured with elementid '1070' but no matching script tag was found. \")\n    return false;\n  }\n\n  var js_urls = [\"https://cdn.pydata.org/bokeh/release/bokeh-1.0.1.min.js\", \"https://cdn.pydata.org/bokeh/release/bokeh-widgets-1.0.1.min.js\", \"https://cdn.pydata.org/bokeh/release/bokeh-tables-1.0.1.min.js\", \"https://cdn.pydata.org/bokeh/release/bokeh-gl-1.0.1.min.js\"];\n\n  var inline_js = [\n    function(Bokeh) {\n      Bokeh.set_log_level(\"info\");\n    },\n    \n    function(Bokeh) {\n      \n    },\n    function(Bokeh) {\n      console.log(\"Bokeh: injecting CSS: https://cdn.pydata.org/bokeh/release/bokeh-1.0.1.min.css\");\n      Bokeh.embed.inject_css(\"https://cdn.pydata.org/bokeh/release/bokeh-1.0.1.min.css\");\n      console.log(\"Bokeh: injecting CSS: https://cdn.pydata.org/bokeh/release/bokeh-widgets-1.0.1.min.css\");\n      Bokeh.embed.inject_css(\"https://cdn.pydata.org/bokeh/release/bokeh-widgets-1.0.1.min.css\");\n      console.log(\"Bokeh: injecting CSS: https://cdn.pydata.org/bokeh/release/bokeh-tables-1.0.1.min.css\");\n      Bokeh.embed.inject_css(\"https://cdn.pydata.org/bokeh/release/bokeh-tables-1.0.1.min.css\");\n    }\n  ];\n\n  function run_inline_js() {\n    \n    if ((root.Bokeh !== undefined) || (force === true)) {\n      for (var i = 0; i < inline_js.length; i++) {\n        inline_js[i].call(root, root.Bokeh);\n      }if (force === true) {\n        display_loaded();\n      }} else if (Date.now() < root._bokeh_timeout) {\n      setTimeout(run_inline_js, 100);\n    } else if (!root._bokeh_failed_load) {\n      console.log(\"Bokeh: BokehJS failed to load within specified timeout.\");\n      root._bokeh_failed_load = true;\n    } else if (force !== true) {\n      var cell = $(document.getElementById(\"1070\")).parents('.cell').data().cell;\n      cell.output_area.append_execute_result(NB_LOAD_WARNING)\n    }\n\n  }\n\n  if (root._bokeh_is_loading === 0) {\n    console.log(\"Bokeh: BokehJS loaded, going straight to plotting\");\n    run_inline_js();\n  } else {\n    load_libs(js_urls, function() {\n      console.log(\"Bokeh: BokehJS plotting callback run at\", now());\n      run_inline_js();\n    });\n  }\n}(window));"
     },
     "metadata": {},
     "output_type": "display_data"
    }
   ],
   "source": [
    "from bokeh.plotting import figure, show, output_notebook, save#, output_file\n",
    "from bokeh.models import HoverTool, value, LabelSet, Legend, ColumnDataSource\n",
    "output_notebook()"
   ]
  },
  {
   "cell_type": "code",
   "execution_count": 38,
   "metadata": {},
   "outputs": [],
   "source": [
    "source = ColumnDataSource(dict(\n",
    "    x=p_df['X_tsne'],\n",
    "    y=p_df['Y_tsne'],\n",
    "    color=p_df['colors'],\n",
    "    label=p_df['clusters'].apply(lambda l: top_labels[l]),\n",
    "#     msize= p_df['marker_size'],\n",
    "    topic_key= p_df['clusters'],\n",
    "    title= p_df[u'Title'],\n",
    "    content = p_df['Text_Rep']\n",
    "))"
   ]
  },
  {
   "cell_type": "code",
   "execution_count": 39,
   "metadata": {},
   "outputs": [
    {
     "data": {
      "text/html": [
       "\n",
       "\n",
       "\n",
       "\n",
       "\n",
       "\n",
       "  <div class=\"bk-root\" id=\"75dc0031-5514-4142-8662-e3ec70de4ded\"></div>\n"
      ]
     },
     "metadata": {},
     "output_type": "display_data"
    },
    {
     "data": {
      "application/javascript": [
       "(function(root) {\n",
       "  function embed_document(root) {\n",
       "    \n",
       "  var docs_json = {\"1ddf1dc6-f2c1-4a43-8e57-e4546d1aa5de\":{\"roots\":{\"references\":[{\"attributes\":{\"min_border\":1,\"plot_width\":1000,\"renderers\":[{\"id\":\"1091\",\"type\":\"BoxAnnotation\"},{\"id\":\"1105\",\"type\":\"Legend\"},{\"id\":\"1101\",\"type\":\"GlyphRenderer\"}],\"title\":{\"id\":\"1072\",\"type\":\"Title\"},\"toolbar\":{\"id\":\"1089\",\"type\":\"Toolbar\"},\"x_range\":{\"id\":\"1075\",\"type\":\"DataRange1d\"},\"x_scale\":{\"id\":\"1079\",\"type\":\"LinearScale\"},\"y_range\":{\"id\":\"1077\",\"type\":\"DataRange1d\"},\"y_scale\":{\"id\":\"1081\",\"type\":\"LinearScale\"}},\"id\":\"1073\",\"subtype\":\"Figure\",\"type\":\"Plot\"},{\"attributes\":{\"fill_alpha\":{\"value\":0.8},\"fill_color\":{\"field\":\"color\"},\"line_alpha\":{\"value\":0.8},\"line_color\":{\"field\":\"color\"},\"size\":{\"units\":\"screen\",\"value\":10},\"x\":{\"field\":\"x\"},\"y\":{\"field\":\"y\"}},\"id\":\"1099\",\"type\":\"Scatter\"},{\"attributes\":{\"data_source\":{\"id\":\"1071\",\"type\":\"ColumnDataSource\"},\"glyph\":{\"id\":\"1099\",\"type\":\"Scatter\"},\"hover_glyph\":null,\"muted_glyph\":null,\"nonselection_glyph\":{\"id\":\"1100\",\"type\":\"Scatter\"},\"selection_glyph\":null,\"view\":{\"id\":\"1102\",\"type\":\"CDSView\"}},\"id\":\"1101\",\"type\":\"GlyphRenderer\"},{\"attributes\":{},\"id\":\"1109\",\"type\":\"Selection\"},{\"attributes\":{\"source\":{\"id\":\"1071\",\"type\":\"ColumnDataSource\"}},\"id\":\"1102\",\"type\":\"CDSView\"},{\"attributes\":{\"active_drag\":\"auto\",\"active_inspect\":\"auto\",\"active_multi\":null,\"active_scroll\":\"auto\",\"active_tap\":\"auto\",\"tools\":[{\"id\":\"1083\",\"type\":\"PanTool\"},{\"id\":\"1084\",\"type\":\"WheelZoomTool\"},{\"id\":\"1085\",\"type\":\"BoxZoomTool\"},{\"id\":\"1086\",\"type\":\"ResetTool\"},{\"id\":\"1087\",\"type\":\"HoverTool\"},{\"id\":\"1088\",\"type\":\"SaveTool\"}]},\"id\":\"1089\",\"type\":\"Toolbar\"},{\"attributes\":{},\"id\":\"1083\",\"type\":\"PanTool\"},{\"attributes\":{},\"id\":\"1084\",\"type\":\"WheelZoomTool\"},{\"attributes\":{\"plot\":null,\"text\":\"T-SNE visualization of topics\"},\"id\":\"1072\",\"type\":\"Title\"},{\"attributes\":{\"items\":[{\"id\":\"1106\",\"type\":\"LegendItem\"}],\"location\":\"top_left\",\"plot\":{\"id\":\"1073\",\"subtype\":\"Figure\",\"type\":\"Plot\"}},\"id\":\"1105\",\"type\":\"Legend\"},{\"attributes\":{\"overlay\":{\"id\":\"1091\",\"type\":\"BoxAnnotation\"}},\"id\":\"1085\",\"type\":\"BoxZoomTool\"},{\"attributes\":{\"callback\":null},\"id\":\"1075\",\"type\":\"DataRange1d\"},{\"attributes\":{\"label\":{\"field\":\"label\"},\"renderers\":[{\"id\":\"1101\",\"type\":\"GlyphRenderer\"}]},\"id\":\"1106\",\"type\":\"LegendItem\"},{\"attributes\":{},\"id\":\"1086\",\"type\":\"ResetTool\"},{\"attributes\":{\"callback\":null,\"data\":{\"color\":[\"blue\",\"red\",\"blue\",\"red\",\"red\",\"yellow\",\"yellow\",\"red\",\"green\",\"red\",\"green\",\"yellow\",\"yellow\",\"red\",\"green\",\"blue\",\"green\",\"green\",\"green\",\"red\",\"yellow\",\"green\",\"green\",\"blue\",\"yellow\",\"blue\",\"green\",\"red\",\"green\",\"green\",\"yellow\",\"red\",\"green\",\"blue\",\"blue\",\"red\",\"red\",\"yellow\",\"yellow\",\"blue\",\"red\",\"green\",\"blue\",\"yellow\",\"red\",\"yellow\",\"yellow\",\"green\",\"blue\",\"green\",\"red\",\"green\",\"yellow\",\"blue\",\"yellow\",\"blue\",\"green\",\"yellow\",\"yellow\",\"red\",\"blue\",\"yellow\",\"yellow\",\"red\",\"green\",\"yellow\",\"blue\",\"blue\",\"red\",\"red\",\"red\",\"green\",\"green\",\"yellow\",\"blue\",\"yellow\",\"green\",\"red\",\"blue\",\"yellow\",\"yellow\",\"yellow\",\"yellow\",\"red\",\"yellow\",\"yellow\",\"yellow\",\"blue\",\"green\",\"green\",\"red\",\"red\",\"green\",\"red\",\"red\",\"green\",\"blue\",\"red\",\"green\",\"red\",\"green\",\"yellow\",\"green\",\"red\",\"green\",\"yellow\",\"red\",\"blue\",\"green\",\"green\",\"yellow\",\"yellow\",\"red\",\"red\",\"yellow\",\"blue\",\"green\",\"red\",\"yellow\",\"red\",\"yellow\",\"blue\",\"green\",\"green\",\"green\",\"red\",\"green\",\"yellow\",\"red\",\"red\",\"green\",\"yellow\",\"red\",\"red\",\"red\",\"yellow\",\"yellow\",\"green\",\"red\",\"green\",\"yellow\",\"blue\",\"yellow\",\"red\",\"blue\",\"blue\",\"yellow\",\"yellow\",\"green\",\"blue\",\"blue\",\"blue\",\"yellow\",\"green\",\"green\",\"yellow\",\"red\",\"green\",\"red\",\"red\",\"red\",\"blue\",\"red\",\"blue\",\"blue\",\"green\",\"green\",\"green\",\"red\",\"blue\",\"red\",\"blue\",\"yellow\",\"green\",\"yellow\",\"red\",\"blue\",\"green\",\"yellow\",\"red\",\"yellow\",\"red\",\"red\",\"yellow\",\"red\",\"red\",\"green\",\"green\",\"yellow\",\"blue\",\"red\",\"yellow\",\"green\",\"blue\",\"blue\",\"green\",\"yellow\",\"red\",\"blue\",\"blue\",\"yellow\",\"yellow\",\"green\",\"green\",\"yellow\",\"green\",\"red\",\"yellow\",\"green\",\"red\",\"yellow\",\"yellow\",\"green\",\"green\",\"yellow\",\"red\",\"yellow\",\"green\",\"blue\",\"red\",\"green\",\"green\",\"yellow\",\"green\",\"blue\",\"red\",\"green\",\"green\",\"yellow\",\"green\",\"red\",\"yellow\",\"red\",\"yellow\",\"blue\",\"blue\",\"red\",\"blue\",\"red\",\"red\",\"yellow\",\"blue\",\"green\",\"blue\",\"yellow\",\"yellow\",\"green\",\"red\",\"yellow\",\"blue\",\"red\",\"yellow\",\"red\",\"red\",\"green\",\"blue\",\"red\",\"red\",\"red\",\"yellow\",\"yellow\",\"blue\",\"yellow\",\"green\",\"green\",\"red\",\"yellow\",\"blue\",\"green\",\"yellow\",\"green\",\"green\",\"blue\",\"green\",\"green\",\"green\",\"green\",\"blue\",\"red\",\"yellow\",\"blue\",\"green\",\"yellow\",\"blue\",\"yellow\",\"yellow\",\"green\",\"yellow\",\"blue\",\"red\",\"green\",\"red\",\"blue\",\"blue\",\"yellow\",\"yellow\",\"green\",\"green\",\"yellow\",\"yellow\",\"yellow\",\"blue\",\"blue\",\"green\",\"blue\",\"red\",\"green\",\"yellow\",\"green\",\"red\",\"blue\",\"blue\",\"red\",\"yellow\",\"blue\",\"green\",\"green\",\"yellow\",\"red\",\"yellow\",\"red\",\"yellow\",\"red\",\"blue\",\"red\",\"green\",\"green\",\"green\",\"green\",\"green\",\"blue\",\"green\",\"red\",\"yellow\",\"yellow\",\"blue\",\"green\",\"yellow\",\"blue\",\"red\",\"green\",\"green\",\"red\",\"yellow\",\"red\",\"green\",\"green\",\"red\",\"yellow\",\"yellow\",\"blue\",\"yellow\",\"blue\",\"red\",\"blue\",\"red\",\"red\",\"blue\",\"yellow\",\"green\",\"blue\",\"red\",\"red\",\"yellow\",\"green\",\"red\",\"yellow\",\"red\",\"blue\",\"blue\",\"green\",\"red\",\"yellow\",\"blue\",\"blue\",\"red\",\"red\",\"blue\",\"yellow\",\"red\",\"green\",\"yellow\",\"red\",\"blue\",\"red\",\"green\",\"yellow\",\"green\",\"blue\",\"yellow\",\"green\",\"red\",\"green\",\"red\",\"red\",\"green\",\"blue\",\"blue\",\"green\",\"red\",\"red\",\"red\",\"green\"],\"content\":[\"mechanism answer confidence multiplicative\",\"robustness learner svm equivalence\",\"stability vol training example parametric\",\"dirichlet mixture model concentration hyperparameters\",\"covariance matrix article maintaining letter\",\"covariance matrix rate convergence tail oracle\",\"leaf logarithmic pure left right\",\"segmentation closest plane vertex\",\"retrieval post recurrent query\",\"vertex round item permutation\",\"proposal box shared convolutional\",\"manifold embeddings embedding euclidean\",\"svd descent algorithm retrieval jain\",\"real valued utility cover feedback\",\"physical video physic mass\",\"item sample complexity pseudo price\",\"neuron trial population stationary\",\"manifold digit locally low dimensional\",\"color pixel fold end end\",\"ranking item stationary pairwise\",\"sgd step size gaussian process mnist\",\"recurrent list hidden unit hidden layer\",\"grid ground truth convolutional social\",\"regret learner expert reward\",\"law eigenvalue polynomial time orthogonal\",\"sampler boundary step size biased\",\"video resolution convolution recurrent\",\"moment concave hybrid mode\",\"embedding embeddings parametric auxiliary\",\"convolutional convolutional neural network convolutional neural spatial\",\"averaging auxiliary communication propagation\",\"identification dirichlet mixture model central\",\"svm white category ball\",\"soft subgradient accelerated relaxation\",\"regret retrieval confidence existence\",\"smoothing manifold principal green\",\"svm biased ranking conjugate\",\"trajectory policy reinforcement learning reinforcement\",\"orthogonal factorization svd pca\",\"regret greedy reward maximal\",\"segmentation extra semantic feature vector\",\"neuron posterior distribution stationary inherent\",\"accelerated gradient method critical convergence rate\",\"pca principal component sketch principal\",\"functional nonparametric expansion theoretic\",\"round singular value singular reconstruction\",\"non convex kdd supplement cpu\",\"proposal box overlap plane\",\"regret budget reward boundary\",\"fully connected hidden unit number parameter convolutional\",\"mcmc partitioning sampler smoothing\",\"shared segment brain functional\",\"cell biological root mark\",\"backward greedy reward trajectory\",\"moment mixture model gaussians kakade\",\"width away strongly convex oracle\",\"recurrent neural network recurrent neural interaction recurrent\",\"moment document dirichlet component analysis\",\"sensing retrieval low rank rank matrix\",\"marginals solver vertex iterates\",\"mixing stationary sup exp exp\",\"svd embedding embeddings pairwise\",\"alternating oracle completion rank matrix\",\"variational inference automatic mixture model dirichlet\",\"speech mechanism content recurrent\",\"regression model closed form thresholding exponential family\",\"learner pas online learning regret\",\"item ranking pairwise marginals\",\"diverse energy segmentation ordered\",\"vertex width cover polynomial time\",\"ordering undirected directed vol\",\"boltzmann hidden unit expansion epoch\",\"article convolutional corpus language processing\",\"discriminative brain proposed method labeled\",\"partitioning regret smoothness cell\",\"vertex community recovery regime\",\"momentum communication imagenet moving\",\"greedy item vertex disjoint\",\"oracle query weak false\",\"globally margin classification problem time complexity\",\"recovery thresholding solver dense\",\"embeddings embedding learner ensemble\",\"truncated retrieval kxk flow\",\"trajectory population gaussian process cause\",\"subspace inner product counterpart segmentation\",\"pca vol disjoint extracted\",\"leverage bach running time low rank\",\"regret policy round strongly convex\",\"neuron diag filter moment\",\"flow cell convolutional digit\",\"logistic regression solver regularization parameter radius\",\"boltzmann calculation probabilistic model normalization\",\"stat digit gaussian process modelling\",\"precision false segment figure left\",\"budget greedy cover allocation\",\"missing mcmc recurrent neural network recurrent neural\",\"mini accelerated strongly convex maxi\",\"mixing strongly convex markov chain mcmc\",\"hessian recurrent neural network recurrent neural recurrent\",\"predictor fold minimax proper\",\"resolution translation convolutional convolutional neural network\",\"manifold mixture model euclidean convexity\",\"embeddings embedding convolution error rate\",\"grid cpu depth recursive\",\"labeling recurrent convolutional pixel\",\"leaf assignment store conditioning\",\"mcmc markov chain flow exponential family\",\"resource regret allocation confidence\",\"shape learner unsupervised solver\",\"neuron recurrent balance feedback\",\"sketch gibbs moment latent variable model\",\"subspace gibbs utility sampler\",\"margin ranking document learner\",\"characterization embedding embeddings geometric\",\"sgd ranking computational cost estimation error\",\"vertex sample complexity reward round\",\"brain dot trial neuron\",\"bayes discriminative naive logistic regression\",\"round closest counterpart assigned\",\"walk list semantic item\",\"rate convergence precision frobenius estimation error\",\"fisher linear model query convergence rate\",\"pose recurrent face manifold\",\"softmax cpu hidden layer backpropagation\",\"neuron backpropagation vol ensemble\",\"zhu formed flow fold\",\"fully connected neuron bit imagenet\",\"compact characteristic vol rate convergence\",\"population dirichlet held variational inference\",\"integration integral posterior distribution model selection\",\"recurrent neural network recurrent neural recurrent model trained\",\"completion width estimation error sample complexity\",\"sun regularizer definite unconstrained\",\"proposal segmentation sampler dirichlet\",\"mcmc concave moment bayes\",\"hessian convergence rate second order step size\",\"nearest neighbor query sensitive\",\"video manifold temporal locally\",\"walk mixing ball box\",\"manifold pose query embedding\",\"hessian completion vol retrieval\",\"round regret feedback online learning\",\"leaf solver depth iii\",\"vertex perfect auxiliary vol\",\"item regret factorization cumulative\",\"journal optimization unconstrained stanford hessian\",\"permutation proc formula ordering\",\"greedy event strength confidence\",\"robustness transform transformed face\",\"regret reward treatment outcome\",\"ensemble game predictor leaf\",\"regret feedback minimax learner\",\"differential vertex nonparametric maximal\",\"proposal box greedy bounding\",\"hessian backpropagation variational inference auto\",\"singular singular value frobenius svd\",\"proposed method embeddings document embedding\",\"gaussian process error rate variational inference gaussians\",\"markov chain walk max max trajectory\",\"proposal wainwright pairwise confidence\",\"exponential family mcmc gibbs formula\",\"item regret reward combinatorial\",\"mixing markov chain confidence stationary\",\"policy formula trajectory sensitive\",\"concave stability strongly convex minimizer\",\"resolution model trained conditioning boltzmann\",\"segmentation semantic activation pixel\",\"hessian sgd non convex mnist\",\"environment shift strength covariance matrix\",\"perturbation policy budget robustness\",\"epoch linear regression fraction kxk\",\"environment hyper learner posterior distribution\",\"bit link compressed sensing\",\"invariant integration vol sample complexity\",\"estimation error mixed regularizer linear regression\",\"history stochastic optimization policy recursive\",\"locally convex function sgd lipschitz\",\"filtering coding population neuron\",\"pca relaxation moment principal component\",\"majority margin discriminative error rate\",\"stopping epoch inf iterates\",\"walk vertex geometric kxk\",\"gaussian process mcmc sampler gibbs\",\"leverage model selection statistical learning regularization parameter\",\"inference algorithm markov chain state space trajectory\",\"regularization parameter option grid support vector\",\"environment neuron spatial reward\",\"query document reader corpus\",\"projected relaxation population subgradient\",\"policy filter belief claim\",\"vertex directed mixed undirected\",\"leaf depth greedy augmented\",\"manifold video gaussian process missing\",\"reward expert trajectory segment\",\"round communication strongly convex convex function\",\"discriminative gibbs document dirichlet\",\"greedy decay bit zhou\",\"self normalization linear model characterization\",\"regret game learner round\",\"ranking proc social dot\",\"non linear proc closer link\",\"rank matrix pca low rank completion\",\"recurrent translation strength scalar\",\"margin discriminative missing subgradient\",\"positive definite transform compact definite\",\"projected coding reconstruction hidden unit\",\"identification ordering list independence\",\"completion rank matrix low rank lipschitz\",\"retrieval style embedding margin\",\"sampler gibbs mcmc mixture model\",\"item greedy partitioning vertex\",\"item rank matrix ranking low rank\",\"spatial frequency stationary width\",\"pixel neighborhood recurrent ensemble\",\"compressed low rank missing pca\",\"mixing gibbs sampler state space\",\"event link evolution social\",\"linear regression filtering moment history\",\"regret game history calculate\",\"characteristic analytic embeddings frequency\",\"proposal segmentation box pixel\",\"spectrum gaussian process frequency brain\",\"bit differential communication symposium\",\"spatial digit grid transformed\",\"critical radius inf tight\",\"svm margin vol structural\",\"neuron vol population trial\",\"digit semantic segmentation ground truth\",\"bit kxk sensing compressed\",\"fisher sgd conditioning normalization\",\"population ball mcmc manifold\",\"iterates scaled adapt hybrid\",\"document proportion variational inference dirichlet\",\"completion multiplication factorization rank matrix\",\"regret reward combinatorial feedback\",\"environment reward internal reinforcement learning\",\"smoothing walk compressed event\",\"regret min max oracle competitive\",\"policy budget leaf reward\",\"sampler hybrid mass biased\",\"query ensemble runtime coding\",\"smoothness svm locally ball\",\"pixel segmentation spatial theoretic\",\"regret perturbation penalty learner\",\"width sample complexity estimation error recovery\",\"embeddings vertex embedding mnist\",\"feature vector convolutional depth convolutional neural\",\"partitioning round segmentation greedy\",\"query answer supplement compact\",\"mixed support vector convergence rate grow\",\"formula vol dirichlet distinguish\",\"neuron principal thresholding eigenvalue\",\"step size mcmc invariant backward\",\"exponential family random field neighborhood undirected\",\"answer embedding translation content\",\"sgd epoch step size neighborhood\",\"integral policy trial trajectory\",\"approximating propagation gaussians moment\",\"concave relaxation cover tight\",\"pca subspace mini component analysis\",\"differential query data analysis overfitting\",\"price utility belief budget\",\"augmented iterates solver projected\",\"depth transform deep network mnist\",\"model selection gaussian process hyperparameters frequency\",\"sampler gibbs mixing state space\",\"manifold trajectory shift mcmc\",\"reward confidence trial dot\",\"sgd regularizer geometry invariant\",\"article sign predictor non zero\",\"softmax embedding answer recurrent\",\"frequency filter spatial conjugate\",\"regret learner base online learning\",\"hidden layer temporal recurrent belief\",\"cell electrical identification completion\",\"vol trial internal recovers\",\"spectrum physical resolution energy\",\"configuration software detect researcher\",\"cause independence identified directed\",\"latent variable model variable model rate convergence low dimensional\",\"price regret round game\",\"face neuron pose light\",\"low rank mode recovery rank matrix\",\"minimax regret round game\",\"differential running time sample size synthetic data\",\"sample complexity uci lipschitz nearest\",\"recurrent resolution proposal reinforcement learning\",\"error bound regularization parameter random field frobenius\",\"mixing markov chain sample size vol\",\"missing frobenius alternating ground truth\",\"proposal recurrent recurrent neural network recurrent neural\",\"variational inference gibbs mnist integration\",\"epoch iterate step size sgd\",\"query web embedding answer\",\"frequency recovery resolution minimal\",\"sgd precision non convex bit\",\"dot discriminative run time page ieee\",\"softmax mechanism input output combinatorial\",\"recovery store kxk subspace\",\"gibbs factorization corpus non negative\",\"vertex solver hessian minimizer\",\"game item precision ranking\",\"shared agarwal convergence rate mainly\",\"trajectory locally non linear reconstruction\",\"query epoch hyper parameter regret\",\"soft state space plan reinforcement learning\",\"corpus web ensemble google\",\"oracle recovery low rank covariance matrix\",\"convolutional filter hidden unit mnist\",\"dirichlet corpus document mcmc\",\"regret depth optimization method iii\",\"reward policy reinforcement learning reinforcement\",\"relaxation semantic relaxed translation\",\"vertex assignment singular running time\",\"accelerated trajectory interpretation differential\",\"gaussian process learner ranking covariance matrix\",\"game recurrent encoding video\",\"recovery gaussian noise recovering fourth\",\"round utility cover greedy\",\"community overlapping walk vertex\",\"state space reward base reinforcement learning\",\"width sign ball sup\",\"sampler mcmc stationary supplement\",\"regret self averaging perturbation\",\"vertex game flow labeled\",\"policy trajectory environment reward\",\"answer color vol embeddings\",\"auto ensemble hyperparameters configuration\",\"boltzmann euclidean sgd mnist\",\"modelling speech recurrent recurrent neural network\",\"regret game utility item\",\"segmentation pixel brain fully connected\",\"momentum boundary trajectory tuned\",\"neighbor link dense regime\",\"differential width vertex mechanism\",\"price outcome subspace belief\",\"hidden unit width hidden layer dirichlet\",\"hessian convergence rate eigenvalue sgd\",\"game regret price correlated\",\"universal hilbert space hilbert treatment\",\"recurrent document labeled error rate\",\"diag multiplication false sharing\",\"width gibbs mixing polynomial time\",\"subspace mode singular gaussian noise\",\"policy robustness environment trajectory\",\"regularizer backward propagation mnist\",\"trajectory policy feedback physical\",\"unconstrained diverse cardinality document\",\"universal vol accelerated gradient method\",\"ordering correctly examine greedy\",\"regret learner exploration game\",\"singular low rank pas singular value\",\"time step polynomial time sample complexity social\",\"directed undirected vol vertex\",\"oracle query concave convex function\",\"library gibbs document boundary\",\"gibbs embeddings dirichlet scalability\",\"overfitting feedback self policy\",\"formula equivalence assignment cell\",\"policy trajectory primary directed\",\"bayes strictly characterization link\",\"exp exp uai supplement log exp\",\"marginals twice feature vector stanford\",\"eigenvalue recovery grow community\",\"thought semantic translation corpus\",\"loop directed stopping compressed\",\"principal pca principal component color\",\"utility population averaging bayes\",\"regret gaussian process mcmc greedy\",\"mixing regret reward stationary\",\"brain logistic regression hidden layer reconstruction\",\"gaussian process random field spatial event\",\"tail detect post random field\",\"expert regret sup oracle\",\"strongly convex accelerated convergence rate rate convergence\",\"realization variational inference pseudo gaussian process\",\"conjugate variational inference diag geometry\",\"oracle smoothing enjoys sec\",\"regularizer precise non linear sign\",\"walk vertex neighborhood neighbor\",\"sgd mcmc hyper parameter precision\",\"completion sample complexity item recovery\",\"gibbs correlated auxiliary dirichlet\",\"query game utility stanford\",\"event confidence marginals margin\",\"segmentation pixel labeling neuron\",\"item event temporal history\",\"white gaussian process filter convolution\",\"price mechanism query exponential family\",\"formula proc canonical equality\",\"reinforcement learning reinforcement backpropagation surrogate\",\"surrogate policy reward considerably\",\"supervised learning mnist cost function unsupervised\",\"margin assignment embedding arg max\",\"variational inference factorization gaussians augmented\",\"recursive boundary segmentation dense\",\"augmented strongly convex solver regularizer\",\"sample complexity vol concave independence\",\"vol soft structural functional\",\"proposal belief exponential family propagation\",\"energy population modelling summary\",\"logistic regression radius ball confidence\",\"variational inference epoch activation trick\"],\"label\":[\"Statistics\",\"Deep Learning\",\"Statistics\",\"Deep Learning\",\"Deep Learning\",\"Online Learning\",\"Online Learning\",\"Deep Learning\",\"Numerical Analysis\",\"Deep Learning\",\"Numerical Analysis\",\"Online Learning\",\"Online Learning\",\"Deep Learning\",\"Numerical Analysis\",\"Statistics\",\"Numerical Analysis\",\"Numerical Analysis\",\"Numerical Analysis\",\"Deep Learning\",\"Online Learning\",\"Numerical Analysis\",\"Numerical Analysis\",\"Statistics\",\"Online Learning\",\"Statistics\",\"Numerical Analysis\",\"Deep Learning\",\"Numerical Analysis\",\"Numerical Analysis\",\"Online Learning\",\"Deep Learning\",\"Numerical Analysis\",\"Statistics\",\"Statistics\",\"Deep Learning\",\"Deep Learning\",\"Online Learning\",\"Online Learning\",\"Statistics\",\"Deep Learning\",\"Numerical Analysis\",\"Statistics\",\"Online Learning\",\"Deep Learning\",\"Online Learning\",\"Online Learning\",\"Numerical Analysis\",\"Statistics\",\"Numerical Analysis\",\"Deep Learning\",\"Numerical Analysis\",\"Online Learning\",\"Statistics\",\"Online Learning\",\"Statistics\",\"Numerical Analysis\",\"Online Learning\",\"Online Learning\",\"Deep Learning\",\"Statistics\",\"Online Learning\",\"Online Learning\",\"Deep Learning\",\"Numerical Analysis\",\"Online Learning\",\"Statistics\",\"Statistics\",\"Deep Learning\",\"Deep Learning\",\"Deep Learning\",\"Numerical Analysis\",\"Numerical Analysis\",\"Online Learning\",\"Statistics\",\"Online Learning\",\"Numerical Analysis\",\"Deep Learning\",\"Statistics\",\"Online Learning\",\"Online Learning\",\"Online Learning\",\"Online Learning\",\"Deep Learning\",\"Online Learning\",\"Online Learning\",\"Online Learning\",\"Statistics\",\"Numerical Analysis\",\"Numerical Analysis\",\"Deep Learning\",\"Deep Learning\",\"Numerical Analysis\",\"Deep Learning\",\"Deep Learning\",\"Numerical Analysis\",\"Statistics\",\"Deep Learning\",\"Numerical Analysis\",\"Deep Learning\",\"Numerical Analysis\",\"Online Learning\",\"Numerical Analysis\",\"Deep Learning\",\"Numerical Analysis\",\"Online Learning\",\"Deep Learning\",\"Statistics\",\"Numerical Analysis\",\"Numerical Analysis\",\"Online Learning\",\"Online Learning\",\"Deep Learning\",\"Deep Learning\",\"Online Learning\",\"Statistics\",\"Numerical Analysis\",\"Deep Learning\",\"Online Learning\",\"Deep Learning\",\"Online Learning\",\"Statistics\",\"Numerical Analysis\",\"Numerical Analysis\",\"Numerical Analysis\",\"Deep Learning\",\"Numerical Analysis\",\"Online Learning\",\"Deep Learning\",\"Deep Learning\",\"Numerical Analysis\",\"Online Learning\",\"Deep Learning\",\"Deep Learning\",\"Deep Learning\",\"Online Learning\",\"Online Learning\",\"Numerical Analysis\",\"Deep Learning\",\"Numerical Analysis\",\"Online Learning\",\"Statistics\",\"Online Learning\",\"Deep Learning\",\"Statistics\",\"Statistics\",\"Online Learning\",\"Online Learning\",\"Numerical Analysis\",\"Statistics\",\"Statistics\",\"Statistics\",\"Online Learning\",\"Numerical Analysis\",\"Numerical Analysis\",\"Online Learning\",\"Deep Learning\",\"Numerical Analysis\",\"Deep Learning\",\"Deep Learning\",\"Deep Learning\",\"Statistics\",\"Deep Learning\",\"Statistics\",\"Statistics\",\"Numerical Analysis\",\"Numerical Analysis\",\"Numerical Analysis\",\"Deep Learning\",\"Statistics\",\"Deep Learning\",\"Statistics\",\"Online Learning\",\"Numerical Analysis\",\"Online Learning\",\"Deep Learning\",\"Statistics\",\"Numerical Analysis\",\"Online Learning\",\"Deep Learning\",\"Online Learning\",\"Deep Learning\",\"Deep Learning\",\"Online Learning\",\"Deep Learning\",\"Deep Learning\",\"Numerical Analysis\",\"Numerical Analysis\",\"Online Learning\",\"Statistics\",\"Deep Learning\",\"Online Learning\",\"Numerical Analysis\",\"Statistics\",\"Statistics\",\"Numerical Analysis\",\"Online Learning\",\"Deep Learning\",\"Statistics\",\"Statistics\",\"Online Learning\",\"Online Learning\",\"Numerical Analysis\",\"Numerical Analysis\",\"Online Learning\",\"Numerical Analysis\",\"Deep Learning\",\"Online Learning\",\"Numerical Analysis\",\"Deep Learning\",\"Online Learning\",\"Online Learning\",\"Numerical Analysis\",\"Numerical Analysis\",\"Online Learning\",\"Deep Learning\",\"Online Learning\",\"Numerical Analysis\",\"Statistics\",\"Deep Learning\",\"Numerical Analysis\",\"Numerical Analysis\",\"Online Learning\",\"Numerical Analysis\",\"Statistics\",\"Deep Learning\",\"Numerical Analysis\",\"Numerical Analysis\",\"Online Learning\",\"Numerical Analysis\",\"Deep Learning\",\"Online Learning\",\"Deep Learning\",\"Online Learning\",\"Statistics\",\"Statistics\",\"Deep Learning\",\"Statistics\",\"Deep Learning\",\"Deep Learning\",\"Online Learning\",\"Statistics\",\"Numerical Analysis\",\"Statistics\",\"Online Learning\",\"Online Learning\",\"Numerical Analysis\",\"Deep Learning\",\"Online Learning\",\"Statistics\",\"Deep Learning\",\"Online Learning\",\"Deep Learning\",\"Deep Learning\",\"Numerical Analysis\",\"Statistics\",\"Deep Learning\",\"Deep Learning\",\"Deep Learning\",\"Online Learning\",\"Online Learning\",\"Statistics\",\"Online Learning\",\"Numerical Analysis\",\"Numerical Analysis\",\"Deep Learning\",\"Online Learning\",\"Statistics\",\"Numerical Analysis\",\"Online Learning\",\"Numerical Analysis\",\"Numerical Analysis\",\"Statistics\",\"Numerical Analysis\",\"Numerical Analysis\",\"Numerical Analysis\",\"Numerical Analysis\",\"Statistics\",\"Deep Learning\",\"Online Learning\",\"Statistics\",\"Numerical Analysis\",\"Online Learning\",\"Statistics\",\"Online Learning\",\"Online Learning\",\"Numerical Analysis\",\"Online Learning\",\"Statistics\",\"Deep Learning\",\"Numerical Analysis\",\"Deep Learning\",\"Statistics\",\"Statistics\",\"Online Learning\",\"Online Learning\",\"Numerical Analysis\",\"Numerical Analysis\",\"Online Learning\",\"Online Learning\",\"Online Learning\",\"Statistics\",\"Statistics\",\"Numerical Analysis\",\"Statistics\",\"Deep Learning\",\"Numerical Analysis\",\"Online Learning\",\"Numerical Analysis\",\"Deep Learning\",\"Statistics\",\"Statistics\",\"Deep Learning\",\"Online Learning\",\"Statistics\",\"Numerical Analysis\",\"Numerical Analysis\",\"Online Learning\",\"Deep Learning\",\"Online Learning\",\"Deep Learning\",\"Online Learning\",\"Deep Learning\",\"Statistics\",\"Deep Learning\",\"Numerical Analysis\",\"Numerical Analysis\",\"Numerical Analysis\",\"Numerical Analysis\",\"Numerical Analysis\",\"Statistics\",\"Numerical Analysis\",\"Deep Learning\",\"Online Learning\",\"Online Learning\",\"Statistics\",\"Numerical Analysis\",\"Online Learning\",\"Statistics\",\"Deep Learning\",\"Numerical Analysis\",\"Numerical Analysis\",\"Deep Learning\",\"Online Learning\",\"Deep Learning\",\"Numerical Analysis\",\"Numerical Analysis\",\"Deep Learning\",\"Online Learning\",\"Online Learning\",\"Statistics\",\"Online Learning\",\"Statistics\",\"Deep Learning\",\"Statistics\",\"Deep Learning\",\"Deep Learning\",\"Statistics\",\"Online Learning\",\"Numerical Analysis\",\"Statistics\",\"Deep Learning\",\"Deep Learning\",\"Online Learning\",\"Numerical Analysis\",\"Deep Learning\",\"Online Learning\",\"Deep Learning\",\"Statistics\",\"Statistics\",\"Numerical Analysis\",\"Deep Learning\",\"Online Learning\",\"Statistics\",\"Statistics\",\"Deep Learning\",\"Deep Learning\",\"Statistics\",\"Online Learning\",\"Deep Learning\",\"Numerical Analysis\",\"Online Learning\",\"Deep Learning\",\"Statistics\",\"Deep Learning\",\"Numerical Analysis\",\"Online Learning\",\"Numerical Analysis\",\"Statistics\",\"Online Learning\",\"Numerical Analysis\",\"Deep Learning\",\"Numerical Analysis\",\"Deep Learning\",\"Deep Learning\",\"Numerical Analysis\",\"Statistics\",\"Statistics\",\"Numerical Analysis\",\"Deep Learning\",\"Deep Learning\",\"Deep Learning\",\"Numerical Analysis\"],\"title\":[\"Double or Nothing: Multiplicative Incentive Mechanisms for Crowdsourcing\",\"Learning with Symmetric Label Noise: The Importance of Being Unhinged\",\"Algorithmic Stability and Uniform Generalization\",\"Adaptive Low-Complexity Sequential Inference for Dirichlet Process Mixture Models\",\"Covariance-Controlled Adaptive Langevin Thermostat for Large-Scale Bayesian Sampling\",\"Robust Portfolio Optimization\",\"Logarithmic Time Online Multiclass prediction\",\"Planar Ultrametrics for Image Segmentation\",\"Expressing an Image Stream with a Sequence of Natural Sentences\",\"Parallel Correlation Clustering on Big Graphs\",\"Faster R-CNN: Towards Real-Time Object Detection with Region Proposal Networks\",\"Space-Time Local Embeddings\",\"A Convergent Gradient Descent Algorithm for Rank Minimization and Semidefinite Programming from Random Linear Measurements\",\"Smooth Interactive Submodular Set Cover\",\"Galileo: Perceiving Physical Object Properties by Integrating a Physics Engine with Deep Learning\",\"On the Pseudo-Dimension of Nearly Optimal Auctions\",\"Unlocking neural population non-stationarities using hierarchical dynamics models\",\"Bayesian Manifold Learning: The Locally Linear Latent Variable Model (LL-LVM)\",\"Color Constancy by Learning to Predict Chromaticity from Luminance\",\"Fast and Accurate Inference of Plackett\\u2013Luce Models\",\"Probabilistic Line Searches for Stochastic Optimization\",\"Inferring Algorithmic Patterns with Stack-Augmented Recurrent Nets\",\"Where are they looking?\",\"The Pareto Regret Frontier for Bandits\",\"On the Limitation of Spectral Methods: From the Gaussian Hidden Clique Problem to Rank-One Perturbations of Gaussian Tensors\",\"Measuring Sample Quality with Stein's Method\",\"Bidirectional Recurrent Convolutional Networks for Multi-Frame Super-Resolution\",\"Bounding errors of Expectation-Propagation\",\"A fast, universal algorithm to learn parametric nonlinear embeddings\",\"Texture Synthesis Using Convolutional Neural Networks\",\"Extending Gossip Algorithms to Distributed Estimation of U-statistics\",\"Streaming, Distributed Variational Inference for Bayesian Nonparametrics\",\"Learning visual biases from human imagination\",\"Smooth and Strong: MAP Inference with Linear Convergence\",\"Copeland Dueling Bandits\",\"Optimal Ridge Detection using Coverage Risk\",\"Top-k Multiclass SVM\",\"Policy Evaluation Using the \\u03a9-Return\",\"Orthogonal NMF through Subspace Exploration\",\"Stochastic Online Greedy Learning with Semi-bandit Feedbacks\",\"Deeply Learning the Messages in Message Passing Inference\",\"Synaptic Sampling: A Bayesian Approach to Neural Network Plasticity and Rewiring\",\"Accelerated Proximal Gradient Methods for Nonconvex Programming\",\"Approximating Sparse PCA from Incomplete Data\",\"Nonparametric von Mises Estimators for Entropies, Divergences and Mutual Informations\",\"Column Selection via Adaptive Sampling\",\"HONOR: Hybrid Optimization for NOn-convex Regularized problems\",\"3D Object Proposals for Accurate Object Class Detection\",\"Algorithms with Logarithmic or Sublinear Regret for  Constrained Contextual Bandits\",\"Tensorizing Neural Networks\",\"Parallelizing MCMC with Random Partition Trees\",\"A Reduced-Dimension fMRI Shared Response Model\",\"Spectral Learning of Large Structured HMMs for Comparative Epigenomics\",\"Individual Planning in Infinite-Horizon Multiagent Settings: Inference, Structure and Scalability\",\"Estimating Mixture Models via Mixtures of Polynomials\",\"On the Global Linear Convergence of Frank-Wolfe Optimization Variants\",\"Deep Knowledge Tracing\",\"Rethinking LDA: Moment Matching for Discrete ICA\",\"Efficient Compressive Phase Retrieval with Constrained Sensing Vectors\",\"Barrier Frank-Wolfe for Marginal Inference\",\"Learning Theory and Algorithms for Forecasting Non-stationary Time Series\",\"Compressive spectral embedding: sidestepping the SVD\",\"A Nonconvex Optimization Framework for Low Rank Matrix Estimation\",\"Automatic Variational Inference in Stan\",\"Attention-Based Models for Speech Recognition\",\"Closed-form Estimators for High-dimensional Generalized Linear Models\",\"Online F-Measure Optimization\",\"Online Rank Elicitation for Plackett-Luce: A Dueling Bandits Approach\",\"M-Best-Diverse Labelings for Submodular Energies and Beyond\",\"Tractable Bayesian Network Structure Learning with Bounded Vertex Cover Number\",\"Learning Large-Scale Poisson DAG Models based on OverDispersion Scoring\",\"Training Restricted Boltzmann Machine via the \\ufffcThouless-Anderson-Palmer free energy\",\"Character-level Convolutional Networks for Text Classification\",\"Robust Feature-Sample Linear Discriminant Analysis for Brain Disorders Diagnosis\",\"Black-box optimization of noisy functions with unknown smoothness\",\"Recovering Communities in the General Stochastic Block Model Without Knowing the Parameters\",\"Deep learning with Elastic Averaging SGD\",\"Monotone k-Submodular Function Maximization with Size Constraints\",\"Active Learning from Weak and Strong Labelers\",\"On the Optimality of Classifier Chain for Multi-label Classification\",\"Robust Regression via Hard Thresholding\",\"Sparse Local Embeddings for Extreme Multi-label Classification\",\"Solving Random Quadratic Systems of Equations Is Nearly as Easy as Solving Linear Systems\",\"A Framework for Individualizing Predictions of Disease Trajectories by Exploiting Multi-Resolution Structure\",\"Subspace Clustering with Irrelevant Features via Robust Dantzig Selector\",\"Sparse PCA via Bipartite Matchings\",\"Fast Randomized Kernel Ridge Regression with Statistical Guarantees\",\"Online Learning for Adversaries with Memory: Price of Past Mistakes\",\"Convolutional spike-triggered covariance analysis for neural subunit models\",\"Convolutional LSTM Network: A Machine Learning Approach for Precipitation Nowcasting\",\"GAP Safe screening rules for sparse multi-task and multi-class models\",\"Empirical Localization of Homogeneous Divergences on Discrete Sample Spaces\",\"Statistical Model Criticism using Kernel Two Sample Tests\",\"Precision-Recall-Gain Curves: PR Analysis Done Right\",\"A Generalization of Submodular Cover via the Diminishing Return Property on the Integer Lattice\",\"Bidirectional Recurrent Neural Networks as Generative Models\",\"Quartz: Randomized Dual Coordinate Ascent with Arbitrary Sampling\",\"Maximum Likelihood Learning With Arbitrary Treewidth via Fast-Mixing Parameter Sets\",\"Hessian-free Optimization for Learning Deep Multidimensional Recurrent Neural Networks\",\"Large-scale probabilistic predictors with and without guarantees of validity\",\"Shepard Convolutional Neural Networks\",\"Matrix Manifold Optimization for Gaussian Mixtures\",\"Semi-supervised Convolutional Neural Networks for Text Categorization via Region Embedding\",\"Parallel Recursive Best-First AND/OR Search for Exact MAP Inference in Graphical Models\",\"Convolutional Neural Networks with Intra-Layer Recurrent Connections for Scene Labeling\",\"Bounding the Cost of Search-Based Lifted Inference\",\"Gradient-free Hamiltonian Monte Carlo with Efficient Kernel Exponential Families\",\"Linear Multi-Resource Allocation with Semi-Bandit Feedback\",\"Unsupervised Learning by Program Synthesis\",\"Enforcing balance allows local supervised learning in spiking recurrent networks\",\"Fast and Guaranteed Tensor Decomposition via Sketching\",\"Differentially private subspace clustering\",\"Predtron: A Family of Online Algorithms for General Prediction Problems\",\"Weighted Theta Functions and Embeddings with Applications to Max-Cut, Clustering and Summarization\",\"SGD Algorithms based on Incomplete U-statistics: Large-Scale Minimization of Empirical Risk\",\"On Top-k Selection in Multi-Armed Bandits and Hidden Bipartite Graphs\",\"The Brain Uses Reliability of Stimulus Information when Making Perceptual Decisions\",\"Fast Classification Rates for High-dimensional Gaussian Generative Models\",\"Fast Distributed k-Center Clustering with Outliers on Massive Data\",\"Human Memory Search as Initial-Visit Emitting Random Walk\",\"Non-convex Statistical Optimization for Sparse Tensor Graphical Model\",\"Convergence Rates of Active Learning for Maximum Likelihood Estimation\",\"Weakly-supervised Disentangling with Recurrent Transformations for 3D View Synthesis\",\"Efficient Exact Gradient Update for training Deep Networks with Very Large Sparse Targets\",\"Backpropagation for Energy-Efficient Neuromorphic Computing\",\"Alternating Minimization for Regression Problems with Vector-valued Outputs\",\"Learning both Weights and Connections for Efficient Neural Network\",\"Optimal Rates for Random Fourier Features\",\"The Population Posterior and Bayesian Modeling on Streams\",\"Frank-Wolfe Bayesian Quadrature: Probabilistic Integration with Theoretical Guarantees\",\"Scheduled Sampling for Sequence Prediction with Recurrent Neural Networks\",\"Unified View of Matrix Completion under General Structural Constraints\",\"Efficient Output Kernel Learning for Multiple Tasks\",\"Scalable Adaptation of State Complexity for Nonparametric Hidden Markov Models\",\"Variational Consensus Monte Carlo\",\"Newton-Stein Method: A Second Order Method for GLMs via Stein's Lemma\",\"Practical and Optimal LSH for Angular Distance\",\"Learning to Linearize Under Uncertainty\",\"Finite-Time Analysis of Projected Langevin Monte Carlo\",\"Deep Visual Analogy-Making\",\"Matrix Completion from Fewer Entries: Spectral Detectability and Rank Estimation\",\"Online Learning with Adversarial Delays\",\"Multi-Layer Feature Reduction for Tree Structured Group Lasso via Hierarchical Projection\",\"Minimum Weight Perfect Matching via Blossom Belief Propagation\",\"Efficient Thompson Sampling for Online \\ufffcMatrix-Factorization Recommendation\",\"Improved Iteration Complexity Bounds of Cyclic Block Coordinate Descent for Convex Problems\",\"Lifted Symmetry Detection and Breaking for MAP Inference\",\"Evaluating the statistical significance of biclusters\",\"Discriminative Robust Transformation Learning\",\"Bandits with Unobserved Confounders: A Causal Approach\",\"Scalable Semi-Supervised Aggregation of Classifiers\",\"Online Learning with Gaussian Payoffs and Side Observations\",\"Private Graphon Estimation for Sparse Graphs\",\"SubmodBoxes: Near-Optimal Search for a Set of Diverse Object Proposals\",\"Fast Second Order Stochastic Backpropagation for Variational Inference\",\"Randomized Block Krylov Methods for Stronger and Faster Approximate Singular Value Decomposition\",\"Cross-Domain Matching for Bag-of-Words Data via Kernel Embeddings of Latent Distributions\",\"Scalable Inference for Gaussian Process Models with Black-Box Likelihoods\",\"Fast Bidirectional Probability Estimation in Markov Models\",\"Probabilistic Variational Bounds for Graphical Models\",\"Linear Response Methods for Accurate Covariance Estimates from Mean Field Variational Bayes\",\"Combinatorial Cascading Bandits\",\"Mixing Time Estimation in Reversible Markov Chains from a Single Sample Path\",\"Policy Gradient for Coherent Risk Measures\",\"Fast Rates for Exp-concave Empirical Risk Minimization\",\"Deep Generative Image Models using a \\ufffcLaplacian Pyramid of Adversarial Networks\",\"Decoupled Deep Neural Network for Semi-supervised Semantic Segmentation\",\"Equilibrated adaptive learning rates for non-convex optimization\",\"BACKSHIFT: Learning causal cyclic graphs from unknown shift interventions\",\"Risk-Sensitive and Robust Decision-Making: a CVaR Optimization Approach\",\"Asynchronous stochastic convex optimization: the noise is in the noise and SGD don't care\",\"Lifelong Learning with Non-i.i.d. Tasks\",\"Optimal Linear Estimation under Unknown Nonlinear Transform\",\"Learning with Group Invariant Features: A Kernel Perspective.\",\"Regularized EM Algorithms: A Unified Framework and Statistical Guarantees\",\"Adaptive Stochastic Optimization: From Sets to Paths\",\"Beyond Convexity: Stochastic Quasi-Convex Optimization\",\"A Tractable Approximation to Optimal Point Process Filtering: Application to Neural Encoding\",\"Sum-of-Squares Lower Bounds for Sparse PCA\",\"Max-Margin Majority Voting for Learning from Crowds\",\"Learning with Incremental Iterative Regularization\",\"Halting in Random Walk Kernels\",\"MCMC for Variationally Sparse Gaussian Processes\",\"Less is More: Nystr\\u00f6m Computational Regularization\",\"Infinite Factorial Dynamical Model\",\"Regularization Path of Cross-Validation Error Lower Bounds\",\"Attractor Network Dynamics Enable Preplay and Rapid Path Planning in Maze\\u2013like Environments\",\"Teaching Machines to Read and Comprehend\",\"Principal Differences Analysis: Interpretable Characterization of Differences between Distributions\",\"When are Kalman-Filter Restless Bandits Indexable?\",\"Segregated Graphs and Marginals of Chain Graph Models\",\"Efficient Non-greedy Optimization of Decision Trees\",\"Probabilistic Curve Learning: Coulomb Repulsion and the Electrostatic Gaussian Process\",\"Inverse Reinforcement Learning with Locally Consistent Reward Functions\",\"Communication Complexity of Distributed Convex Learning and Optimization\",\"End-to-end Learning of LDA by Mirror-Descent Back Propagation over a Deep Architecture\",\"Subset Selection by Pareto Optimization\",\"On the Accuracy of Self-Normalized Log-Linear Models\",\"Regret Lower Bound and Optimal Algorithm in Finite Stochastic Partial Monitoring\",\"Is Approval Voting Optimal Given Approval Votes?\",\"Regressive Virtual Metric Learning\",\"Analysis of Robust PCA via Local Incoherence\",\"Learning to Transduce with Unbounded Memory\",\"Max-Margin Deep Generative Models\",\"Spherical Random Features for Polynomial Kernels\",\"Rectified Factor Networks\",\"Learning Bayesian Networks with Thousands of Variables\",\"Matrix Completion Under Monotonic Single Index Models\",\"Visalogy: Answering Visual Analogy Questions\",\"Tree-Guided MCMC Inference for Normalized Random Measure Mixture Models\",\"Streaming Min-max Hypergraph Partitioning\",\"Collaboratively Learning Preferences from Ordinal Data\",\"Biologically Inspired Dynamic Textures for Probing Motion Perception\",\"Generative Image Modeling Using Spatial LSTMs\",\"Robust PCA with compressed data\",\"Sampling from Probabilistic Submodular Models\",\"COEVOLVE: A Joint Point Process Model for Information Diffusion and Network Co-evolution\",\"Supervised Learning for Dynamical System Learning\",\"Regret-Based Pruning in Extensive-Form Games\",\"Fast Two-Sample Testing with Analytic Representations of Probability Measures\",\"Learning to Segment Object Candidates\",\"GP Kernels for Cross-Spectrum Analysis\",\"Secure Multi-party Differential Privacy\",\"Spatial Transformer Networks\",\"Anytime Influence Bounds and the Explosive Behavior of Continuous-Time Diffusion Networks\",\"Multi-class SVMs: From Tighter Data-Dependent Generalization Bounds to Novel Algorithms\",\"High-dimensional neural spike train analysis with generalized count linear dynamical systems\",\"Learning with a Wasserstein Loss\",\"b-bit Marginal Regression\",\"Natural Neural Networks\",\"Optimization Monte Carlo: Efficient and Embarrassingly Parallel Likelihood-Free Inference\",\"Adaptive Primal-Dual Splitting Methods for Statistical Learning and Image Processing\",\"On some provably correct cases of variational inference for topic models\",\"Collaborative Filtering with Graph Information: Consistency and Scalable Methods\",\"Combinatorial Bandits Revisited\",\"Variational Information Maximisation for Intrinsically Motivated Reinforcement Learning\",\"A Structural Smoothing Framework For Robust Graph Comparison\",\"Competitive Distribution Estimation: Why is Good-Turing Good\",\"Efficient Learning by Directed Acyclic Graph For Resource Constrained Prediction\",\"A hybrid sampler for Poisson-Kingman mixture models\",\"An Active Learning Framework using Sparse-Graph Codes for Sparse Polynomials and Graph Sketching\",\"Local Smoothness in Variance Reduced Optimization\",\"Saliency, Scale and Information: Towards a Unifying Theory\",\"Fighting Bandits with a New Kind of Smoothness\",\"Beyond Sub-Gaussian Measurements: High-Dimensional Structured Estimation with Sub-Exponential Designs\",\"Spectral Norm Regularization of Orthonormal Representations for Graph Transduction\",\"Convolutional Networks on Graphs for Learning Molecular Fingerprints\",\"Mixed Robust/Average Submodular Partitioning: Fast Algorithms, Guarantees, and Applications\",\"Tractable Learning for Complex Probability Queries\",\"StopWasting My Gradients: Practical SVRG\",\"Mind the Gap: A Generative Approach to Interpretable Feature Selection and Extraction\",\"A Normative Theory of Adaptive Dimensionality Reduction in Neural Networks\",\"On the Convergence of Stochastic Gradient MCMC Algorithms with High-Order Integrators\",\"Learning structured densities via infinite dimensional exponential families\",\"Are You Talking to a Machine? Dataset and Methods for Multilingual Image Question\",\"Variance Reduced Stochastic Gradient Descent with Neighbors\",\"Sample Efficient Path Integral Control under Uncertainty\",\"Stochastic Expectation Propagation\",\"Exactness of Approximate MAP Inference in Continuous MRFs\",\"Scale Up Nonlinear Component Analysis with Doubly Stochastic Gradients\",\"Generalization in Adaptive Data Analysis and Holdout Reuse\",\"Market Scoring Rules Act As Opinion Pools For Risk-Averse Agents\",\"Sparse Linear Programming via Primal and Dual Augmented Coordinate Descent\",\"Training Very Deep Networks\",\"Bayesian Active Model Selection with an Application to Automated Audiometry\",\"Particle Gibbs for Infinite Hidden Markov Models\",\"Learning spatiotemporal trajectories from manifold-valued longitudinal data\",\"A Bayesian Framework for Modeling Confidence in Perceptual Decision Making\",\"Path-SGD: Path-Normalized Optimization in Deep Neural Networks\",\"On the consistency theory of high dimensional variable screening\",\"End-To-End Memory Networks\",\"Spectral Representations for Convolutional Neural Networks\",\"Online Gradient Boosting\",\"Deep Temporal Sigmoid Belief Networks for Sequence Modeling\",\"Recognizing retinal ganglion cells in the dark\",\"A Theory of Decision Making Under Dynamic Context\",\"A Gaussian Process Model of Quasar Spectral Energy Distributions\",\"Hidden Technical Debt in Machine Learning Systems\",\"Local Causal Discovery of Direct Causes and Effects\",\"High Dimensional EM Algorithm: Statistical Optimization and Asymptotic Normality\",\"Revenue Optimization against Strategic Buyers\",\"Deep Convolutional Inverse Graphics Network\",\"Sparse and Low-Rank Tensor Decomposition\",\"Minimax Time Series Prediction\",\"Differentially Private Learning of Structured Discrete Distributions\",\"Sample Complexity of Learning Mahalanobis Distance Metrics\",\"Learning Wake-Sleep Recurrent Attention Models\",\"Robust Gaussian Graphical Modeling with the Trimmed Graphical Lasso\",\"Testing Closeness With Unequal Sized Samples\",\"Estimating Jaccard Index with Missing Observations: A Matrix Calibration Approach\",\"Neural Adaptive Sequential Monte Carlo\",\"Local Expectation Gradients for Black Box Variational Inference\",\"On Variance Reduction in Stochastic Gradient Descent and its Asynchronous Variants\",\"NEXT: A System for Real-World Development, Evaluation, and Application of Active Learning\",\"Super-Resolution Off the Grid\",\"Taming the Wild: A Unified Analysis of Hogwild-Style Algorithms\",\"The Return of the Gating Network: Combining Generative Models and Discriminative Training in Natural Image Priors\",\"Pointer Networks\",\"Associative Memory via a Sparse Recovery Model\",\"Robust Spectral Inference for Joint Stochastic Matrix Factorization\",\"Fast, Provable Algorithms for Isotonic Regression in all L_p-norms\",\"Adversarial Prediction Games for Multivariate Losses\",\"Asynchronous Parallel Stochastic Gradient for Nonconvex Optimization\",\"Embed to Control: A Locally Linear Latent Dynamics Model for Control from Raw Images\",\"Efficient and Parsimonious Agnostic Active Learning\",\"Softstar: Heuristic-Guided Probabilistic Inference\",\"Grammar as a Foreign Language\",\"Regularization-Free Estimation in Trace Regression with Symmetric Positive Semidefinite Matrices\",\"Winner-Take-All Autoencoders\",\"Deep Poisson Factor Modeling\",\"Bayesian Optimization with Exponential Convergence\",\"Sample Complexity of Episodic Fixed-Horizon Reinforcement Learning\",\"Learning with Relaxed Supervision\",\"Subsampled Power Iteration: a Unified Algorithm for Block Models and Planted CSP's\",\"Accelerated Mirror Descent in Continuous and Discrete Time\",\"The Human Kernel\",\"Action-Conditional Video Prediction using Deep Networks in Atari Games\",\"A Pseudo-Euclidean Iteration for Optimal Recovery in Noisy ICA\",\"Distributed Submodular Cover: Succinctly Summarizing Massive Data\",\"Community Detection via Measure Space Embedding\",\"Basis refinement strategies for linear value function approximation in MDPs\",\"Structured Estimation with Atomic Norms: General Bounds and Applications\",\"A Complete Recipe for Stochastic Gradient MCMC\",\"Bandit Smooth Convex Optimization: Improving the Bias-Variance Tradeoff\",\"Online Prediction at the Limit of Zero Temperature\",\"Learning Continuous Control Policies by Stochastic Value Gradients\",\"Exploring Models and Data for Image Question Answering\",\"Efficient and Robust Automated Machine Learning\",\"Preconditioned Spectral Descent for Deep Learning\",\"A Recurrent Latent Variable Model for Sequential Data\",\"Fast Convergence of Regularized Learning in Games\",\"Parallel Multi-Dimensional LSTM, With Application to Fast Biomedical Volumetric Image Segmentation\",\"Reflection, Refraction, and Hamiltonian Monte Carlo\",\"The Consistency of Common Neighbors for Link Prediction in Stochastic Blockmodels\",\"Nearly Optimal Private LASSO\",\"Convergence Analysis of Prediction Markets via Randomized Subspace Descent\",\"The Poisson Gamma Belief Network\",\"Convergence rates of sub-sampled Newton methods\",\"No-Regret Learning in Bayesian Games\",\"Statistical Topological Data Analysis - A Kernel Perspective\",\"Semi-supervised Sequence Learning\",\"Structured Transforms for Small-Footprint Deep Learning\",\"Rapidly Mixing Gibbs Sampling for a Class of Factor Graphs Using Hierarchy Width\",\"Interpolating Convex and Non-Convex Tensor Decompositions via the Subspace Norm\",\"Sample Complexity Bounds for Iterative Stochastic Policy Optimization\",\"BinaryConnect: Training Deep Neural Networks with binary weights during propagations\",\"Interactive Control of Diverse Complex Characters with Neural Networks\",\"Submodular Hamming Metrics\",\"A Universal Primal-Dual Convex Optimization Framework\",\"Learning From Small Samples: An Analysis of Simple Decision Heuristics\",\"Explore no more: Improved high-probability regret bounds for non-stochastic bandits\",\"Fast and Memory Optimal Low-Rank Matrix Approximation\",\"Learnability of Influence in Networks\",\"Learning Causal Graphs with Small Interventions\",\"Information-theoretic lower bounds for convex optimization with erroneous oracles\",\"Fixed-Length Poisson MRF: Adding Dependencies to the Multinomial\",\"Large-Scale Bayesian Multi-Label Learning via Topic-Based Label Embeddings\",\"The Self-Normalized Estimator for Counterfactual Learning\",\"Fast Lifted MAP Inference via Partitioning\",\"Data Generation as Sequential Decision Making\",\"On Elicitation Complexity\",\"Decomposition Bounds for Marginal MAP\",\"Discrete R\\u00e9nyi Classifiers\",\"A class of network models recoverable by spectral clustering\",\"Skip-Thought Vectors\",\"Rate-Agnostic (Causal) Structure Learning\",\"Principal Geodesic Analysis for Probability Measures under the Optimal Transport Metric\",\"Consistent Multilabel Classification\",\"Parallel Predictive Entropy Search for Batch Global Optimization of Expensive Objective Functions\",\"Cornering Stationary and Restless Mixing Bandits with Remix-UCB\",\"Semi-Supervised Factored Logistic Regression for High-Dimensional Neuroimaging Data\",\"Gaussian Process Random Fields\",\"M-Statistic for Kernel Change-Point Detection\",\"Adaptive Online Learning\",\"A Universal Catalyst for First-Order Optimization\",\"Inference for determinantal point processes without spectral knowledge\",\"Kullback-Leibler Proximal Variational Inference\",\"Semi-Proximal Mirror-Prox for Nonsmooth Composite Minimization\",\"LASSO with Non-linear Measurements is Equivalent to One With Linear Measurements\",\"From random walks to distances on unweighted graphs\",\"Bayesian dark knowledge\",\"Matrix Completion with Noisy Side Information\",\"Dependent Multinomial Models Made Easy: Stick-Breaking with the Polya-gamma Augmentation\",\"On-the-Job Learning with Bayesian Decision Theory\",\"Calibrated Structured Prediction\",\"Learning Structured Output Representation using Deep Conditional Generative Models\",\"Time-Sensitive Recommendation From Recurrent User Activities\",\"Learning Stationary Time Series using Gaussian Processes with Nonparametric Kernels\",\"A Market Framework for Eliciting Private Data\",\"Lifted Inference Rules With Constraints\",\"Gradient Estimation Using Stochastic Computation Graphs\",\"Model-Based Relative Entropy Stochastic Search\",\"Semi-supervised Learning with Ladder Networks\",\"Embedding Inference for Structured Multilabel Prediction\",\"Copula variational inference\",\"Recursive Training of 2D-3D Convolutional Networks for Neuronal Boundary Prediction\",\"A Dual Augmented Block Minimization Framework for Learning with Limited Memory\",\"Optimal Testing for Properties of Distributions\",\"Efficient Learning of Continuous-Time Hidden Markov Models for Disease Progression\",\"Expectation Particle Belief Propagation\",\"Latent Bayesian melding for integrating individual and population models\",\"Distributionally Robust Logistic Regression\",\"Variational Dropout and the Local Reparameterization Trick\"],\"topic_key\":[0,3,0,3,3,2,2,3,1,3,1,2,2,3,1,0,1,1,1,3,2,1,1,0,2,0,1,3,1,1,2,3,1,0,0,3,3,2,2,0,3,1,0,2,3,2,2,1,0,1,3,1,2,0,2,0,1,2,2,3,0,2,2,3,1,2,0,0,3,3,3,1,1,2,0,2,1,3,0,2,2,2,2,3,2,2,2,0,1,1,3,3,1,3,3,1,0,3,1,3,1,2,1,3,1,2,3,0,1,1,2,2,3,3,2,0,1,3,2,3,2,0,1,1,1,3,1,2,3,3,1,2,3,3,3,2,2,1,3,1,2,0,2,3,0,0,2,2,1,0,0,0,2,1,1,2,3,1,3,3,3,0,3,0,0,1,1,1,3,0,3,0,2,1,2,3,0,1,2,3,2,3,3,2,3,3,1,1,2,0,3,2,1,0,0,1,2,3,0,0,2,2,1,1,2,1,3,2,1,3,2,2,1,1,2,3,2,1,0,3,1,1,2,1,0,3,1,1,2,1,3,2,3,2,0,0,3,0,3,3,2,0,1,0,2,2,1,3,2,0,3,2,3,3,1,0,3,3,3,2,2,0,2,1,1,3,2,0,1,2,1,1,0,1,1,1,1,0,3,2,0,1,2,0,2,2,1,2,0,3,1,3,0,0,2,2,1,1,2,2,2,0,0,1,0,3,1,2,1,3,0,0,3,2,0,1,1,2,3,2,3,2,3,0,3,1,1,1,1,1,0,1,3,2,2,0,1,2,0,3,1,1,3,2,3,1,1,3,2,2,0,2,0,3,0,3,3,0,2,1,0,3,3,2,1,3,2,3,0,0,1,3,2,0,0,3,3,0,2,3,1,2,3,0,3,1,2,1,0,2,1,3,1,3,3,1,0,0,1,3,3,3,1],\"x\":{\"__ndarray__\":\"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\",\"dtype\":\"float32\",\"shape\":[403]},\"y\":{\"__ndarray__\":\"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\",\"dtype\":\"float32\",\"shape\":[403]}},\"selected\":{\"id\":\"1109\",\"type\":\"Selection\"},\"selection_policy\":{\"id\":\"1110\",\"type\":\"UnionRenderers\"}},\"id\":\"1071\",\"type\":\"ColumnDataSource\"},{\"attributes\":{\"callback\":null,\"renderers\":\"auto\",\"tooltips\":[[\"content\",\"Title: @title, KeyWords: @content - Topic: @topic_key \"]]},\"id\":\"1087\",\"type\":\"HoverTool\"},{\"attributes\":{\"callback\":null},\"id\":\"1077\",\"type\":\"DataRange1d\"},{\"attributes\":{},\"id\":\"1088\",\"type\":\"SaveTool\"},{\"attributes\":{},\"id\":\"1110\",\"type\":\"UnionRenderers\"},{\"attributes\":{},\"id\":\"1079\",\"type\":\"LinearScale\"},{\"attributes\":{\"fill_alpha\":{\"value\":0.1},\"fill_color\":{\"value\":\"#1f77b4\"},\"line_alpha\":{\"value\":0.1},\"line_color\":{\"value\":\"#1f77b4\"},\"size\":{\"units\":\"screen\",\"value\":10},\"x\":{\"field\":\"x\"},\"y\":{\"field\":\"y\"}},\"id\":\"1100\",\"type\":\"Scatter\"},{\"attributes\":{\"bottom_units\":\"screen\",\"fill_alpha\":{\"value\":0.5},\"fill_color\":{\"value\":\"lightgrey\"},\"left_units\":\"screen\",\"level\":\"overlay\",\"line_alpha\":{\"value\":1.0},\"line_color\":{\"value\":\"black\"},\"line_dash\":[4,4],\"line_width\":{\"value\":2},\"plot\":null,\"render_mode\":\"css\",\"right_units\":\"screen\",\"top_units\":\"screen\"},\"id\":\"1091\",\"type\":\"BoxAnnotation\"},{\"attributes\":{},\"id\":\"1081\",\"type\":\"LinearScale\"}],\"root_ids\":[\"1073\"]},\"title\":\"Bokeh Application\",\"version\":\"1.0.1\"}};\n",
       "  var render_items = [{\"docid\":\"1ddf1dc6-f2c1-4a43-8e57-e4546d1aa5de\",\"roots\":{\"1073\":\"75dc0031-5514-4142-8662-e3ec70de4ded\"}}];\n",
       "  root.Bokeh.embed.embed_items_notebook(docs_json, render_items);\n",
       "\n",
       "  }\n",
       "  if (root.Bokeh !== undefined) {\n",
       "    embed_document(root);\n",
       "  } else {\n",
       "    var attempts = 0;\n",
       "    var timer = setInterval(function(root) {\n",
       "      if (root.Bokeh !== undefined) {\n",
       "        embed_document(root);\n",
       "        clearInterval(timer);\n",
       "      }\n",
       "      attempts++;\n",
       "      if (attempts > 100) {\n",
       "        console.log(\"Bokeh: ERROR: Unable to run BokehJS code because BokehJS library is missing\");\n",
       "        clearInterval(timer);\n",
       "      }\n",
       "    }, 10, root)\n",
       "  }\n",
       "})(window);"
      ],
      "application/vnd.bokehjs_exec.v0+json": ""
     },
     "metadata": {
      "application/vnd.bokehjs_exec.v0+json": {
       "id": "1073"
      }
     },
     "output_type": "display_data"
    }
   ],
   "source": [
    "title = 'T-SNE visualization of topics'\n",
    "\n",
    "plot_lda = figure(plot_width=1000, plot_height=600,\n",
    "                     title=title, tools=\"pan,wheel_zoom,box_zoom,reset,hover,previewsave\",\n",
    "                     x_axis_type=None, y_axis_type=None, min_border=1)\n",
    "\n",
    "plot_lda.scatter(x='x', y='y', legend='label', source=source,\n",
    "                 color='color', alpha=0.8, size=10)#'msize', )\n",
    "\n",
    "# hover tools\n",
    "hover = plot_lda.select(dict(type=HoverTool))\n",
    "hover.tooltips = {\"content\": \"Title: @title, KeyWords: @content - Topic: @topic_key \"}\n",
    "plot_lda.legend.location = \"top_left\"\n",
    "\n",
    "show(plot_lda)\n",
    "\n",
    "#save the plot\n",
    "# save(plot_lda, '{}.html'.format(title))"
   ]
  },
  {
   "cell_type": "code",
   "execution_count": null,
   "metadata": {},
   "outputs": [],
   "source": []
  }
 ],
 "metadata": {
  "kernelspec": {
   "display_name": "Python 3",
   "language": "python",
   "name": "python3"
  },
  "language_info": {
   "codemirror_mode": {
    "name": "ipython",
    "version": 3
   },
   "file_extension": ".py",
   "mimetype": "text/x-python",
   "name": "python",
   "nbconvert_exporter": "python",
   "pygments_lexer": "ipython3",
   "version": "3.6.5"
  }
 },
 "nbformat": 4,
 "nbformat_minor": 2
}
